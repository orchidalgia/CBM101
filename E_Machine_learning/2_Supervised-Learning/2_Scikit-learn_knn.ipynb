{
 "cells": [
  {
   "cell_type": "markdown",
   "id": "0b350b04",
   "metadata": {},
   "source": [
    "# Scikit-learn basics\n",
    "\n",
    "Now that we have get to known with Pycaret classification and general workflow let's see how the same things can be done with other tools, more precisely with Scikit-learn. Where Pycaret was very straightforward and easy to learn, it doesn't really show what is really going on when it's running all the different algorithms and creating different models. Here we introduce a more traditional machine learning workflow.\n",
    "\n",
    "__[*scikit-learn*](https://en.wikipedia.org/wiki/Scikit-learn)__ is the premier free software machine learning library for the Python programming language and is built on top of [SciPy](https://scipy.org) (and [NumPy](https://www.numpy.org)). <br>\n",
    "The scikit-learn library is accompanied with an **extremely comprehensive and well written [documentation](https://scikit-learn.org/stable/documentation.html)** including [User Guide](https://scikit-learn.org/stable/user_guide.html), [Tutorials](https://scikit-learn.org/stable/tutorial/index.html), [Glossary](https://scikit-learn.org/stable/glossary.html), and a lot of [Examples](https://scikit-learn.org/stable/auto_examples/index.html).\n",
    "\n"
   ]
  },
  {
   "cell_type": "markdown",
   "id": "1d0ed160",
   "metadata": {},
   "source": [
    "## Import libraries"
   ]
  },
  {
   "cell_type": "code",
   "execution_count": 1,
   "id": "63a7d0fb",
   "metadata": {},
   "outputs": [],
   "source": [
    "#visualization\n",
    "import seaborn as sns\n",
    "from matplotlib import pyplot as plt\n",
    "\n",
    "from sklearn.model_selection import train_test_split\n",
    "from sklearn.neighbors import KNeighborsClassifier\n",
    "from sklearn.metrics import classification_report\n",
    "\n",
    "import pandas as pd\n",
    "import numpy as np"
   ]
  },
  {
   "cell_type": "markdown",
   "id": "f221c752",
   "metadata": {},
   "source": [
    "## Load the data"
   ]
  },
  {
   "cell_type": "code",
   "execution_count": 2,
   "id": "3b774191",
   "metadata": {},
   "outputs": [],
   "source": [
    "# this is the same data we used in pycaret classification notebook\n",
    "df = pd.read_csv('./data/heart_disease.csv', index_col=0)"
   ]
  },
  {
   "cell_type": "code",
   "execution_count": 3,
   "id": "4ba5149e",
   "metadata": {
    "scrolled": true
   },
   "outputs": [
    {
     "data": {
      "text/html": [
       "<div>\n",
       "<style scoped>\n",
       "    .dataframe tbody tr th:only-of-type {\n",
       "        vertical-align: middle;\n",
       "    }\n",
       "\n",
       "    .dataframe tbody tr th {\n",
       "        vertical-align: top;\n",
       "    }\n",
       "\n",
       "    .dataframe thead th {\n",
       "        text-align: right;\n",
       "    }\n",
       "</style>\n",
       "<table border=\"1\" class=\"dataframe\">\n",
       "  <thead>\n",
       "    <tr style=\"text-align: right;\">\n",
       "      <th></th>\n",
       "      <th>age</th>\n",
       "      <th>sex</th>\n",
       "      <th>chest_pain_type</th>\n",
       "      <th>resting_blood_pressure</th>\n",
       "      <th>serum_cholestoral_in_mg/dl</th>\n",
       "      <th>fasting_blood_sugar_&gt;_120_mg/dl</th>\n",
       "      <th>resting_electrocardiographic_results</th>\n",
       "      <th>maximum_heart_rate_achieved</th>\n",
       "      <th>exercise_induced_angina</th>\n",
       "      <th>oldpeak</th>\n",
       "      <th>slope_of_peak</th>\n",
       "      <th>number_of_major_vessels</th>\n",
       "      <th>thal</th>\n",
       "      <th>Disease</th>\n",
       "    </tr>\n",
       "  </thead>\n",
       "  <tbody>\n",
       "    <tr>\n",
       "      <th>0</th>\n",
       "      <td>70</td>\n",
       "      <td>1</td>\n",
       "      <td>4</td>\n",
       "      <td>130</td>\n",
       "      <td>322</td>\n",
       "      <td>0</td>\n",
       "      <td>2</td>\n",
       "      <td>109</td>\n",
       "      <td>0</td>\n",
       "      <td>2.4</td>\n",
       "      <td>2</td>\n",
       "      <td>3</td>\n",
       "      <td>3</td>\n",
       "      <td>1</td>\n",
       "    </tr>\n",
       "    <tr>\n",
       "      <th>1</th>\n",
       "      <td>67</td>\n",
       "      <td>0</td>\n",
       "      <td>3</td>\n",
       "      <td>115</td>\n",
       "      <td>564</td>\n",
       "      <td>0</td>\n",
       "      <td>2</td>\n",
       "      <td>160</td>\n",
       "      <td>0</td>\n",
       "      <td>1.6</td>\n",
       "      <td>2</td>\n",
       "      <td>0</td>\n",
       "      <td>7</td>\n",
       "      <td>0</td>\n",
       "    </tr>\n",
       "    <tr>\n",
       "      <th>2</th>\n",
       "      <td>57</td>\n",
       "      <td>1</td>\n",
       "      <td>2</td>\n",
       "      <td>124</td>\n",
       "      <td>261</td>\n",
       "      <td>0</td>\n",
       "      <td>0</td>\n",
       "      <td>141</td>\n",
       "      <td>0</td>\n",
       "      <td>0.3</td>\n",
       "      <td>1</td>\n",
       "      <td>0</td>\n",
       "      <td>7</td>\n",
       "      <td>1</td>\n",
       "    </tr>\n",
       "    <tr>\n",
       "      <th>3</th>\n",
       "      <td>64</td>\n",
       "      <td>1</td>\n",
       "      <td>4</td>\n",
       "      <td>128</td>\n",
       "      <td>263</td>\n",
       "      <td>0</td>\n",
       "      <td>0</td>\n",
       "      <td>105</td>\n",
       "      <td>1</td>\n",
       "      <td>0.2</td>\n",
       "      <td>2</td>\n",
       "      <td>1</td>\n",
       "      <td>7</td>\n",
       "      <td>0</td>\n",
       "    </tr>\n",
       "    <tr>\n",
       "      <th>4</th>\n",
       "      <td>74</td>\n",
       "      <td>0</td>\n",
       "      <td>2</td>\n",
       "      <td>120</td>\n",
       "      <td>269</td>\n",
       "      <td>0</td>\n",
       "      <td>2</td>\n",
       "      <td>121</td>\n",
       "      <td>1</td>\n",
       "      <td>0.2</td>\n",
       "      <td>1</td>\n",
       "      <td>1</td>\n",
       "      <td>3</td>\n",
       "      <td>0</td>\n",
       "    </tr>\n",
       "  </tbody>\n",
       "</table>\n",
       "</div>"
      ],
      "text/plain": [
       "   age  sex  chest_pain_type  resting_blood_pressure  \\\n",
       "0   70    1                4                     130   \n",
       "1   67    0                3                     115   \n",
       "2   57    1                2                     124   \n",
       "3   64    1                4                     128   \n",
       "4   74    0                2                     120   \n",
       "\n",
       "   serum_cholestoral_in_mg/dl  fasting_blood_sugar_>_120_mg/dl  \\\n",
       "0                         322                                0   \n",
       "1                         564                                0   \n",
       "2                         261                                0   \n",
       "3                         263                                0   \n",
       "4                         269                                0   \n",
       "\n",
       "   resting_electrocardiographic_results  maximum_heart_rate_achieved  \\\n",
       "0                                     2                          109   \n",
       "1                                     2                          160   \n",
       "2                                     0                          141   \n",
       "3                                     0                          105   \n",
       "4                                     2                          121   \n",
       "\n",
       "   exercise_induced_angina  oldpeak  slope_of_peak  number_of_major_vessels  \\\n",
       "0                        0      2.4              2                        3   \n",
       "1                        0      1.6              2                        0   \n",
       "2                        0      0.3              1                        0   \n",
       "3                        1      0.2              2                        1   \n",
       "4                        1      0.2              1                        1   \n",
       "\n",
       "   thal  Disease  \n",
       "0     3        1  \n",
       "1     7        0  \n",
       "2     7        1  \n",
       "3     7        0  \n",
       "4     3        0  "
      ]
     },
     "execution_count": 3,
     "metadata": {},
     "output_type": "execute_result"
    }
   ],
   "source": [
    "df.head()"
   ]
  },
  {
   "cell_type": "markdown",
   "id": "fa3f0374",
   "metadata": {},
   "source": [
    "So as a reminder, we try to predict the target column `Disease` where 0 = no disease and 1 = disease\n",
    "\n",
    "---"
   ]
  },
  {
   "cell_type": "markdown",
   "id": "0c243ab0",
   "metadata": {},
   "source": [
    "# K-Nearest neighbors\n",
    "\n",
    "Let's take a closer look what we did in Pycaret-notebook when we created a knn-model.</br></br>\n",
    "\n",
    "Consider you have gathered a bunch of blood samples from a two subtypes of diabetics C1 and C2. Each sample contains the concentrations of various serum proteins, and will be used to . Now imagine you had been uncareful and lost which class some sample s belonged to. Before your boss finds out your mistake, how can you best retrieve the correct class label? (Note: this example is purely theoretical).\n",
    "\n",
    "We proceed by using the general framework of viewing features as numbers along a dimension in hyperspace. For the sake of simplicity, let's only consider two features. Color the healthy samples red and the sick samples blue. How would you decide the correct class of the unkown sample s? Plotting s with the other points should provide a clue.\n",
    "\n",
    "<img src=\"assets/knn_example.png\" style=\"width:30%\" />\n",
    "\n",
    "Making a scatter plot provides a strong clue: the unknown point is closer to the red points, so it is reasonable to assume it also should be red. Framed more precisely we can count the k closest neighbors of s, then we let the majority vote decide the true label of s. For instance, looking at the single closest neighbor of s, we would decide upon s belonging to the red group. If we count the 3 nearest neighbors, 2 of them are red. Counting the 5 nearest yields 3 red and 2 blue. In any case, the prediction is the same. But we aren't always so lucky. Here we have alluded to a problem you are guaranteed to face: how many neighbors should you choose? There is not really an optimal value for k, but in general a smaller is more likely to overfit, while a too large value is likely to underfit.\n",
    "\n",
    "<img src=\"assets/knn_example_2.png\" style=\"width:30%\"/>"
   ]
  },
  {
   "cell_type": "markdown",
   "id": "9b874db8",
   "metadata": {},
   "source": [
    "<br>\n",
    "\n",
    "## [Train-test-split](https://scikit-learn.org/stable/modules/generated/sklearn.model_selection.train_test_split.html)\n",
    "\n",
    "Pycaret did the train-test-split for us but normally you need to do it yourself. We use scikit-learn's `train_test_split()`\n",
    "\n",
    "**75% for training and 25% for testing (by default)** "
   ]
  },
  {
   "cell_type": "code",
   "execution_count": 4,
   "id": "7e2a5d9d",
   "metadata": {},
   "outputs": [],
   "source": [
    "#split data to target and explanatory variables\n",
    "data = df.loc[:, df.columns != 'Disease']\n",
    "target = df['Disease']\n",
    "\n",
    "X_train, X_test, y_train, y_test = train_test_split(data, target, random_state=42) #75/25 split by default"
   ]
  },
  {
   "cell_type": "code",
   "execution_count": 5,
   "id": "7710d390",
   "metadata": {},
   "outputs": [
    {
     "name": "stdout",
     "output_type": "stream",
     "text": [
      "X_train shape: (202, 13)\n",
      "y_train shape: (202,)\n",
      "X_test shape: (68, 13)\n",
      "y_test shape: (68,)\n"
     ]
    }
   ],
   "source": [
    "print(\"X_train shape:\", X_train.shape)\n",
    "print(\"y_train shape:\", y_train.shape)\n",
    "print(\"X_test shape:\", X_test.shape)\n",
    "print(\"y_test shape:\", y_test.shape)"
   ]
  },
  {
   "cell_type": "markdown",
   "id": "bc2a627f",
   "metadata": {},
   "source": [
    "## The Scikit-learn workflow:\n",
    "- instantiate model (define the model type, and hyperparameters)\n",
    "- train the model (using `.fit`)\n",
    "- predict using the trained model"
   ]
  },
  {
   "cell_type": "code",
   "execution_count": 6,
   "id": "28e10037",
   "metadata": {},
   "outputs": [],
   "source": [
    "# instantiate knn-model\n",
    "knn = KNeighborsClassifier()"
   ]
  },
  {
   "cell_type": "code",
   "execution_count": 7,
   "id": "54280603",
   "metadata": {},
   "outputs": [
    {
     "data": {
      "text/html": [
       "<style>#sk-container-id-1 {color: black;background-color: white;}#sk-container-id-1 pre{padding: 0;}#sk-container-id-1 div.sk-toggleable {background-color: white;}#sk-container-id-1 label.sk-toggleable__label {cursor: pointer;display: block;width: 100%;margin-bottom: 0;padding: 0.3em;box-sizing: border-box;text-align: center;}#sk-container-id-1 label.sk-toggleable__label-arrow:before {content: \"▸\";float: left;margin-right: 0.25em;color: #696969;}#sk-container-id-1 label.sk-toggleable__label-arrow:hover:before {color: black;}#sk-container-id-1 div.sk-estimator:hover label.sk-toggleable__label-arrow:before {color: black;}#sk-container-id-1 div.sk-toggleable__content {max-height: 0;max-width: 0;overflow: hidden;text-align: left;background-color: #f0f8ff;}#sk-container-id-1 div.sk-toggleable__content pre {margin: 0.2em;color: black;border-radius: 0.25em;background-color: #f0f8ff;}#sk-container-id-1 input.sk-toggleable__control:checked~div.sk-toggleable__content {max-height: 200px;max-width: 100%;overflow: auto;}#sk-container-id-1 input.sk-toggleable__control:checked~label.sk-toggleable__label-arrow:before {content: \"▾\";}#sk-container-id-1 div.sk-estimator input.sk-toggleable__control:checked~label.sk-toggleable__label {background-color: #d4ebff;}#sk-container-id-1 div.sk-label input.sk-toggleable__control:checked~label.sk-toggleable__label {background-color: #d4ebff;}#sk-container-id-1 input.sk-hidden--visually {border: 0;clip: rect(1px 1px 1px 1px);clip: rect(1px, 1px, 1px, 1px);height: 1px;margin: -1px;overflow: hidden;padding: 0;position: absolute;width: 1px;}#sk-container-id-1 div.sk-estimator {font-family: monospace;background-color: #f0f8ff;border: 1px dotted black;border-radius: 0.25em;box-sizing: border-box;margin-bottom: 0.5em;}#sk-container-id-1 div.sk-estimator:hover {background-color: #d4ebff;}#sk-container-id-1 div.sk-parallel-item::after {content: \"\";width: 100%;border-bottom: 1px solid gray;flex-grow: 1;}#sk-container-id-1 div.sk-label:hover label.sk-toggleable__label {background-color: #d4ebff;}#sk-container-id-1 div.sk-serial::before {content: \"\";position: absolute;border-left: 1px solid gray;box-sizing: border-box;top: 0;bottom: 0;left: 50%;z-index: 0;}#sk-container-id-1 div.sk-serial {display: flex;flex-direction: column;align-items: center;background-color: white;padding-right: 0.2em;padding-left: 0.2em;position: relative;}#sk-container-id-1 div.sk-item {position: relative;z-index: 1;}#sk-container-id-1 div.sk-parallel {display: flex;align-items: stretch;justify-content: center;background-color: white;position: relative;}#sk-container-id-1 div.sk-item::before, #sk-container-id-1 div.sk-parallel-item::before {content: \"\";position: absolute;border-left: 1px solid gray;box-sizing: border-box;top: 0;bottom: 0;left: 50%;z-index: -1;}#sk-container-id-1 div.sk-parallel-item {display: flex;flex-direction: column;z-index: 1;position: relative;background-color: white;}#sk-container-id-1 div.sk-parallel-item:first-child::after {align-self: flex-end;width: 50%;}#sk-container-id-1 div.sk-parallel-item:last-child::after {align-self: flex-start;width: 50%;}#sk-container-id-1 div.sk-parallel-item:only-child::after {width: 0;}#sk-container-id-1 div.sk-dashed-wrapped {border: 1px dashed gray;margin: 0 0.4em 0.5em 0.4em;box-sizing: border-box;padding-bottom: 0.4em;background-color: white;}#sk-container-id-1 div.sk-label label {font-family: monospace;font-weight: bold;display: inline-block;line-height: 1.2em;}#sk-container-id-1 div.sk-label-container {text-align: center;}#sk-container-id-1 div.sk-container {/* jupyter's `normalize.less` sets `[hidden] { display: none; }` but bootstrap.min.css set `[hidden] { display: none !important; }` so we also need the `!important` here to be able to override the default hidden behavior on the sphinx rendered scikit-learn.org. See: https://github.com/scikit-learn/scikit-learn/issues/21755 */display: inline-block !important;position: relative;}#sk-container-id-1 div.sk-text-repr-fallback {display: none;}</style><div id=\"sk-container-id-1\" class=\"sk-top-container\"><div class=\"sk-text-repr-fallback\"><pre>KNeighborsClassifier()</pre><b>In a Jupyter environment, please rerun this cell to show the HTML representation or trust the notebook. <br />On GitHub, the HTML representation is unable to render, please try loading this page with nbviewer.org.</b></div><div class=\"sk-container\" hidden><div class=\"sk-item\"><div class=\"sk-estimator sk-toggleable\"><input class=\"sk-toggleable__control sk-hidden--visually\" id=\"sk-estimator-id-1\" type=\"checkbox\" checked><label for=\"sk-estimator-id-1\" class=\"sk-toggleable__label sk-toggleable__label-arrow\">KNeighborsClassifier</label><div class=\"sk-toggleable__content\"><pre>KNeighborsClassifier()</pre></div></div></div></div></div>"
      ],
      "text/plain": [
       "KNeighborsClassifier()"
      ]
     },
     "execution_count": 7,
     "metadata": {},
     "output_type": "execute_result"
    }
   ],
   "source": [
    "# train the model using train sets\n",
    "knn.fit(X_train, y_train)"
   ]
  },
  {
   "cell_type": "markdown",
   "id": "6be32392",
   "metadata": {},
   "source": [
    "Just like that the model is trained, in two lines of code. Now you are left with a trained algorithm `knn`, which you can use to predict the group belonging of new samples.  "
   ]
  },
  {
   "cell_type": "code",
   "execution_count": 8,
   "id": "609868e3",
   "metadata": {},
   "outputs": [
    {
     "data": {
      "text/plain": [
       "array([0, 1, 0, 0, 1, 1, 0, 0, 0, 1, 1, 1, 1, 1, 1, 0, 1, 1, 1, 0, 1, 0,\n",
       "       1, 0, 0, 0, 0, 1, 1, 0, 1, 0, 0, 0, 0, 1, 0, 1, 1, 1, 0, 0, 1, 0,\n",
       "       0, 0, 0, 0, 0, 0, 1, 1, 0, 1, 0, 1, 0, 0, 0, 1, 1, 0, 0, 0, 0, 0,\n",
       "       0, 1], dtype=int64)"
      ]
     },
     "execution_count": 8,
     "metadata": {},
     "output_type": "execute_result"
    }
   ],
   "source": [
    "# use the trained model to get predictions of test-set samples\n",
    "knn.predict(X_test)"
   ]
  },
  {
   "cell_type": "markdown",
   "id": "84d1af4d",
   "metadata": {},
   "source": [
    "<div class='alert alert-warning'>\n",
    "<h4>Exercise 1. </h4>Test your models performance on the test set by calling the `knn.score` method. Now what happens when you test it on the training set? Why are the two different?"
   ]
  },
  {
   "cell_type": "code",
   "execution_count": null,
   "id": "c52c9209",
   "metadata": {},
   "outputs": [],
   "source": [
    "#Ex1\n"
   ]
  },
  {
   "cell_type": "code",
   "execution_count": 3,
   "id": "12a830cf",
   "metadata": {},
   "outputs": [
    {
     "name": "stdout",
     "output_type": "stream",
     "text": [
      "Overwriting solutions/skl_knn_1.py\n"
     ]
    }
   ],
   "source": [
    "#%load solutions/skl_knn_1.py"
   ]
  },
  {
   "cell_type": "markdown",
   "id": "73944835",
   "metadata": {},
   "source": [
    "To get the other metrics you can use comprehensive `classification_report` to compare y_test and predictions:"
   ]
  },
  {
   "cell_type": "code",
   "execution_count": 9,
   "id": "7b7feff1",
   "metadata": {},
   "outputs": [
    {
     "name": "stdout",
     "output_type": "stream",
     "text": [
      "              precision    recall  f1-score   support\n",
      "\n",
      "  no_disease       0.72      0.70      0.71        40\n",
      "     disease       0.59      0.61      0.60        28\n",
      "\n",
      "    accuracy                           0.66        68\n",
      "   macro avg       0.65      0.65      0.65        68\n",
      "weighted avg       0.66      0.66      0.66        68\n",
      "\n"
     ]
    }
   ],
   "source": [
    "# Parameters:\n",
    "# y_true = true labels\n",
    "# y_pred = predicted labels\n",
    "# target_names = optional, target labels in order [0, 1]\n",
    "\n",
    "print(classification_report(y_test, knn.predict(X_test), target_names=['no_disease', 'disease'])) "
   ]
  },
  {
   "cell_type": "markdown",
   "id": "04dc68a9",
   "metadata": {},
   "source": [
    "## Feature scaling\n",
    "\n",
    "So far we have done minimal preprocessing. But if you remember, we **normalized** and **transformed** the data in Pycaret-notebook (using setup() parameters). With few exceptions, you should always do some basic preprocessing, like standardizing each input feature to zero mean and unit variance. In fact, you should **never** do KNN without standardizing the input first. `sklearn` has a great functionality, and offers a vast number of options for preproccesing in the `preprocessing` sub module."
   ]
  },
  {
   "cell_type": "markdown",
   "id": "c0ef4e05",
   "metadata": {},
   "source": [
    "In addition to the `fit` method, many `sklearn` objects have a `transform` method, which lets you transform your dataset. In this case, the transform yields the dataset post normalization. \n",
    "\n",
    "<img src=\"assets/knn_unnormalized.png\" style=\"width:35%\"/>"
   ]
  },
  {
   "cell_type": "code",
   "execution_count": 10,
   "id": "80b4514e",
   "metadata": {},
   "outputs": [],
   "source": [
    "from sklearn.preprocessing import StandardScaler\n",
    "\n",
    "# create scaler\n",
    "scaler = StandardScaler()"
   ]
  },
  {
   "cell_type": "code",
   "execution_count": 11,
   "id": "3b68dafb",
   "metadata": {},
   "outputs": [],
   "source": [
    "# We can scale the data the same way we used knn-model. Here we fit only the training set\n",
    "scaler.fit(X_train) \n",
    "X_scaled = scaler.transform(data) # transform the data (that is the dataframe without target column)"
   ]
  },
  {
   "cell_type": "code",
   "execution_count": 12,
   "id": "d9f7143c",
   "metadata": {},
   "outputs": [
    {
     "data": {
      "image/png": "[encoded data removed]",
      "text/plain": [
       "<Figure size 720x360 with 2 Axes>"
      ]
     },
     "metadata": {
      "needs_background": "light"
     },
     "output_type": "display_data"
    }
   ],
   "source": [
    "# Plot data before and after normalizing\n",
    "fig, ax = plt.subplots(1,2, figsize=(10,5), sharex=True, sharey=True) # make two plots on the same row\n",
    "ax[0].scatter(data.iloc[:,3], data.iloc[:,4], c=target) # scatter resting blood pressure and serum cholesterol\n",
    "ax[0].set_title('Before normalizing') # set the title of the first subplot\n",
    "ax[1].scatter(X_scaled[:,3], X_scaled[:,4], c=target) \n",
    "ax[1].set_title('After normalizing') # set the title of the second subplot\n",
    "plt.show()"
   ]
  },
  {
   "cell_type": "code",
   "execution_count": 13,
   "id": "461446fc",
   "metadata": {},
   "outputs": [
    {
     "data": {
      "text/html": [
       "<style>#sk-container-id-2 {color: black;background-color: white;}#sk-container-id-2 pre{padding: 0;}#sk-container-id-2 div.sk-toggleable {background-color: white;}#sk-container-id-2 label.sk-toggleable__label {cursor: pointer;display: block;width: 100%;margin-bottom: 0;padding: 0.3em;box-sizing: border-box;text-align: center;}#sk-container-id-2 label.sk-toggleable__label-arrow:before {content: \"▸\";float: left;margin-right: 0.25em;color: #696969;}#sk-container-id-2 label.sk-toggleable__label-arrow:hover:before {color: black;}#sk-container-id-2 div.sk-estimator:hover label.sk-toggleable__label-arrow:before {color: black;}#sk-container-id-2 div.sk-toggleable__content {max-height: 0;max-width: 0;overflow: hidden;text-align: left;background-color: #f0f8ff;}#sk-container-id-2 div.sk-toggleable__content pre {margin: 0.2em;color: black;border-radius: 0.25em;background-color: #f0f8ff;}#sk-container-id-2 input.sk-toggleable__control:checked~div.sk-toggleable__content {max-height: 200px;max-width: 100%;overflow: auto;}#sk-container-id-2 input.sk-toggleable__control:checked~label.sk-toggleable__label-arrow:before {content: \"▾\";}#sk-container-id-2 div.sk-estimator input.sk-toggleable__control:checked~label.sk-toggleable__label {background-color: #d4ebff;}#sk-container-id-2 div.sk-label input.sk-toggleable__control:checked~label.sk-toggleable__label {background-color: #d4ebff;}#sk-container-id-2 input.sk-hidden--visually {border: 0;clip: rect(1px 1px 1px 1px);clip: rect(1px, 1px, 1px, 1px);height: 1px;margin: -1px;overflow: hidden;padding: 0;position: absolute;width: 1px;}#sk-container-id-2 div.sk-estimator {font-family: monospace;background-color: #f0f8ff;border: 1px dotted black;border-radius: 0.25em;box-sizing: border-box;margin-bottom: 0.5em;}#sk-container-id-2 div.sk-estimator:hover {background-color: #d4ebff;}#sk-container-id-2 div.sk-parallel-item::after {content: \"\";width: 100%;border-bottom: 1px solid gray;flex-grow: 1;}#sk-container-id-2 div.sk-label:hover label.sk-toggleable__label {background-color: #d4ebff;}#sk-container-id-2 div.sk-serial::before {content: \"\";position: absolute;border-left: 1px solid gray;box-sizing: border-box;top: 0;bottom: 0;left: 50%;z-index: 0;}#sk-container-id-2 div.sk-serial {display: flex;flex-direction: column;align-items: center;background-color: white;padding-right: 0.2em;padding-left: 0.2em;position: relative;}#sk-container-id-2 div.sk-item {position: relative;z-index: 1;}#sk-container-id-2 div.sk-parallel {display: flex;align-items: stretch;justify-content: center;background-color: white;position: relative;}#sk-container-id-2 div.sk-item::before, #sk-container-id-2 div.sk-parallel-item::before {content: \"\";position: absolute;border-left: 1px solid gray;box-sizing: border-box;top: 0;bottom: 0;left: 50%;z-index: -1;}#sk-container-id-2 div.sk-parallel-item {display: flex;flex-direction: column;z-index: 1;position: relative;background-color: white;}#sk-container-id-2 div.sk-parallel-item:first-child::after {align-self: flex-end;width: 50%;}#sk-container-id-2 div.sk-parallel-item:last-child::after {align-self: flex-start;width: 50%;}#sk-container-id-2 div.sk-parallel-item:only-child::after {width: 0;}#sk-container-id-2 div.sk-dashed-wrapped {border: 1px dashed gray;margin: 0 0.4em 0.5em 0.4em;box-sizing: border-box;padding-bottom: 0.4em;background-color: white;}#sk-container-id-2 div.sk-label label {font-family: monospace;font-weight: bold;display: inline-block;line-height: 1.2em;}#sk-container-id-2 div.sk-label-container {text-align: center;}#sk-container-id-2 div.sk-container {/* jupyter's `normalize.less` sets `[hidden] { display: none; }` but bootstrap.min.css set `[hidden] { display: none !important; }` so we also need the `!important` here to be able to override the default hidden behavior on the sphinx rendered scikit-learn.org. See: https://github.com/scikit-learn/scikit-learn/issues/21755 */display: inline-block !important;position: relative;}#sk-container-id-2 div.sk-text-repr-fallback {display: none;}</style><div id=\"sk-container-id-2\" class=\"sk-top-container\"><div class=\"sk-text-repr-fallback\"><pre>KNeighborsClassifier()</pre><b>In a Jupyter environment, please rerun this cell to show the HTML representation or trust the notebook. <br />On GitHub, the HTML representation is unable to render, please try loading this page with nbviewer.org.</b></div><div class=\"sk-container\" hidden><div class=\"sk-item\"><div class=\"sk-estimator sk-toggleable\"><input class=\"sk-toggleable__control sk-hidden--visually\" id=\"sk-estimator-id-2\" type=\"checkbox\" checked><label for=\"sk-estimator-id-2\" class=\"sk-toggleable__label sk-toggleable__label-arrow\">KNeighborsClassifier</label><div class=\"sk-toggleable__content\"><pre>KNeighborsClassifier()</pre></div></div></div></div></div>"
      ],
      "text/plain": [
       "KNeighborsClassifier()"
      ]
     },
     "execution_count": 13,
     "metadata": {},
     "output_type": "execute_result"
    }
   ],
   "source": [
    "# transform both train and test\n",
    "X_train_scaled = scaler.transform(X_train)\n",
    "X_test_scaled = scaler.transform(X_test)\n",
    "\n",
    "\n",
    "knn = KNeighborsClassifier(n_neighbors=5)\n",
    "knn.fit(X_train_scaled, y_train)"
   ]
  },
  {
   "cell_type": "markdown",
   "id": "bc58a292",
   "metadata": {},
   "source": [
    "Let's see how well our model performs now after scaling"
   ]
  },
  {
   "cell_type": "code",
   "execution_count": 14,
   "id": "d34f86eb",
   "metadata": {},
   "outputs": [
    {
     "name": "stdout",
     "output_type": "stream",
     "text": [
      "Test:  0.8235294117647058\n",
      "Train:  0.8663366336633663\n"
     ]
    }
   ],
   "source": [
    "print(\"Train: \", knn.score(X_train_scaled, y_train))\n",
    "print(\"Test: \", knn.score(X_test_scaled, y_test))"
   ]
  },
  {
   "cell_type": "markdown",
   "id": "9ac1f8fa",
   "metadata": {},
   "source": [
    "Without scaling we got ~0.7 accuracy so the performance improved significantly."
   ]
  },
  {
   "cell_type": "markdown",
   "id": "fcb6ea36",
   "metadata": {},
   "source": [
    "<div class='alert alert-warning'>\n",
    "<h4>Exercise 2. </h4> Predict class labels using the trained model. Save labels in variable 'pred'"
   ]
  },
  {
   "cell_type": "code",
   "execution_count": null,
   "id": "7f652196",
   "metadata": {},
   "outputs": [],
   "source": [
    "# Ex2\n"
   ]
  },
  {
   "cell_type": "code",
   "execution_count": 17,
   "id": "8afe8190",
   "metadata": {},
   "outputs": [],
   "source": [
    "# %load solutions/skl_knn_2.py"
   ]
  },
  {
   "cell_type": "markdown",
   "id": "7e36c8ed",
   "metadata": {},
   "source": [
    "### Confusion matrix"
   ]
  },
  {
   "cell_type": "markdown",
   "id": "916ce34c",
   "metadata": {},
   "source": [
    "We can use sklearn confusion_matrix module and seaborn heatmap to visualize classification results clearly in one plot."
   ]
  },
  {
   "cell_type": "code",
   "execution_count": 18,
   "id": "0fcf0075",
   "metadata": {},
   "outputs": [],
   "source": [
    "from sklearn.metrics import confusion_matrix\n",
    "\n",
    "# make a confusion matrix\n",
    "cf_matrix = confusion_matrix(y_test.values, pred)"
   ]
  },
  {
   "cell_type": "code",
   "execution_count": 19,
   "id": "c80fa476",
   "metadata": {},
   "outputs": [
    {
     "data": {
      "text/plain": [
       "<AxesSubplot:>"
      ]
     },
     "execution_count": 19,
     "metadata": {},
     "output_type": "execute_result"
    },
    {
     "data": {
      "image/png": "[encoded data removed]",
      "text/plain": [
       "<Figure size 432x288 with 2 Axes>"
      ]
     },
     "metadata": {
      "needs_background": "light"
     },
     "output_type": "display_data"
    }
   ],
   "source": [
    "# plot confusion matrix\n",
    "sns.heatmap(cf_matrix, annot=True, cmap='Blues')"
   ]
  }
 ],
 "metadata": {
  "kernelspec": {
   "display_name": "Python 3 (ipykernel)",
   "language": "python",
   "name": "python3"
  },
  "language_info": {
   "codemirror_mode": {
    "name": "ipython",
    "version": 3
   },
   "file_extension": ".py",
   "mimetype": "text/x-python",
   "name": "python",
   "nbconvert_exporter": "python",
   "pygments_lexer": "ipython3",
   "version": "3.8.13"
  },
  "toc": {
   "base_numbering": 1,
   "nav_menu": {},
   "number_sections": false,
   "sideBar": true,
   "skip_h1_title": false,
   "title_cell": "Table of Contents",
   "title_sidebar": "Contents",
   "toc_cell": false,
   "toc_position": {},
   "toc_section_display": true,
   "toc_window_display": true
  },
  "varInspector": {
   "cols": {
    "lenName": 16,
    "lenType": 16,
    "lenVar": 40
   },
   "kernels_config": {
    "python": {
     "delete_cmd_postfix": "",
     "delete_cmd_prefix": "del ",
     "library": "var_list.py",
     "varRefreshCmd": "print(var_dic_list())"
    },
    "r": {
     "delete_cmd_postfix": ") ",
     "delete_cmd_prefix": "rm(",
     "library": "var_list.r",
     "varRefreshCmd": "cat(var_dic_list()) "
    }
   },
   "types_to_exclude": [
    "module",
    "function",
    "builtin_function_or_method",
    "instance",
    "_Feature"
   ],
   "window_display": false
  }
 },
 "nbformat": 4,
 "nbformat_minor": 5
}
