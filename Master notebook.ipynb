{
 "cells": [
  {
   "cell_type": "markdown",
   "id": "37c6f945",
   "metadata": {},
   "source": [
    "# Computational Biomedicine course notebooks"
   ]
  },
  {
   "cell_type": "markdown",
   "id": "71596e21",
   "metadata": {},
   "source": [
    "# Part 1: Python and data retrieval\n",
    "\n",
    "### [Python basics](./B_Python_and_friends/1_python_basics.ipynb)\n",
    "Comprehensive notebook with lots of examples. Come back to this one anytime in the course if you have questions of basic python functionality \n",
    "### [Pandas basics](./B_Python_and_friends/2_pandas_basics.ipynb)\n",
    "Introduction to pandas library. Pandas is data analysis and manipulation tool and includes helpful dataformats like DataFrame.\n",
    "### [Numpy basics](./B_Python_and_friends/3_numpy_basics.ipynb)\n",
    "Introduction to NumPy library. NumPy offers n-dimensional arrays and comperhensive mathematical functions etc.\n",
    "\n",
    "### [Data retrieval GEO](./C_Data_resources/1_data_retrieval_geo.ipynb)\n",
    "Notebook to practice data retrieval from NCBI GEO database.\n",
    "### [Open datasets](./C_Data_resources/2_Open_datasets.ipynb)\n",
    "Notebook to practice data retrieval from other open repositories, data exploration and visualizing."
   ]
  },
  {
   "cell_type": "markdown",
   "id": "d38f0a44",
   "metadata": {},
   "source": [
    "# Part 2: Network analysis\n",
    "\n",
    "### [Concepts in network theory](./D_Network_analysis/0_Concepts_in_network_theory.ipynb)\n",
    "Theory-focused notebook about networks.\n",
    "### [Network graphs](./D_Network_analysis/1_Network_graphs_students.ipynb)\n",
    "Graphs in Python."
   ]
  },
  {
   "cell_type": "markdown",
   "id": "0ee38762",
   "metadata": {},
   "source": [
    "# Part 3: Machine learning\n",
    "\n",
    "## Unsupervised Learning\n",
    "### [PCA exercise](./F_Machine_learning/1_Unsupervised-Learning/1_PCA_exercise.ipynb)\n",
    "Introduction to Principal component analysis (PCA).\n",
    "### [Clustering](./F_Machine_learning/1_Unsupervised-Learning/2_Clustering.ipynb)\n",
    "Introduction to K-means clustering algorithm. Additionally scikit-learn machine learning library, visualizing and scaling.\n",
    "### [Subtyping breast cancer from gene expression](./F_Machine_learning/1_Unsupervised-Learning/Subtyping_breast_cancer_from_gene_expression)\n",
    "Simple analysis workflow.\n",
    "\n",
    "## Supervised Learning\n",
    "### [Scikit-learn basics](./F_Machine_learning/2_Supervised-Learning/1_Scikit-learn_basics.ipynb)\n",
    "Introduction to scikit-learn library with lots of examples.\n",
    "### [Machine learning algorithms](./F_Machine_learning/2_Supervised-Learning/2_Machine_Learning_Algorithms)\n",
    "Selection of machine learning models used for classification.\n",
    "### [Regression](./F_Machine_learning/2_Supervised-Learning/3_Regression.ipynb)\n",
    "Introduction to regression, counterpart to classification."
   ]
  },
  {
   "cell_type": "code",
   "execution_count": null,
   "id": "3ae8a25a",
   "metadata": {},
   "outputs": [],
   "source": []
  }
 ],
 "metadata": {
  "kernelspec": {
   "display_name": "Python 3 (ipykernel)",
   "language": "python",
   "name": "python3"
  },
  "language_info": {
   "codemirror_mode": {
    "name": "ipython",
    "version": 3
   },
   "file_extension": ".py",
   "mimetype": "text/x-python",
   "name": "python",
   "nbconvert_exporter": "python",
   "pygments_lexer": "ipython3",
   "version": "3.10.4"
  },
  "toc": {
   "base_numbering": 1,
   "nav_menu": {},
   "number_sections": true,
   "sideBar": true,
   "skip_h1_title": false,
   "title_cell": "Table of Contents",
   "title_sidebar": "Contents",
   "toc_cell": false,
   "toc_position": {},
   "toc_section_display": true,
   "toc_window_display": false
  }
 },
 "nbformat": 4,
 "nbformat_minor": 5
}
