{
 "cells": [
  {
   "cell_type": "markdown",
   "metadata": {},
   "source": [
    "#  Network based statistic (NBS)\n",
    "Performing statistical tests on brain networks.\n",
    "\n",
    "### Preparation:\n",
    "Unfortunately for legal reasons, in order to complete this notebook you must gain access to make an account on  https://db.humanconnectome.org/ to access the data. This requires `IBM Aspera Connect`, a plugin to access the data (you will be prompted by a pop-up from the website). \n",
    "\n",
    "* Once you have created an account, gain access to the HCP1200 dataset\n",
    "https://db.humanconnectome.org/data/projects/HCP_1200#HcpOpen\n",
    "\n",
    "* Go under **HCP1200 Parcellation+Timeseries+Netmats (PTN)** and download the 10 GB `812 Subjects, recon r227 only, PTN Release` zip file.\n",
    "\n",
    "* Under **Quick Downloads** (left hand side) download the Behavioural data (csv file).\n",
    "\n",
    "\n",
    "> - Once downloaded, unzip the folder.\n",
    "> - untar the move the file `netmats_3T_HCP1200_MSMAll_ICAd100_ts2.tar.gz` in git bash using `tar -xzvf <filename>`\n",
    "> - this creates a directory `netmats`. Open this and select the file netmats1.txt and move it to the data subdirectory and rename it to `ICA_d100_netmats.txt`\n",
    "> - rename the behavioural data to `behavioural.csv`.\n",
    "> - Move all the relevant files plus `subjectsID_recon2.txt` to the data subdirectory.\n",
    "\n"
   ]
  },
  {
   "cell_type": "markdown",
   "metadata": {},
   "source": [
    "## The concept behind NBS\n",
    "\n",
    "Network-based statistic is a non-parametric permutation test used to assess whether the connectomes of two populations are different."
   ]
  },
  {
   "cell_type": "markdown",
   "metadata": {},
   "source": [
    "#### What is a permutation test?\n",
    "\n",
    "What all statistical tests have in common is that they calculate some number (a test statistic) from the data, and compare it to the null distribution. If the test statistic deviates more from this than what we can reasonably expect under the null hypothesis, we say there is an effect.\n",
    "\n",
    "The only difference in a permutation test is that we don't need to make assumptions about the null distribution (i.e. non-parametric), but we find it using random assignments of the labels. The basic steps is to compute the test-statistic, then randomly shuffle the labels (e.g. sick versus patient) and recompute the statistic. You repeat this reshuffling/recomputing a large number of times to get the null distribution. If the first (\"real\") test-statistic significantly differs from the expected null distribution, we likely have a population difference.\n",
    "\n",
    "[The original paper](https://www.sciencedirect.com/science/article/abs/pii/S1053811910008852)\n"
   ]
  },
  {
   "cell_type": "markdown",
   "metadata": {},
   "source": [
    "__The steps of NBS are straight forward:__\n",
    "\n",
    "1. For each edge of the network, perform a statistical test (two-sided t-test) for whether it is different between the two populations. This yields a single number for each edge.\n",
    "\n",
    "\n",
    "2. Construct a pseudo-network where the above t-stats are used as the edges of the pseudo-network. The resulting graph can be thought of the \"difference network\" between the two populations.\n",
    "\n",
    "\n",
    "2. Choose a threshold (usually you try multiple) and discard all the weights weaker than this threshold in the pseudo-network. This results in a fragmented network with components of variable size. Identify the largest connected component and write down its size (number of edges).\n",
    "\n",
    "\n",
    "3. Identify the LARGEST connected component and write down its size (number of edges). This is your test-statistic. \n",
    "\n",
    "\n",
    "4. Randomly reassign the participants, and repeat step 1-3 *K* times (usually *K=1000*). Check for significance.\n",
    "\n",
    "\n",
    "This image reviews the steps in a single iteration to compute the test statistic.\n",
    "<img src=\"assets/nbs.png\" alt=\"nbs steps\" title=\"NBS steps\" />"
   ]
  },
  {
   "cell_type": "code",
   "execution_count": 1,
   "metadata": {},
   "outputs": [],
   "source": [
    "%reload_ext autoreload\n",
    "%autoreload 2\n",
    "%matplotlib inline"
   ]
  },
  {
   "cell_type": "code",
   "execution_count": 45,
   "metadata": {},
   "outputs": [],
   "source": [
    "import sys\n",
    "import os\n",
    "import bct\n",
    "\n",
    "import numpy as np\n",
    "import pandas as pd\n",
    "\n",
    "from bct import nbs\n",
    "from matplotlib import pyplot as plt\n",
    "from numpy.linalg import norm\n",
    "from sklearn.preprocessing import StandardScaler\n",
    "from sklearn.preprocessing import MinMaxScaler as scaler\n",
    "from nilearn.plotting import plot_matrix"
   ]
  },
  {
   "cell_type": "code",
   "execution_count": 4,
   "metadata": {},
   "outputs": [
    {
     "data": {
      "text/plain": [
       "'C:\\\\Users\\\\Peder\\\\Anaconda3\\\\envs\\\\cbm101\\\\python.exe'"
      ]
     },
     "execution_count": 4,
     "metadata": {},
     "output_type": "execute_result"
    }
   ],
   "source": [
    "sys.executable"
   ]
  },
  {
   "cell_type": "markdown",
   "metadata": {},
   "source": [
    "NBS is implemented in the Brain Connectivity Toolbox for Python `bctpy`. If you don't have it already installed, uncomment and run the cell below."
   ]
  },
  {
   "cell_type": "code",
   "execution_count": 4,
   "metadata": {},
   "outputs": [],
   "source": [
    "import bct\n",
    "from bct import nbs"
   ]
  },
  {
   "cell_type": "code",
   "execution_count": 5,
   "metadata": {},
   "outputs": [],
   "source": [
    "#!{sys.executable} -m pip install bctpy"
   ]
  },
  {
   "cell_type": "code",
   "execution_count": 6,
   "metadata": {},
   "outputs": [
    {
     "name": "stdout",
     "output_type": "stream",
     "text": [
      "# packages in environment at C:\\Users\\Peder\\Anaconda3\\envs\\cbm101:\n",
      "#\n",
      "# Name                    Version                   Build  Channel\n",
      "bctpy                     0.5.0                    pypi_0    pypi\n"
     ]
    }
   ],
   "source": [
    "#verify installation\n",
    "!conda list bctpy "
   ]
  },
  {
   "cell_type": "markdown",
   "metadata": {},
   "source": [
    "### Proof of concept  with random simulated data"
   ]
  },
  {
   "cell_type": "code",
   "execution_count": 20,
   "metadata": {},
   "outputs": [],
   "source": [
    "all_subjects = np.random.rand(15,15,50) # N=50, nodes=15\n",
    "group1 = all_subjects[:,:,:25]\n",
    "group2 = all_subjects[:,:,25:]"
   ]
  },
  {
   "cell_type": "code",
   "execution_count": 21,
   "metadata": {},
   "outputs": [
    {
     "data": {
      "text/plain": [
       "<matplotlib.colorbar.Colorbar at 0x16b5ee263c8>"
      ]
     },
     "execution_count": 21,
     "metadata": {},
     "output_type": "execute_result"
    },
    {
     "data": {
      "image/png": "[encoded data removed]",
      "text/plain": [
       "<Figure size 432x288 with 2 Axes>"
      ]
     },
     "metadata": {
      "needs_background": "light"
     },
     "output_type": "display_data"
    }
   ],
   "source": [
    "sub0 = group1[:,:,0] \n",
    "plt.imshow(sub0, cmap=plt.cm.Reds, vmin=0, vmax=1)\n",
    "plt.colorbar()"
   ]
  },
  {
   "cell_type": "markdown",
   "metadata": {},
   "source": [
    "Since we drew both groups out of the same population `all_subjects`, there should be no group difference between the two."
   ]
  },
  {
   "cell_type": "code",
   "execution_count": 9,
   "metadata": {},
   "outputs": [],
   "source": [
    "def do_nbs(g1, g2, kappa=0.8, plot=True, k=1000):\n",
    "    pval, adj, null = nbs.nbs_bct(g1, g2, kappa, k=k)\n",
    "    if plot:\n",
    "        plt.hist(null, bins=20); plt.show()\n",
    "    return pval, adj, null"
   ]
  },
  {
   "cell_type": "code",
   "execution_count": 69,
   "metadata": {},
   "outputs": [
    {
     "name": "stdout",
     "output_type": "stream",
     "text": [
      "max component size is 41\n",
      "estimating null distribution with 1000 permutations\n",
      "permutation 0 of 1000.  p-value so far is 1.000\n",
      "permutation 100 of 1000.  p-value so far is 0.733\n",
      "permutation 200 of 1000.  p-value so far is 0.756\n",
      "permutation 300 of 1000.  p-value so far is 0.787\n",
      "permutation 400 of 1000.  p-value so far is 0.808\n",
      "permutation 500 of 1000.  p-value so far is 0.802\n",
      "permutation 600 of 1000.  p-value so far is 0.807\n",
      "permutation 700 of 1000.  p-value so far is 0.806\n",
      "permutation 800 of 1000.  p-value so far is 0.804\n",
      "permutation 900 of 1000.  p-value so far is 0.809\n",
      "permutation 999 of 1000.  p-value so far is 0.806\n"
     ]
    }
   ],
   "source": [
    "pval, adj, null = do_nbs(group1, group2, plot=False)"
   ]
  },
  {
   "cell_type": "code",
   "execution_count": 72,
   "metadata": {
    "scrolled": true
   },
   "outputs": [
    {
     "data": {
      "text/plain": [
       "<matplotlib.lines.Line2D at 0x29fde043cc8>"
      ]
     },
     "execution_count": 72,
     "metadata": {},
     "output_type": "execute_result"
    },
    {
     "data": {
      "image/png": "[encoded data removed]",
      "text/plain": [
       "<Figure size 432x288 with 1 Axes>"
      ]
     },
     "metadata": {
      "needs_background": "light"
     },
     "output_type": "display_data"
    }
   ],
   "source": [
    "plt.hist(null, bins=20)\n",
    "plt.axvline(41, c='red', )"
   ]
  },
  {
   "cell_type": "markdown",
   "metadata": {},
   "source": [
    "**Conclusion:** the test statistic is well within the expected range under the null hypothesis, so we have no reason to assume a group difference. This is expected because we drew both groups from the same simulated population. Next we can use a real dataset from the Human Connectome Project (HCP1200) with some behavioural data to see if we have a difference based on certain traits."
   ]
  },
  {
   "cell_type": "markdown",
   "metadata": {},
   "source": [
    "# Testing it on a real dataset\n",
    "We start by loading the behavioural data (metadata from which we can test variables of interest and filter based on exclusion criteria)."
   ]
  },
  {
   "cell_type": "code",
   "execution_count": 13,
   "metadata": {},
   "outputs": [],
   "source": [
    "behav = pd.read_csv('data/behavioural.csv')"
   ]
  },
  {
   "cell_type": "code",
   "execution_count": 14,
   "metadata": {},
   "outputs": [
    {
     "data": {
      "text/html": [
       "<div>\n",
       "<style scoped>\n",
       "    .dataframe tbody tr th:only-of-type {\n",
       "        vertical-align: middle;\n",
       "    }\n",
       "\n",
       "    .dataframe tbody tr th {\n",
       "        vertical-align: top;\n",
       "    }\n",
       "\n",
       "    .dataframe thead th {\n",
       "        text-align: right;\n",
       "    }\n",
       "</style>\n",
       "<table border=\"1\" class=\"dataframe\">\n",
       "  <thead>\n",
       "    <tr style=\"text-align: right;\">\n",
       "      <th></th>\n",
       "      <th>Subject</th>\n",
       "      <th>Release</th>\n",
       "      <th>Acquisition</th>\n",
       "      <th>Gender</th>\n",
       "      <th>Age</th>\n",
       "      <th>3T_Full_MR_Compl</th>\n",
       "      <th>T1_Count</th>\n",
       "      <th>T2_Count</th>\n",
       "      <th>3T_RS-fMRI_Count</th>\n",
       "      <th>3T_RS-fMRI_PctCompl</th>\n",
       "      <th>...</th>\n",
       "      <th>Noise_Comp</th>\n",
       "      <th>Odor_Unadj</th>\n",
       "      <th>Odor_AgeAdj</th>\n",
       "      <th>PainIntens_RawScore</th>\n",
       "      <th>PainInterf_Tscore</th>\n",
       "      <th>Taste_Unadj</th>\n",
       "      <th>Taste_AgeAdj</th>\n",
       "      <th>Mars_Log_Score</th>\n",
       "      <th>Mars_Errs</th>\n",
       "      <th>Mars_Final</th>\n",
       "    </tr>\n",
       "  </thead>\n",
       "  <tbody>\n",
       "    <tr>\n",
       "      <th>0</th>\n",
       "      <td>100004</td>\n",
       "      <td>S900</td>\n",
       "      <td>Q06</td>\n",
       "      <td>M</td>\n",
       "      <td>22-25</td>\n",
       "      <td>False</td>\n",
       "      <td>0</td>\n",
       "      <td>0</td>\n",
       "      <td>0</td>\n",
       "      <td>0.0</td>\n",
       "      <td>...</td>\n",
       "      <td>5.2</td>\n",
       "      <td>101.12</td>\n",
       "      <td>86.45</td>\n",
       "      <td>2.0</td>\n",
       "      <td>45.9</td>\n",
       "      <td>107.17</td>\n",
       "      <td>105.31</td>\n",
       "      <td>1.80</td>\n",
       "      <td>0.0</td>\n",
       "      <td>1.80</td>\n",
       "    </tr>\n",
       "    <tr>\n",
       "      <th>1</th>\n",
       "      <td>100206</td>\n",
       "      <td>S900</td>\n",
       "      <td>Q11</td>\n",
       "      <td>M</td>\n",
       "      <td>26-30</td>\n",
       "      <td>True</td>\n",
       "      <td>1</td>\n",
       "      <td>1</td>\n",
       "      <td>4</td>\n",
       "      <td>100.0</td>\n",
       "      <td>...</td>\n",
       "      <td>6.0</td>\n",
       "      <td>108.79</td>\n",
       "      <td>97.19</td>\n",
       "      <td>1.0</td>\n",
       "      <td>49.7</td>\n",
       "      <td>72.63</td>\n",
       "      <td>72.03</td>\n",
       "      <td>1.84</td>\n",
       "      <td>0.0</td>\n",
       "      <td>1.84</td>\n",
       "    </tr>\n",
       "    <tr>\n",
       "      <th>2</th>\n",
       "      <td>100307</td>\n",
       "      <td>Q1</td>\n",
       "      <td>Q01</td>\n",
       "      <td>F</td>\n",
       "      <td>26-30</td>\n",
       "      <td>True</td>\n",
       "      <td>1</td>\n",
       "      <td>1</td>\n",
       "      <td>4</td>\n",
       "      <td>100.0</td>\n",
       "      <td>...</td>\n",
       "      <td>3.6</td>\n",
       "      <td>101.12</td>\n",
       "      <td>86.45</td>\n",
       "      <td>0.0</td>\n",
       "      <td>38.6</td>\n",
       "      <td>71.69</td>\n",
       "      <td>71.76</td>\n",
       "      <td>1.76</td>\n",
       "      <td>0.0</td>\n",
       "      <td>1.76</td>\n",
       "    </tr>\n",
       "    <tr>\n",
       "      <th>3</th>\n",
       "      <td>100408</td>\n",
       "      <td>Q3</td>\n",
       "      <td>Q03</td>\n",
       "      <td>M</td>\n",
       "      <td>31-35</td>\n",
       "      <td>True</td>\n",
       "      <td>1</td>\n",
       "      <td>1</td>\n",
       "      <td>4</td>\n",
       "      <td>100.0</td>\n",
       "      <td>...</td>\n",
       "      <td>2.0</td>\n",
       "      <td>108.79</td>\n",
       "      <td>98.04</td>\n",
       "      <td>2.0</td>\n",
       "      <td>52.6</td>\n",
       "      <td>114.01</td>\n",
       "      <td>113.59</td>\n",
       "      <td>1.76</td>\n",
       "      <td>2.0</td>\n",
       "      <td>1.68</td>\n",
       "    </tr>\n",
       "    <tr>\n",
       "      <th>4</th>\n",
       "      <td>100610</td>\n",
       "      <td>S900</td>\n",
       "      <td>Q08</td>\n",
       "      <td>M</td>\n",
       "      <td>26-30</td>\n",
       "      <td>True</td>\n",
       "      <td>2</td>\n",
       "      <td>1</td>\n",
       "      <td>4</td>\n",
       "      <td>100.0</td>\n",
       "      <td>...</td>\n",
       "      <td>2.0</td>\n",
       "      <td>122.25</td>\n",
       "      <td>110.45</td>\n",
       "      <td>0.0</td>\n",
       "      <td>38.6</td>\n",
       "      <td>84.84</td>\n",
       "      <td>85.31</td>\n",
       "      <td>1.92</td>\n",
       "      <td>1.0</td>\n",
       "      <td>1.88</td>\n",
       "    </tr>\n",
       "  </tbody>\n",
       "</table>\n",
       "<p>5 rows × 582 columns</p>\n",
       "</div>"
      ],
      "text/plain": [
       "   Subject Release Acquisition Gender    Age  3T_Full_MR_Compl  T1_Count  \\\n",
       "0   100004    S900         Q06      M  22-25             False         0   \n",
       "1   100206    S900         Q11      M  26-30              True         1   \n",
       "2   100307      Q1         Q01      F  26-30              True         1   \n",
       "3   100408      Q3         Q03      M  31-35              True         1   \n",
       "4   100610    S900         Q08      M  26-30              True         2   \n",
       "\n",
       "   T2_Count  3T_RS-fMRI_Count  3T_RS-fMRI_PctCompl  ...  Noise_Comp  \\\n",
       "0         0                 0                  0.0  ...         5.2   \n",
       "1         1                 4                100.0  ...         6.0   \n",
       "2         1                 4                100.0  ...         3.6   \n",
       "3         1                 4                100.0  ...         2.0   \n",
       "4         1                 4                100.0  ...         2.0   \n",
       "\n",
       "   Odor_Unadj  Odor_AgeAdj  PainIntens_RawScore  PainInterf_Tscore  \\\n",
       "0      101.12        86.45                  2.0               45.9   \n",
       "1      108.79        97.19                  1.0               49.7   \n",
       "2      101.12        86.45                  0.0               38.6   \n",
       "3      108.79        98.04                  2.0               52.6   \n",
       "4      122.25       110.45                  0.0               38.6   \n",
       "\n",
       "   Taste_Unadj  Taste_AgeAdj  Mars_Log_Score  Mars_Errs  Mars_Final  \n",
       "0       107.17        105.31            1.80        0.0        1.80  \n",
       "1        72.63         72.03            1.84        0.0        1.84  \n",
       "2        71.69         71.76            1.76        0.0        1.76  \n",
       "3       114.01        113.59            1.76        2.0        1.68  \n",
       "4        84.84         85.31            1.92        1.0        1.88  \n",
       "\n",
       "[5 rows x 582 columns]"
      ]
     },
     "execution_count": 14,
     "metadata": {},
     "output_type": "execute_result"
    }
   ],
   "source": [
    "behav.head()"
   ]
  },
  {
   "cell_type": "code",
   "execution_count": 27,
   "metadata": {},
   "outputs": [
    {
     "name": "stdout",
     "output_type": "stream",
     "text": [
      "Subject\n",
      "Release\n",
      "Acquisition\n",
      "Gender\n",
      "Age\n",
      "3T_Full_MR_Compl\n",
      "T1_Count\n",
      "T2_Count\n",
      "3T_RS-fMRI_Count\n",
      "3T_RS-fMRI_PctCompl\n",
      "3T_Full_Task_fMRI\n",
      "3T_tMRI_PctCompl\n",
      "fMRI_WM_PctCompl\n",
      "fMRI_Gamb_PctCompl\n",
      "fMRI_Mot_PctCompl\n",
      "fMRI_Lang_PctCompl\n",
      "fMRI_Soc_PctCompl\n",
      "fMRI_Rel_PctCompl\n",
      "fMRI_Emo_PctCompl\n",
      "3T_dMRI_Compl\n",
      "3T_dMRI_PctCompl\n",
      "dMRI_3T_ReconVrs\n",
      "fMRI_3T_ReconVrs\n",
      "7T_Full_MR_Compl\n",
      "7T_RS-fMRI_Count\n",
      "7T_RS-fMRI_PctCompl\n",
      "7T_Full_Task_fMRI\n",
      "7T_tMRI_PctCompl\n",
      "fMRI_Movie_Compl\n",
      "fMRI_Movie_PctCompl\n",
      "fMRI_Ret_Compl\n",
      "fMRI_Ret_PctCompl\n",
      "7T_dMRI_Compl\n",
      "7T_dMRI_PctCompl\n",
      "7T_fMRI_Mov_Vrs\n",
      "MEG_AnyData\n",
      "MEG_FullProt_Compl\n",
      "MEG_HeadModel_Avail\n",
      "MEG_CortRibn_Avail\n",
      "MEG_Anatomy_Avail\n",
      "MEG_Anatomy_Compl\n",
      "MEG_Noise_Avail\n",
      "MEG_Noise_Compl\n",
      "MEG_RS_Avail\n",
      "MEG_RS_Compl\n",
      "MEG_WM_Avail\n",
      "MEG_WM_Compl\n",
      "MEG_StoryMath_Avail\n",
      "MEG_StoryMath_Compl\n",
      "MEG_Motor_Avail\n",
      "MEG_Motor_Compl\n",
      "Non-TB_Compl\n",
      "VisProc_Compl\n",
      "DelDisc_Compl\n",
      "SCPT_Compl\n",
      "IWRD_Compl\n",
      "PMAT_Compl\n",
      "VSPLOT_Compl\n",
      "EmoRecog_Compl\n",
      "NEO-FFI_Compl\n",
      "ASR-Syn_Compl\n",
      "ASR-DSM_Compl\n",
      "Toolbox_Compl\n",
      "MMSE_Compl\n",
      "PSQI_Compl\n",
      "Alert_Compl\n",
      "ASQ_Compl\n",
      "FamPsychNeuro_Compl\n",
      "SSAGA_Compl\n",
      "SSAGA_Demo_Compl\n",
      "SSAGA_Mental_Compl\n",
      "SSAGA_Alc_Compl\n",
      "SSAGA_Illicit_Compl\n",
      "SSAGA_Tob_Compl\n",
      "SSAGA_Mj_Compl\n",
      "QC_Issue\n",
      "MRsession_Scanner_3T\n",
      "MRsession_Scans_3T\n",
      "MRsession_Label_3T\n",
      "MRsession_Scanner_7T\n",
      "MRsession_Scans_7T\n",
      "MRsession_Label_7T\n",
      "MEGsession_Scanner\n",
      "MEGsession_Scans\n",
      "MEGsession_Label\n",
      "Alpha_Peak\n",
      "Beta_Peak\n",
      "MMSE_Score\n",
      "PSQI_Score\n",
      "PSQI_Comp1\n",
      "PSQI_Comp2\n",
      "PSQI_Comp3\n",
      "PSQI_Comp4\n",
      "PSQI_Comp5\n",
      "PSQI_Comp6\n",
      "PSQI_Comp7\n",
      "PSQI_BedTime\n",
      "PSQI_Min2Asleep\n",
      "PSQI_GetUpTime\n",
      "PSQI_AmtSleep\n",
      "PSQI_Latency30Min\n",
      "PSQI_WakeUp\n",
      "PSQI_Bathroom\n",
      "PSQI_Breathe\n",
      "PSQI_Snore\n",
      "PSQI_TooCold\n",
      "PSQI_TooHot\n",
      "PSQI_BadDream\n",
      "PSQI_Pain\n",
      "PSQI_Other\n",
      "PSQI_Quality\n",
      "PSQI_SleepMeds\n",
      "PSQI_DayStayAwake\n",
      "PSQI_DayEnthusiasm\n",
      "PSQI_BedPtnrRmate\n",
      "PicSeq_Unadj\n",
      "PicSeq_AgeAdj\n",
      "CardSort_Unadj\n",
      "CardSort_AgeAdj\n",
      "Flanker_Unadj\n",
      "Flanker_AgeAdj\n",
      "PMAT24_A_CR\n",
      "PMAT24_A_SI\n",
      "PMAT24_A_RTCR\n",
      "ReadEng_Unadj\n",
      "ReadEng_AgeAdj\n",
      "PicVocab_Unadj\n",
      "PicVocab_AgeAdj\n",
      "ProcSpeed_Unadj\n",
      "ProcSpeed_AgeAdj\n",
      "DDisc_SV_1mo_200\n",
      "DDisc_SV_6mo_200\n",
      "DDisc_SV_1yr_200\n",
      "DDisc_SV_3yr_200\n",
      "DDisc_SV_5yr_200\n",
      "DDisc_SV_10yr_200\n",
      "DDisc_SV_1mo_40K\n",
      "DDisc_SV_6mo_40K\n",
      "DDisc_SV_1yr_40K\n",
      "DDisc_SV_3yr_40K\n",
      "DDisc_SV_5yr_40K\n",
      "DDisc_SV_10yr_40K\n",
      "DDisc_AUC_200\n",
      "DDisc_AUC_40K\n",
      "VSPLOT_TC\n",
      "VSPLOT_CRTE\n",
      "VSPLOT_OFF\n",
      "SCPT_TP\n",
      "SCPT_TN\n",
      "SCPT_FP\n",
      "SCPT_FN\n",
      "SCPT_TPRT\n",
      "SCPT_SEN\n",
      "SCPT_SPEC\n",
      "SCPT_LRNR\n",
      "IWRD_TOT\n",
      "IWRD_RTC\n",
      "ListSort_Unadj\n",
      "ListSort_AgeAdj\n",
      "CogFluidComp_Unadj\n",
      "CogFluidComp_AgeAdj\n",
      "CogEarlyComp_Unadj\n",
      "CogEarlyComp_AgeAdj\n",
      "CogTotalComp_Unadj\n",
      "CogTotalComp_AgeAdj\n",
      "CogCrystalComp_Unadj\n",
      "CogCrystalComp_AgeAdj\n",
      "ER40_CR\n",
      "ER40_CRT\n",
      "ER40ANG\n",
      "ER40FEAR\n",
      "ER40HAP\n",
      "ER40NOE\n",
      "ER40SAD\n",
      "AngAffect_Unadj\n",
      "AngHostil_Unadj\n",
      "AngAggr_Unadj\n",
      "FearAffect_Unadj\n",
      "FearSomat_Unadj\n",
      "Sadness_Unadj\n",
      "LifeSatisf_Unadj\n",
      "MeanPurp_Unadj\n",
      "PosAffect_Unadj\n",
      "Friendship_Unadj\n",
      "Loneliness_Unadj\n",
      "PercHostil_Unadj\n",
      "PercReject_Unadj\n",
      "EmotSupp_Unadj\n",
      "InstruSupp_Unadj\n",
      "PercStress_Unadj\n",
      "SelfEff_Unadj\n",
      "FS_IntraCranial_Vol\n",
      "FS_BrainSeg_Vol\n",
      "FS_BrainSeg_Vol_No_Vent\n",
      "FS_BrainSeg_Vol_No_Vent_Surf\n",
      "FS_LCort_GM_Vol\n",
      "FS_RCort_GM_Vol\n",
      "FS_TotCort_GM_Vol\n",
      "FS_SubCort_GM_Vol\n",
      "FS_Total_GM_Vol\n",
      "FS_SupraTentorial_Vol\n",
      "FS_L_WM_Vol\n",
      "FS_R_WM_Vol\n",
      "FS_Tot_WM_Vol\n",
      "FS_Mask_Vol\n",
      "FS_BrainSegVol_eTIV_Ratio\n",
      "FS_MaskVol_eTIV_Ratio\n",
      "FS_LH_Defect_Holes\n",
      "FS_RH_Defect_Holes\n",
      "FS_Total_Defect_Holes\n",
      "FS_L_LatVent_Vol\n",
      "FS_L_InfLatVent_Vol\n",
      "FS_L_Cerebellum_WM_Vol\n",
      "FS_L_Cerebellum_Cort_Vol\n",
      "FS_L_ThalamusProper_Vol\n",
      "FS_L_Caudate_Vol\n",
      "FS_L_Putamen_Vol\n",
      "FS_L_Pallidum_Vol\n",
      "FS_3rdVent_Vol\n",
      "FS_4thVent_Vol\n",
      "FS_BrainStem_Vol\n",
      "FS_L_Hippo_Vol\n",
      "FS_L_Amygdala_Vol\n",
      "FS_CSF_Vol\n",
      "FS_L_AccumbensArea_Vol\n",
      "FS_L_VentDC_Vol\n",
      "FS_L_Vessel_Vol\n",
      "FS_L_ChoroidPlexus_Vol\n",
      "FS_R_LatVent_Vol\n",
      "FS_R_InfLatVent_Vol\n",
      "FS_R_Cerebellum_WM_Vol\n",
      "FS_R_Cerebellum_Cort_Vol\n",
      "FS_R_ThalamusProper_Vol\n",
      "FS_R_Caudate_Vol\n",
      "FS_R_Putamen_Vol\n",
      "FS_R_Pallidum_Vol\n",
      "FS_R_Hippo_Vol\n",
      "FS_R_Amygdala_Vol\n",
      "FS_R_AccumbensArea_Vol\n",
      "FS_R_VentDC_Vol\n",
      "FS_R_Vessel_Vol\n",
      "FS_R_ChoroidPlexus_Vol\n",
      "FS_5thVent_Vol\n",
      "FS_WM_Hypointens_Vol\n",
      "FS_L_WM_Hypointens_Vol\n",
      "FS_R_WM_Hypointens_Vol\n",
      "FS_L_Non-WM_Hypointens_Vol\n",
      "FS_R_Non-WM_Hypointens_Vol\n",
      "FS_OpticChiasm_Vol\n",
      "FS_CC_Posterior_Vol\n",
      "FS_CC_MidPosterior_Vol\n",
      "FS_CC_Central_Vol\n",
      "FS_CC_MidAnterior_Vol\n",
      "FS_CC_Anterior_Vol\n",
      "FS_L_Bankssts_Thck\n",
      "FS_L_Caudalanteriorcingulate_Thck\n",
      "FS_L_Caudalmiddlefrontal_Thck\n",
      "FS_L_Cuneus_Thck\n",
      "FS_L_Entorhinal_Thck\n",
      "FS_L_Fusiform_Thck\n",
      "FS_L_Inferiorparietal_Thck\n",
      "FS_L_Inferiortemporal_Thck\n",
      "FS_L_Isthmuscingulate_Thck\n",
      "FS_L_Lateraloccipital_Thck\n",
      "FS_L_Lateralorbitofrontal_Thck\n",
      "FS_L_Lingual_Thck\n",
      "FS_L_Medialorbitofrontal_Thck\n",
      "FS_L_Middletemporal_Thck\n",
      "FS_L_Parahippocampal_Thck\n",
      "FS_L_Paracentral_Thck\n",
      "FS_L_Parsopercularis_Thck\n",
      "FS_L_Parsorbitalis_Thck\n",
      "FS_L_Parstriangularis_Thck\n",
      "FS_L_Pericalcarine_Thck\n",
      "FS_L_Postcentral_Thck\n",
      "FS_L_Posteriorcingulate_Thck\n",
      "FS_L_Precentral_Thck\n",
      "FS_L_Precuneus_Thck\n",
      "FS_L_Rostralanteriorcingulate_Thck\n",
      "FS_L_Rostralmiddlefrontal_Thck\n",
      "FS_L_Superiorfrontal_Thck\n",
      "FS_L_Superiorparietal_Thck\n",
      "FS_L_Superiortemporal_Thck\n",
      "FS_L_Supramarginal_Thck\n",
      "FS_L_Frontalpole_Thck\n",
      "FS_L_Temporalpole_Thck\n",
      "FS_L_Transversetemporal_Thck\n",
      "FS_L_Insula_Thck\n",
      "FS_R_Bankssts_Thck\n",
      "FS_R_Caudalanteriorcingulate_Thck\n",
      "FS_R_Caudalmiddlefrontal_Thck\n",
      "FS_R_Cuneus_Thck\n",
      "FS_R_Entorhinal_Thck\n",
      "FS_R_Fusiform_Thck\n",
      "FS_R_Inferiorparietal_Thck\n",
      "FS_R_Inferiortemporal_Thck\n",
      "FS_R_Isthmuscingulate_Thck\n",
      "FS_R_Lateraloccipital_Thck\n",
      "FS_R_Lateralorbitofrontal_Thck\n",
      "FS_R_Lingual_Thck\n",
      "FS_R_Medialorbitofrontal_Thck\n",
      "FS_R_Middletemporal_Thck\n",
      "FS_R_Parahippocampal_Thck\n",
      "FS_R_Paracentral_Thck\n",
      "FS_R_Parsopercularis_Thck\n",
      "FS_R_Parsorbitalis_Thck\n",
      "FS_R_Parstriangularis_Thck\n",
      "FS_R_Pericalcarine_Thck\n",
      "FS_R_Postcentral_Thck\n",
      "FS_R_Posteriorcingulate_Thck\n",
      "FS_R_Precentral_Thck\n",
      "FS_R_Precuneus_Thck\n",
      "FS_R_Rostralanteriorcingulate_Thck\n",
      "FS_R_Rostralmiddlefrontal_Thck\n",
      "FS_R_Superiorfrontal_Thck\n",
      "FS_R_Superiorparietal_Thck\n",
      "FS_R_Superiortemporal_Thck\n",
      "FS_R_Supramarginal_Thck\n",
      "FS_R_Frontalpole_Thck\n",
      "FS_R_Temporalpole_Thck\n",
      "FS_R_Transversetemporal_Thck\n",
      "FS_R_Insula_Thck\n",
      "FS_L_Bankssts_Area\n",
      "FS_L_Caudalanteriorcingulate_Area\n",
      "FS_L_Caudalmiddlefrontal_Area\n",
      "FS_L_Cuneus_Area\n",
      "FS_L_Entorhinal_Area\n",
      "FS_L_Fusiform_Area\n",
      "FS_L_Inferiorparietal_Area\n",
      "FS_L_Inferiortemporal_Area\n",
      "FS_L_Isthmuscingulate_Area\n",
      "FS_L_Lateraloccipital_Area\n",
      "FS_L_Lateralorbitofrontal_Area\n",
      "FS_L_Lingual_Area\n",
      "FS_L_Medialorbitofrontal_Area\n",
      "FS_L_Middletemporal_Area\n",
      "FS_L_Parahippocampal_Area\n",
      "FS_L_Paracentral_Area\n",
      "FS_L_Parsopercularis_Area\n",
      "FS_L_Parsorbitalis_Area\n",
      "FS_L_Parstriangularis_Area\n",
      "FS_L_Pericalcarine_Area\n",
      "FS_L_Postcentral_Area\n",
      "FS_L_Posteriorcingulate_Area\n",
      "FS_L_Precentral_Area\n",
      "FS_L_Precuneus_Area\n",
      "FS_L_Rostralanteriorcingulate_Area\n",
      "FS_L_Rostralmiddlefrontal_Area\n",
      "FS_L_Superiorfrontal_Area\n",
      "FS_L_Superiorparietal_Area\n",
      "FS_L_Superiortemporal_Area\n",
      "FS_L_Supramarginal_Area\n",
      "FS_L_Frontalpole_Area\n",
      "FS_L_Temporalpole_Area\n",
      "FS_L_Transversetemporal_Area\n",
      "FS_L_Insula_Area\n",
      "FS_R_Bankssts_Area\n",
      "FS_R_Caudalanteriorcingulate_Area\n",
      "FS_R_Caudalmiddlefrontal_Area\n",
      "FS_R_Cuneus_Area\n",
      "FS_R_Entorhinal_Area\n",
      "FS_R_Fusiform_Area\n",
      "FS_R_Inferiorparietal_Area\n",
      "FS_R_Inferiortemporal_Area\n",
      "FS_R_Isthmuscingulate_Area\n",
      "FS_R_Lateraloccipital_Area\n",
      "FS_R_Lateralorbitofrontal_Area\n",
      "FS_R_Lingual_Area\n",
      "FS_R_Medialorbitofrontal_Area\n",
      "FS_R_Middletemporal_Area\n",
      "FS_R_Parahippocampal_Area\n",
      "FS_R_Paracentral_Area\n",
      "FS_R_Parsopercularis_Area\n",
      "FS_R_Parsorbitalis_Area\n",
      "FS_R_Parstriangularis_Area\n",
      "FS_R_Pericalcarine_Area\n",
      "FS_R_Postcentral_Area\n",
      "FS_R_Posteriorcingulate_Area\n",
      "FS_R_Precentral_Area\n",
      "FS_R_Precuneus_Area\n",
      "FS_R_Rostralanteriorcingulate_Area\n",
      "FS_R_Rostralmiddlefrontal_Area\n",
      "FS_R_Superiorfrontal_Area\n",
      "FS_R_Superiorparietal_Area\n",
      "FS_R_Superiortemporal_Area\n",
      "FS_R_Supramarginal_Area\n",
      "FS_R_Frontalpole_Area\n",
      "FS_R_Temporalpole_Area\n",
      "FS_R_Transversetemporal_Area\n",
      "FS_R_Insula_Area\n",
      "Emotion_Task_Acc\n",
      "Emotion_Task_Median_RT\n",
      "Emotion_Task_Face_Acc\n",
      "Emotion_Task_Face_Median_RT\n",
      "Emotion_Task_Shape_Acc\n",
      "Emotion_Task_Shape_Median_RT\n",
      "Gambling_Task_Perc_Larger\n",
      "Gambling_Task_Perc_Smaller\n",
      "Gambling_Task_Perc_NLR\n",
      "Gambling_Task_Median_RT_Larger\n",
      "Gambling_Task_Median_RT_Smaller\n",
      "Gambling_Task_Reward_Perc_Larger\n",
      "Gambling_Task_Reward_Median_RT_Larger\n",
      "Gambling_Task_Reward_Perc_Smaller\n",
      "Gambling_Task_Reward_Median_RT_Smaller\n",
      "Gambling_Task_Reward_Perc_NLR\n",
      "Gambling_Task_Punish_Perc_Larger\n",
      "Gambling_Task_Punish_Median_RT_Larger\n",
      "Gambling_Task_Punish_Perc_Smaller\n",
      "Gambling_Task_Punish_Median_RT_Smaller\n",
      "Gambling_Task_Punish_Perc_NLR\n",
      "Language_Task_Acc\n",
      "Language_Task_Median_RT\n",
      "Language_Task_Story_Acc\n",
      "Language_Task_Story_Median_RT\n",
      "Language_Task_Story_Avg_Difficulty_Level\n",
      "Language_Task_Math_Acc\n",
      "Language_Task_Math_Median_RT\n",
      "Language_Task_Math_Avg_Difficulty_Level\n",
      "Relational_Task_Acc\n",
      "Relational_Task_Median_RT\n",
      "Relational_Task_Match_Acc\n",
      "Relational_Task_Match_Median_RT\n",
      "Relational_Task_Rel_Acc\n",
      "Relational_Task_Rel_Median_RT\n",
      "Social_Task_Perc_Random\n",
      "Social_Task_Perc_TOM\n",
      "Social_Task_Perc_Unsure\n",
      "Social_Task_Perc_NLR\n",
      "Social_Task_Median_RT_Random\n",
      "Social_Task_Median_RT_TOM\n",
      "Social_Task_Median_RT_Unsure\n",
      "Social_Task_Random_Perc_Random\n",
      "Social_Task_Random_Median_RT_Random\n",
      "Social_Task_Random_Perc_TOM\n",
      "Social_Task_Random_Median_RT_TOM\n",
      "Social_Task_Random_Perc_Unsure\n",
      "Social_Task_Random_Median_RT_Unsure\n",
      "Social_Task_Random_Perc_NLR\n",
      "Social_Task_TOM_Perc_Random\n",
      "Social_Task_TOM_Median_RT_Random\n",
      "Social_Task_TOM_Perc_TOM\n",
      "Social_Task_TOM_Median_RT_TOM\n",
      "Social_Task_TOM_Perc_Unsure\n",
      "Social_Task_TOM_Median_RT_Unsure\n",
      "Social_Task_TOM_Perc_NLR\n",
      "WM_Task_Acc\n",
      "WM_Task_Median_RT\n",
      "WM_Task_2bk_Acc\n",
      "WM_Task_2bk_Median_RT\n",
      "WM_Task_0bk_Acc\n",
      "WM_Task_0bk_Median_RT\n",
      "WM_Task_0bk_Body_Acc\n",
      "WM_Task_0bk_Body_Acc_Target\n",
      "WM_Task_0bk_Body_Acc_Nontarget\n",
      "WM_Task_0bk_Face_Acc\n",
      "WM_Task_0bk_Face_Acc_Target\n",
      "WM_Task_0bk_Face_ACC_Nontarget\n",
      "WM_Task_0bk_Place_Acc\n",
      "WM_Task_0bk_Place_Acc_Target\n",
      "WM_Task_0bk_Place_Acc_Nontarget\n",
      "WM_Task_0bk_Tool_Acc\n",
      "WM_Task_0bk_Tool_Acc_Target\n",
      "WM_Task_0bk_Tool_Acc_Nontarget\n",
      "WM_Task_2bk_Body_Acc\n",
      "WM_Task_2bk_Body_Acc_Target\n",
      "WM_Task_2bk_Body_Acc_Nontarget\n",
      "WM_Task_2bk_Face_Acc\n",
      "WM_Task_2bk_Face_Acc_Target\n",
      "WM_Task_2bk_Face_Acc_Nontarget\n",
      "WM_Task_2bk_Place_Acc\n",
      "WM_Task_2bk_Place_Acc_Target\n",
      "WM_Task_2bk_Place_Acc_Nontarget\n",
      "WM_Task_2bk_Tool_Acc\n",
      "WM_Task_2bk_Tool_Acc_Target\n",
      "WM_Task_2bk_Tool_Acc_Nontarget\n",
      "WM_Task_0bk_Body_Median_RT\n",
      "WM_Task_0bk_Body_Median_RT_Target\n",
      "WM_Task_0bk_Body_Median_RT_Nontarget\n",
      "WM_Task_0bk_Face_Median_RT\n",
      "WM_Task_0bk_Face_Median_RT_Target\n",
      "WM_Task_0bk_Face_Median_RT_Nontarget\n",
      "WM_Task_0bk_Place_Median_RT\n",
      "WM_Task_0bk_Place_Median_RT_Target\n",
      "WM_Task_0bk_Place_Median_RT_Nontarget\n",
      "WM_Task_0bk_Tool_Median_RT\n",
      "WM_Task_0bk_Tool_Median_RT_Target\n",
      "WM_Task_0bk_Tool_Median_RT_Nontarget\n",
      "WM_Task_2bk_Body_Median_RT\n",
      "WM_Task_2bk_Body_Median_RT_Target\n",
      "WM_Task_2bk_Body_Median_RT_Nontarget\n",
      "WM_Task_2bk_Face_Median_RT\n",
      "WM_Task_2bk_Face_Median_RT_Target\n",
      "WM_Task_2bk_Face_Median_RT_Nontarget\n",
      "WM_Task_2bk_Place_Median_RT\n",
      "WM_Task_2bk_Place_Median_RT_Target\n",
      "WM_Task_2bk_Place_Median_RT_Nontarget\n",
      "WM_Task_2bk_Tool_Median_RT\n",
      "WM_Task_2bk_Tool_Median_RT_Target\n",
      "WM_Task_2bk_Tool_Median_RT_Nontarget\n",
      "Endurance_Unadj\n",
      "Endurance_AgeAdj\n",
      "GaitSpeed_Comp\n",
      "Dexterity_Unadj\n",
      "Dexterity_AgeAdj\n",
      "Strength_Unadj\n",
      "Strength_AgeAdj\n",
      "NEOFAC_A\n",
      "NEOFAC_O\n",
      "NEOFAC_C\n",
      "NEOFAC_N\n",
      "NEOFAC_E\n",
      "NEORAW_01\n",
      "NEORAW_02\n",
      "NEORAW_03\n",
      "NEORAW_04\n",
      "NEORAW_05\n",
      "NEORAW_06\n",
      "NEORAW_07\n",
      "NEORAW_08\n",
      "NEORAW_09\n",
      "NEORAW_10\n",
      "NEORAW_11\n",
      "NEORAW_12\n",
      "NEORAW_13\n",
      "NEORAW_14\n",
      "NEORAW_15\n",
      "NEORAW_16\n",
      "NEORAW_17\n",
      "NEORAW_18\n",
      "NEORAW_19\n",
      "NEORAW_20\n",
      "NEORAW_21\n",
      "NEORAW_22\n",
      "NEORAW_23\n",
      "NEORAW_24\n",
      "NEORAW_25\n",
      "NEORAW_26\n",
      "NEORAW_27\n",
      "NEORAW_28\n",
      "NEORAW_29\n",
      "NEORAW_30\n",
      "NEORAW_31\n",
      "NEORAW_32\n",
      "NEORAW_33\n",
      "NEORAW_34\n",
      "NEORAW_35\n",
      "NEORAW_36\n",
      "NEORAW_37\n",
      "NEORAW_38\n",
      "NEORAW_39\n",
      "NEORAW_40\n",
      "NEORAW_41\n",
      "NEORAW_42\n",
      "NEORAW_43\n",
      "NEORAW_44\n",
      "NEORAW_45\n",
      "NEORAW_46\n",
      "NEORAW_47\n",
      "NEORAW_48\n",
      "NEORAW_49\n",
      "NEORAW_50\n",
      "NEORAW_51\n",
      "NEORAW_52\n",
      "NEORAW_53\n",
      "NEORAW_54\n",
      "NEORAW_55\n",
      "NEORAW_56\n",
      "NEORAW_57\n",
      "NEORAW_58\n",
      "NEORAW_59\n",
      "NEORAW_60\n",
      "Noise_Comp\n",
      "Odor_Unadj\n",
      "Odor_AgeAdj\n",
      "PainIntens_RawScore\n",
      "PainInterf_Tscore\n",
      "Taste_Unadj\n",
      "Taste_AgeAdj\n",
      "Mars_Log_Score\n",
      "Mars_Errs\n",
      "Mars_Final\n"
     ]
    }
   ],
   "source": [
    "for col in behav.columns: print(col)"
   ]
  },
  {
   "cell_type": "markdown",
   "metadata": {},
   "source": [
    "We select only those who has completed all scanning sessions. We will use these indices to select the relevant matrices later."
   ]
  },
  {
   "cell_type": "code",
   "execution_count": 10,
   "metadata": {},
   "outputs": [],
   "source": [
    "ids = pd.read_csv('data/subjectIDs_recon2.txt', names=['Subject'])"
   ]
  },
  {
   "cell_type": "code",
   "execution_count": 11,
   "metadata": {},
   "outputs": [
    {
     "name": "stdout",
     "output_type": "stream",
     "text": [
      "(812, 1)\n"
     ]
    },
    {
     "data": {
      "text/html": [
       "<div>\n",
       "<style scoped>\n",
       "    .dataframe tbody tr th:only-of-type {\n",
       "        vertical-align: middle;\n",
       "    }\n",
       "\n",
       "    .dataframe tbody tr th {\n",
       "        vertical-align: top;\n",
       "    }\n",
       "\n",
       "    .dataframe thead th {\n",
       "        text-align: right;\n",
       "    }\n",
       "</style>\n",
       "<table border=\"1\" class=\"dataframe\">\n",
       "  <thead>\n",
       "    <tr style=\"text-align: right;\">\n",
       "      <th></th>\n",
       "      <th>Subject</th>\n",
       "    </tr>\n",
       "  </thead>\n",
       "  <tbody>\n",
       "    <tr>\n",
       "      <th>0</th>\n",
       "      <td>100206</td>\n",
       "    </tr>\n",
       "    <tr>\n",
       "      <th>1</th>\n",
       "      <td>100610</td>\n",
       "    </tr>\n",
       "    <tr>\n",
       "      <th>2</th>\n",
       "      <td>101006</td>\n",
       "    </tr>\n",
       "    <tr>\n",
       "      <th>3</th>\n",
       "      <td>101107</td>\n",
       "    </tr>\n",
       "    <tr>\n",
       "      <th>4</th>\n",
       "      <td>101309</td>\n",
       "    </tr>\n",
       "  </tbody>\n",
       "</table>\n",
       "</div>"
      ],
      "text/plain": [
       "   Subject\n",
       "0   100206\n",
       "1   100610\n",
       "2   101006\n",
       "3   101107\n",
       "4   101309"
      ]
     },
     "execution_count": 11,
     "metadata": {},
     "output_type": "execute_result"
    }
   ],
   "source": [
    "print(ids.shape)\n",
    "ids.head()"
   ]
  },
  {
   "cell_type": "code",
   "execution_count": 15,
   "metadata": {},
   "outputs": [
    {
     "name": "stdout",
     "output_type": "stream",
     "text": [
      "(1206, 582)\n"
     ]
    },
    {
     "data": {
      "text/html": [
       "<div>\n",
       "<style scoped>\n",
       "    .dataframe tbody tr th:only-of-type {\n",
       "        vertical-align: middle;\n",
       "    }\n",
       "\n",
       "    .dataframe tbody tr th {\n",
       "        vertical-align: top;\n",
       "    }\n",
       "\n",
       "    .dataframe thead th {\n",
       "        text-align: right;\n",
       "    }\n",
       "</style>\n",
       "<table border=\"1\" class=\"dataframe\">\n",
       "  <thead>\n",
       "    <tr style=\"text-align: right;\">\n",
       "      <th></th>\n",
       "      <th>Subject</th>\n",
       "      <th>Release</th>\n",
       "      <th>Acquisition</th>\n",
       "      <th>Gender</th>\n",
       "      <th>Age</th>\n",
       "      <th>3T_Full_MR_Compl</th>\n",
       "      <th>T1_Count</th>\n",
       "      <th>T2_Count</th>\n",
       "      <th>3T_RS-fMRI_Count</th>\n",
       "      <th>3T_RS-fMRI_PctCompl</th>\n",
       "      <th>...</th>\n",
       "      <th>Noise_Comp</th>\n",
       "      <th>Odor_Unadj</th>\n",
       "      <th>Odor_AgeAdj</th>\n",
       "      <th>PainIntens_RawScore</th>\n",
       "      <th>PainInterf_Tscore</th>\n",
       "      <th>Taste_Unadj</th>\n",
       "      <th>Taste_AgeAdj</th>\n",
       "      <th>Mars_Log_Score</th>\n",
       "      <th>Mars_Errs</th>\n",
       "      <th>Mars_Final</th>\n",
       "    </tr>\n",
       "  </thead>\n",
       "  <tbody>\n",
       "    <tr>\n",
       "      <th>0</th>\n",
       "      <td>100004</td>\n",
       "      <td>S900</td>\n",
       "      <td>Q06</td>\n",
       "      <td>M</td>\n",
       "      <td>22-25</td>\n",
       "      <td>False</td>\n",
       "      <td>0</td>\n",
       "      <td>0</td>\n",
       "      <td>0</td>\n",
       "      <td>0.0</td>\n",
       "      <td>...</td>\n",
       "      <td>5.2</td>\n",
       "      <td>101.12</td>\n",
       "      <td>86.45</td>\n",
       "      <td>2.0</td>\n",
       "      <td>45.9</td>\n",
       "      <td>107.17</td>\n",
       "      <td>105.31</td>\n",
       "      <td>1.80</td>\n",
       "      <td>0.0</td>\n",
       "      <td>1.80</td>\n",
       "    </tr>\n",
       "    <tr>\n",
       "      <th>1</th>\n",
       "      <td>100206</td>\n",
       "      <td>S900</td>\n",
       "      <td>Q11</td>\n",
       "      <td>M</td>\n",
       "      <td>26-30</td>\n",
       "      <td>True</td>\n",
       "      <td>1</td>\n",
       "      <td>1</td>\n",
       "      <td>4</td>\n",
       "      <td>100.0</td>\n",
       "      <td>...</td>\n",
       "      <td>6.0</td>\n",
       "      <td>108.79</td>\n",
       "      <td>97.19</td>\n",
       "      <td>1.0</td>\n",
       "      <td>49.7</td>\n",
       "      <td>72.63</td>\n",
       "      <td>72.03</td>\n",
       "      <td>1.84</td>\n",
       "      <td>0.0</td>\n",
       "      <td>1.84</td>\n",
       "    </tr>\n",
       "    <tr>\n",
       "      <th>2</th>\n",
       "      <td>100307</td>\n",
       "      <td>Q1</td>\n",
       "      <td>Q01</td>\n",
       "      <td>F</td>\n",
       "      <td>26-30</td>\n",
       "      <td>True</td>\n",
       "      <td>1</td>\n",
       "      <td>1</td>\n",
       "      <td>4</td>\n",
       "      <td>100.0</td>\n",
       "      <td>...</td>\n",
       "      <td>3.6</td>\n",
       "      <td>101.12</td>\n",
       "      <td>86.45</td>\n",
       "      <td>0.0</td>\n",
       "      <td>38.6</td>\n",
       "      <td>71.69</td>\n",
       "      <td>71.76</td>\n",
       "      <td>1.76</td>\n",
       "      <td>0.0</td>\n",
       "      <td>1.76</td>\n",
       "    </tr>\n",
       "    <tr>\n",
       "      <th>3</th>\n",
       "      <td>100408</td>\n",
       "      <td>Q3</td>\n",
       "      <td>Q03</td>\n",
       "      <td>M</td>\n",
       "      <td>31-35</td>\n",
       "      <td>True</td>\n",
       "      <td>1</td>\n",
       "      <td>1</td>\n",
       "      <td>4</td>\n",
       "      <td>100.0</td>\n",
       "      <td>...</td>\n",
       "      <td>2.0</td>\n",
       "      <td>108.79</td>\n",
       "      <td>98.04</td>\n",
       "      <td>2.0</td>\n",
       "      <td>52.6</td>\n",
       "      <td>114.01</td>\n",
       "      <td>113.59</td>\n",
       "      <td>1.76</td>\n",
       "      <td>2.0</td>\n",
       "      <td>1.68</td>\n",
       "    </tr>\n",
       "    <tr>\n",
       "      <th>4</th>\n",
       "      <td>100610</td>\n",
       "      <td>S900</td>\n",
       "      <td>Q08</td>\n",
       "      <td>M</td>\n",
       "      <td>26-30</td>\n",
       "      <td>True</td>\n",
       "      <td>2</td>\n",
       "      <td>1</td>\n",
       "      <td>4</td>\n",
       "      <td>100.0</td>\n",
       "      <td>...</td>\n",
       "      <td>2.0</td>\n",
       "      <td>122.25</td>\n",
       "      <td>110.45</td>\n",
       "      <td>0.0</td>\n",
       "      <td>38.6</td>\n",
       "      <td>84.84</td>\n",
       "      <td>85.31</td>\n",
       "      <td>1.92</td>\n",
       "      <td>1.0</td>\n",
       "      <td>1.88</td>\n",
       "    </tr>\n",
       "  </tbody>\n",
       "</table>\n",
       "<p>5 rows × 582 columns</p>\n",
       "</div>"
      ],
      "text/plain": [
       "   Subject Release Acquisition Gender    Age  3T_Full_MR_Compl  T1_Count  \\\n",
       "0   100004    S900         Q06      M  22-25             False         0   \n",
       "1   100206    S900         Q11      M  26-30              True         1   \n",
       "2   100307      Q1         Q01      F  26-30              True         1   \n",
       "3   100408      Q3         Q03      M  31-35              True         1   \n",
       "4   100610    S900         Q08      M  26-30              True         2   \n",
       "\n",
       "   T2_Count  3T_RS-fMRI_Count  3T_RS-fMRI_PctCompl  ...  Noise_Comp  \\\n",
       "0         0                 0                  0.0  ...         5.2   \n",
       "1         1                 4                100.0  ...         6.0   \n",
       "2         1                 4                100.0  ...         3.6   \n",
       "3         1                 4                100.0  ...         2.0   \n",
       "4         1                 4                100.0  ...         2.0   \n",
       "\n",
       "   Odor_Unadj  Odor_AgeAdj  PainIntens_RawScore  PainInterf_Tscore  \\\n",
       "0      101.12        86.45                  2.0               45.9   \n",
       "1      108.79        97.19                  1.0               49.7   \n",
       "2      101.12        86.45                  0.0               38.6   \n",
       "3      108.79        98.04                  2.0               52.6   \n",
       "4      122.25       110.45                  0.0               38.6   \n",
       "\n",
       "   Taste_Unadj  Taste_AgeAdj  Mars_Log_Score  Mars_Errs  Mars_Final  \n",
       "0       107.17        105.31            1.80        0.0        1.80  \n",
       "1        72.63         72.03            1.84        0.0        1.84  \n",
       "2        71.69         71.76            1.76        0.0        1.76  \n",
       "3       114.01        113.59            1.76        2.0        1.68  \n",
       "4        84.84         85.31            1.92        1.0        1.88  \n",
       "\n",
       "[5 rows x 582 columns]"
      ]
     },
     "execution_count": 15,
     "metadata": {},
     "output_type": "execute_result"
    }
   ],
   "source": [
    "print(behav.shape)\n",
    "behav.head()"
   ]
  },
  {
   "cell_type": "markdown",
   "metadata": {},
   "source": [
    "#### Exercise 1. Merge the dataframes on the `Subject` column, call the new dataframe `merged`.\n",
    "This effectively selects only the 812 subjects from which we have data"
   ]
  },
  {
   "cell_type": "code",
   "execution_count": 16,
   "metadata": {},
   "outputs": [],
   "source": [
    "# %load solutions/ex5_1.py\n",
    "merged = pd.merge(ids, behav, on='Subject')"
   ]
  },
  {
   "cell_type": "code",
   "execution_count": 17,
   "metadata": {},
   "outputs": [
    {
     "name": "stdout",
     "output_type": "stream",
     "text": [
      "(812, 582)\n"
     ]
    },
    {
     "data": {
      "text/html": [
       "<div>\n",
       "<style scoped>\n",
       "    .dataframe tbody tr th:only-of-type {\n",
       "        vertical-align: middle;\n",
       "    }\n",
       "\n",
       "    .dataframe tbody tr th {\n",
       "        vertical-align: top;\n",
       "    }\n",
       "\n",
       "    .dataframe thead th {\n",
       "        text-align: right;\n",
       "    }\n",
       "</style>\n",
       "<table border=\"1\" class=\"dataframe\">\n",
       "  <thead>\n",
       "    <tr style=\"text-align: right;\">\n",
       "      <th></th>\n",
       "      <th>Subject</th>\n",
       "      <th>Release</th>\n",
       "      <th>Acquisition</th>\n",
       "      <th>Gender</th>\n",
       "      <th>Age</th>\n",
       "      <th>3T_Full_MR_Compl</th>\n",
       "      <th>T1_Count</th>\n",
       "      <th>T2_Count</th>\n",
       "      <th>3T_RS-fMRI_Count</th>\n",
       "      <th>3T_RS-fMRI_PctCompl</th>\n",
       "      <th>...</th>\n",
       "      <th>Noise_Comp</th>\n",
       "      <th>Odor_Unadj</th>\n",
       "      <th>Odor_AgeAdj</th>\n",
       "      <th>PainIntens_RawScore</th>\n",
       "      <th>PainInterf_Tscore</th>\n",
       "      <th>Taste_Unadj</th>\n",
       "      <th>Taste_AgeAdj</th>\n",
       "      <th>Mars_Log_Score</th>\n",
       "      <th>Mars_Errs</th>\n",
       "      <th>Mars_Final</th>\n",
       "    </tr>\n",
       "  </thead>\n",
       "  <tbody>\n",
       "    <tr>\n",
       "      <th>0</th>\n",
       "      <td>100206</td>\n",
       "      <td>S900</td>\n",
       "      <td>Q11</td>\n",
       "      <td>M</td>\n",
       "      <td>26-30</td>\n",
       "      <td>True</td>\n",
       "      <td>1</td>\n",
       "      <td>1</td>\n",
       "      <td>4</td>\n",
       "      <td>100.0</td>\n",
       "      <td>...</td>\n",
       "      <td>6.0</td>\n",
       "      <td>108.79</td>\n",
       "      <td>97.19</td>\n",
       "      <td>1.0</td>\n",
       "      <td>49.7</td>\n",
       "      <td>72.63</td>\n",
       "      <td>72.03</td>\n",
       "      <td>1.84</td>\n",
       "      <td>0.0</td>\n",
       "      <td>1.84</td>\n",
       "    </tr>\n",
       "    <tr>\n",
       "      <th>1</th>\n",
       "      <td>100610</td>\n",
       "      <td>S900</td>\n",
       "      <td>Q08</td>\n",
       "      <td>M</td>\n",
       "      <td>26-30</td>\n",
       "      <td>True</td>\n",
       "      <td>2</td>\n",
       "      <td>1</td>\n",
       "      <td>4</td>\n",
       "      <td>100.0</td>\n",
       "      <td>...</td>\n",
       "      <td>2.0</td>\n",
       "      <td>122.25</td>\n",
       "      <td>110.45</td>\n",
       "      <td>0.0</td>\n",
       "      <td>38.6</td>\n",
       "      <td>84.84</td>\n",
       "      <td>85.31</td>\n",
       "      <td>1.92</td>\n",
       "      <td>1.0</td>\n",
       "      <td>1.88</td>\n",
       "    </tr>\n",
       "    <tr>\n",
       "      <th>2</th>\n",
       "      <td>101006</td>\n",
       "      <td>S500</td>\n",
       "      <td>Q06</td>\n",
       "      <td>F</td>\n",
       "      <td>31-35</td>\n",
       "      <td>True</td>\n",
       "      <td>2</td>\n",
       "      <td>2</td>\n",
       "      <td>4</td>\n",
       "      <td>100.0</td>\n",
       "      <td>...</td>\n",
       "      <td>6.0</td>\n",
       "      <td>122.25</td>\n",
       "      <td>111.41</td>\n",
       "      <td>0.0</td>\n",
       "      <td>38.6</td>\n",
       "      <td>123.80</td>\n",
       "      <td>123.31</td>\n",
       "      <td>1.80</td>\n",
       "      <td>0.0</td>\n",
       "      <td>1.80</td>\n",
       "    </tr>\n",
       "    <tr>\n",
       "      <th>3</th>\n",
       "      <td>101107</td>\n",
       "      <td>S500</td>\n",
       "      <td>Q06</td>\n",
       "      <td>M</td>\n",
       "      <td>22-25</td>\n",
       "      <td>True</td>\n",
       "      <td>2</td>\n",
       "      <td>2</td>\n",
       "      <td>4</td>\n",
       "      <td>100.0</td>\n",
       "      <td>...</td>\n",
       "      <td>6.8</td>\n",
       "      <td>108.79</td>\n",
       "      <td>97.19</td>\n",
       "      <td>1.0</td>\n",
       "      <td>50.1</td>\n",
       "      <td>134.65</td>\n",
       "      <td>131.38</td>\n",
       "      <td>1.84</td>\n",
       "      <td>0.0</td>\n",
       "      <td>1.84</td>\n",
       "    </tr>\n",
       "    <tr>\n",
       "      <th>4</th>\n",
       "      <td>101309</td>\n",
       "      <td>S500</td>\n",
       "      <td>Q06</td>\n",
       "      <td>M</td>\n",
       "      <td>26-30</td>\n",
       "      <td>True</td>\n",
       "      <td>1</td>\n",
       "      <td>1</td>\n",
       "      <td>4</td>\n",
       "      <td>100.0</td>\n",
       "      <td>...</td>\n",
       "      <td>5.2</td>\n",
       "      <td>122.25</td>\n",
       "      <td>110.45</td>\n",
       "      <td>0.0</td>\n",
       "      <td>38.6</td>\n",
       "      <td>106.39</td>\n",
       "      <td>104.39</td>\n",
       "      <td>1.80</td>\n",
       "      <td>0.0</td>\n",
       "      <td>1.80</td>\n",
       "    </tr>\n",
       "  </tbody>\n",
       "</table>\n",
       "<p>5 rows × 582 columns</p>\n",
       "</div>"
      ],
      "text/plain": [
       "   Subject Release Acquisition Gender    Age  3T_Full_MR_Compl  T1_Count  \\\n",
       "0   100206    S900         Q11      M  26-30              True         1   \n",
       "1   100610    S900         Q08      M  26-30              True         2   \n",
       "2   101006    S500         Q06      F  31-35              True         2   \n",
       "3   101107    S500         Q06      M  22-25              True         2   \n",
       "4   101309    S500         Q06      M  26-30              True         1   \n",
       "\n",
       "   T2_Count  3T_RS-fMRI_Count  3T_RS-fMRI_PctCompl  ...  Noise_Comp  \\\n",
       "0         1                 4                100.0  ...         6.0   \n",
       "1         1                 4                100.0  ...         2.0   \n",
       "2         2                 4                100.0  ...         6.0   \n",
       "3         2                 4                100.0  ...         6.8   \n",
       "4         1                 4                100.0  ...         5.2   \n",
       "\n",
       "   Odor_Unadj  Odor_AgeAdj  PainIntens_RawScore  PainInterf_Tscore  \\\n",
       "0      108.79        97.19                  1.0               49.7   \n",
       "1      122.25       110.45                  0.0               38.6   \n",
       "2      122.25       111.41                  0.0               38.6   \n",
       "3      108.79        97.19                  1.0               50.1   \n",
       "4      122.25       110.45                  0.0               38.6   \n",
       "\n",
       "   Taste_Unadj  Taste_AgeAdj  Mars_Log_Score  Mars_Errs  Mars_Final  \n",
       "0        72.63         72.03            1.84        0.0        1.84  \n",
       "1        84.84         85.31            1.92        1.0        1.88  \n",
       "2       123.80        123.31            1.80        0.0        1.80  \n",
       "3       134.65        131.38            1.84        0.0        1.84  \n",
       "4       106.39        104.39            1.80        0.0        1.80  \n",
       "\n",
       "[5 rows x 582 columns]"
      ]
     },
     "execution_count": 17,
     "metadata": {},
     "output_type": "execute_result"
    }
   ],
   "source": [
    "print(merged.shape)\n",
    "merged.head()"
   ]
  },
  {
   "cell_type": "markdown",
   "metadata": {},
   "source": [
    "# load the network matrices"
   ]
  },
  {
   "cell_type": "code",
   "execution_count": 21,
   "metadata": {},
   "outputs": [],
   "source": [
    "netmats = np.loadtxt('data/ICA_d100_netmats.txt')"
   ]
  },
  {
   "cell_type": "code",
   "execution_count": 22,
   "metadata": {},
   "outputs": [
    {
     "data": {
      "text/plain": [
       "(812, 10000)"
      ]
     },
     "execution_count": 22,
     "metadata": {},
     "output_type": "execute_result"
    }
   ],
   "source": [
    "netmats.shape # each row is a flattened adjacency matrix."
   ]
  },
  {
   "cell_type": "markdown",
   "metadata": {},
   "source": [
    "Rescale the data to 0 mean and 1 variance"
   ]
  },
  {
   "cell_type": "code",
   "execution_count": 23,
   "metadata": {},
   "outputs": [],
   "source": [
    "scaler = StandardScaler()\n",
    "netmats = scaler.fit_transform(netmats)"
   ]
  },
  {
   "cell_type": "markdown",
   "metadata": {},
   "source": [
    "#### Exercise 2. \"Resquare\" the flattened matrices.\n",
    "i.e. we want 812 100x100 matrices"
   ]
  },
  {
   "cell_type": "code",
   "execution_count": 24,
   "metadata": {},
   "outputs": [
    {
     "name": "stdout",
     "output_type": "stream",
     "text": [
      "100\n"
     ]
    }
   ],
   "source": [
    "# %load solutions/ex5_2.py\n",
    "d = np.sqrt(netmats.shape[1]).astype(np.int)\n",
    "print(d)\n",
    "netmats = netmats.reshape(netmats.shape[0], d,d)"
   ]
  },
  {
   "cell_type": "code",
   "execution_count": 25,
   "metadata": {},
   "outputs": [
    {
     "name": "stdout",
     "output_type": "stream",
     "text": [
      "(812, 100, 100)\n"
     ]
    },
    {
     "data": {
      "text/plain": [
       "<matplotlib.image.AxesImage at 0x23b216f5888>"
      ]
     },
     "execution_count": 25,
     "metadata": {},
     "output_type": "execute_result"
    },
    {
     "data": {
      "image/png": "[encoded data removed]",
      "text/plain": [
       "<Figure size 504x360 with 2 Axes>"
      ]
     },
     "metadata": {
      "needs_background": "light"
     },
     "output_type": "display_data"
    }
   ],
   "source": [
    "print(netmats.shape)\n",
    "plot_matrix(netmats[60])"
   ]
  },
  {
   "cell_type": "markdown",
   "metadata": {},
   "source": [
    "#### Exercise 3: Remove uninteresting covariates (make a new df containing only subject ID and gender).\n",
    "We will stick to gender for the sake of simplicity"
   ]
  },
  {
   "cell_type": "code",
   "execution_count": 26,
   "metadata": {},
   "outputs": [],
   "source": [
    "# %load solutions/ex5_3.py\n",
    "merged = merged.loc[:,['Subject','Gender']]"
   ]
  },
  {
   "cell_type": "code",
   "execution_count": 27,
   "metadata": {},
   "outputs": [
    {
     "data": {
      "text/html": [
       "<div>\n",
       "<style scoped>\n",
       "    .dataframe tbody tr th:only-of-type {\n",
       "        vertical-align: middle;\n",
       "    }\n",
       "\n",
       "    .dataframe tbody tr th {\n",
       "        vertical-align: top;\n",
       "    }\n",
       "\n",
       "    .dataframe thead th {\n",
       "        text-align: right;\n",
       "    }\n",
       "</style>\n",
       "<table border=\"1\" class=\"dataframe\">\n",
       "  <thead>\n",
       "    <tr style=\"text-align: right;\">\n",
       "      <th></th>\n",
       "      <th>Subject</th>\n",
       "      <th>Gender</th>\n",
       "    </tr>\n",
       "  </thead>\n",
       "  <tbody>\n",
       "    <tr>\n",
       "      <th>0</th>\n",
       "      <td>100206</td>\n",
       "      <td>M</td>\n",
       "    </tr>\n",
       "    <tr>\n",
       "      <th>1</th>\n",
       "      <td>100610</td>\n",
       "      <td>M</td>\n",
       "    </tr>\n",
       "    <tr>\n",
       "      <th>2</th>\n",
       "      <td>101006</td>\n",
       "      <td>F</td>\n",
       "    </tr>\n",
       "    <tr>\n",
       "      <th>3</th>\n",
       "      <td>101107</td>\n",
       "      <td>M</td>\n",
       "    </tr>\n",
       "    <tr>\n",
       "      <th>4</th>\n",
       "      <td>101309</td>\n",
       "      <td>M</td>\n",
       "    </tr>\n",
       "  </tbody>\n",
       "</table>\n",
       "</div>"
      ],
      "text/plain": [
       "   Subject Gender\n",
       "0   100206      M\n",
       "1   100610      M\n",
       "2   101006      F\n",
       "3   101107      M\n",
       "4   101309      M"
      ]
     },
     "execution_count": 27,
     "metadata": {},
     "output_type": "execute_result"
    }
   ],
   "source": [
    "merged.head()"
   ]
  },
  {
   "cell_type": "code",
   "execution_count": 28,
   "metadata": {},
   "outputs": [
    {
     "data": {
      "text/plain": [
       "(812, 2)"
      ]
     },
     "execution_count": 28,
     "metadata": {},
     "output_type": "execute_result"
    }
   ],
   "source": [
    "merged.shape"
   ]
  },
  {
   "cell_type": "code",
   "execution_count": 29,
   "metadata": {},
   "outputs": [
    {
     "data": {
      "text/plain": [
       "(812, 100, 100)"
      ]
     },
     "execution_count": 29,
     "metadata": {},
     "output_type": "execute_result"
    }
   ],
   "source": [
    "netmats.shape"
   ]
  },
  {
   "cell_type": "markdown",
   "metadata": {},
   "source": [
    "#### Exercise 4. NAN values in dataframes are common and can cause trouble. Verify that there are no NANs in `merged`."
   ]
  },
  {
   "cell_type": "code",
   "execution_count": 32,
   "metadata": {},
   "outputs": [
    {
     "data": {
      "text/plain": [
       "False"
      ]
     },
     "execution_count": 32,
     "metadata": {},
     "output_type": "execute_result"
    }
   ],
   "source": [
    "# %load solutions/ex5_4.py\n",
    "# any NaNs?\n",
    "np.any(merged.isna())"
   ]
  },
  {
   "cell_type": "markdown",
   "metadata": {},
   "source": [
    "#### Exercise 5. Divide the data into two subdatasets (male and female)"
   ]
  },
  {
   "cell_type": "code",
   "execution_count": 35,
   "metadata": {},
   "outputs": [
    {
     "data": {
      "text/plain": [
       "0      M\n",
       "1      M\n",
       "2      F\n",
       "3      M\n",
       "4      M\n",
       "      ..\n",
       "807    M\n",
       "808    F\n",
       "809    F\n",
       "810    M\n",
       "811    F\n",
       "Name: Gender, Length: 812, dtype: object"
      ]
     },
     "execution_count": 35,
     "metadata": {},
     "output_type": "execute_result"
    }
   ],
   "source": [
    "merged.Gender"
   ]
  },
  {
   "cell_type": "code",
   "execution_count": 36,
   "metadata": {},
   "outputs": [],
   "source": [
    "female = netmats[merged.Gender=='F'].T \n",
    "male = netmats[merged.Gender=='M'].T"
   ]
  },
  {
   "cell_type": "code",
   "execution_count": 40,
   "metadata": {},
   "outputs": [
    {
     "name": "stdout",
     "output_type": "stream",
     "text": [
      "M:  (100, 100, 402) \n",
      "F:  (100, 100, 410)\n"
     ]
    }
   ],
   "source": [
    "print('M: ', male.shape, '\\nF: ', female.shape)"
   ]
  },
  {
   "cell_type": "markdown",
   "metadata": {},
   "source": [
    "#### Exercise 6. Problem: must have equally many subjects in each group. Remove enough subjects from one group until they are equal in numbers."
   ]
  },
  {
   "cell_type": "code",
   "execution_count": 41,
   "metadata": {},
   "outputs": [],
   "source": [
    "# %load solutions/ex5_6.py\n",
    "# must be equal size\n",
    "female = female[:,:,:male.shape[-1]]"
   ]
  },
  {
   "cell_type": "code",
   "execution_count": 42,
   "metadata": {},
   "outputs": [
    {
     "name": "stdout",
     "output_type": "stream",
     "text": [
      "M:  (100, 100, 402) \n",
      "F:  (100, 100, 402)\n"
     ]
    },
    {
     "data": {
      "text/plain": [
       "True"
      ]
     },
     "execution_count": 42,
     "metadata": {},
     "output_type": "execute_result"
    }
   ],
   "source": [
    "print('M: ', male.shape, '\\nF: ', female.shape)\n",
    "male.shape == female.shape"
   ]
  },
  {
   "cell_type": "markdown",
   "metadata": {},
   "source": [
    "### Perform NBS (warning: will take some minutes)"
   ]
  },
  {
   "cell_type": "code",
   "execution_count": 43,
   "metadata": {},
   "outputs": [
    {
     "data": {
      "text/plain": [
       "(402, 100, 100)"
      ]
     },
     "execution_count": 43,
     "metadata": {},
     "output_type": "execute_result"
    }
   ],
   "source": [
    "male.T.shape"
   ]
  },
  {
   "cell_type": "code",
   "execution_count": 46,
   "metadata": {
    "scrolled": false
   },
   "outputs": [
    {
     "name": "stdout",
     "output_type": "stream",
     "text": [
      "max component size is 3876\n",
      "estimating null distribution with 1000 permutations\n",
      "permutation 0 of 1000.  p-value so far is 0.000\n",
      "permutation 100 of 1000.  p-value so far is 0.000\n",
      "permutation 200 of 1000.  p-value so far is 0.000\n",
      "permutation 300 of 1000.  p-value so far is 0.000\n",
      "permutation 400 of 1000.  p-value so far is 0.000\n",
      "permutation 500 of 1000.  p-value so far is 0.000\n",
      "permutation 600 of 1000.  p-value so far is 0.000\n",
      "permutation 700 of 1000.  p-value so far is 0.000\n",
      "permutation 800 of 1000.  p-value so far is 0.000\n",
      "permutation 900 of 1000.  p-value so far is 0.000\n",
      "permutation 999 of 1000.  p-value so far is 0.000\n"
     ]
    },
    {
     "data": {
      "image/png": "[encoded data removed]",
      "text/plain": [
       "<Figure size 432x288 with 1 Axes>"
      ]
     },
     "metadata": {
      "needs_background": "light"
     },
     "output_type": "display_data"
    }
   ],
   "source": [
    "# after correcting\n",
    "pval, adj, null = do_nbs(male, female, kappa=0.8)"
   ]
  },
  {
   "cell_type": "code",
   "execution_count": 172,
   "metadata": {},
   "outputs": [],
   "source": [
    "# read from the print-out above\n",
    "max_comp_sz = 3876"
   ]
  },
  {
   "cell_type": "code",
   "execution_count": 174,
   "metadata": {},
   "outputs": [
    {
     "data": {
      "text/plain": [
       "<matplotlib.lines.Line2D at 0x16b64047748>"
      ]
     },
     "execution_count": 174,
     "metadata": {},
     "output_type": "execute_result"
    },
    {
     "data": {
      "image/png": "[encoded data removed]",
      "text/plain": [
       "<Figure size 432x288 with 1 Axes>"
      ]
     },
     "metadata": {
      "needs_background": "light"
     },
     "output_type": "display_data"
    }
   ],
   "source": [
    "plt.hist(null, bins=50)\n",
    "plt.axvline(max_comp_sz, c='r')"
   ]
  },
  {
   "cell_type": "markdown",
   "metadata": {},
   "source": [
    "### Intrepretation\n",
    "Exact p-values are inaccurate in permutation tests when very small, so we can increase the number of permutations (and append to the null distribution above) if you want a more precise estimate. However, from the results we can say that the p-value at least is < 0.001 (it might be much lower, but we only did 1000 permutations). It should also be specified that the p-value for any statistical test is not concerned with the magnitude of the difference, but rather a measure of the certainty of whether there *is* a difference at all, irrespective of its size. We used a large dataset (N=400), so discovering a difference was not surprising."
   ]
  },
  {
   "cell_type": "markdown",
   "metadata": {},
   "source": [
    "The identified difference is not pertained to a single locus but is based on a subnetwork of edges in the connectome, specifically:"
   ]
  },
  {
   "cell_type": "code",
   "execution_count": 197,
   "metadata": {
    "scrolled": true
   },
   "outputs": [
    {
     "data": {
      "text/plain": [
       "<matplotlib.image.AxesImage at 0x16b66d26788>"
      ]
     },
     "execution_count": 197,
     "metadata": {},
     "output_type": "execute_result"
    },
    {
     "data": {
      "image/png": "[encoded data removed]",
      "text/plain": [
       "<Figure size 432x288 with 1 Axes>"
      ]
     },
     "metadata": {
      "needs_background": "light"
     },
     "output_type": "display_data"
    }
   ],
   "source": [
    "plt.imshow(adj, cmap='gray')"
   ]
  },
  {
   "cell_type": "markdown",
   "metadata": {},
   "source": [
    "For those interested, one could download the cortical maps corresponding to the 100 regions from https://db.humanconnectome.org/, and plot the edges in question. However, the image above shows that the edges (white) cover the majority (80%) of the edges."
   ]
  },
  {
   "cell_type": "code",
   "execution_count": 200,
   "metadata": {},
   "outputs": [
    {
     "name": "stdout",
     "output_type": "stream",
     "text": [
      "Graph density:\n"
     ]
    },
    {
     "data": {
      "text/plain": [
       "(0.7830303030303031, 100, 3876)"
      ]
     },
     "execution_count": 200,
     "metadata": {},
     "output_type": "execute_result"
    }
   ],
   "source": [
    "print('Graph density:')\n",
    "bct.density_und(adj)"
   ]
  },
  {
   "cell_type": "code",
   "execution_count": 208,
   "metadata": {
    "scrolled": true
   },
   "outputs": [
    {
     "data": {
      "text/plain": [
       "0.7830303030303031"
      ]
     },
     "execution_count": 208,
     "metadata": {},
     "output_type": "execute_result"
    }
   ],
   "source": [
    "adj.sum() / (100*100-100)"
   ]
  },
  {
   "cell_type": "code",
   "execution_count": null,
   "metadata": {},
   "outputs": [],
   "source": [
    "# read from the print-out above\n",
    "max_comp_sz = 3876"
   ]
  },
  {
   "cell_type": "markdown",
   "metadata": {},
   "source": [
    "\n",
    "Furthermore, every node in the graph is included in the subnetwork, which can be dissapointing.\n",
    "More interesting is to redo the NBS at a stricter threshold, narrowing down the subnetwork to its most important \"core\". However, beware that this kappa value has to be predefined to be statistically valid. Commonly one would decide on a range of e.g. 4 values, and run the test for each."
   ]
  },
  {
   "cell_type": "code",
   "execution_count": 232,
   "metadata": {},
   "outputs": [
    {
     "name": "stdout",
     "output_type": "stream",
     "text": [
      "max component size is 170\n",
      "estimating null distribution with 500 permutations\n",
      "permutation 0 of 500.  p-value so far is 0.000\n",
      "permutation 50 of 500.  p-value so far is 0.000\n",
      "permutation 100 of 500.  p-value so far is 0.000\n",
      "permutation 150 of 500.  p-value so far is 0.000\n",
      "permutation 200 of 500.  p-value so far is 0.000\n",
      "permutation 250 of 500.  p-value so far is 0.000\n",
      "permutation 300 of 500.  p-value so far is 0.000\n",
      "permutation 350 of 500.  p-value so far is 0.000\n",
      "permutation 400 of 500.  p-value so far is 0.000\n",
      "permutation 450 of 500.  p-value so far is 0.000\n",
      "permutation 499 of 500.  p-value so far is 0.000\n"
     ]
    },
    {
     "data": {
      "image/png": "[encoded data removed]",
      "text/plain": [
       "<Figure size 432x288 with 1 Axes>"
      ]
     },
     "metadata": {
      "needs_background": "light"
     },
     "output_type": "display_data"
    }
   ],
   "source": [
    "pval2, adj2, null2 = do_nbs(male, female, kappa=6, k=500)"
   ]
  },
  {
   "cell_type": "code",
   "execution_count": 235,
   "metadata": {},
   "outputs": [
    {
     "data": {
      "text/plain": [
       "<matplotlib.image.AxesImage at 0x16b015cc248>"
      ]
     },
     "execution_count": 235,
     "metadata": {},
     "output_type": "execute_result"
    },
    {
     "data": {
      "image/png": "[encoded data removed]",
      "text/plain": [
       "<Figure size 432x288 with 1 Axes>"
      ]
     },
     "metadata": {
      "needs_background": "light"
     },
     "output_type": "display_data"
    }
   ],
   "source": [
    "plt.imshow(adj2)"
   ]
  },
  {
   "cell_type": "code",
   "execution_count": 241,
   "metadata": {},
   "outputs": [
    {
     "data": {
      "text/plain": [
       "(0.03434343434343434, 100, 340)"
      ]
     },
     "execution_count": 241,
     "metadata": {},
     "output_type": "execute_result"
    }
   ],
   "source": [
    "bct.density_ir(adj2)"
   ]
  },
  {
   "cell_type": "code",
   "execution_count": 244,
   "metadata": {},
   "outputs": [
    {
     "name": "stdout",
     "output_type": "stream",
     "text": [
      "[ 0.  2. 10.  1.  6. 12.  0.  6.  2.  4.  7.  1. 13.  1.  5.  3.  4.  0.\n",
      "  6.  3.  3.  5.  2.  1.  1.  2. 10.  2.  2.  6.  3.  0.  1.  7.  9.  9.\n",
      "  0.  5.  1.  1.  2.  2.  7.  0.  6.  2.  1.  3.  3.  2.  4.  1.  1.  1.\n",
      "  1.  3. 13.  2.  0.  2.  1.  0.  1. 10.  5.  7.  0.  2.  7.  7. 12.  3.\n",
      "  9.  2.  6.  0. 11.  5.  0.  0.  0.  1.  0.  1.  0.  1.  1.  0.  0. 13.\n",
      "  0.  0.  7.  0.  8.  1.  1.  3.  2.  1.]\n"
     ]
    },
    {
     "data": {
      "text/plain": [
       "80"
      ]
     },
     "execution_count": 244,
     "metadata": {},
     "output_type": "execute_result"
    },
    {
     "data": {
      "image/png": "[encoded data removed]",
      "text/plain": [
       "<Figure size 432x288 with 1 Axes>"
      ]
     },
     "metadata": {
      "needs_background": "light"
     },
     "output_type": "display_data"
    }
   ],
   "source": [
    "plt.imshow(adj2, cmap='gray')\n",
    "# number of nodes included:\n",
    "print(adj2.sum(axis=0))\n",
    "\n",
    "# number of nodes included in the sub-network\n",
    "n_nodes = np.sum(adj2.sum(axis=0) > 0)\n",
    "n_nodes"
   ]
  },
  {
   "cell_type": "code",
   "execution_count": null,
   "metadata": {},
   "outputs": [],
   "source": [
    "nbs.degree_centrality(adj2)"
   ]
  },
  {
   "cell_type": "code",
   "execution_count": null,
   "metadata": {},
   "outputs": [],
   "source": []
  },
  {
   "cell_type": "code",
   "execution_count": 248,
   "metadata": {},
   "outputs": [
    {
     "name": "stdout",
     "output_type": "stream",
     "text": [
      "max component size is 38\n",
      "estimating null distribution with 500 permutations\n",
      "permutation 0 of 500.  p-value so far is 0.000\n",
      "permutation 50 of 500.  p-value so far is 0.000\n",
      "permutation 100 of 500.  p-value so far is 0.000\n",
      "permutation 150 of 500.  p-value so far is 0.000\n",
      "permutation 200 of 500.  p-value so far is 0.000\n",
      "permutation 250 of 500.  p-value so far is 0.000\n",
      "permutation 300 of 500.  p-value so far is 0.000\n",
      "permutation 350 of 500.  p-value so far is 0.000\n",
      "permutation 400 of 500.  p-value so far is 0.000\n",
      "permutation 450 of 500.  p-value so far is 0.000\n",
      "permutation 499 of 500.  p-value so far is 0.000\n"
     ]
    },
    {
     "data": {
      "image/png": "[encoded data removed]",
      "text/plain": [
       "<Figure size 432x288 with 1 Axes>"
      ]
     },
     "metadata": {
      "needs_background": "light"
     },
     "output_type": "display_data"
    }
   ],
   "source": [
    "test3 = do_nbs(male, female, kappa=7, k=500)"
   ]
  },
  {
   "cell_type": "code",
   "execution_count": 249,
   "metadata": {},
   "outputs": [],
   "source": [
    "adj3 = test3[1]"
   ]
  },
  {
   "cell_type": "code",
   "execution_count": 251,
   "metadata": {},
   "outputs": [
    {
     "data": {
      "text/plain": [
       "<matplotlib.image.AxesImage at 0x16b0032bd88>"
      ]
     },
     "execution_count": 251,
     "metadata": {},
     "output_type": "execute_result"
    },
    {
     "data": {
      "image/png": "[encoded data removed]",
      "text/plain": [
       "<Figure size 432x288 with 1 Axes>"
      ]
     },
     "metadata": {
      "needs_background": "light"
     },
     "output_type": "display_data"
    }
   ],
   "source": [
    "plt.imshow(adj3, cmap='gray')"
   ]
  },
  {
   "cell_type": "code",
   "execution_count": 260,
   "metadata": {},
   "outputs": [
    {
     "name": "stdout",
     "output_type": "stream",
     "text": [
      "max component size is 13\n",
      "estimating null distribution with 500 permutations\n",
      "permutation 0 of 500.  p-value so far is 0.000\n",
      "permutation 50 of 500.  p-value so far is 0.000\n",
      "permutation 100 of 500.  p-value so far is 0.000\n",
      "permutation 150 of 500.  p-value so far is 0.000\n",
      "permutation 200 of 500.  p-value so far is 0.000\n",
      "permutation 250 of 500.  p-value so far is 0.000\n",
      "permutation 300 of 500.  p-value so far is 0.000\n",
      "permutation 350 of 500.  p-value so far is 0.000\n",
      "permutation 400 of 500.  p-value so far is 0.000\n",
      "permutation 450 of 500.  p-value so far is 0.000\n",
      "permutation 499 of 500.  p-value so far is 0.000\n"
     ]
    },
    {
     "data": {
      "image/png": "[encoded data removed]",
      "text/plain": [
       "<Figure size 432x288 with 1 Axes>"
      ]
     },
     "metadata": {
      "needs_background": "light"
     },
     "output_type": "display_data"
    }
   ],
   "source": [
    "test4 = do_nbs(male, female, kappa=7.4, k=500)"
   ]
  },
  {
   "cell_type": "code",
   "execution_count": 267,
   "metadata": {},
   "outputs": [],
   "source": [
    "adj4 = test4[1]"
   ]
  },
  {
   "cell_type": "code",
   "execution_count": 269,
   "metadata": {},
   "outputs": [
    {
     "data": {
      "text/plain": [
       "<matplotlib.image.AxesImage at 0x16b00dd5488>"
      ]
     },
     "execution_count": 269,
     "metadata": {},
     "output_type": "execute_result"
    },
    {
     "data": {
      "image/png": "[encoded data removed]",
      "text/plain": [
       "<Figure size 432x288 with 1 Axes>"
      ]
     },
     "metadata": {
      "needs_background": "light"
     },
     "output_type": "display_data"
    }
   ],
   "source": [
    "plt.imshow(adj4, cmap='gray')"
   ]
  },
  {
   "cell_type": "code",
   "execution_count": 274,
   "metadata": {},
   "outputs": [
    {
     "name": "stdout",
     "output_type": "stream",
     "text": [
      "[0. 0. 6. 0. 0. 3. 0. 3. 0. 0. 9. 0. 9. 0. 6. 3. 3. 0. 0. 0. 0. 2. 0. 0.\n",
      " 0. 0. 0. 1. 0. 0. 0. 0. 0. 0. 0. 6. 0. 0. 0. 0. 0. 2. 0. 0. 0. 0. 0. 4.\n",
      " 0. 0. 0. 0. 0. 0. 0. 0. 2. 0. 0. 0. 0. 0. 0. 6. 0. 2. 0. 1. 1. 2. 6. 0.\n",
      " 3. 0. 0. 0. 9. 3. 0. 0. 0. 0. 0. 0. 0. 0. 0. 0. 0. 6. 0. 0. 0. 0. 0. 0.\n",
      " 0. 4. 0. 0.]\n"
     ]
    },
    {
     "data": {
      "text/plain": [
       "25"
      ]
     },
     "execution_count": 274,
     "metadata": {},
     "output_type": "execute_result"
    }
   ],
   "source": [
    "print(adj4.sum(axis=0))\n",
    "n_nodes = np.sum(adj4.sum(axis=0) > 0)\n",
    "n_nodes"
   ]
  },
  {
   "cell_type": "markdown",
   "metadata": {},
   "source": [
    "Now we have boiled it down into 25 nodes. These nodes are based on an ICA decomposition of the brain activity, so we would have to download an additional dataset from the connectome database in order to visualize them. However, we will not do it here due to the size of the data."
   ]
  },
  {
   "cell_type": "markdown",
   "metadata": {},
   "source": [
    "#### Extra exercise 6. Find a variable of your choice in the dataframe and test for a statistical difference between two groups (e.g. for non-binary values you can binarize by setting some threshold). \n",
    "Tip: you can read more about the behavioural variables here and what the column names are in the dataframe: https://wiki.humanconnectome.org/display/PublicData/HCP+Data+Dictionary+Public-+Updated+for+the+1200+Subject+Release"
   ]
  },
  {
   "cell_type": "code",
   "execution_count": 47,
   "metadata": {},
   "outputs": [],
   "source": [
    "## YOUR CODE HERE"
   ]
  },
  {
   "cell_type": "markdown",
   "metadata": {},
   "source": [
    "# Autism versus healthy controls\n",
    "\n",
    "The below code use the `nilearn.datasets` module to download fMRI scans from the Autism Brain Imaging Data Exchange (ABIDE) study and process it in a standard network-modelling pipeline using the [Yeo-2011 atlas](https://balsa.wustl.edu/W8wK) for parcellating the cortex into 17 regions. We then proceed to perform NBS to compare the autism group to matching controls.\n",
    "\n",
    "### NB! the code below is very slow\n",
    "However, this loads *raw* fMRI data and not the network matrices. fMRI data is notoriously large, and it is also fairly time consuming to process (despite *preprocessing* has already been done, so beware of having to wait some minutes."
   ]
  },
  {
   "cell_type": "markdown",
   "metadata": {},
   "source": [
    "### NB! Slow code"
   ]
  },
  {
   "cell_type": "code",
   "execution_count": 2,
   "metadata": {},
   "outputs": [
    {
     "name": "stderr",
     "output_type": "stream",
     "text": [
      "C:\\Users\\Peder\\Anaconda3\\envs\\cbm101\\lib\\site-packages\\numpy\\lib\\npyio.py:2358: VisibleDeprecationWarning: Reading unicode strings without specifying the encoding argument is deprecated. Set the encoding, use None for the system default.\n",
      "  output = genfromtxt(fname, **kwargs)\n"
     ]
    }
   ],
   "source": [
    "n_subjects = 20\n",
    "\n",
    "import os\n",
    "import numpy as np\n",
    "from nilearn import datasets\n",
    "yeo = datasets.fetch_atlas_yeo_2011()\n",
    "\n",
    "autism = datasets.fetch_abide_pcp(n_subjects=n_subjects, DX_GROUP=1)\n",
    "control = datasets.fetch_abide_pcp(n_subjects=n_subjects, DX_GROUP=2)\n",
    "\n",
    "from nilearn.input_data import NiftiLabelsMasker\n",
    "from nilearn.connectome import ConnectivityMeasure\n",
    "\n",
    "masker = NiftiLabelsMasker(labels_img = yeo['thick_17'], standardize=True,\n",
    "                           memory='nilearn_cache')\n",
    "measure = ConnectivityMeasure(kind='correlation')\n",
    "\n",
    "ts_au=[]\n",
    "for func in autism.func_preproc:\n",
    "    ts_au.append(masker.fit_transform(func))\n",
    "\n",
    "ts_hc=[]\n",
    "for func in control.func_preproc:\n",
    "    ts_hc.append(masker.fit_transform(func))\n",
    "\n",
    "    \n",
    "corr_au = measure.fit_transform(ts_au)\n",
    "corr_hc = measure.fit_transform(ts_hc)\n",
    "\n",
    "for i, m in enumerate(corr_au):\n",
    "    fn = f\"abide_au{i+101}.txt\"\n",
    "    fn = \"data/abide/\" + fn\n",
    "    np.savetxt(fn, m)\n",
    "    \n",
    "for i, m in enumerate(corr_hc):\n",
    "    fn = f\"abide_hc{i+101}.txt\"\n",
    "    fn = \"data/abide/\" + fn\n",
    "    np.savetxt(fn, m)\n"
   ]
  },
  {
   "cell_type": "code",
   "execution_count": 262,
   "metadata": {},
   "outputs": [],
   "source": [
    "datapath = 'data/abide'"
   ]
  },
  {
   "cell_type": "code",
   "execution_count": 263,
   "metadata": {
    "scrolled": true
   },
   "outputs": [
    {
     "data": {
      "text/plain": [
       "['abide_au101.txt',\n",
       " 'abide_au102.txt',\n",
       " 'abide_au103.txt',\n",
       " 'abide_au104.txt',\n",
       " 'abide_au105.txt',\n",
       " 'abide_au106.txt',\n",
       " 'abide_au107.txt',\n",
       " 'abide_au108.txt',\n",
       " 'abide_au109.txt',\n",
       " 'abide_au110.txt',\n",
       " 'abide_au111.txt',\n",
       " 'abide_au112.txt',\n",
       " 'abide_au113.txt',\n",
       " 'abide_au114.txt',\n",
       " 'abide_au115.txt',\n",
       " 'abide_au116.txt',\n",
       " 'abide_au117.txt',\n",
       " 'abide_au118.txt',\n",
       " 'abide_au119.txt',\n",
       " 'abide_au120.txt',\n",
       " 'abide_hc101.txt',\n",
       " 'abide_hc102.txt',\n",
       " 'abide_hc103.txt',\n",
       " 'abide_hc104.txt',\n",
       " 'abide_hc105.txt',\n",
       " 'abide_hc106.txt',\n",
       " 'abide_hc107.txt',\n",
       " 'abide_hc108.txt',\n",
       " 'abide_hc109.txt',\n",
       " 'abide_hc110.txt',\n",
       " 'abide_hc111.txt',\n",
       " 'abide_hc112.txt',\n",
       " 'abide_hc113.txt',\n",
       " 'abide_hc114.txt',\n",
       " 'abide_hc115.txt',\n",
       " 'abide_hc116.txt',\n",
       " 'abide_hc117.txt',\n",
       " 'abide_hc118.txt',\n",
       " 'abide_hc119.txt',\n",
       " 'abide_hc120.txt']"
      ]
     },
     "execution_count": 263,
     "metadata": {},
     "output_type": "execute_result"
    }
   ],
   "source": [
    "mats = [np.loadtxt(fn) for fn in os.scandir(path=datapath) if fn.name.startswith('abide')]\n",
    "[fn.name for fn in os.scandir(datapath)]"
   ]
  },
  {
   "cell_type": "code",
   "execution_count": 264,
   "metadata": {},
   "outputs": [],
   "source": [
    "X = np.array(mats)\n",
    "y = np.array(['au']*20 + ['hc']*20)"
   ]
  },
  {
   "cell_type": "code",
   "execution_count": 265,
   "metadata": {},
   "outputs": [
    {
     "data": {
      "text/plain": [
       "array([ True,  True,  True,  True,  True,  True,  True,  True,  True,\n",
       "        True,  True,  True,  True,  True,  True,  True,  True,  True,\n",
       "        True,  True, False, False, False, False, False, False, False,\n",
       "       False, False, False, False, False, False, False, False, False,\n",
       "       False, False, False, False])"
      ]
     },
     "execution_count": 265,
     "metadata": {},
     "output_type": "execute_result"
    }
   ],
   "source": [
    "y==['au']"
   ]
  },
  {
   "cell_type": "code",
   "execution_count": 17,
   "metadata": {},
   "outputs": [
    {
     "name": "stdout",
     "output_type": "stream",
     "text": [
      "(40,)\n",
      "(40, 17, 17)\n"
     ]
    }
   ],
   "source": [
    "print(y.shape); print(X.shape)"
   ]
  },
  {
   "cell_type": "code",
   "execution_count": 18,
   "metadata": {},
   "outputs": [],
   "source": [
    "au = X[y=='au',:]\n",
    "hc = X[y=='hc',:]"
   ]
  },
  {
   "cell_type": "code",
   "execution_count": 19,
   "metadata": {},
   "outputs": [
    {
     "data": {
      "text/plain": [
       "(17, 17, 20)"
      ]
     },
     "execution_count": 19,
     "metadata": {},
     "output_type": "execute_result"
    }
   ],
   "source": [
    "au.T.shape"
   ]
  },
  {
   "cell_type": "code",
   "execution_count": null,
   "metadata": {},
   "outputs": [],
   "source": []
  },
  {
   "cell_type": "code",
   "execution_count": 20,
   "metadata": {
    "scrolled": true
   },
   "outputs": [
    {
     "name": "stdout",
     "output_type": "stream",
     "text": [
      "max component size is 36\n",
      "estimating null distribution with 1000 permutations\n",
      "permutation 0 of 1000.  p-value so far is 1.000\n",
      "permutation 100 of 1000.  p-value so far is 0.861\n",
      "permutation 200 of 1000.  p-value so far is 0.791\n",
      "permutation 300 of 1000.  p-value so far is 0.784\n",
      "permutation 400 of 1000.  p-value so far is 0.778\n",
      "permutation 500 of 1000.  p-value so far is 0.774\n",
      "permutation 600 of 1000.  p-value so far is 0.767\n",
      "permutation 700 of 1000.  p-value so far is 0.775\n",
      "permutation 800 of 1000.  p-value so far is 0.773\n",
      "permutation 900 of 1000.  p-value so far is 0.775\n",
      "permutation 999 of 1000.  p-value so far is 0.771\n"
     ]
    }
   ],
   "source": [
    "kappa = 0.8\n",
    "pval, adj, null = nbs.nbs_bct(au.T, hc.T, kappa)"
   ]
  },
  {
   "cell_type": "code",
   "execution_count": 22,
   "metadata": {},
   "outputs": [],
   "source": [
    "from matplotlib import pyplot as plt"
   ]
  },
  {
   "cell_type": "code",
   "execution_count": 23,
   "metadata": {},
   "outputs": [
    {
     "data": {
      "text/plain": [
       "<matplotlib.lines.Line2D at 0x29fd676b5c8>"
      ]
     },
     "execution_count": 23,
     "metadata": {},
     "output_type": "execute_result"
    },
    {
     "data": {
      "image/png": "[encoded data removed]",
      "text/plain": [
       "<Figure size 432x288 with 1 Axes>"
      ]
     },
     "metadata": {
      "needs_background": "light"
     },
     "output_type": "display_data"
    }
   ],
   "source": [
    "plt.hist(null)\n",
    "plt.axvline(36, c='red')"
   ]
  },
  {
   "cell_type": "code",
   "execution_count": 24,
   "metadata": {},
   "outputs": [
    {
     "name": "stdout",
     "output_type": "stream",
     "text": [
      "max component size is 110\n",
      "estimating null distribution with 1000 permutations\n",
      "permutation 0 of 1000.  p-value so far is 1.000\n",
      "permutation 100 of 1000.  p-value so far is 0.347\n",
      "permutation 200 of 1000.  p-value so far is 0.338\n",
      "permutation 300 of 1000.  p-value so far is 0.369\n",
      "permutation 400 of 1000.  p-value so far is 0.369\n",
      "permutation 500 of 1000.  p-value so far is 0.367\n",
      "permutation 600 of 1000.  p-value so far is 0.371\n",
      "permutation 700 of 1000.  p-value so far is 0.362\n",
      "permutation 800 of 1000.  p-value so far is 0.363\n",
      "permutation 900 of 1000.  p-value so far is 0.366\n",
      "permutation 999 of 1000.  p-value so far is 0.362\n"
     ]
    },
    {
     "data": {
      "image/png": "[encoded data removed]",
      "text/plain": [
       "<Figure size 432x288 with 1 Axes>"
      ]
     },
     "metadata": {
      "needs_background": "light"
     },
     "output_type": "display_data"
    },
    {
     "name": "stdout",
     "output_type": "stream",
     "text": [
      "[0.362]\n"
     ]
    }
   ],
   "source": [
    "pval, adj, null = do_nbs(au.T, hc.T, kappa=0.3)\n",
    "print(pval)"
   ]
  },
  {
   "cell_type": "code",
   "execution_count": 25,
   "metadata": {},
   "outputs": [
    {
     "data": {
      "text/plain": [
       "<matplotlib.lines.Line2D at 0x29fd6919608>"
      ]
     },
     "execution_count": 25,
     "metadata": {},
     "output_type": "execute_result"
    },
    {
     "data": {
      "image/png": "[encoded data removed]",
      "text/plain": [
       "<Figure size 432x288 with 1 Axes>"
      ]
     },
     "metadata": {
      "needs_background": "light"
     },
     "output_type": "display_data"
    }
   ],
   "source": [
    "plt.hist(null)\n",
    "plt.axvline(110, c='red')"
   ]
  },
  {
   "cell_type": "markdown",
   "metadata": {},
   "source": [
    "## Summary and conclusion\n",
    "We could identify no difference in the connectome between those with ADHD and controls with this setup. It might be unexpected that we don't observe any difference, but we must consider three factors: i) our data set is only 40 (compared to 800 in the first dataset), making it harder to detect any effect, ii) we used a very rough parcellation of only 17 nodes (compared to 100), again compromising sensitivity, and iii) the parcellation is based on predefined regions anatomically rather than mined from the brain activity itself (ICA). This scheme is simpler but vulnerable to functionally meaningless segmentation."
   ]
  },
  {
   "cell_type": "markdown",
   "metadata": {},
   "source": [
    "## Pros and cons of NBS\n",
    "\n",
    "**Pros**\n",
    "* It let's you easily test hypotheses about group differences in networks (e.g. connectomes between sick and healthy).\n",
    "* You can identify edges disturbed by disease\n",
    "\n",
    "* There is no difficult math (non-parametric)\n",
    "* It deals naturally with the graph structure\n",
    "- it increases statistical power compared to other methods of multiple testing\n",
    "\n",
    "**Cons**\n",
    "* It is hard to interpret what the difference actually is\n",
    "* There is no obvious \"right\" value for the threshold (kappa)\n",
    "* It is computationally heavy (like all permutation tests)"
   ]
  }
 ],
 "metadata": {
  "kernelspec": {
   "display_name": "Python 3 (ipykernel)",
   "language": "python",
   "name": "python3"
  },
  "language_info": {
   "codemirror_mode": {
    "name": "ipython",
    "version": 3
   },
   "file_extension": ".py",
   "mimetype": "text/x-python",
   "name": "python",
   "nbconvert_exporter": "python",
   "pygments_lexer": "ipython3",
   "version": "3.10.4"
  },
  "toc": {
   "base_numbering": 1,
   "nav_menu": {},
   "number_sections": false,
   "sideBar": true,
   "skip_h1_title": false,
   "title_cell": "Table of Contents",
   "title_sidebar": "Contents",
   "toc_cell": false,
   "toc_position": {},
   "toc_section_display": true,
   "toc_window_display": false
  }
 },
 "nbformat": 4,
 "nbformat_minor": 2
}
