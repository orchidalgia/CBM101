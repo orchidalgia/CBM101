{
 "cells": [
  {
   "cell_type": "markdown",
   "metadata": {},
   "source": [
    "# Concepts in Network Theory"
   ]
  },
  {
   "cell_type": "markdown",
   "metadata": {},
   "source": [
    "Networks: Network representations are ubiquitous for things like social \n",
    "networks, the world wide web, transportation and power grids. \n",
    "\n",
    "In biology it naturally projects to dynamics of molecular interaction inside cells \n",
    "(metabolic or protein-protein networks), neuroscience and and ecological networks. In this submodule we will \n",
    "focus on the first two. As an example of an abstract network, the image below of [Disease network](https://barabasi.com/f/320.pdf) is constructed from protein-protein interactions (two diseases are considered connected if their disease-associated genes interact, or if they share such a gene).\n",
    "\n",
    "<img src=\"assets/barabasi_disease_network.png\" alt=\"disease network\" style=\"float:left\" width=\"400\" />\n",
    "\n",
    "\n",
    "Network theory is also being increasingly used in neuroscience, coined **connectomics**. Nothing about the idea is new, as it dates back at last 100 years, but only with advances in imaging technologies have we started to gain access into what it looks like. Some neuroscientists believe that if we had perfect resolution of an individual's connectome, this would (in theory) allow full access into that person's memories, experiences, knowledge and personality.\n",
    "\n",
    "We leave you with a few articles to appreciate network theory as a tool to study biology.\n",
    "\n",
    "https://barabasi.com/f/320.pdf\n",
    "\n",
    "https://www.nature.com/articles/nrg.2016.87\n",
    "\n",
    "https://www.nature.com/articles/nrg1272"
   ]
  },
  {
   "cell_type": "markdown",
   "metadata": {},
   "source": [
    "For great explanations of more or less advanced network science concepts and algorithms in Python, we recommend to check out [T.M.]()"
   ]
  },
  {
   "cell_type": "markdown",
   "metadata": {},
   "source": [
    "## Network representation\n",
    "\n",
    "Networks are most naturally visualized as a set of points (nodes) connected by lines (edges).\n",
    "\n",
    "<img\n",
    "src=\"assets/graph_random_circle.png\"\n",
    "width=300\n",
    "/>\n",
    "\n",
    "This data is typically stored as a list of edges, for the figure above we would have G = {A,B}, {B,A}, {B,C}.\n",
    "Another equivalent form is the adjacency matrix, which is less intuitive, but mathematically appealing (color code: black=1; white=0).\n",
    "\n",
    "\n",
    "<img\n",
    "src=\"assets/matrix_example.png\"\n",
    "width=500\n",
    "/>"
   ]
  },
  {
   "cell_type": "code",
   "execution_count": 1,
   "metadata": {},
   "outputs": [],
   "source": [
    "import numpy as np"
   ]
  },
  {
   "cell_type": "markdown",
   "metadata": {
    "tags": [
     "style-student"
    ]
   },
   "source": [
    "####  Exercise 1. construct the matrix (numpy array), A representing the following graph. \n",
    "\n",
    "<img\n",
    "src=\"assets/ex0_1.png\"\n",
    "width=200\n",
    "style=\"float: left\"\n",
    "/>\n",
    "\n",
    "Hint: we write the connection from row to column (e.g. the link from 1 to 3 should be at the 1st row and 3rd column). Note this convention is not always consistent."
   ]
  },
  {
   "cell_type": "markdown",
   "metadata": {
    "tags": [
     "style-solution"
    ]
   },
   "source": [
    "## ^Tästä ensin joku esimerkki"
   ]
  },
  {
   "cell_type": "code",
   "execution_count": 2,
   "metadata": {},
   "outputs": [
    {
     "data": {
      "text/plain": [
       "array([[0., 0., 1., 0., 0.],\n",
       "       [1., 0., 0., 0., 0.],\n",
       "       [0., 0., 0., 1., 0.],\n",
       "       [1., 0., 0., 0., 0.],\n",
       "       [0., 0., 0., 1., 0.]])"
      ]
     },
     "execution_count": 2,
     "metadata": {},
     "output_type": "execute_result"
    }
   ],
   "source": [
    "# %load solutions/ex0_1.py\n",
    "A = np.array([\n",
    "       [0., 0., 1., 0., 0.],\n",
    "       [1., 0., 0., 0., 0.],\n",
    "       [0., 0., 0., 1., 0.],\n",
    "       [1., 0., 0., 0., 0.],\n",
    "       [0., 0., 0., 1., 0.]])\n",
    "\n",
    "A"
   ]
  },
  {
   "cell_type": "markdown",
   "metadata": {},
   "source": [
    "`NetworkX` is a python library specialized for working with graphs. They provide a class `networkx.Graph` which stores a network as a list of edges. We can convert freely between the different representations using `networkx`."
   ]
  },
  {
   "cell_type": "code",
   "execution_count": 3,
   "metadata": {},
   "outputs": [],
   "source": [
    "import networkx as nx\n",
    "G = nx.from_numpy_array(A)"
   ]
  },
  {
   "cell_type": "code",
   "execution_count": 4,
   "metadata": {},
   "outputs": [
    {
     "data": {
      "image/png": "[encoded data removed]",
      "text/plain": [
       "<Figure size 432x288 with 1 Axes>"
      ]
     },
     "metadata": {},
     "output_type": "display_data"
    }
   ],
   "source": [
    "nx.draw(G)"
   ]
  },
  {
   "cell_type": "markdown",
   "metadata": {},
   "source": [
    "## Directedness and weightedness\n",
    "\n",
    "We have two questions of network properties to consider when making a model:\n",
    "- is the edges directed or undirected? \n",
    "- are the edges continuous or binary?\n",
    "\n",
    "For instance, the WWW is directed, but a social acquaintance does not follow a particular direction. We can use the `nx.DiGraph` class to force it to create a directed graph."
   ]
  },
  {
   "cell_type": "code",
   "execution_count": 5,
   "metadata": {},
   "outputs": [
    {
     "data": {
      "image/png": "[encoded data removed]",
      "text/plain": [
       "<Figure size 432x288 with 1 Axes>"
      ]
     },
     "metadata": {},
     "output_type": "display_data"
    }
   ],
   "source": [
    "G_dir = nx.from_numpy_array(A, create_using=nx.DiGraph)\n",
    "nx.draw(G_dir)"
   ]
  },
  {
   "cell_type": "markdown",
   "metadata": {},
   "source": [
    "And we can just as easily transform it back into a numpy array:"
   ]
  },
  {
   "cell_type": "code",
   "execution_count": 6,
   "metadata": {},
   "outputs": [
    {
     "data": {
      "text/plain": [
       "array([[ True,  True,  True,  True,  True],\n",
       "       [ True,  True,  True,  True,  True],\n",
       "       [ True,  True,  True,  True,  True],\n",
       "       [ True,  True,  True,  True,  True],\n",
       "       [ True,  True,  True,  True,  True]])"
      ]
     },
     "execution_count": 6,
     "metadata": {},
     "output_type": "execute_result"
    }
   ],
   "source": [
    "M = nx.to_numpy_array(G_dir)\n",
    "M == A #they are the same as expected"
   ]
  },
  {
   "cell_type": "markdown",
   "metadata": {},
   "source": [
    "## Graph metrics\n",
    "Graph metrics are numbers that quanitfy certain properties of a network (global metrics) or about specific nodes in the network (local metrics). Because it is hard to infer things about a network simply by looking at it, these numbers capture the essence of a network, and lets us test specific hypotheses about network structure."
   ]
  },
  {
   "cell_type": "markdown",
   "metadata": {},
   "source": [
    "<img src=\"assets/rubinov_sporns_2010_neuroimage.png\"\n",
    "     alt=\"graph metrics\"\n",
    "     width=1000\n",
    "     style=\"float: left; margin-right: 10px;\" />"
   ]
  },
  {
   "cell_type": "markdown",
   "metadata": {},
   "source": [
    "##### A bunch of other graph metrics exist that quantify importance of a node within a network.\n",
    "These are collectively termed \"centrality\", but all quantify slightly different things.\n",
    "\n",
    "- degree centrality\n",
    "- betweenness centrality\n",
    "- closeness centrality\n",
    "\n",
    "##### Other metrics quantify overall network structure\n",
    "- density\n",
    "- efficiency\n",
    "- small-worldness\n",
    "- modularity\n",
    "\n",
    "\n",
    "The various metrics are tempting to use, but it is crucial to interpret them according to the network you happen to study."
   ]
  },
  {
   "cell_type": "code",
   "execution_count": 7,
   "metadata": {},
   "outputs": [
    {
     "ename": "ModuleNotFoundError",
     "evalue": "No module named 'bct'",
     "output_type": "error",
     "traceback": [
      "\u001b[1;31m---------------------------------------------------------------------------\u001b[0m",
      "\u001b[1;31mModuleNotFoundError\u001b[0m                       Traceback (most recent call last)",
      "Input \u001b[1;32mIn [7]\u001b[0m, in \u001b[0;36m<cell line: 1>\u001b[1;34m()\u001b[0m\n\u001b[1;32m----> 1\u001b[0m \u001b[38;5;28;01mimport\u001b[39;00m \u001b[38;5;21;01mbct\u001b[39;00m\n",
      "\u001b[1;31mModuleNotFoundError\u001b[0m: No module named 'bct'"
     ]
    }
   ],
   "source": [
    "import bct"
   ]
  },
  {
   "cell_type": "code",
   "execution_count": null,
   "metadata": {},
   "outputs": [],
   "source": [
    "from matplotlib import pyplot as plt"
   ]
  },
  {
   "cell_type": "markdown",
   "metadata": {},
   "source": [
    "### Visualizing bottlenecks (betweenness centrality)\n",
    "Try to convince yourself of why the numbers below make sense"
   ]
  },
  {
   "cell_type": "code",
   "execution_count": null,
   "metadata": {},
   "outputs": [],
   "source": [
    "A = np.array([\n",
    "       [0., 0., 1., 0., 0.],\n",
    "       [1., 0., 0., 0., 0.],\n",
    "       [0., 0., 0., 1., 0.],\n",
    "       [1., 0., 0., 0., 0.],\n",
    "       [0., 0., 0., 1., 0.]])\n",
    "\n",
    "A\n",
    "G = nx.from_numpy_array(A)"
   ]
  },
  {
   "cell_type": "code",
   "execution_count": null,
   "metadata": {},
   "outputs": [],
   "source": [
    "btw = nx.betweenness_centrality(G)\n",
    "#pos = nx.drawing.layout.kamada_kawai_layout(G)\n",
    "pos = nx.layout.spring_layout(G, seed=1)\n",
    "nx.draw(G, pos=pos, labels=btw, node_color='beige', font_size=18, font_color='k')\n",
    "plt.title('Bottleneck centrality')"
   ]
  },
  {
   "cell_type": "code",
   "execution_count": null,
   "metadata": {},
   "outputs": [],
   "source": [
    "deg = nx.centrality.degree_centrality(G)\n",
    "nx.draw(G, pos=pos, labels=deg, node_color='beige', font_size=18, font_color='k')\n",
    "plt.title('Degree centrality')"
   ]
  },
  {
   "cell_type": "markdown",
   "metadata": {},
   "source": [
    "Notice how the bottom node has a high degree centrality, but low bottleneck centrality. "
   ]
  },
  {
   "cell_type": "code",
   "execution_count": null,
   "metadata": {},
   "outputs": [],
   "source": [
    "cc = nx.clustering(G)\n",
    "nx.draw(G, pos=pos, labels=cc, node_color='beige', font_size=18, font_color='k')\n",
    "plt.title('Clustering Coefficient')"
   ]
  },
  {
   "cell_type": "markdown",
   "metadata": {},
   "source": [
    "# A more advanced example of network theory in action\n",
    "Consider the world wide web (WWW), one of the more familiar networks of everyday life. When performing a search with your search engine of choice, it has to sort the results based on some kind of importance metric. The old method of doing this was to base it upon page *content*, and rate it accordingly. This method yielded very poor results. An ingenious milestone was, paradoxically, to dismiss the site content, and *only* look at its **topological** position in the network.\n",
    "\n",
    "### PageRank\n",
    "We use the seemingly circular argument: a page (node) is important if other important pages point (link) to it. We start with an initial distribution of \"importance\" between the nodes, then at each iteration the node redistributes its own importance determined by their outward links (imagine a surfer who at each time step has a certain probability of moving to a new page). This process is allowed to repeat, and will at some point reach steady state. The below image has already reached steady state.\n",
    "\n",
    "\n",
    "<img src=\"assets/PageRanks-Example_345Kai_no(c).jpg\"\n",
    "     alt=\"graph metrics\"\n",
    "     width=500\n",
    "     style=\"float: left; margin-right: 10px;\" />\n",
    "(image credit to 345Kai wikipedia)"
   ]
  },
  {
   "cell_type": "markdown",
   "metadata": {},
   "source": [
    "We will go on to reproduce the above figure."
   ]
  },
  {
   "cell_type": "code",
   "execution_count": null,
   "metadata": {},
   "outputs": [],
   "source": [
    "np.set_printoptions(2)"
   ]
  },
  {
   "cell_type": "code",
   "execution_count": null,
   "metadata": {},
   "outputs": [],
   "source": [
    "# define the edges. A is set to link to all other pages\n",
    "#(a mathematical necessity because it has no outward links)\n",
    "\n",
    "M = np.array([\n",
    "       [1., 0., 0., 1., 0., 0., 0., 0., 0., 0., 0.],\n",
    "       [1., 0., 1., 1., 1., 1., 1., 1., 1., 0., 0.],\n",
    "       [1., 1., 0., 0., 0., 0., 0., 0., 0., 0., 0.],\n",
    "       [1., 0., 0., 0., 1., 0., 0., 0., 0., 0., 0.],\n",
    "       [1., 0., 0., 0., 0., 1., 1., 1., 1., 1., 1.],\n",
    "       [1., 0., 0., 0., 1., 0., 0., 0., 0., 0., 0.],\n",
    "       [1., 0., 0., 0., 0., 0., 0., 0., 0., 0., 0.],\n",
    "       [1., 0., 0., 0., 0., 0., 0., 0., 0., 0., 0.],\n",
    "       [1., 0., 0., 0., 0., 0., 0., 0., 0., 0., 0.],\n",
    "       [1., 0., 0., 0., 0., 0., 0., 0., 0., 0., 0.],\n",
    "       [1., 0., 0., 0., 0., 0., 0., 0., 0., 0., 0.]])"
   ]
  },
  {
   "cell_type": "markdown",
   "metadata": {},
   "source": [
    "#### Exercise 2. normalize the edges such that the sum of the columns equal to 1.\n",
    "\n",
    "Hint: first compute the column sums (yielding a vector) **(a)**, then divide each column by that vector (broadcasting) **(b)**. Verify that the columns sum to one **(c)**."
   ]
  },
  {
   "cell_type": "markdown",
   "metadata": {},
   "source": [
    "#### a)"
   ]
  },
  {
   "cell_type": "code",
   "execution_count": null,
   "metadata": {},
   "outputs": [],
   "source": [
    "# %load solutions/ex0_2a.py\n",
    "col_sums = np.sum(M, axis=0)\n",
    "col_sums"
   ]
  },
  {
   "cell_type": "markdown",
   "metadata": {},
   "source": [
    "#### b)"
   ]
  },
  {
   "cell_type": "code",
   "execution_count": null,
   "metadata": {},
   "outputs": [],
   "source": [
    "# %load solutions/ex0_2b.py\n",
    "M = M / col_sums[np.newaxis, :] #newaxis ensures the broadcasting is correct\n",
    "M"
   ]
  },
  {
   "cell_type": "markdown",
   "metadata": {},
   "source": [
    "#### c)"
   ]
  },
  {
   "cell_type": "code",
   "execution_count": null,
   "metadata": {},
   "outputs": [],
   "source": [
    "# %load solutions/ex0_2c.py\n",
    "np.sum(M, axis=0)\n",
    "#or\n",
    "np.isclose(np.sum(M, axis=0), 1.)"
   ]
  },
  {
   "cell_type": "markdown",
   "metadata": {},
   "source": [
    "### The pagerank algorithm"
   ]
  },
  {
   "cell_type": "code",
   "execution_count": null,
   "metadata": {},
   "outputs": [],
   "source": [
    "# from https://en.wikipedia.org/wiki/PageRank#Simplified_algorithm\n",
    "import numpy as np\n",
    "\n",
    "def pagerank(M, num_iterations: int = 100, d: float = 0.85):\n",
    "    \"\"\"PageRank: The trillion dollar algorithm.\n",
    "\n",
    "    Parameters\n",
    "    ----------\n",
    "    M : numpy array\n",
    "        adjacency matrix where M_i,j represents the link from 'j' to 'i', such that for all 'j'\n",
    "        sum(i, M_i,j) = 1\n",
    "    num_iterations : int, optional\n",
    "        number of iterations, by default 100\n",
    "    d : float, optional\n",
    "        damping factor, by default 0.85\n",
    "\n",
    "    Returns\n",
    "    -------\n",
    "    numpy array\n",
    "        a vector of ranks such that v_i is the i-th rank from [0, 1],\n",
    "        v sums to 1\n",
    "\n",
    "    \"\"\"\n",
    "    N = M.shape[1]\n",
    "    v = np.random.rand(N, 1)\n",
    "    v = v / np.linalg.norm(v, 1)\n",
    "    M_hat = (d * M + (1 - d) / N)\n",
    "    for i in range(num_iterations):\n",
    "        v = M_hat @ v\n",
    "    return v"
   ]
  },
  {
   "cell_type": "markdown",
   "metadata": {},
   "source": [
    "#### Exercise 3: \n",
    "Compute the pagerank (call it `pr`) and confirm it matches with the figure shown above (within a reasonable margin of error)."
   ]
  },
  {
   "cell_type": "code",
   "execution_count": null,
   "metadata": {},
   "outputs": [],
   "source": [
    "# %load solutions/ex0_3.py\n",
    "pr = pagerank(M)\n",
    "print(pr*100)\n",
    "np.sum(pr)"
   ]
  },
  {
   "cell_type": "markdown",
   "metadata": {},
   "source": [
    "## Visualize that the results check out"
   ]
  },
  {
   "cell_type": "code",
   "execution_count": null,
   "metadata": {},
   "outputs": [],
   "source": [
    "names = ['A', 'B', 'C', 'D', 'E', 'F', 'G', 'H', 'I', 'J', 'K']\n",
    "colors = ['lightblue', 'yellow', 'orange', 'purple', 'pink', 'purple', 'cyan','cyan','cyan','cyan','cyan']\n",
    "\n",
    "G = nx.from_numpy_array(M.T, create_using=nx.DiGraph)\n",
    "nx.relabel_nodes(G, lambda k: dict(zip(range(11), names))[k], copy=False)\n",
    "\n",
    "# remove edges\n",
    "rem = [edge for edge in G.edges if edge[0]=='A']\n",
    "G.remove_edges_from(rem)\n",
    "pos = nx.layout.circular_layout(G)\n",
    "\n",
    "pr = dict(zip(names, pr.flatten()))\n",
    "\n",
    "for k,v in pr.items():\n",
    "    pr[k] = round(v*100, 1)\n",
    "    \n",
    "node_size = np.array(list(pr.values()))*150\n",
    "\n",
    "nx.draw(G, pos=pos, node_color=colors, with_labels=True, node_size=node_size)\n",
    "for k,v in pos.items(): v[1]-=0.1\n",
    "nx.draw_networkx_labels(G, labels=pr, pos=pos)\n",
    "plt.show()"
   ]
  },
  {
   "cell_type": "markdown",
   "metadata": {},
   "source": [
    "<img src=\"assets/PageRanks-Example_345Kai_no(c).jpg\"\n",
    "     alt=\"graph metrics\"\n",
    "     width=500\n",
    "     style=\"float: left; margin-right: 10px;\" />"
   ]
  },
  {
   "cell_type": "markdown",
   "metadata": {},
   "source": [
    "This example was simply for illustration, we could just as easily have used networkX's own implementation of pagerank."
   ]
  },
  {
   "cell_type": "code",
   "execution_count": null,
   "metadata": {},
   "outputs": [],
   "source": [
    "#this will export the solutions to the exercises\n",
    "#!python ../nb2sln.py Concepts_in_Network_Theory.ipynb"
   ]
  },
  {
   "cell_type": "code",
   "execution_count": null,
   "metadata": {},
   "outputs": [],
   "source": [
    "## TODO\n",
    "## go through random graph, degree distribution\n",
    "## go through small-worlds \n",
    "## show img of regular -> sw -> random\n",
    "\n",
    "## See github course for inspo https://github.com/CambridgeUniversityPress/FirstCourseNetworkScience\n",
    "## See https://github.com/je-suis-tm/graph-theory"
   ]
  }
 ],
 "metadata": {
  "kernelspec": {
   "display_name": "Python 3 (ipykernel)",
   "language": "python",
   "name": "python3"
  },
  "language_info": {
   "codemirror_mode": {
    "name": "ipython",
    "version": 3
   },
   "file_extension": ".py",
   "mimetype": "text/x-python",
   "name": "python",
   "nbconvert_exporter": "python",
   "pygments_lexer": "ipython3",
   "version": "3.10.4"
  },
  "toc": {
   "base_numbering": 1,
   "nav_menu": {},
   "number_sections": true,
   "sideBar": true,
   "skip_h1_title": true,
   "title_cell": "Table of Contents",
   "title_sidebar": "Contents",
   "toc_cell": false,
   "toc_position": {},
   "toc_section_display": true,
   "toc_window_display": true
  }
 },
 "nbformat": 4,
 "nbformat_minor": 2
}
