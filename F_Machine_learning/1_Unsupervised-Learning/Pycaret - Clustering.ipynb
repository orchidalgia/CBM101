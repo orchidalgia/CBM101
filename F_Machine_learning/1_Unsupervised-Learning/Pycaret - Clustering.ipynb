{
 "cells": [
  {
   "cell_type": "markdown",
   "id": "830365f0",
   "metadata": {},
   "source": [
    "# Clustering"
   ]
  },
  {
   "cell_type": "markdown",
   "id": "bd2b2980",
   "metadata": {},
   "source": [
    "<br>\n",
    "\n",
    "One of the most common use cases in unsupervised machine learning is the identification of clusters - discrete groups of samples which are somehow closer related to samples within the same cluster than they are with those outside. Once we abstract our data in to a general *d*-dimensional space of N samples, we can quickly start to apply our intuition to how to determine cluster membership. "
   ]
  },
  {
   "cell_type": "markdown",
   "id": "cc0552c6",
   "metadata": {},
   "source": [
    "You may be wondering which clustering algorithm is the best to find \"natural subgroups\" in your data? Well, the nature of the data will answer that question:\n",
    "- For example, a large dataset could preclude computationally intensive algorithms (e.g *hierarchical clustering* or *affinity propagation*). \n",
    "- Is anything known about the underlying structure (e.g. globular versus non-globular)? \n",
    "- Are you looking for a specific number of clusters? \n",
    "- So, unfortunately, you need to have various algorithms in your toolbox, ready to deploy as the circumstances dictate \n",
    "\n",
    "---"
   ]
  },
  {
   "cell_type": "markdown",
   "id": "a7a9864c",
   "metadata": {},
   "source": [
    "![title](./assets/scatter-2d.png)\n",
    "\n",
    "**If you were to manually group the data in the above graph, how would you do it?**<br>\n",
    "    You might draw two circles, like this:\n",
    "    \n",
    "![title](./assets/scatter-2d-circled.png)    \n",
    "\n",
    "And this is what we obtain using an appropriate clustering algorithm (e.g. Gaussian mixture model (GMM)):\n",
    "\n",
    "![title](./assets/scatter-2d-segments.png)\n",
    "\n",
    "But before delving into advanced models like GMM, we have to introduce the basics."
   ]
  },
  {
   "cell_type": "markdown",
   "id": "71e10f5b",
   "metadata": {},
   "source": [
    "## K-means\n",
    "\n",
    "This is the most fundamental clustering algorithm. \n",
    "\n",
    "<img src=\"assets/KMeans_animation.gif\" style=\"float:left\"/>\n",
    "\n",
    "Assuming we know *a priori* the number of clusters (k), the algorithm starts by placing k coordinates (centroides c) in the feature space. First all samples are assigned to their closest centroid. Once assigned, we update the centroid location as the mean of all the samples belonging to it. These steps are allowed to continue until convergence.\n",
    "\n",
    "The final result depends on where the starting coordinates are."
   ]
  },
  {
   "cell_type": "markdown",
   "id": "dbb30364",
   "metadata": {},
   "source": [
    "## Import libraries"
   ]
  },
  {
   "cell_type": "code",
   "execution_count": 11,
   "id": "e962ce7c",
   "metadata": {},
   "outputs": [],
   "source": [
    "from pycaret.clustering import *\n",
    "import plotly.express as px\n",
    "\n",
    "import pandas as pd\n",
    "\n",
    "from matplotlib import pyplot as plt\n",
    "\n",
    "from sklearn.datasets import make_blobs # to generate new datasets"
   ]
  },
  {
   "cell_type": "markdown",
   "id": "e49f4dad",
   "metadata": {},
   "source": [
    "## Make simple dataset for clustering"
   ]
  },
  {
   "cell_type": "code",
   "execution_count": 12,
   "id": "ff0d8528",
   "metadata": {},
   "outputs": [],
   "source": [
    "# create points on 4 clusters\n",
    "# X has the data points (coordinates) and y has classes\n",
    "X, y = make_blobs(n_samples=200, centers=4, random_state=42, cluster_std=1.5)"
   ]
  },
  {
   "cell_type": "code",
   "execution_count": 13,
   "id": "bd8b7b43",
   "metadata": {},
   "outputs": [
    {
     "data": {
      "image/png": "[encoded data removed]",
      "text/plain": [
       "<Figure size 432x288 with 1 Axes>"
      ]
     },
     "metadata": {
      "needs_background": "light"
     },
     "output_type": "display_data"
    }
   ],
   "source": [
    "# visualize the example data\n",
    "\n",
    "# function for easy plotting\n",
    "def scatter(X, y=None, ax=plt):\n",
    "    ax.scatter(X[:,0], X[:,1], c=y, cmap='viridis')\n",
    "    \n",
    "# call that function to draw a scatterplot    \n",
    "scatter(X,y)"
   ]
  },
  {
   "cell_type": "markdown",
   "id": "3109f1cc",
   "metadata": {},
   "source": [
    "<div class='alert alert-warning'>\n",
    "    <h4> Exercise 1. a) Create a new dataset that has 180 samples, 5 clusters, 3 features and standard deviation is 1,2. </h4>\n",
    "    <h4> b) Plot the first and third features of the data </h4>"
   ]
  },
  {
   "cell_type": "code",
   "execution_count": 14,
   "id": "04a4adde",
   "metadata": {},
   "outputs": [],
   "source": [
    "# Ex1 a)\n"
   ]
  },
  {
   "cell_type": "code",
   "execution_count": 32,
   "id": "91f290b0",
   "metadata": {},
   "outputs": [],
   "source": [
    "# %load solutions/pyc_1a.py"
   ]
  },
  {
   "cell_type": "code",
   "execution_count": 16,
   "id": "7c68df70",
   "metadata": {},
   "outputs": [],
   "source": [
    "# Ex2 b)\n"
   ]
  },
  {
   "cell_type": "code",
   "execution_count": 17,
   "id": "111d4af9",
   "metadata": {},
   "outputs": [],
   "source": [
    "# %load solutions/pyc_1b.py"
   ]
  },
  {
   "cell_type": "markdown",
   "id": "82ce4b83",
   "metadata": {},
   "source": [
    "## Pycaret\n",
    "\n",
    "Pycaret is a low-code and beginner-friendly machine learning (ML) library in Python that automates and speeds up the ML-workflow. Pycaret replaces hundreds of lines of code with only a few."
   ]
  },
  {
   "cell_type": "markdown",
   "id": "afc0d964",
   "metadata": {},
   "source": [
    "### Clustering in Pycaret"
   ]
  },
  {
   "cell_type": "markdown",
   "id": "40bbc983",
   "metadata": {},
   "source": [
    "PyCaret's clustering module provides several pre-processing features that can be configured when initializing the setup through the `setup()` function. It has over 8 algorithms and several plots to analyze the results. PyCaret's clustering module also implements a unique function called `tune_model()` that allows you to tune the hyperparameters of a clustering model to optimize a supervised learning objective such as R^2 for regression.\n",
    "\n",
    "`setup()` is Pycaret's main function and it needs to be run before executing any other function in pycaret. The `setup()` function initializes the environment in pycaret and creates the transformation pipeline to prepare the data for modeling and deployment.\n",
    "\n",
    "When `setup()` is executed, PyCaret's inference algorithm will automatically infer the data types for all features based on certain properties. Ensuring that the data types are correct is of fundamental importance in PyCaret as it automatically performs a few pre-processing tasks which are imperative to any machine learning experiment. These tasks are performed differently for each data type which means it is very important for them to be correctly configured."
   ]
  },
  {
   "cell_type": "code",
   "execution_count": 33,
   "id": "7c8161ed",
   "metadata": {},
   "outputs": [
    {
     "data": {
      "text/html": [
       "<style type=\"text/css\">\n",
       "#T_f6eb7_row4_col1 {\n",
       "  background-color: lightgreen;\n",
       "}\n",
       "</style>\n",
       "<table id=\"T_f6eb7\">\n",
       "  <thead>\n",
       "    <tr>\n",
       "      <th class=\"blank level0\" >&nbsp;</th>\n",
       "      <th id=\"T_f6eb7_level0_col0\" class=\"col_heading level0 col0\" >Description</th>\n",
       "      <th id=\"T_f6eb7_level0_col1\" class=\"col_heading level0 col1\" >Value</th>\n",
       "    </tr>\n",
       "  </thead>\n",
       "  <tbody>\n",
       "    <tr>\n",
       "      <th id=\"T_f6eb7_level0_row0\" class=\"row_heading level0 row0\" >0</th>\n",
       "      <td id=\"T_f6eb7_row0_col0\" class=\"data row0 col0\" >Session id</td>\n",
       "      <td id=\"T_f6eb7_row0_col1\" class=\"data row0 col1\" >5489</td>\n",
       "    </tr>\n",
       "    <tr>\n",
       "      <th id=\"T_f6eb7_level0_row1\" class=\"row_heading level0 row1\" >1</th>\n",
       "      <td id=\"T_f6eb7_row1_col0\" class=\"data row1 col0\" >Original data shape</td>\n",
       "      <td id=\"T_f6eb7_row1_col1\" class=\"data row1 col1\" >(180, 3)</td>\n",
       "    </tr>\n",
       "    <tr>\n",
       "      <th id=\"T_f6eb7_level0_row2\" class=\"row_heading level0 row2\" >2</th>\n",
       "      <td id=\"T_f6eb7_row2_col0\" class=\"data row2 col0\" >Transformed data shape</td>\n",
       "      <td id=\"T_f6eb7_row2_col1\" class=\"data row2 col1\" >(180, 3)</td>\n",
       "    </tr>\n",
       "    <tr>\n",
       "      <th id=\"T_f6eb7_level0_row3\" class=\"row_heading level0 row3\" >3</th>\n",
       "      <td id=\"T_f6eb7_row3_col0\" class=\"data row3 col0\" >Numeric features</td>\n",
       "      <td id=\"T_f6eb7_row3_col1\" class=\"data row3 col1\" >3</td>\n",
       "    </tr>\n",
       "    <tr>\n",
       "      <th id=\"T_f6eb7_level0_row4\" class=\"row_heading level0 row4\" >4</th>\n",
       "      <td id=\"T_f6eb7_row4_col0\" class=\"data row4 col0\" >Preprocess</td>\n",
       "      <td id=\"T_f6eb7_row4_col1\" class=\"data row4 col1\" >True</td>\n",
       "    </tr>\n",
       "    <tr>\n",
       "      <th id=\"T_f6eb7_level0_row5\" class=\"row_heading level0 row5\" >5</th>\n",
       "      <td id=\"T_f6eb7_row5_col0\" class=\"data row5 col0\" >Imputation type</td>\n",
       "      <td id=\"T_f6eb7_row5_col1\" class=\"data row5 col1\" >simple</td>\n",
       "    </tr>\n",
       "    <tr>\n",
       "      <th id=\"T_f6eb7_level0_row6\" class=\"row_heading level0 row6\" >6</th>\n",
       "      <td id=\"T_f6eb7_row6_col0\" class=\"data row6 col0\" >Numeric imputation</td>\n",
       "      <td id=\"T_f6eb7_row6_col1\" class=\"data row6 col1\" >mean</td>\n",
       "    </tr>\n",
       "    <tr>\n",
       "      <th id=\"T_f6eb7_level0_row7\" class=\"row_heading level0 row7\" >7</th>\n",
       "      <td id=\"T_f6eb7_row7_col0\" class=\"data row7 col0\" >Categorical imputation</td>\n",
       "      <td id=\"T_f6eb7_row7_col1\" class=\"data row7 col1\" >constant</td>\n",
       "    </tr>\n",
       "    <tr>\n",
       "      <th id=\"T_f6eb7_level0_row8\" class=\"row_heading level0 row8\" >8</th>\n",
       "      <td id=\"T_f6eb7_row8_col0\" class=\"data row8 col0\" >Low variance threshold</td>\n",
       "      <td id=\"T_f6eb7_row8_col1\" class=\"data row8 col1\" >0</td>\n",
       "    </tr>\n",
       "    <tr>\n",
       "      <th id=\"T_f6eb7_level0_row9\" class=\"row_heading level0 row9\" >9</th>\n",
       "      <td id=\"T_f6eb7_row9_col0\" class=\"data row9 col0\" >CPU Jobs</td>\n",
       "      <td id=\"T_f6eb7_row9_col1\" class=\"data row9 col1\" >-1</td>\n",
       "    </tr>\n",
       "    <tr>\n",
       "      <th id=\"T_f6eb7_level0_row10\" class=\"row_heading level0 row10\" >10</th>\n",
       "      <td id=\"T_f6eb7_row10_col0\" class=\"data row10 col0\" >Use GPU</td>\n",
       "      <td id=\"T_f6eb7_row10_col1\" class=\"data row10 col1\" >False</td>\n",
       "    </tr>\n",
       "    <tr>\n",
       "      <th id=\"T_f6eb7_level0_row11\" class=\"row_heading level0 row11\" >11</th>\n",
       "      <td id=\"T_f6eb7_row11_col0\" class=\"data row11 col0\" >Log Experiment</td>\n",
       "      <td id=\"T_f6eb7_row11_col1\" class=\"data row11 col1\" >False</td>\n",
       "    </tr>\n",
       "    <tr>\n",
       "      <th id=\"T_f6eb7_level0_row12\" class=\"row_heading level0 row12\" >12</th>\n",
       "      <td id=\"T_f6eb7_row12_col0\" class=\"data row12 col0\" >Experiment Name</td>\n",
       "      <td id=\"T_f6eb7_row12_col1\" class=\"data row12 col1\" >cluster-default-name</td>\n",
       "    </tr>\n",
       "    <tr>\n",
       "      <th id=\"T_f6eb7_level0_row13\" class=\"row_heading level0 row13\" >13</th>\n",
       "      <td id=\"T_f6eb7_row13_col0\" class=\"data row13 col0\" >USI</td>\n",
       "      <td id=\"T_f6eb7_row13_col1\" class=\"data row13 col1\" >a553</td>\n",
       "    </tr>\n",
       "  </tbody>\n",
       "</table>\n"
      ],
      "text/plain": [
       "<pandas.io.formats.style.Styler at 0x1b392e70820>"
      ]
     },
     "metadata": {},
     "output_type": "display_data"
    }
   ],
   "source": [
    "# setup() has lots of optional parameters for e.g. preprocessing, but let's run it with defaults\n",
    "s = setup(X)"
   ]
  },
  {
   "cell_type": "code",
   "execution_count": 34,
   "id": "93317cca",
   "metadata": {
    "scrolled": false
   },
   "outputs": [
    {
     "data": {
      "text/html": [
       "<div>\n",
       "<style scoped>\n",
       "    .dataframe tbody tr th:only-of-type {\n",
       "        vertical-align: middle;\n",
       "    }\n",
       "\n",
       "    .dataframe tbody tr th {\n",
       "        vertical-align: top;\n",
       "    }\n",
       "\n",
       "    .dataframe thead th {\n",
       "        text-align: right;\n",
       "    }\n",
       "</style>\n",
       "<table border=\"1\" class=\"dataframe\">\n",
       "  <thead>\n",
       "    <tr style=\"text-align: right;\">\n",
       "      <th></th>\n",
       "      <th>Name</th>\n",
       "      <th>Reference</th>\n",
       "    </tr>\n",
       "    <tr>\n",
       "      <th>ID</th>\n",
       "      <th></th>\n",
       "      <th></th>\n",
       "    </tr>\n",
       "  </thead>\n",
       "  <tbody>\n",
       "    <tr>\n",
       "      <th>kmeans</th>\n",
       "      <td>K-Means Clustering</td>\n",
       "      <td>sklearn.cluster._kmeans.KMeans</td>\n",
       "    </tr>\n",
       "    <tr>\n",
       "      <th>ap</th>\n",
       "      <td>Affinity Propagation</td>\n",
       "      <td>sklearn.cluster._affinity_propagation.Affinity...</td>\n",
       "    </tr>\n",
       "    <tr>\n",
       "      <th>meanshift</th>\n",
       "      <td>Mean Shift Clustering</td>\n",
       "      <td>sklearn.cluster._mean_shift.MeanShift</td>\n",
       "    </tr>\n",
       "    <tr>\n",
       "      <th>sc</th>\n",
       "      <td>Spectral Clustering</td>\n",
       "      <td>sklearn.cluster._spectral.SpectralClustering</td>\n",
       "    </tr>\n",
       "    <tr>\n",
       "      <th>hclust</th>\n",
       "      <td>Agglomerative Clustering</td>\n",
       "      <td>sklearn.cluster._agglomerative.AgglomerativeCl...</td>\n",
       "    </tr>\n",
       "    <tr>\n",
       "      <th>dbscan</th>\n",
       "      <td>Density-Based Spatial Clustering</td>\n",
       "      <td>sklearn.cluster._dbscan.DBSCAN</td>\n",
       "    </tr>\n",
       "    <tr>\n",
       "      <th>optics</th>\n",
       "      <td>OPTICS Clustering</td>\n",
       "      <td>sklearn.cluster._optics.OPTICS</td>\n",
       "    </tr>\n",
       "    <tr>\n",
       "      <th>birch</th>\n",
       "      <td>Birch Clustering</td>\n",
       "      <td>sklearn.cluster._birch.Birch</td>\n",
       "    </tr>\n",
       "    <tr>\n",
       "      <th>kmodes</th>\n",
       "      <td>K-Modes Clustering</td>\n",
       "      <td>kmodes.kmodes.KModes</td>\n",
       "    </tr>\n",
       "  </tbody>\n",
       "</table>\n",
       "</div>"
      ],
      "text/plain": [
       "                                       Name  \\\n",
       "ID                                            \n",
       "kmeans                   K-Means Clustering   \n",
       "ap                     Affinity Propagation   \n",
       "meanshift             Mean Shift Clustering   \n",
       "sc                      Spectral Clustering   \n",
       "hclust             Agglomerative Clustering   \n",
       "dbscan     Density-Based Spatial Clustering   \n",
       "optics                    OPTICS Clustering   \n",
       "birch                      Birch Clustering   \n",
       "kmodes                   K-Modes Clustering   \n",
       "\n",
       "                                                   Reference  \n",
       "ID                                                            \n",
       "kmeans                        sklearn.cluster._kmeans.KMeans  \n",
       "ap         sklearn.cluster._affinity_propagation.Affinity...  \n",
       "meanshift              sklearn.cluster._mean_shift.MeanShift  \n",
       "sc              sklearn.cluster._spectral.SpectralClustering  \n",
       "hclust     sklearn.cluster._agglomerative.AgglomerativeCl...  \n",
       "dbscan                        sklearn.cluster._dbscan.DBSCAN  \n",
       "optics                        sklearn.cluster._optics.OPTICS  \n",
       "birch                           sklearn.cluster._birch.Birch  \n",
       "kmodes                                  kmodes.kmodes.KModes  "
      ]
     },
     "execution_count": 34,
     "metadata": {},
     "output_type": "execute_result"
    }
   ],
   "source": [
    "# pycaret offers many clustering algorithms. We can test and compare them\n",
    "models()"
   ]
  },
  {
   "cell_type": "markdown",
   "id": "b0625580",
   "metadata": {},
   "source": [
    "## Create a model"
   ]
  },
  {
   "cell_type": "markdown",
   "id": "a55c4582",
   "metadata": {},
   "source": [
    "Next let's create kmeans model. Without additional parameters it will use 4 clusters as default but if you know the number of clusters beforehand you can pass it using `num_clusters` parameter. In this case we know there is supposed to be 5 clusters and we're gonna use that."
   ]
  },
  {
   "cell_type": "code",
   "execution_count": 35,
   "id": "6f24a474",
   "metadata": {},
   "outputs": [
    {
     "data": {
      "text/html": [],
      "text/plain": [
       "<IPython.core.display.HTML object>"
      ]
     },
     "metadata": {},
     "output_type": "display_data"
    },
    {
     "data": {
      "text/html": [
       "<style type=\"text/css\">\n",
       "</style>\n",
       "<table id=\"T_ee037\">\n",
       "  <thead>\n",
       "    <tr>\n",
       "      <th class=\"blank level0\" >&nbsp;</th>\n",
       "      <th id=\"T_ee037_level0_col0\" class=\"col_heading level0 col0\" >Silhouette</th>\n",
       "      <th id=\"T_ee037_level0_col1\" class=\"col_heading level0 col1\" >Calinski-Harabasz</th>\n",
       "      <th id=\"T_ee037_level0_col2\" class=\"col_heading level0 col2\" >Davies-Bouldin</th>\n",
       "      <th id=\"T_ee037_level0_col3\" class=\"col_heading level0 col3\" >Homogeneity</th>\n",
       "      <th id=\"T_ee037_level0_col4\" class=\"col_heading level0 col4\" >Rand Index</th>\n",
       "      <th id=\"T_ee037_level0_col5\" class=\"col_heading level0 col5\" >Completeness</th>\n",
       "    </tr>\n",
       "  </thead>\n",
       "  <tbody>\n",
       "    <tr>\n",
       "      <th id=\"T_ee037_level0_row0\" class=\"row_heading level0 row0\" >0</th>\n",
       "      <td id=\"T_ee037_row0_col0\" class=\"data row0 col0\" >0.5871</td>\n",
       "      <td id=\"T_ee037_row0_col1\" class=\"data row0 col1\" >1314.0585</td>\n",
       "      <td id=\"T_ee037_row0_col2\" class=\"data row0 col2\" >0.6198</td>\n",
       "      <td id=\"T_ee037_row0_col3\" class=\"data row0 col3\" >0</td>\n",
       "      <td id=\"T_ee037_row0_col4\" class=\"data row0 col4\" >0</td>\n",
       "      <td id=\"T_ee037_row0_col5\" class=\"data row0 col5\" >0</td>\n",
       "    </tr>\n",
       "  </tbody>\n",
       "</table>\n"
      ],
      "text/plain": [
       "<pandas.io.formats.style.Styler at 0x1b3f654a4f0>"
      ]
     },
     "metadata": {},
     "output_type": "display_data"
    },
    {
     "data": {
      "application/vnd.jupyter.widget-view+json": {
       "model_id": "",
       "version_major": 2,
       "version_minor": 0
      },
      "text/plain": [
       "Processing:   0%|          | 0/3 [00:00<?, ?it/s]"
      ]
     },
     "metadata": {},
     "output_type": "display_data"
    }
   ],
   "source": [
    "kmeans = create_model('kmeans', num_clusters=5)"
   ]
  },
  {
   "cell_type": "markdown",
   "id": "18a89ddf",
   "metadata": {},
   "source": [
    "Pycaret will print some useful metrics. Silhouette Coefficient or silhouette score is a metric used to calculate the goodness of a clustering technique. Its value ranges from -1 to 1, where 1 means that clusters are well apart from each other and clearly distinguished, 0 means that clusters are indifferent ie. the distance between clusters is not significant, and -1 means that clusters are assigned in the wrong way.\n",
    "\n",
    "We can plot silhouette scores per cluster and get validation of consistency within clusters of data. The technique provides a succinct graphical representation of how well each object has been classified. In other words, the silhouette value is a measure of how similar an object is to its own cluster (cohesion) compared to other clusters (separation)."
   ]
  },
  {
   "cell_type": "code",
   "execution_count": 36,
   "id": "1e6ef78f",
   "metadata": {},
   "outputs": [
    {
     "data": {
      "text/html": [],
      "text/plain": [
       "<IPython.core.display.HTML object>"
      ]
     },
     "metadata": {},
     "output_type": "display_data"
    },
    {
     "data": {
      "image/png": "[encoded data removed]",
      "text/plain": [
       "<Figure size 432x288 with 1 Axes>"
      ]
     },
     "metadata": {
      "needs_background": "light"
     },
     "output_type": "display_data"
    }
   ],
   "source": [
    "plot_model(kmeans, plot = 'silhouette')"
   ]
  },
  {
   "cell_type": "markdown",
   "id": "44b20472",
   "metadata": {},
   "source": [
    "Another useful method is the **elbow method**, which is a heuristic method of interpretation and validation of consistency within cluster analysis designed to **help find the appropriate number of clusters** in a dataset."
   ]
  },
  {
   "cell_type": "code",
   "execution_count": 37,
   "id": "858bc015",
   "metadata": {},
   "outputs": [
    {
     "data": {
      "text/html": [],
      "text/plain": [
       "<IPython.core.display.HTML object>"
      ]
     },
     "metadata": {},
     "output_type": "display_data"
    },
    {
     "data": {
      "image/png": "[encoded data removed]",
      "text/plain": [
       "<Figure size 432x288 with 1 Axes>"
      ]
     },
     "metadata": {
      "needs_background": "light"
     },
     "output_type": "display_data"
    }
   ],
   "source": [
    "plot_model(kmeans, plot = 'elbow')"
   ]
  },
  {
   "cell_type": "markdown",
   "id": "8fa29a4d",
   "metadata": {},
   "source": [
    "In this example the Elbow plot above suggests that 5 is the optimal number of clusters. Usually there is a clear angle, *elbow*, in the distortion scores, and that cutoff point is where adding another cluster doesn't give much better modeling of the data.\n",
    "\n",
    "---"
   ]
  },
  {
   "cell_type": "markdown",
   "id": "45b1e9b3",
   "metadata": {},
   "source": [
    "### Centroids \n",
    "\n",
    "The **model** here is itself a python *object*, and can thus have certain attributes, such as the centroids locations:"
   ]
  },
  {
   "cell_type": "code",
   "execution_count": 38,
   "id": "585b6688",
   "metadata": {},
   "outputs": [
    {
     "data": {
      "text/plain": [
       "array([[ 6.635913 , -5.875166 , -6.3360353],\n",
       "       [-8.718878 ,  7.4437304,  2.2895489],\n",
       "       [ 4.3946075, -9.525808 ,  9.558765 ],\n",
       "       [-2.4740505,  8.863021 ,  4.501099 ],\n",
       "       [ 2.3920732, -6.9456806, -6.375912 ]], dtype=float32)"
      ]
     },
     "execution_count": 38,
     "metadata": {},
     "output_type": "execute_result"
    }
   ],
   "source": [
    "centroids = kmeans.cluster_centers_\n",
    "centroids"
   ]
  },
  {
   "cell_type": "code",
   "execution_count": 39,
   "id": "f735abe0",
   "metadata": {},
   "outputs": [],
   "source": [
    "# Make a function for common plot formatting\n",
    "def format_plot(ax, title):\n",
    "    ax.xaxis.set_major_formatter(plt.NullFormatter())  # no tick labels\n",
    "    ax.yaxis.set_major_formatter(plt.NullFormatter())\n",
    "    ax.set_xlabel('feature 1', color='black')          # axis labels\n",
    "    ax.set_ylabel('feature 2', color='black')\n",
    "    ax.set_title(title, color='black')                 # title"
   ]
  },
  {
   "cell_type": "code",
   "execution_count": 40,
   "id": "31fced67",
   "metadata": {},
   "outputs": [
    {
     "data": {
      "image/png": "[encoded data removed]",
      "text/plain": [
       "<Figure size 576x432 with 1 Axes>"
      ]
     },
     "metadata": {
      "needs_background": "light"
     },
     "output_type": "display_data"
    }
   ],
   "source": [
    "fig, ax = plt.subplots(figsize=(8, 6))\n",
    "\n",
    "# plot datapoints\n",
    "ax.scatter(X[:, 0], X[:, 1], s=50, color='gray')\n",
    "\n",
    "# plot centroids\n",
    "ax.scatter(centroids[:, 0], centroids[:, 1], marker='o', edgecolors='blue', s=400)\n",
    "\n",
    "# use plot formatting function defined above\n",
    "format_plot(ax, 'Simulated Input Data')\n",
    "\n",
    "\n",
    "plt.show()"
   ]
  },
  {
   "cell_type": "markdown",
   "id": "dd393192",
   "metadata": {},
   "source": [
    "## Plot the model"
   ]
  },
  {
   "cell_type": "markdown",
   "id": "4e5d7a6d",
   "metadata": {},
   "source": [
    "The `plot_model()` function can be used to analyze different aspects of the clustering model. This function takes a trained model object and returns a plot. See examples below:"
   ]
  },
  {
   "cell_type": "markdown",
   "id": "b1b220cd",
   "metadata": {},
   "source": [
    "### PCA plot"
   ]
  },
  {
   "cell_type": "code",
   "execution_count": 41,
   "id": "42bbcacc",
   "metadata": {
    "scrolled": false
   },
   "outputs": [
    {
     "data": {
      "text/html": [],
      "text/plain": [
       "<IPython.core.display.HTML object>"
      ]
     },
     "metadata": {},
     "output_type": "display_data"
    },
    {
     "data": {
      "application/vnd.plotly.v1+json": {
       "config": {
        "plotlyServerURL": "https://plot.ly"
       },
       "data": [
        {
         "customdata": [
          [
           5.6702538
          ],
          [
           5.765158
          ],
          [
           6.7561255
          ],
          [
           5.175188
          ],
          [
           5.897661
          ],
          [
           9.100838
          ],
          [
           6.2656207
          ],
          [
           5.46333
          ],
          [
           6.280793
          ],
          [
           8.547298
          ],
          [
           6.91072
          ],
          [
           7.778394
          ],
          [
           6.4245667
          ],
          [
           9.498048
          ],
          [
           7.4332137
          ],
          [
           8.323731
          ],
          [
           5.8970237
          ],
          [
           5.863605
          ],
          [
           6.9845614
          ],
          [
           6.933642
          ],
          [
           5.6545525
          ],
          [
           5.734771
          ],
          [
           5.4821305
          ],
          [
           5.281883
          ],
          [
           5.9264903
          ],
          [
           6.4190135
          ],
          [
           6.5265136
          ],
          [
           6.0097566
          ],
          [
           8.094415
          ],
          [
           7.5748186
          ],
          [
           6.2151456
          ],
          [
           4.7156463
          ],
          [
           7.470423
          ],
          [
           7.5456944
          ]
         ],
         "hovertemplate": "Cluster=Cluster 0<br>PCA1=%{x}<br>PCA2=%{y}<br>Feature=%{customdata[0]}<extra></extra>",
         "legendgroup": "Cluster 0",
         "marker": {
          "color": "#636efa",
          "opacity": 0.5,
          "symbol": "circle"
         },
         "mode": "markers",
         "name": "Cluster 0",
         "orientation": "v",
         "showlegend": true,
         "textposition": "top center",
         "type": "scatter",
         "x": [
          -9.397772,
          -8.067387,
          -7.9878416,
          -5.9548244,
          -9.014827,
          -8.377255,
          -9.294981,
          -7.9340787,
          -9.915898,
          -10.528137,
          -7.8390326,
          -9.455409,
          -9.191112,
          -9.621466,
          -10.175976,
          -11.6996355,
          -10.331309,
          -9.350486,
          -11.871691,
          -9.046122,
          -9.727459,
          -9.295671,
          -7.712953,
          -7.010871,
          -7.4373374,
          -9.489022,
          -8.641656,
          -7.999621,
          -9.082659,
          -9.30652,
          -9.062811,
          -8.154421,
          -9.0127,
          -9.001286
         ],
         "xaxis": "x",
         "y": [
          -6.5664454,
          -5.89554,
          -3.3190389,
          -6.2482557,
          -5.424618,
          -4.190699,
          -5.4395437,
          -4.0055165,
          -3.6311278,
          -5.45515,
          -4.041661,
          -4.745869,
          -6.2242746,
          -5.5421386,
          -4.6454887,
          -6.6202054,
          -3.3961513,
          -5.232182,
          -4.6242094,
          -5.887246,
          -7.803059,
          -6.0607967,
          -3.380402,
          -2.0086021,
          -4.032438,
          -7.6648145,
          -4.427878,
          -4.9860497,
          -5.8360405,
          -1.8724926,
          -5.4900694,
          -5.607934,
          -5.135223,
          -2.448229
         ],
         "yaxis": "y"
        },
        {
         "customdata": [
          [
           -11.11518
          ],
          [
           -9.593968
          ],
          [
           -10.984524
          ],
          [
           -9.641371
          ],
          [
           -8.765252
          ],
          [
           -6.3047466
          ],
          [
           -8.823752
          ],
          [
           -8.861658
          ],
          [
           -8.311135
          ],
          [
           -8.96447
          ],
          [
           -8.037861
          ],
          [
           -8.742089
          ],
          [
           -9.585012
          ],
          [
           -10.363374
          ],
          [
           -9.365749
          ],
          [
           -9.163576
          ],
          [
           -7.3186398
          ],
          [
           -6.965872
          ],
          [
           -8.457007
          ],
          [
           -6.8447657
          ],
          [
           -7.3924203
          ],
          [
           -6.9866467
          ],
          [
           -7.202205
          ],
          [
           -9.690481
          ],
          [
           -7.0952673
          ],
          [
           -10.430526
          ],
          [
           -7.873752
          ],
          [
           -9.371726
          ],
          [
           -8.58921
          ],
          [
           -10.374231
          ],
          [
           -8.307839
          ],
          [
           -9.397125
          ],
          [
           -11.346349
          ],
          [
           -7.5600553
          ],
          [
           -8.352357
          ],
          [
           -7.699356
          ]
         ],
         "hovertemplate": "Cluster=Cluster 1<br>PCA1=%{x}<br>PCA2=%{y}<br>Feature=%{customdata[0]}<extra></extra>",
         "legendgroup": "Cluster 1",
         "marker": {
          "color": "#EF553B",
          "opacity": 0.5,
          "symbol": "circle"
         },
         "mode": "markers",
         "name": "Cluster 1",
         "orientation": "v",
         "showlegend": true,
         "textposition": "top center",
         "type": "scatter",
         "x": [
          14.379228,
          13.559094,
          13.491278,
          14.186713,
          12.754128,
          11.452021,
          12.843693,
          10.826556,
          11.585429,
          9.863181,
          11.03029,
          11.115793,
          12.506408,
          15.8447275,
          12.111417,
          12.349159,
          12.220101,
          11.430201,
          10.695245,
          10.636932,
          10.463599,
          12.361999,
          12.051687,
          10.477846,
          11.733624,
          14.512429,
          12.648273,
          10.567603,
          12.692988,
          13.34598,
          12.643928,
          13.260746,
          15.072975,
          9.583463,
          12.675594,
          11.572343
         ],
         "xaxis": "x",
         "y": [
          -3.253971,
          -1.632707,
          -2.7183962,
          -0.5745787,
          -1.9686723,
          -1.8022043,
          -2.81181,
          -3.1155472,
          -2.3905683,
          -2.796084,
          -1.6270039,
          -2.010547,
          -0.7815553,
          -0.6988139,
          -1.5384386,
          0.44726098,
          0.015649578,
          -1.1398087,
          -0.2809734,
          -1.9805888,
          -0.5085398,
          -2.300086,
          -1.9997797,
          -2.8414297,
          -1.1897705,
          -3.4975605,
          -0.4517532,
          -2.330682,
          -2.706629,
          0.16282767,
          -2.9193158,
          0.71379155,
          -3.079089,
          -1.7389821,
          -2.3893008,
          -0.7453533
         ],
         "yaxis": "y"
        },
        {
         "customdata": [
          [
           1.9892939
          ],
          [
           5.894658
          ],
          [
           6.011097
          ],
          [
           2.8446364
          ],
          [
           3.641071
          ],
          [
           4.7106633
          ],
          [
           3.079899
          ],
          [
           5.0864873
          ],
          [
           2.1638198
          ],
          [
           4.4016128
          ],
          [
           4.0710874
          ],
          [
           4.5364017
          ],
          [
           4.14379
          ],
          [
           4.6489234
          ],
          [
           3.8385382
          ],
          [
           5.6019454
          ],
          [
           2.4267197
          ],
          [
           3.6414874
          ],
          [
           5.5086646
          ],
          [
           5.933442
          ],
          [
           5.7627864
          ],
          [
           4.7298045
          ],
          [
           4.4922137
          ],
          [
           6.022967
          ],
          [
           4.452252
          ],
          [
           6.0454903
          ],
          [
           5.3933473
          ],
          [
           4.4727187
          ],
          [
           3.3643787
          ],
          [
           2.5191433
          ],
          [
           3.9721828
          ],
          [
           4.073118
          ],
          [
           3.3426404
          ],
          [
           5.2085013
          ],
          [
           5.3330226
          ],
          [
           4.847069
          ]
         ],
         "hovertemplate": "Cluster=Cluster 2<br>PCA1=%{x}<br>PCA2=%{y}<br>Feature=%{customdata[0]}<extra></extra>",
         "legendgroup": "Cluster 2",
         "marker": {
          "color": "#00cc96",
          "opacity": 0.5,
          "symbol": "circle"
         },
         "mode": "markers",
         "name": "Cluster 2",
         "orientation": "v",
         "showlegend": true,
         "textposition": "top center",
         "type": "scatter",
         "x": [
          -6.86536,
          -6.4489274,
          -8.206905,
          -5.315367,
          -6.9379635,
          -6.2257977,
          -5.861903,
          -6.316957,
          -5.120879,
          -8.687766,
          -7.1659756,
          -7.347652,
          -5.641497,
          -6.3845577,
          -4.43335,
          -5.3928556,
          -6.309589,
          -5.6624737,
          -8.464507,
          -6.6460576,
          -6.132871,
          -5.825824,
          -7.038018,
          -6.7790294,
          -4.4795027,
          -7.6239038,
          -7.159175,
          -5.7000566,
          -5.260451,
          -4.577152,
          -7.176601,
          -6.4462967,
          -5.509017,
          -5.935361,
          -8.083092,
          -5.5162024
         ],
         "xaxis": "x",
         "y": [
          11.703178,
          10.628531,
          10.989436,
          10.558525,
          8.959101,
          12.060254,
          10.759357,
          10.933375,
          11.164847,
          11.044542,
          11.796151,
          9.189809,
          10.318122,
          13.221983,
          11.404163,
          10.335965,
          10.5960245,
          11.423758,
          11.342074,
          10.696565,
          11.124064,
          13.555145,
          8.016016,
          12.353361,
          10.409608,
          11.171457,
          9.789373,
          12.57678,
          8.04135,
          11.785708,
          12.494131,
          11.316256,
          12.293906,
          10.084252,
          12.372859,
          11.510917
         ],
         "yaxis": "y"
        },
        {
         "customdata": [
          [
           -2.2468317
          ],
          [
           -1.965674
          ],
          [
           -1.4249586
          ],
          [
           -4.9359756
          ],
          [
           -3.3002164
          ],
          [
           -1.1988069
          ],
          [
           0.562188
          ],
          [
           -2.5314586
          ],
          [
           -2.347883
          ],
          [
           -2.0945761
          ],
          [
           -4.1252112
          ],
          [
           -1.4359988
          ],
          [
           -3.7545934
          ],
          [
           -4.4091506
          ],
          [
           -2.159957
          ],
          [
           -3.587047
          ],
          [
           -3.700301
          ],
          [
           1.5375578
          ],
          [
           -3.1948538
          ],
          [
           -2.7224762
          ],
          [
           -4.303262
          ],
          [
           -2.5822346
          ],
          [
           -2.7845383
          ],
          [
           -3.2573705
          ],
          [
           -3.022853
          ],
          [
           -3.1277204
          ],
          [
           -2.7637913
          ],
          [
           -1.701447
          ],
          [
           -0.9807173
          ],
          [
           -1.1193737
          ],
          [
           -2.820032
          ],
          [
           -0.8629631
          ],
          [
           -1.368754
          ],
          [
           -1.554483
          ],
          [
           -5.076742
          ],
          [
           -2.703304
          ]
         ],
         "hovertemplate": "Cluster=Cluster 3<br>PCA1=%{x}<br>PCA2=%{y}<br>Feature=%{customdata[0]}<extra></extra>",
         "legendgroup": "Cluster 3",
         "marker": {
          "color": "#ab63fa",
          "opacity": 0.5,
          "symbol": "circle"
         },
         "mode": "markers",
         "name": "Cluster 3",
         "orientation": "v",
         "showlegend": true,
         "textposition": "top center",
         "type": "scatter",
         "x": [
          11.169119,
          10.417566,
          10.057797,
          11.660665,
          11.38372,
          13.145669,
          9.565227,
          8.855312,
          11.560293,
          10.101446,
          10.451486,
          10.875818,
          11.714361,
          12.3822975,
          9.665984,
          12.273536,
          11.393538,
          7.61158,
          9.422705,
          10.907541,
          11.250844,
          9.8218775,
          10.902498,
          10.117828,
          10.131952,
          10.867154,
          10.690941,
          9.997294,
          8.824155,
          10.40067,
          10.276175,
          9.979724,
          10.465563,
          11.827527,
          11.771356,
          10.389535
         ],
         "xaxis": "x",
         "y": [
          -0.64080113,
          1.1275471,
          0.25940517,
          2.4495862,
          1.2449781,
          1.3999656,
          1.0928769,
          0.065385364,
          1.6283133,
          0.6068399,
          -0.40900797,
          0.40265182,
          1.7956728,
          -0.2774183,
          -0.16721933,
          0.7455488,
          0.12607661,
          1.0045153,
          -2.0102575,
          2.2411988,
          1.7030044,
          2.4155705,
          -0.83307236,
          2.4431016,
          0.14794952,
          1.993757,
          1.4612368,
          0.5110853,
          -2.040855,
          1.191924,
          0.43953112,
          0.52458876,
          -1.1264671,
          0.7850699,
          1.4081731,
          0.9170964
         ],
         "yaxis": "y"
        },
        {
         "customdata": [
          [
           1.7261297
          ],
          [
           0.5900912
          ],
          [
           3.6439605
          ],
          [
           0.946055
          ],
          [
           3.021477
          ],
          [
           0.81755096
          ],
          [
           1.5625997
          ],
          [
           3.532446
          ],
          [
           0.87554055
          ],
          [
           1.0109763
          ],
          [
           1.8084435
          ],
          [
           2.085688
          ],
          [
           1.0470328
          ],
          [
           2.8253007
          ],
          [
           1.430215
          ],
          [
           3.6098335
          ],
          [
           2.2818186
          ],
          [
           1.5072525
          ],
          [
           2.7520738
          ],
          [
           3.6979973
          ],
          [
           3.2526078
          ],
          [
           2.6405158
          ],
          [
           0.5934186
          ],
          [
           2.3809547
          ],
          [
           4.524561
          ],
          [
           2.1829693
          ],
          [
           3.059316
          ],
          [
           1.3810507
          ],
          [
           3.7007563
          ],
          [
           1.0717543
          ],
          [
           3.495237
          ],
          [
           3.1590128
          ],
          [
           3.5632966
          ],
          [
           3.424428
          ],
          [
           3.2420778
          ],
          [
           0.9320004
          ],
          [
           3.4336545
          ],
          [
           4.0886946
          ]
         ],
         "hovertemplate": "Cluster=Cluster 4<br>PCA1=%{x}<br>PCA2=%{y}<br>Feature=%{customdata[0]}<extra></extra>",
         "legendgroup": "Cluster 4",
         "marker": {
          "color": "#FFA15A",
          "opacity": 0.5,
          "symbol": "circle"
         },
         "mode": "markers",
         "name": "Cluster 4",
         "orientation": "v",
         "showlegend": true,
         "textposition": "top center",
         "type": "scatter",
         "x": [
          -8.298967,
          -8.083989,
          -9.160157,
          -7.1067247,
          -8.119496,
          -5.8747945,
          -8.279305,
          -8.909526,
          -6.3140345,
          -5.1410604,
          -7.2317123,
          -8.862827,
          -6.1849623,
          -7.606964,
          -6.065537,
          -6.000409,
          -7.3010583,
          -8.159404,
          -8.857482,
          -7.9269385,
          -8.595776,
          -6.6311064,
          -7.1914477,
          -7.4186916,
          -8.708199,
          -8.377273,
          -8.506332,
          -5.681912,
          -8.406204,
          -7.789376,
          -7.5470295,
          -7.801672,
          -7.9099555,
          -6.8105264,
          -7.790552,
          -7.1962404,
          -7.734278,
          -8.626367
         ],
         "xaxis": "x",
         "y": [
          -3.8532546,
          -5.127236,
          -5.1236835,
          -6.359542,
          -5.975655,
          -6.02939,
          -5.9937444,
          -4.516209,
          -6.144684,
          -4.5689635,
          -4.7795553,
          -5.239461,
          -6.2999163,
          -4.87476,
          -4.750041,
          -6.669727,
          -4.6281614,
          -5.8321023,
          -4.57436,
          -3.9547925,
          -3.6345193,
          -5.3128853,
          -4.655786,
          -4.7289767,
          -4.6827574,
          -4.041559,
          -5.006678,
          -4.0397973,
          -6.0712595,
          -4.5001016,
          -4.5561023,
          -5.408754,
          -6.8296733,
          -2.5330794,
          -4.5415783,
          -7.381365,
          -4.606807,
          -6.451177
         ],
         "yaxis": "y"
        }
       ],
       "layout": {
        "height": 600,
        "legend": {
         "title": {
          "text": "Cluster"
         },
         "tracegroupgap": 0
        },
        "margin": {
         "t": 60
        },
        "plot_bgcolor": "rgb(240,240,240)",
        "template": {
         "data": {
          "bar": [
           {
            "error_x": {
             "color": "#2a3f5f"
            },
            "error_y": {
             "color": "#2a3f5f"
            },
            "marker": {
             "line": {
              "color": "#E5ECF6",
              "width": 0.5
             },
             "pattern": {
              "fillmode": "overlay",
              "size": 10,
              "solidity": 0.2
             }
            },
            "type": "bar"
           }
          ],
          "barpolar": [
           {
            "marker": {
             "line": {
              "color": "#E5ECF6",
              "width": 0.5
             },
             "pattern": {
              "fillmode": "overlay",
              "size": 10,
              "solidity": 0.2
             }
            },
            "type": "barpolar"
           }
          ],
          "carpet": [
           {
            "aaxis": {
             "endlinecolor": "#2a3f5f",
             "gridcolor": "white",
             "linecolor": "white",
             "minorgridcolor": "white",
             "startlinecolor": "#2a3f5f"
            },
            "baxis": {
             "endlinecolor": "#2a3f5f",
             "gridcolor": "white",
             "linecolor": "white",
             "minorgridcolor": "white",
             "startlinecolor": "#2a3f5f"
            },
            "type": "carpet"
           }
          ],
          "choropleth": [
           {
            "colorbar": {
             "outlinewidth": 0,
             "ticks": ""
            },
            "type": "choropleth"
           }
          ],
          "contour": [
           {
            "colorbar": {
             "outlinewidth": 0,
             "ticks": ""
            },
            "colorscale": [
             [
              0,
              "#0d0887"
             ],
             [
              0.1111111111111111,
              "#46039f"
             ],
             [
              0.2222222222222222,
              "#7201a8"
             ],
             [
              0.3333333333333333,
              "#9c179e"
             ],
             [
              0.4444444444444444,
              "#bd3786"
             ],
             [
              0.5555555555555556,
              "#d8576b"
             ],
             [
              0.6666666666666666,
              "#ed7953"
             ],
             [
              0.7777777777777778,
              "#fb9f3a"
             ],
             [
              0.8888888888888888,
              "#fdca26"
             ],
             [
              1,
              "#f0f921"
             ]
            ],
            "type": "contour"
           }
          ],
          "contourcarpet": [
           {
            "colorbar": {
             "outlinewidth": 0,
             "ticks": ""
            },
            "type": "contourcarpet"
           }
          ],
          "heatmap": [
           {
            "colorbar": {
             "outlinewidth": 0,
             "ticks": ""
            },
            "colorscale": [
             [
              0,
              "#0d0887"
             ],
             [
              0.1111111111111111,
              "#46039f"
             ],
             [
              0.2222222222222222,
              "#7201a8"
             ],
             [
              0.3333333333333333,
              "#9c179e"
             ],
             [
              0.4444444444444444,
              "#bd3786"
             ],
             [
              0.5555555555555556,
              "#d8576b"
             ],
             [
              0.6666666666666666,
              "#ed7953"
             ],
             [
              0.7777777777777778,
              "#fb9f3a"
             ],
             [
              0.8888888888888888,
              "#fdca26"
             ],
             [
              1,
              "#f0f921"
             ]
            ],
            "type": "heatmap"
           }
          ],
          "heatmapgl": [
           {
            "colorbar": {
             "outlinewidth": 0,
             "ticks": ""
            },
            "colorscale": [
             [
              0,
              "#0d0887"
             ],
             [
              0.1111111111111111,
              "#46039f"
             ],
             [
              0.2222222222222222,
              "#7201a8"
             ],
             [
              0.3333333333333333,
              "#9c179e"
             ],
             [
              0.4444444444444444,
              "#bd3786"
             ],
             [
              0.5555555555555556,
              "#d8576b"
             ],
             [
              0.6666666666666666,
              "#ed7953"
             ],
             [
              0.7777777777777778,
              "#fb9f3a"
             ],
             [
              0.8888888888888888,
              "#fdca26"
             ],
             [
              1,
              "#f0f921"
             ]
            ],
            "type": "heatmapgl"
           }
          ],
          "histogram": [
           {
            "marker": {
             "pattern": {
              "fillmode": "overlay",
              "size": 10,
              "solidity": 0.2
             }
            },
            "type": "histogram"
           }
          ],
          "histogram2d": [
           {
            "colorbar": {
             "outlinewidth": 0,
             "ticks": ""
            },
            "colorscale": [
             [
              0,
              "#0d0887"
             ],
             [
              0.1111111111111111,
              "#46039f"
             ],
             [
              0.2222222222222222,
              "#7201a8"
             ],
             [
              0.3333333333333333,
              "#9c179e"
             ],
             [
              0.4444444444444444,
              "#bd3786"
             ],
             [
              0.5555555555555556,
              "#d8576b"
             ],
             [
              0.6666666666666666,
              "#ed7953"
             ],
             [
              0.7777777777777778,
              "#fb9f3a"
             ],
             [
              0.8888888888888888,
              "#fdca26"
             ],
             [
              1,
              "#f0f921"
             ]
            ],
            "type": "histogram2d"
           }
          ],
          "histogram2dcontour": [
           {
            "colorbar": {
             "outlinewidth": 0,
             "ticks": ""
            },
            "colorscale": [
             [
              0,
              "#0d0887"
             ],
             [
              0.1111111111111111,
              "#46039f"
             ],
             [
              0.2222222222222222,
              "#7201a8"
             ],
             [
              0.3333333333333333,
              "#9c179e"
             ],
             [
              0.4444444444444444,
              "#bd3786"
             ],
             [
              0.5555555555555556,
              "#d8576b"
             ],
             [
              0.6666666666666666,
              "#ed7953"
             ],
             [
              0.7777777777777778,
              "#fb9f3a"
             ],
             [
              0.8888888888888888,
              "#fdca26"
             ],
             [
              1,
              "#f0f921"
             ]
            ],
            "type": "histogram2dcontour"
           }
          ],
          "mesh3d": [
           {
            "colorbar": {
             "outlinewidth": 0,
             "ticks": ""
            },
            "type": "mesh3d"
           }
          ],
          "parcoords": [
           {
            "line": {
             "colorbar": {
              "outlinewidth": 0,
              "ticks": ""
             }
            },
            "type": "parcoords"
           }
          ],
          "pie": [
           {
            "automargin": true,
            "type": "pie"
           }
          ],
          "scatter": [
           {
            "fillpattern": {
             "fillmode": "overlay",
             "size": 10,
             "solidity": 0.2
            },
            "type": "scatter"
           }
          ],
          "scatter3d": [
           {
            "line": {
             "colorbar": {
              "outlinewidth": 0,
              "ticks": ""
             }
            },
            "marker": {
             "colorbar": {
              "outlinewidth": 0,
              "ticks": ""
             }
            },
            "type": "scatter3d"
           }
          ],
          "scattercarpet": [
           {
            "marker": {
             "colorbar": {
              "outlinewidth": 0,
              "ticks": ""
             }
            },
            "type": "scattercarpet"
           }
          ],
          "scattergeo": [
           {
            "marker": {
             "colorbar": {
              "outlinewidth": 0,
              "ticks": ""
             }
            },
            "type": "scattergeo"
           }
          ],
          "scattergl": [
           {
            "marker": {
             "colorbar": {
              "outlinewidth": 0,
              "ticks": ""
             }
            },
            "type": "scattergl"
           }
          ],
          "scattermapbox": [
           {
            "marker": {
             "colorbar": {
              "outlinewidth": 0,
              "ticks": ""
             }
            },
            "type": "scattermapbox"
           }
          ],
          "scatterpolar": [
           {
            "marker": {
             "colorbar": {
              "outlinewidth": 0,
              "ticks": ""
             }
            },
            "type": "scatterpolar"
           }
          ],
          "scatterpolargl": [
           {
            "marker": {
             "colorbar": {
              "outlinewidth": 0,
              "ticks": ""
             }
            },
            "type": "scatterpolargl"
           }
          ],
          "scatterternary": [
           {
            "marker": {
             "colorbar": {
              "outlinewidth": 0,
              "ticks": ""
             }
            },
            "type": "scatterternary"
           }
          ],
          "surface": [
           {
            "colorbar": {
             "outlinewidth": 0,
             "ticks": ""
            },
            "colorscale": [
             [
              0,
              "#0d0887"
             ],
             [
              0.1111111111111111,
              "#46039f"
             ],
             [
              0.2222222222222222,
              "#7201a8"
             ],
             [
              0.3333333333333333,
              "#9c179e"
             ],
             [
              0.4444444444444444,
              "#bd3786"
             ],
             [
              0.5555555555555556,
              "#d8576b"
             ],
             [
              0.6666666666666666,
              "#ed7953"
             ],
             [
              0.7777777777777778,
              "#fb9f3a"
             ],
             [
              0.8888888888888888,
              "#fdca26"
             ],
             [
              1,
              "#f0f921"
             ]
            ],
            "type": "surface"
           }
          ],
          "table": [
           {
            "cells": {
             "fill": {
              "color": "#EBF0F8"
             },
             "line": {
              "color": "white"
             }
            },
            "header": {
             "fill": {
              "color": "#C8D4E3"
             },
             "line": {
              "color": "white"
             }
            },
            "type": "table"
           }
          ]
         },
         "layout": {
          "annotationdefaults": {
           "arrowcolor": "#2a3f5f",
           "arrowhead": 0,
           "arrowwidth": 1
          },
          "autotypenumbers": "strict",
          "coloraxis": {
           "colorbar": {
            "outlinewidth": 0,
            "ticks": ""
           }
          },
          "colorscale": {
           "diverging": [
            [
             0,
             "#8e0152"
            ],
            [
             0.1,
             "#c51b7d"
            ],
            [
             0.2,
             "#de77ae"
            ],
            [
             0.3,
             "#f1b6da"
            ],
            [
             0.4,
             "#fde0ef"
            ],
            [
             0.5,
             "#f7f7f7"
            ],
            [
             0.6,
             "#e6f5d0"
            ],
            [
             0.7,
             "#b8e186"
            ],
            [
             0.8,
             "#7fbc41"
            ],
            [
             0.9,
             "#4d9221"
            ],
            [
             1,
             "#276419"
            ]
           ],
           "sequential": [
            [
             0,
             "#0d0887"
            ],
            [
             0.1111111111111111,
             "#46039f"
            ],
            [
             0.2222222222222222,
             "#7201a8"
            ],
            [
             0.3333333333333333,
             "#9c179e"
            ],
            [
             0.4444444444444444,
             "#bd3786"
            ],
            [
             0.5555555555555556,
             "#d8576b"
            ],
            [
             0.6666666666666666,
             "#ed7953"
            ],
            [
             0.7777777777777778,
             "#fb9f3a"
            ],
            [
             0.8888888888888888,
             "#fdca26"
            ],
            [
             1,
             "#f0f921"
            ]
           ],
           "sequentialminus": [
            [
             0,
             "#0d0887"
            ],
            [
             0.1111111111111111,
             "#46039f"
            ],
            [
             0.2222222222222222,
             "#7201a8"
            ],
            [
             0.3333333333333333,
             "#9c179e"
            ],
            [
             0.4444444444444444,
             "#bd3786"
            ],
            [
             0.5555555555555556,
             "#d8576b"
            ],
            [
             0.6666666666666666,
             "#ed7953"
            ],
            [
             0.7777777777777778,
             "#fb9f3a"
            ],
            [
             0.8888888888888888,
             "#fdca26"
            ],
            [
             1,
             "#f0f921"
            ]
           ]
          },
          "colorway": [
           "#636efa",
           "#EF553B",
           "#00cc96",
           "#ab63fa",
           "#FFA15A",
           "#19d3f3",
           "#FF6692",
           "#B6E880",
           "#FF97FF",
           "#FECB52"
          ],
          "font": {
           "color": "#2a3f5f"
          },
          "geo": {
           "bgcolor": "white",
           "lakecolor": "white",
           "landcolor": "#E5ECF6",
           "showlakes": true,
           "showland": true,
           "subunitcolor": "white"
          },
          "hoverlabel": {
           "align": "left"
          },
          "hovermode": "closest",
          "mapbox": {
           "style": "light"
          },
          "paper_bgcolor": "white",
          "plot_bgcolor": "#E5ECF6",
          "polar": {
           "angularaxis": {
            "gridcolor": "white",
            "linecolor": "white",
            "ticks": ""
           },
           "bgcolor": "#E5ECF6",
           "radialaxis": {
            "gridcolor": "white",
            "linecolor": "white",
            "ticks": ""
           }
          },
          "scene": {
           "xaxis": {
            "backgroundcolor": "#E5ECF6",
            "gridcolor": "white",
            "gridwidth": 2,
            "linecolor": "white",
            "showbackground": true,
            "ticks": "",
            "zerolinecolor": "white"
           },
           "yaxis": {
            "backgroundcolor": "#E5ECF6",
            "gridcolor": "white",
            "gridwidth": 2,
            "linecolor": "white",
            "showbackground": true,
            "ticks": "",
            "zerolinecolor": "white"
           },
           "zaxis": {
            "backgroundcolor": "#E5ECF6",
            "gridcolor": "white",
            "gridwidth": 2,
            "linecolor": "white",
            "showbackground": true,
            "ticks": "",
            "zerolinecolor": "white"
           }
          },
          "shapedefaults": {
           "line": {
            "color": "#2a3f5f"
           }
          },
          "ternary": {
           "aaxis": {
            "gridcolor": "white",
            "linecolor": "white",
            "ticks": ""
           },
           "baxis": {
            "gridcolor": "white",
            "linecolor": "white",
            "ticks": ""
           },
           "bgcolor": "#E5ECF6",
           "caxis": {
            "gridcolor": "white",
            "linecolor": "white",
            "ticks": ""
           }
          },
          "title": {
           "x": 0.05
          },
          "xaxis": {
           "automargin": true,
           "gridcolor": "white",
           "linecolor": "white",
           "ticks": "",
           "title": {
            "standoff": 15
           },
           "zerolinecolor": "white",
           "zerolinewidth": 2
          },
          "yaxis": {
           "automargin": true,
           "gridcolor": "white",
           "linecolor": "white",
           "ticks": "",
           "title": {
            "standoff": 15
           },
           "zerolinecolor": "white",
           "zerolinewidth": 2
          }
         }
        },
        "title": {
         "text": "2D Cluster PCA Plot"
        },
        "xaxis": {
         "anchor": "y",
         "domain": [
          0,
          1
         ],
         "title": {
          "text": "PCA1"
         }
        },
        "yaxis": {
         "anchor": "x",
         "domain": [
          0,
          1
         ],
         "title": {
          "text": "PCA2"
         }
        }
       }
      },
      "text/html": [
       "<div>                            <div id=\"69d153f8-52bb-4bd1-b335-45b1a6790e8b\" class=\"plotly-graph-div\" style=\"height:600px; width:100%;\"></div>            <script type=\"text/javascript\">                require([\"plotly\"], function(Plotly) {                    window.PLOTLYENV=window.PLOTLYENV || {};                                    if (document.getElementById(\"69d153f8-52bb-4bd1-b335-45b1a6790e8b\")) {                    Plotly.newPlot(                        \"69d153f8-52bb-4bd1-b335-45b1a6790e8b\",                        [{\"customdata\":[[5.6702538],[5.765158],[6.7561255],[5.175188],[5.897661],[9.100838],[6.2656207],[5.46333],[6.280793],[8.547298],[6.91072],[7.778394],[6.4245667],[9.498048],[7.4332137],[8.323731],[5.8970237],[5.863605],[6.9845614],[6.933642],[5.6545525],[5.734771],[5.4821305],[5.281883],[5.9264903],[6.4190135],[6.5265136],[6.0097566],[8.094415],[7.5748186],[6.2151456],[4.7156463],[7.470423],[7.5456944]],\"hovertemplate\":\"Cluster=Cluster 0<br>PCA1=%{x}<br>PCA2=%{y}<br>Feature=%{customdata[0]}<extra></extra>\",\"legendgroup\":\"Cluster 0\",\"marker\":{\"color\":\"#636efa\",\"opacity\":0.5,\"symbol\":\"circle\"},\"mode\":\"markers\",\"name\":\"Cluster 0\",\"orientation\":\"v\",\"showlegend\":true,\"x\":[-9.397772,-8.067387,-7.9878416,-5.9548244,-9.014827,-8.377255,-9.294981,-7.9340787,-9.915898,-10.528137,-7.8390326,-9.455409,-9.191112,-9.621466,-10.175976,-11.6996355,-10.331309,-9.350486,-11.871691,-9.046122,-9.727459,-9.295671,-7.712953,-7.010871,-7.4373374,-9.489022,-8.641656,-7.999621,-9.082659,-9.30652,-9.062811,-8.154421,-9.0127,-9.001286],\"xaxis\":\"x\",\"y\":[-6.5664454,-5.89554,-3.3190389,-6.2482557,-5.424618,-4.190699,-5.4395437,-4.0055165,-3.6311278,-5.45515,-4.041661,-4.745869,-6.2242746,-5.5421386,-4.6454887,-6.6202054,-3.3961513,-5.232182,-4.6242094,-5.887246,-7.803059,-6.0607967,-3.380402,-2.0086021,-4.032438,-7.6648145,-4.427878,-4.9860497,-5.8360405,-1.8724926,-5.4900694,-5.607934,-5.135223,-2.448229],\"yaxis\":\"y\",\"type\":\"scatter\",\"textposition\":\"top center\"},{\"customdata\":[[-11.11518],[-9.593968],[-10.984524],[-9.641371],[-8.765252],[-6.3047466],[-8.823752],[-8.861658],[-8.311135],[-8.96447],[-8.037861],[-8.742089],[-9.585012],[-10.363374],[-9.365749],[-9.163576],[-7.3186398],[-6.965872],[-8.457007],[-6.8447657],[-7.3924203],[-6.9866467],[-7.202205],[-9.690481],[-7.0952673],[-10.430526],[-7.873752],[-9.371726],[-8.58921],[-10.374231],[-8.307839],[-9.397125],[-11.346349],[-7.5600553],[-8.352357],[-7.699356]],\"hovertemplate\":\"Cluster=Cluster 1<br>PCA1=%{x}<br>PCA2=%{y}<br>Feature=%{customdata[0]}<extra></extra>\",\"legendgroup\":\"Cluster 1\",\"marker\":{\"color\":\"#EF553B\",\"opacity\":0.5,\"symbol\":\"circle\"},\"mode\":\"markers\",\"name\":\"Cluster 1\",\"orientation\":\"v\",\"showlegend\":true,\"x\":[14.379228,13.559094,13.491278,14.186713,12.754128,11.452021,12.843693,10.826556,11.585429,9.863181,11.03029,11.115793,12.506408,15.8447275,12.111417,12.349159,12.220101,11.430201,10.695245,10.636932,10.463599,12.361999,12.051687,10.477846,11.733624,14.512429,12.648273,10.567603,12.692988,13.34598,12.643928,13.260746,15.072975,9.583463,12.675594,11.572343],\"xaxis\":\"x\",\"y\":[-3.253971,-1.632707,-2.7183962,-0.5745787,-1.9686723,-1.8022043,-2.81181,-3.1155472,-2.3905683,-2.796084,-1.6270039,-2.010547,-0.7815553,-0.6988139,-1.5384386,0.44726098,0.015649578,-1.1398087,-0.2809734,-1.9805888,-0.5085398,-2.300086,-1.9997797,-2.8414297,-1.1897705,-3.4975605,-0.4517532,-2.330682,-2.706629,0.16282767,-2.9193158,0.71379155,-3.079089,-1.7389821,-2.3893008,-0.7453533],\"yaxis\":\"y\",\"type\":\"scatter\",\"textposition\":\"top center\"},{\"customdata\":[[1.9892939],[5.894658],[6.011097],[2.8446364],[3.641071],[4.7106633],[3.079899],[5.0864873],[2.1638198],[4.4016128],[4.0710874],[4.5364017],[4.14379],[4.6489234],[3.8385382],[5.6019454],[2.4267197],[3.6414874],[5.5086646],[5.933442],[5.7627864],[4.7298045],[4.4922137],[6.022967],[4.452252],[6.0454903],[5.3933473],[4.4727187],[3.3643787],[2.5191433],[3.9721828],[4.073118],[3.3426404],[5.2085013],[5.3330226],[4.847069]],\"hovertemplate\":\"Cluster=Cluster 2<br>PCA1=%{x}<br>PCA2=%{y}<br>Feature=%{customdata[0]}<extra></extra>\",\"legendgroup\":\"Cluster 2\",\"marker\":{\"color\":\"#00cc96\",\"opacity\":0.5,\"symbol\":\"circle\"},\"mode\":\"markers\",\"name\":\"Cluster 2\",\"orientation\":\"v\",\"showlegend\":true,\"x\":[-6.86536,-6.4489274,-8.206905,-5.315367,-6.9379635,-6.2257977,-5.861903,-6.316957,-5.120879,-8.687766,-7.1659756,-7.347652,-5.641497,-6.3845577,-4.43335,-5.3928556,-6.309589,-5.6624737,-8.464507,-6.6460576,-6.132871,-5.825824,-7.038018,-6.7790294,-4.4795027,-7.6239038,-7.159175,-5.7000566,-5.260451,-4.577152,-7.176601,-6.4462967,-5.509017,-5.935361,-8.083092,-5.5162024],\"xaxis\":\"x\",\"y\":[11.703178,10.628531,10.989436,10.558525,8.959101,12.060254,10.759357,10.933375,11.164847,11.044542,11.796151,9.189809,10.318122,13.221983,11.404163,10.335965,10.5960245,11.423758,11.342074,10.696565,11.124064,13.555145,8.016016,12.353361,10.409608,11.171457,9.789373,12.57678,8.04135,11.785708,12.494131,11.316256,12.293906,10.084252,12.372859,11.510917],\"yaxis\":\"y\",\"type\":\"scatter\",\"textposition\":\"top center\"},{\"customdata\":[[-2.2468317],[-1.965674],[-1.4249586],[-4.9359756],[-3.3002164],[-1.1988069],[0.562188],[-2.5314586],[-2.347883],[-2.0945761],[-4.1252112],[-1.4359988],[-3.7545934],[-4.4091506],[-2.159957],[-3.587047],[-3.700301],[1.5375578],[-3.1948538],[-2.7224762],[-4.303262],[-2.5822346],[-2.7845383],[-3.2573705],[-3.022853],[-3.1277204],[-2.7637913],[-1.701447],[-0.9807173],[-1.1193737],[-2.820032],[-0.8629631],[-1.368754],[-1.554483],[-5.076742],[-2.703304]],\"hovertemplate\":\"Cluster=Cluster 3<br>PCA1=%{x}<br>PCA2=%{y}<br>Feature=%{customdata[0]}<extra></extra>\",\"legendgroup\":\"Cluster 3\",\"marker\":{\"color\":\"#ab63fa\",\"opacity\":0.5,\"symbol\":\"circle\"},\"mode\":\"markers\",\"name\":\"Cluster 3\",\"orientation\":\"v\",\"showlegend\":true,\"x\":[11.169119,10.417566,10.057797,11.660665,11.38372,13.145669,9.565227,8.855312,11.560293,10.101446,10.451486,10.875818,11.714361,12.3822975,9.665984,12.273536,11.393538,7.61158,9.422705,10.907541,11.250844,9.8218775,10.902498,10.117828,10.131952,10.867154,10.690941,9.997294,8.824155,10.40067,10.276175,9.979724,10.465563,11.827527,11.771356,10.389535],\"xaxis\":\"x\",\"y\":[-0.64080113,1.1275471,0.25940517,2.4495862,1.2449781,1.3999656,1.0928769,0.065385364,1.6283133,0.6068399,-0.40900797,0.40265182,1.7956728,-0.2774183,-0.16721933,0.7455488,0.12607661,1.0045153,-2.0102575,2.2411988,1.7030044,2.4155705,-0.83307236,2.4431016,0.14794952,1.993757,1.4612368,0.5110853,-2.040855,1.191924,0.43953112,0.52458876,-1.1264671,0.7850699,1.4081731,0.9170964],\"yaxis\":\"y\",\"type\":\"scatter\",\"textposition\":\"top center\"},{\"customdata\":[[1.7261297],[0.5900912],[3.6439605],[0.946055],[3.021477],[0.81755096],[1.5625997],[3.532446],[0.87554055],[1.0109763],[1.8084435],[2.085688],[1.0470328],[2.8253007],[1.430215],[3.6098335],[2.2818186],[1.5072525],[2.7520738],[3.6979973],[3.2526078],[2.6405158],[0.5934186],[2.3809547],[4.524561],[2.1829693],[3.059316],[1.3810507],[3.7007563],[1.0717543],[3.495237],[3.1590128],[3.5632966],[3.424428],[3.2420778],[0.9320004],[3.4336545],[4.0886946]],\"hovertemplate\":\"Cluster=Cluster 4<br>PCA1=%{x}<br>PCA2=%{y}<br>Feature=%{customdata[0]}<extra></extra>\",\"legendgroup\":\"Cluster 4\",\"marker\":{\"color\":\"#FFA15A\",\"opacity\":0.5,\"symbol\":\"circle\"},\"mode\":\"markers\",\"name\":\"Cluster 4\",\"orientation\":\"v\",\"showlegend\":true,\"x\":[-8.298967,-8.083989,-9.160157,-7.1067247,-8.119496,-5.8747945,-8.279305,-8.909526,-6.3140345,-5.1410604,-7.2317123,-8.862827,-6.1849623,-7.606964,-6.065537,-6.000409,-7.3010583,-8.159404,-8.857482,-7.9269385,-8.595776,-6.6311064,-7.1914477,-7.4186916,-8.708199,-8.377273,-8.506332,-5.681912,-8.406204,-7.789376,-7.5470295,-7.801672,-7.9099555,-6.8105264,-7.790552,-7.1962404,-7.734278,-8.626367],\"xaxis\":\"x\",\"y\":[-3.8532546,-5.127236,-5.1236835,-6.359542,-5.975655,-6.02939,-5.9937444,-4.516209,-6.144684,-4.5689635,-4.7795553,-5.239461,-6.2999163,-4.87476,-4.750041,-6.669727,-4.6281614,-5.8321023,-4.57436,-3.9547925,-3.6345193,-5.3128853,-4.655786,-4.7289767,-4.6827574,-4.041559,-5.006678,-4.0397973,-6.0712595,-4.5001016,-4.5561023,-5.408754,-6.8296733,-2.5330794,-4.5415783,-7.381365,-4.606807,-6.451177],\"yaxis\":\"y\",\"type\":\"scatter\",\"textposition\":\"top center\"}],                        {\"template\":{\"data\":{\"histogram2dcontour\":[{\"type\":\"histogram2dcontour\",\"colorbar\":{\"outlinewidth\":0,\"ticks\":\"\"},\"colorscale\":[[0.0,\"#0d0887\"],[0.1111111111111111,\"#46039f\"],[0.2222222222222222,\"#7201a8\"],[0.3333333333333333,\"#9c179e\"],[0.4444444444444444,\"#bd3786\"],[0.5555555555555556,\"#d8576b\"],[0.6666666666666666,\"#ed7953\"],[0.7777777777777778,\"#fb9f3a\"],[0.8888888888888888,\"#fdca26\"],[1.0,\"#f0f921\"]]}],\"choropleth\":[{\"type\":\"choropleth\",\"colorbar\":{\"outlinewidth\":0,\"ticks\":\"\"}}],\"histogram2d\":[{\"type\":\"histogram2d\",\"colorbar\":{\"outlinewidth\":0,\"ticks\":\"\"},\"colorscale\":[[0.0,\"#0d0887\"],[0.1111111111111111,\"#46039f\"],[0.2222222222222222,\"#7201a8\"],[0.3333333333333333,\"#9c179e\"],[0.4444444444444444,\"#bd3786\"],[0.5555555555555556,\"#d8576b\"],[0.6666666666666666,\"#ed7953\"],[0.7777777777777778,\"#fb9f3a\"],[0.8888888888888888,\"#fdca26\"],[1.0,\"#f0f921\"]]}],\"heatmap\":[{\"type\":\"heatmap\",\"colorbar\":{\"outlinewidth\":0,\"ticks\":\"\"},\"colorscale\":[[0.0,\"#0d0887\"],[0.1111111111111111,\"#46039f\"],[0.2222222222222222,\"#7201a8\"],[0.3333333333333333,\"#9c179e\"],[0.4444444444444444,\"#bd3786\"],[0.5555555555555556,\"#d8576b\"],[0.6666666666666666,\"#ed7953\"],[0.7777777777777778,\"#fb9f3a\"],[0.8888888888888888,\"#fdca26\"],[1.0,\"#f0f921\"]]}],\"heatmapgl\":[{\"type\":\"heatmapgl\",\"colorbar\":{\"outlinewidth\":0,\"ticks\":\"\"},\"colorscale\":[[0.0,\"#0d0887\"],[0.1111111111111111,\"#46039f\"],[0.2222222222222222,\"#7201a8\"],[0.3333333333333333,\"#9c179e\"],[0.4444444444444444,\"#bd3786\"],[0.5555555555555556,\"#d8576b\"],[0.6666666666666666,\"#ed7953\"],[0.7777777777777778,\"#fb9f3a\"],[0.8888888888888888,\"#fdca26\"],[1.0,\"#f0f921\"]]}],\"contourcarpet\":[{\"type\":\"contourcarpet\",\"colorbar\":{\"outlinewidth\":0,\"ticks\":\"\"}}],\"contour\":[{\"type\":\"contour\",\"colorbar\":{\"outlinewidth\":0,\"ticks\":\"\"},\"colorscale\":[[0.0,\"#0d0887\"],[0.1111111111111111,\"#46039f\"],[0.2222222222222222,\"#7201a8\"],[0.3333333333333333,\"#9c179e\"],[0.4444444444444444,\"#bd3786\"],[0.5555555555555556,\"#d8576b\"],[0.6666666666666666,\"#ed7953\"],[0.7777777777777778,\"#fb9f3a\"],[0.8888888888888888,\"#fdca26\"],[1.0,\"#f0f921\"]]}],\"surface\":[{\"type\":\"surface\",\"colorbar\":{\"outlinewidth\":0,\"ticks\":\"\"},\"colorscale\":[[0.0,\"#0d0887\"],[0.1111111111111111,\"#46039f\"],[0.2222222222222222,\"#7201a8\"],[0.3333333333333333,\"#9c179e\"],[0.4444444444444444,\"#bd3786\"],[0.5555555555555556,\"#d8576b\"],[0.6666666666666666,\"#ed7953\"],[0.7777777777777778,\"#fb9f3a\"],[0.8888888888888888,\"#fdca26\"],[1.0,\"#f0f921\"]]}],\"mesh3d\":[{\"type\":\"mesh3d\",\"colorbar\":{\"outlinewidth\":0,\"ticks\":\"\"}}],\"scatter\":[{\"fillpattern\":{\"fillmode\":\"overlay\",\"size\":10,\"solidity\":0.2},\"type\":\"scatter\"}],\"parcoords\":[{\"type\":\"parcoords\",\"line\":{\"colorbar\":{\"outlinewidth\":0,\"ticks\":\"\"}}}],\"scatterpolargl\":[{\"type\":\"scatterpolargl\",\"marker\":{\"colorbar\":{\"outlinewidth\":0,\"ticks\":\"\"}}}],\"bar\":[{\"error_x\":{\"color\":\"#2a3f5f\"},\"error_y\":{\"color\":\"#2a3f5f\"},\"marker\":{\"line\":{\"color\":\"#E5ECF6\",\"width\":0.5},\"pattern\":{\"fillmode\":\"overlay\",\"size\":10,\"solidity\":0.2}},\"type\":\"bar\"}],\"scattergeo\":[{\"type\":\"scattergeo\",\"marker\":{\"colorbar\":{\"outlinewidth\":0,\"ticks\":\"\"}}}],\"scatterpolar\":[{\"type\":\"scatterpolar\",\"marker\":{\"colorbar\":{\"outlinewidth\":0,\"ticks\":\"\"}}}],\"histogram\":[{\"marker\":{\"pattern\":{\"fillmode\":\"overlay\",\"size\":10,\"solidity\":0.2}},\"type\":\"histogram\"}],\"scattergl\":[{\"type\":\"scattergl\",\"marker\":{\"colorbar\":{\"outlinewidth\":0,\"ticks\":\"\"}}}],\"scatter3d\":[{\"type\":\"scatter3d\",\"line\":{\"colorbar\":{\"outlinewidth\":0,\"ticks\":\"\"}},\"marker\":{\"colorbar\":{\"outlinewidth\":0,\"ticks\":\"\"}}}],\"scattermapbox\":[{\"type\":\"scattermapbox\",\"marker\":{\"colorbar\":{\"outlinewidth\":0,\"ticks\":\"\"}}}],\"scatterternary\":[{\"type\":\"scatterternary\",\"marker\":{\"colorbar\":{\"outlinewidth\":0,\"ticks\":\"\"}}}],\"scattercarpet\":[{\"type\":\"scattercarpet\",\"marker\":{\"colorbar\":{\"outlinewidth\":0,\"ticks\":\"\"}}}],\"carpet\":[{\"aaxis\":{\"endlinecolor\":\"#2a3f5f\",\"gridcolor\":\"white\",\"linecolor\":\"white\",\"minorgridcolor\":\"white\",\"startlinecolor\":\"#2a3f5f\"},\"baxis\":{\"endlinecolor\":\"#2a3f5f\",\"gridcolor\":\"white\",\"linecolor\":\"white\",\"minorgridcolor\":\"white\",\"startlinecolor\":\"#2a3f5f\"},\"type\":\"carpet\"}],\"table\":[{\"cells\":{\"fill\":{\"color\":\"#EBF0F8\"},\"line\":{\"color\":\"white\"}},\"header\":{\"fill\":{\"color\":\"#C8D4E3\"},\"line\":{\"color\":\"white\"}},\"type\":\"table\"}],\"barpolar\":[{\"marker\":{\"line\":{\"color\":\"#E5ECF6\",\"width\":0.5},\"pattern\":{\"fillmode\":\"overlay\",\"size\":10,\"solidity\":0.2}},\"type\":\"barpolar\"}],\"pie\":[{\"automargin\":true,\"type\":\"pie\"}]},\"layout\":{\"autotypenumbers\":\"strict\",\"colorway\":[\"#636efa\",\"#EF553B\",\"#00cc96\",\"#ab63fa\",\"#FFA15A\",\"#19d3f3\",\"#FF6692\",\"#B6E880\",\"#FF97FF\",\"#FECB52\"],\"font\":{\"color\":\"#2a3f5f\"},\"hovermode\":\"closest\",\"hoverlabel\":{\"align\":\"left\"},\"paper_bgcolor\":\"white\",\"plot_bgcolor\":\"#E5ECF6\",\"polar\":{\"bgcolor\":\"#E5ECF6\",\"angularaxis\":{\"gridcolor\":\"white\",\"linecolor\":\"white\",\"ticks\":\"\"},\"radialaxis\":{\"gridcolor\":\"white\",\"linecolor\":\"white\",\"ticks\":\"\"}},\"ternary\":{\"bgcolor\":\"#E5ECF6\",\"aaxis\":{\"gridcolor\":\"white\",\"linecolor\":\"white\",\"ticks\":\"\"},\"baxis\":{\"gridcolor\":\"white\",\"linecolor\":\"white\",\"ticks\":\"\"},\"caxis\":{\"gridcolor\":\"white\",\"linecolor\":\"white\",\"ticks\":\"\"}},\"coloraxis\":{\"colorbar\":{\"outlinewidth\":0,\"ticks\":\"\"}},\"colorscale\":{\"sequential\":[[0.0,\"#0d0887\"],[0.1111111111111111,\"#46039f\"],[0.2222222222222222,\"#7201a8\"],[0.3333333333333333,\"#9c179e\"],[0.4444444444444444,\"#bd3786\"],[0.5555555555555556,\"#d8576b\"],[0.6666666666666666,\"#ed7953\"],[0.7777777777777778,\"#fb9f3a\"],[0.8888888888888888,\"#fdca26\"],[1.0,\"#f0f921\"]],\"sequentialminus\":[[0.0,\"#0d0887\"],[0.1111111111111111,\"#46039f\"],[0.2222222222222222,\"#7201a8\"],[0.3333333333333333,\"#9c179e\"],[0.4444444444444444,\"#bd3786\"],[0.5555555555555556,\"#d8576b\"],[0.6666666666666666,\"#ed7953\"],[0.7777777777777778,\"#fb9f3a\"],[0.8888888888888888,\"#fdca26\"],[1.0,\"#f0f921\"]],\"diverging\":[[0,\"#8e0152\"],[0.1,\"#c51b7d\"],[0.2,\"#de77ae\"],[0.3,\"#f1b6da\"],[0.4,\"#fde0ef\"],[0.5,\"#f7f7f7\"],[0.6,\"#e6f5d0\"],[0.7,\"#b8e186\"],[0.8,\"#7fbc41\"],[0.9,\"#4d9221\"],[1,\"#276419\"]]},\"xaxis\":{\"gridcolor\":\"white\",\"linecolor\":\"white\",\"ticks\":\"\",\"title\":{\"standoff\":15},\"zerolinecolor\":\"white\",\"automargin\":true,\"zerolinewidth\":2},\"yaxis\":{\"gridcolor\":\"white\",\"linecolor\":\"white\",\"ticks\":\"\",\"title\":{\"standoff\":15},\"zerolinecolor\":\"white\",\"automargin\":true,\"zerolinewidth\":2},\"scene\":{\"xaxis\":{\"backgroundcolor\":\"#E5ECF6\",\"gridcolor\":\"white\",\"linecolor\":\"white\",\"showbackground\":true,\"ticks\":\"\",\"zerolinecolor\":\"white\",\"gridwidth\":2},\"yaxis\":{\"backgroundcolor\":\"#E5ECF6\",\"gridcolor\":\"white\",\"linecolor\":\"white\",\"showbackground\":true,\"ticks\":\"\",\"zerolinecolor\":\"white\",\"gridwidth\":2},\"zaxis\":{\"backgroundcolor\":\"#E5ECF6\",\"gridcolor\":\"white\",\"linecolor\":\"white\",\"showbackground\":true,\"ticks\":\"\",\"zerolinecolor\":\"white\",\"gridwidth\":2}},\"shapedefaults\":{\"line\":{\"color\":\"#2a3f5f\"}},\"annotationdefaults\":{\"arrowcolor\":\"#2a3f5f\",\"arrowhead\":0,\"arrowwidth\":1},\"geo\":{\"bgcolor\":\"white\",\"landcolor\":\"#E5ECF6\",\"subunitcolor\":\"white\",\"showland\":true,\"showlakes\":true,\"lakecolor\":\"white\"},\"title\":{\"x\":0.05},\"mapbox\":{\"style\":\"light\"}}},\"xaxis\":{\"anchor\":\"y\",\"domain\":[0.0,1.0],\"title\":{\"text\":\"PCA1\"}},\"yaxis\":{\"anchor\":\"x\",\"domain\":[0.0,1.0],\"title\":{\"text\":\"PCA2\"}},\"legend\":{\"title\":{\"text\":\"Cluster\"},\"tracegroupgap\":0},\"margin\":{\"t\":60},\"plot_bgcolor\":\"rgb(240,240,240)\",\"title\":{\"text\":\"2D Cluster PCA Plot\"},\"height\":600},                        {\"responsive\": true}                    ).then(function(){\n",
       "                            \n",
       "var gd = document.getElementById('69d153f8-52bb-4bd1-b335-45b1a6790e8b');\n",
       "var x = new MutationObserver(function (mutations, observer) {{\n",
       "        var display = window.getComputedStyle(gd).display;\n",
       "        if (!display || display === 'none') {{\n",
       "            console.log([gd, 'removed!']);\n",
       "            Plotly.purge(gd);\n",
       "            observer.disconnect();\n",
       "        }}\n",
       "}});\n",
       "\n",
       "// Listen for the removal of the full notebook cells\n",
       "var notebookContainer = gd.closest('#notebook-container');\n",
       "if (notebookContainer) {{\n",
       "    x.observe(notebookContainer, {childList: true});\n",
       "}}\n",
       "\n",
       "// Listen for the clearing of the current output cell\n",
       "var outputEl = gd.closest('.output');\n",
       "if (outputEl) {{\n",
       "    x.observe(outputEl, {childList: true});\n",
       "}}\n",
       "\n",
       "                        })                };                });            </script>        </div>"
      ]
     },
     "metadata": {},
     "output_type": "display_data"
    }
   ],
   "source": [
    "plot_model(kmeans, plot = 'cluster') #cluster is default"
   ]
  },
  {
   "cell_type": "markdown",
   "id": "2b8e7077",
   "metadata": {},
   "source": [
    "### Distribution plot "
   ]
  },
  {
   "cell_type": "markdown",
   "id": "17c069e2",
   "metadata": {},
   "source": [
    "The distribution plot shows the size of each cluster. When hovering over the bars you will see the number of samples assigned to each cluster. We can also use the distribution plot to see the distribution of cluster labels in association with any other numeric or categorical feature. Features are column names of your dataframe, but in this case *feature_1* has been autogenerated since column names weren't passed. See an example below:"
   ]
  },
  {
   "cell_type": "code",
   "execution_count": 42,
   "id": "406ff845",
   "metadata": {},
   "outputs": [
    {
     "data": {
      "text/html": [],
      "text/plain": [
       "<IPython.core.display.HTML object>"
      ]
     },
     "metadata": {},
     "output_type": "display_data"
    },
    {
     "data": {
      "application/vnd.plotly.v1+json": {
       "config": {
        "plotlyServerURL": "https://plot.ly"
       },
       "data": [
        {
         "alignmentgroup": "True",
         "bingroup": "x",
         "hovertemplate": "Cluster=Cluster 0<br>feature_1=%{x}<br>count=%{y}<extra></extra>",
         "legendgroup": "Cluster 0",
         "marker": {
          "color": "#636efa",
          "opacity": 0.7,
          "pattern": {
           "shape": ""
          }
         },
         "name": "Cluster 0",
         "offsetgroup": "Cluster 0",
         "orientation": "v",
         "showlegend": true,
         "type": "histogram",
         "x": [
          5.6702538,
          5.765158,
          6.7561255,
          5.175188,
          5.897661,
          9.100838,
          6.2656207,
          5.46333,
          6.280793,
          8.547298,
          6.91072,
          7.778394,
          6.4245667,
          9.498048,
          7.4332137,
          8.323731,
          5.8970237,
          5.863605,
          6.9845614,
          6.933642,
          5.6545525,
          5.734771,
          5.4821305,
          5.281883,
          5.9264903,
          6.4190135,
          6.5265136,
          6.0097566,
          8.094415,
          7.5748186,
          6.2151456,
          4.7156463,
          7.470423,
          7.5456944
         ],
         "xaxis": "x",
         "yaxis": "y"
        },
        {
         "alignmentgroup": "True",
         "customdata": [
          [
           -6.42404842376709,
           -8.084406852722168,
           "Cluster 0"
          ],
          [
           -5.057812690734863,
           -7.020236492156982,
           "Cluster 0"
          ],
          [
           -5.167564868927002,
           -4.467339515686035,
           "Cluster 0"
          ],
          [
           -2.904247760772705,
           -6.736369609832764,
           "Cluster 0"
          ],
          [
           -6.211510181427002,
           -6.859642028808594,
           "Cluster 0"
          ],
          [
           -3.809683084487915,
           -5.2438859939575195,
           "Cluster 0"
          ],
          [
           -6.289237976074219,
           -6.9343061447143555,
           "Cluster 0"
          ],
          [
           -5.718873023986816,
           -5.201152801513672,
           "Cluster 0"
          ],
          [
           -7.582366466522217,
           -5.406217098236084,
           "Cluster 0"
          ],
          [
           -6.218900680541992,
           -7.16558313369751,
           "Cluster 0"
          ],
          [
           -4.66054105758667,
           -5.097103595733643,
           "Cluster 0"
          ],
          [
           -5.719988822937012,
           -6.210661888122559,
           "Cluster 0"
          ],
          [
           -5.8105669021606445,
           -7.6370158195495605,
           "Cluster 0"
          ],
          [
           -4.535778522491455,
           -6.892106056213379,
           "Cluster 0"
          ],
          [
           -6.8019866943359375,
           -6.367455959320068,
           "Cluster 0"
          ],
          [
           -7.3247971534729,
           -8.6600341796875,
           "Cluster 0"
          ],
          [
           -8.383773803710938,
           -5.341818332672119,
           "Cluster 0"
          ],
          [
           -6.681087970733643,
           -6.78444766998291,
           "Cluster 0"
          ],
          [
           -9.042363166809082,
           -6.913843631744385,
           "Cluster 0"
          ],
          [
           -5.424924850463867,
           -7.232302665710449,
           "Cluster 0"
          ],
          [
           -6.407420635223389,
           -9.366811752319336,
           "Cluster 0"
          ],
          [
           -6.430685997009277,
           -7.5659565925598145,
           "Cluster 0"
          ],
          [
           -5.657838821411133,
           -4.534955978393555,
           "Cluster 0"
          ],
          [
           -5.431926727294922,
           -3.02296781539917,
           "Cluster 0"
          ],
          [
           -4.840916633605957,
           -5.035905838012695,
           "Cluster 0"
          ],
          [
           -5.684248924255371,
           -9.102863311767578,
           "Cluster 0"
          ],
          [
           -5.7026567459106445,
           -5.7459940910339355,
           "Cluster 0"
          ],
          [
           -5.119237899780273,
           -6.11449670791626,
           "Cluster 0"
          ],
          [
           -4.731592655181885,
           -7.107937335968018,
           "Cluster 0"
          ],
          [
           -6.621224880218506,
           -3.442883014678955,
           "Cluster 0"
          ],
          [
           -6.039409637451172,
           -6.913232326507568,
           "Cluster 0"
          ],
          [
           -5.931479454040527,
           -6.852452754974365,
           "Cluster 0"
          ],
          [
           -5.284914016723633,
           -6.465391159057617,
           "Cluster 0"
          ],
          [
           -6.102048397064209,
           -3.8973894119262695,
           "Cluster 0"
          ]
         ],
         "hovertemplate": "Cluster=%{customdata[2]}<br>feature_1=%{x}<br>feature_2=%{customdata[0]}<br>feature_3=%{customdata[1]}<extra></extra>",
         "legendgroup": "Cluster 0",
         "marker": {
          "color": "#636efa"
         },
         "name": "Cluster 0",
         "notched": true,
         "offsetgroup": "Cluster 0",
         "showlegend": false,
         "type": "box",
         "x": [
          5.6702538,
          5.765158,
          6.7561255,
          5.175188,
          5.897661,
          9.100838,
          6.2656207,
          5.46333,
          6.280793,
          8.547298,
          6.91072,
          7.778394,
          6.4245667,
          9.498048,
          7.4332137,
          8.323731,
          5.8970237,
          5.863605,
          6.9845614,
          6.933642,
          5.6545525,
          5.734771,
          5.4821305,
          5.281883,
          5.9264903,
          6.4190135,
          6.5265136,
          6.0097566,
          8.094415,
          7.5748186,
          6.2151456,
          4.7156463,
          7.470423,
          7.5456944
         ],
         "xaxis": "x2",
         "yaxis": "y2"
        },
        {
         "alignmentgroup": "True",
         "bingroup": "x",
         "hovertemplate": "Cluster=Cluster 1<br>feature_1=%{x}<br>count=%{y}<extra></extra>",
         "legendgroup": "Cluster 1",
         "marker": {
          "color": "#EF553B",
          "opacity": 0.7,
          "pattern": {
           "shape": ""
          }
         },
         "name": "Cluster 1",
         "offsetgroup": "Cluster 1",
         "orientation": "v",
         "showlegend": true,
         "type": "histogram",
         "x": [
          -11.11518,
          -9.593968,
          -10.984524,
          -9.641371,
          -8.765252,
          -6.3047466,
          -8.823752,
          -8.861658,
          -8.311135,
          -8.96447,
          -8.037861,
          -8.742089,
          -9.585012,
          -10.363374,
          -9.365749,
          -9.163576,
          -7.3186398,
          -6.965872,
          -8.457007,
          -6.8447657,
          -7.3924203,
          -6.9866467,
          -7.202205,
          -9.690481,
          -7.0952673,
          -10.430526,
          -7.873752,
          -9.371726,
          -8.58921,
          -10.374231,
          -8.307839,
          -9.397125,
          -11.346349,
          -7.5600553,
          -8.352357,
          -7.699356
         ],
         "xaxis": "x",
         "yaxis": "y"
        },
        {
         "alignmentgroup": "True",
         "customdata": [
          [
           8.860172271728516,
           1.28413987159729,
           "Cluster 1"
          ],
          [
           8.375628471374512,
           2.68438458442688,
           "Cluster 1"
          ],
          [
           7.752288341522217,
           1.5248620510101318,
           "Cluster 1"
          ],
          [
           8.71784782409668,
           3.8857319355010986,
           "Cluster 1"
          ],
          [
           8.100117683410645,
           2.173614025115967,
           "Cluster 1"
          ],
          [
           8.147741317749023,
           2.1074671745300293,
           "Cluster 1"
          ],
          [
           8.440644264221191,
           1.3944745063781738,
           "Cluster 1"
          ],
          [
           6.204412937164307,
           0.4683692753314972,
           "Cluster 1"
          ],
          [
           7.193325519561768,
           1.438580870628357,
           "Cluster 1"
          ],
          [
           4.929569244384766,
           0.4620688259601593,
           "Cluster 1"
          ],
          [
           6.484547138214111,
           2.0117197036743164,
           "Cluster 1"
          ],
          [
           6.251778602600098,
           1.6205195188522339,
           "Cluster 1"
          ],
          [
           6.896936416625977,
           3.1647136211395264,
           "Cluster 1"
          ],
          [
           10.1903657913208,
           4.234396934509277,
           "Cluster 1"
          ],
          [
           6.834024429321289,
           2.3362479209899902,
           "Cluster 1"
          ],
          [
           6.587809085845947,
           4.317081451416016,
           "Cluster 1"
          ],
          [
           7.776278495788574,
           4.0039215087890625,
           "Cluster 1"
          ],
          [
           7.477784156799316,
           2.6817917823791504,
           "Cluster 1"
          ],
          [
           5.388850212097168,
           3.1567583084106445,
           "Cluster 1"
          ],
          [
           6.922426223754883,
           1.6408839225769043,
           "Cluster 1"
          ],
          [
           5.887530326843262,
           2.9471142292022705,
           "Cluster 1"
          ],
          [
           8.911439895629883,
           1.8682056665420532,
           "Cluster 1"
          ],
          [
           8.318041801452637,
           2.0404722690582275,
           "Cluster 1"
          ],
          [
           5.178317070007324,
           0.557616114616394,
           "Cluster 1"
          ],
          [
           7.75793981552124,
           2.719877243041992,
           "Cluster 1"
          ],
          [
           9.535982131958008,
           1.1454105377197266,
           "Cluster 1"
          ],
          [
           8.06013298034668,
           3.65175724029541,
           "Cluster 1"
          ],
          [
           5.320564270019531,
           1.096117377281189,
           "Cluster 1"
          ],
          [
           8.38551139831543,
           1.4648644924163818,
           "Cluster 1"
          ],
          [
           7.038652420043945,
           4.268707275390625,
           "Cluster 1"
          ],
          [
           8.581146240234375,
           1.2680165767669678,
           "Cluster 1"
          ],
          [
           7.393733501434326,
           4.8398966789245605,
           "Cluster 1"
          ],
          [
           9.448040962219238,
           1.651389241218567,
           "Cluster 1"
          ],
          [
           5.173069000244141,
           1.486172080039978,
           "Cluster 1"
          ],
          [
           8.41520881652832,
           1.7793512344360352,
           "Cluster 1"
          ],
          [
           7.0364532470703125,
           3.047069787979126,
           "Cluster 1"
          ]
         ],
         "hovertemplate": "Cluster=%{customdata[2]}<br>feature_1=%{x}<br>feature_2=%{customdata[0]}<br>feature_3=%{customdata[1]}<extra></extra>",
         "legendgroup": "Cluster 1",
         "marker": {
          "color": "#EF553B"
         },
         "name": "Cluster 1",
         "notched": true,
         "offsetgroup": "Cluster 1",
         "showlegend": false,
         "type": "box",
         "x": [
          -11.11518,
          -9.593968,
          -10.984524,
          -9.641371,
          -8.765252,
          -6.3047466,
          -8.823752,
          -8.861658,
          -8.311135,
          -8.96447,
          -8.037861,
          -8.742089,
          -9.585012,
          -10.363374,
          -9.365749,
          -9.163576,
          -7.3186398,
          -6.965872,
          -8.457007,
          -6.8447657,
          -7.3924203,
          -6.9866467,
          -7.202205,
          -9.690481,
          -7.0952673,
          -10.430526,
          -7.873752,
          -9.371726,
          -8.58921,
          -10.374231,
          -8.307839,
          -9.397125,
          -11.346349,
          -7.5600553,
          -8.352357,
          -7.699356
         ],
         "xaxis": "x2",
         "yaxis": "y2"
        },
        {
         "alignmentgroup": "True",
         "bingroup": "x",
         "hovertemplate": "Cluster=Cluster 2<br>feature_1=%{x}<br>count=%{y}<extra></extra>",
         "legendgroup": "Cluster 2",
         "marker": {
          "color": "#00cc96",
          "opacity": 0.7,
          "pattern": {
           "shape": ""
          }
         },
         "name": "Cluster 2",
         "offsetgroup": "Cluster 2",
         "orientation": "v",
         "showlegend": true,
         "type": "histogram",
         "x": [
          1.9892939,
          5.894658,
          6.011097,
          2.8446364,
          3.641071,
          4.7106633,
          3.079899,
          5.0864873,
          2.1638198,
          4.4016128,
          4.0710874,
          4.5364017,
          4.14379,
          4.6489234,
          3.8385382,
          5.6019454,
          2.4267197,
          3.6414874,
          5.5086646,
          5.933442,
          5.7627864,
          4.7298045,
          4.4922137,
          6.022967,
          4.452252,
          6.0454903,
          5.3933473,
          4.4727187,
          3.3643787,
          2.5191433,
          3.9721828,
          4.073118,
          3.3426404,
          5.2085013,
          5.3330226,
          4.847069
         ],
         "xaxis": "x",
         "yaxis": "y"
        },
        {
         "alignmentgroup": "True",
         "customdata": [
          [
           -11.88355827331543,
           9.833168983459473,
           "Cluster 2"
          ],
          [
           -8.525033950805664,
           9.23370361328125,
           "Cluster 2"
          ],
          [
           -10.581781387329102,
           9.033559799194336,
           "Cluster 2"
          ],
          [
           -9.179203033447266,
           9.294501304626465,
           "Cluster 2"
          ],
          [
           -9.999080657958984,
           7.3211493492126465,
           "Cluster 2"
          ],
          [
           -9.504727363586426,
           10.578402519226074,
           "Cluster 2"
          ],
          [
           -9.718664169311523,
           9.331615447998047,
           "Cluster 2"
          ],
          [
           -8.997086524963379,
           9.504844665527344,
           "Cluster 2"
          ],
          [
           -9.595748901367188,
           9.881939888000488,
           "Cluster 2"
          ],
          [
           -12.19334888458252,
           8.814139366149902,
           "Cluster 2"
          ],
          [
           -10.909811973571777,
           9.983405113220215,
           "Cluster 2"
          ],
          [
           -9.96393871307373,
           7.479249000549316,
           "Cluster 2"
          ],
          [
           -8.632623672485352,
           9.060534477233887,
           "Cluster 2"
          ],
          [
           -10.106640815734863,
           11.630157470703125,
           "Cluster 2"
          ],
          [
           -7.801455974578857,
           10.451587677001953,
           "Cluster 2"
          ],
          [
           -7.4090046882629395,
           9.2650785446167,
           "Cluster 2"
          ],
          [
           -10.601274490356445,
           8.986355781555176,
           "Cluster 2"
          ],
          [
           -9.34372329711914,
           10.069128036499023,
           "Cluster 2"
          ],
          [
           -11.317745208740234,
           9.250703811645508,
           "Cluster 2"
          ],
          [
           -8.748018264770508,
           9.2394380569458,
           "Cluster 2"
          ],
          [
           -8.410452842712402,
           9.795037269592285,
           "Cluster 2"
          ],
          [
           -9.523089408874512,
           12.129110336303711,
           "Cluster 2"
          ],
          [
           -9.2538423538208,
           6.455479621887207,
           "Cluster 2"
          ],
          [
           -9.384342193603516,
           10.78209114074707,
           "Cluster 2"
          ],
          [
           -7.131431579589844,
           9.536030769348145,
           "Cluster 2"
          ],
          [
           -9.951099395751953,
           9.392721176147461,
           "Cluster 2"
          ],
          [
           -9.389004707336426,
           8.173737525939941,
           "Cluster 2"
          ],
          [
           -9.225492477416992,
           11.217677116394043,
           "Cluster 2"
          ],
          [
           -7.956176280975342,
           6.953705787658691,
           "Cluster 2"
          ],
          [
           -8.945719718933105,
           10.670733451843262,
           "Cluster 2"
          ],
          [
           -11.21437931060791,
           10.637317657470703,
           "Cluster 2"
          ],
          [
           -9.92697525024414,
           9.75277042388916,
           "Cluster 2"
          ],
          [
           -9.64614486694336,
           10.923563003540039,
           "Cluster 2"
          ],
          [
           -8.203084945678711,
           8.825339317321777,
           "Cluster 2"
          ],
          [
           -11.331729888916016,
           10.339004516601562,
           "Cluster 2"
          ],
          [
           -8.423681259155273,
           10.288552284240723,
           "Cluster 2"
          ]
         ],
         "hovertemplate": "Cluster=%{customdata[2]}<br>feature_1=%{x}<br>feature_2=%{customdata[0]}<br>feature_3=%{customdata[1]}<extra></extra>",
         "legendgroup": "Cluster 2",
         "marker": {
          "color": "#00cc96"
         },
         "name": "Cluster 2",
         "notched": true,
         "offsetgroup": "Cluster 2",
         "showlegend": false,
         "type": "box",
         "x": [
          1.9892939,
          5.894658,
          6.011097,
          2.8446364,
          3.641071,
          4.7106633,
          3.079899,
          5.0864873,
          2.1638198,
          4.4016128,
          4.0710874,
          4.5364017,
          4.14379,
          4.6489234,
          3.8385382,
          5.6019454,
          2.4267197,
          3.6414874,
          5.5086646,
          5.933442,
          5.7627864,
          4.7298045,
          4.4922137,
          6.022967,
          4.452252,
          6.0454903,
          5.3933473,
          4.4727187,
          3.3643787,
          2.5191433,
          3.9721828,
          4.073118,
          3.3426404,
          5.2085013,
          5.3330226,
          4.847069
         ],
         "xaxis": "x2",
         "yaxis": "y2"
        },
        {
         "alignmentgroup": "True",
         "bingroup": "x",
         "hovertemplate": "Cluster=Cluster 3<br>feature_1=%{x}<br>count=%{y}<extra></extra>",
         "legendgroup": "Cluster 3",
         "marker": {
          "color": "#ab63fa",
          "opacity": 0.7,
          "pattern": {
           "shape": ""
          }
         },
         "name": "Cluster 3",
         "offsetgroup": "Cluster 3",
         "orientation": "v",
         "showlegend": true,
         "type": "histogram",
         "x": [
          -2.2468317,
          -1.965674,
          -1.4249586,
          -4.9359756,
          -3.3002164,
          -1.1988069,
          0.562188,
          -2.5314586,
          -2.347883,
          -2.0945761,
          -4.1252112,
          -1.4359988,
          -3.7545934,
          -4.4091506,
          -2.159957,
          -3.587047,
          -3.700301,
          1.5375578,
          -3.1948538,
          -2.7224762,
          -4.303262,
          -2.5822346,
          -2.7845383,
          -3.2573705,
          -3.022853,
          -3.1277204,
          -2.7637913,
          -1.701447,
          -0.9807173,
          -1.1193737,
          -2.820032,
          -0.8629631,
          -1.368754,
          -1.554483,
          -5.076742,
          -2.703304
         ],
         "xaxis": "x",
         "yaxis": "y"
        },
        {
         "alignmentgroup": "True",
         "customdata": [
          [
           10.072399139404297,
           3.428976535797119,
           "Cluster 3"
          ],
          [
           8.81501293182373,
           4.897805213928223,
           "Cluster 3"
          ],
          [
           9.037086486816406,
           3.9985790252685547,
           "Cluster 3"
          ],
          [
           7.882617950439453,
           6.324629306793213,
           "Cluster 3"
          ],
          [
           9.019010543823242,
           5.213183879852295,
           "Cluster 3"
          ],
          [
           12.348261833190918,
           6.072246551513672,
           "Cluster 3"
          ],
          [
           9.48736572265625,
           4.786541938781738,
           "Cluster 3"
          ],
          [
           7.006080627441406,
           3.3528406620025635,
           "Cluster 3"
          ],
          [
           9.712833404541016,
           5.705176830291748,
           "Cluster 3"
          ],
          [
           8.539666175842285,
           4.292914390563965,
           "Cluster 3"
          ],
          [
           7.957576751708984,
           3.2832159996032715,
           "Cluster 3"
          ],
          [
           9.920283317565918,
           4.391279697418213,
           "Cluster 3"
          ],
          [
           8.923321723937988,
           5.807435035705566,
           "Cluster 3"
          ],
          [
           9.942727088928223,
           3.9941089153289795,
           "Cluster 3"
          ],
          [
           8.251614570617676,
           3.4140162467956543,
           "Cluster 3"
          ],
          [
           10.016040802001953,
           4.995752334594727,
           "Cluster 3"
          ],
          [
           9.137103080749512,
           4.1207475662231445,
           "Cluster 3"
          ],
          [
           7.909817218780518,
           4.161512851715088,
           "Cluster 3"
          ],
          [
           7.905386924743652,
           1.5048199892044067,
           "Cluster 3"
          ],
          [
           8.521825790405273,
           6.055538654327393,
           "Cluster 3"
          ],
          [
           8.06717586517334,
           5.532332420349121,
           "Cluster 3"
          ],
          [
           7.311785697937012,
           5.890868663787842,
           "Cluster 3"
          ],
          [
           9.481504440307617,
           3.1217358112335205,
           "Cluster 3"
          ],
          [
           7.204502105712891,
           5.9594550132751465,
           "Cluster 3"
          ],
          [
           8.123397827148438,
           3.7958662509918213,
           "Cluster 3"
          ],
          [
           8.293981552124023,
           5.776806831359863,
           "Cluster 3"
          ],
          [
           8.502043724060059,
           5.241616725921631,
           "Cluster 3"
          ],
          [
           8.706330299377441,
           4.198487758636475,
           "Cluster 3"
          ],
          [
           8.66394329071045,
           1.4536675214767456,
           "Cluster 3"
          ],
          [
           9.322826385498047,
           5.017294406890869,
           "Cluster 3"
          ],
          [
           8.32463550567627,
           4.13408088684082,
           "Cluster 3"
          ],
          [
           9.224949836730957,
           4.26873254776001,
           "Cluster 3"
          ],
          [
           9.994020462036133,
           2.811227560043335,
           "Cluster 3"
          ],
          [
           10.808807373046875,
           5.045696258544922,
           "Cluster 3"
          ],
          [
           8.258915901184082,
           5.357143402099609,
           "Cluster 3"
          ],
          [
           8.373907089233398,
           4.633245468139648,
           "Cluster 3"
          ]
         ],
         "hovertemplate": "Cluster=%{customdata[2]}<br>feature_1=%{x}<br>feature_2=%{customdata[0]}<br>feature_3=%{customdata[1]}<extra></extra>",
         "legendgroup": "Cluster 3",
         "marker": {
          "color": "#ab63fa"
         },
         "name": "Cluster 3",
         "notched": true,
         "offsetgroup": "Cluster 3",
         "showlegend": false,
         "type": "box",
         "x": [
          -2.2468317,
          -1.965674,
          -1.4249586,
          -4.9359756,
          -3.3002164,
          -1.1988069,
          0.562188,
          -2.5314586,
          -2.347883,
          -2.0945761,
          -4.1252112,
          -1.4359988,
          -3.7545934,
          -4.4091506,
          -2.159957,
          -3.587047,
          -3.700301,
          1.5375578,
          -3.1948538,
          -2.7224762,
          -4.303262,
          -2.5822346,
          -2.7845383,
          -3.2573705,
          -3.022853,
          -3.1277204,
          -2.7637913,
          -1.701447,
          -0.9807173,
          -1.1193737,
          -2.820032,
          -0.8629631,
          -1.368754,
          -1.554483,
          -5.076742,
          -2.703304
         ],
         "xaxis": "x2",
         "yaxis": "y2"
        },
        {
         "alignmentgroup": "True",
         "bingroup": "x",
         "hovertemplate": "Cluster=Cluster 4<br>feature_1=%{x}<br>count=%{y}<extra></extra>",
         "legendgroup": "Cluster 4",
         "marker": {
          "color": "#FFA15A",
          "opacity": 0.7,
          "pattern": {
           "shape": ""
          }
         },
         "name": "Cluster 4",
         "offsetgroup": "Cluster 4",
         "orientation": "v",
         "showlegend": true,
         "type": "histogram",
         "x": [
          1.7261297,
          0.5900912,
          3.6439605,
          0.946055,
          3.021477,
          0.81755096,
          1.5625997,
          3.532446,
          0.87554055,
          1.0109763,
          1.8084435,
          2.085688,
          1.0470328,
          2.8253007,
          1.430215,
          3.6098335,
          2.2818186,
          1.5072525,
          2.7520738,
          3.6979973,
          3.2526078,
          2.6405158,
          0.5934186,
          2.3809547,
          4.524561,
          2.1829693,
          3.059316,
          1.3810507,
          3.7007563,
          1.0717543,
          3.495237,
          3.1590128,
          3.5632966,
          3.424428,
          3.2420778,
          0.9320004,
          3.4336545,
          4.0886946
         ],
         "xaxis": "x",
         "yaxis": "y"
        },
        {
         "alignmentgroup": "True",
         "customdata": [
          [
           -8.60767650604248,
           -5.451236724853516,
           "Cluster 4"
          ],
          [
           -8.680549621582031,
           -6.682082176208496,
           "Cluster 4"
          ],
          [
           -7.93639612197876,
           -6.787835597991943,
           "Cluster 4"
          ],
          [
           -6.927190780639648,
           -7.52170467376709,
           "Cluster 4"
          ],
          [
           -6.868653774261475,
           -7.318756580352783,
           "Cluster 4"
          ],
          [
           -5.7070112228393555,
           -6.829733371734619,
           "Cluster 4"
          ],
          [
           -7.9908833503723145,
           -7.495667934417725,
           "Cluster 4"
          ],
          [
           -7.920202732086182,
           -6.138940811157227,
           "Cluster 4"
          ],
          [
           -6.134969234466553,
           -7.073234558105469,
           "Cluster 4"
          ],
          [
           -5.218808174133301,
           -5.193863391876221,
           "Cluster 4"
          ],
          [
           -7.028585910797119,
           -5.991700649261475,
           "Cluster 4"
          ],
          [
           -8.567313194274902,
           -6.921545028686523,
           "Cluster 4"
          ],
          [
           -5.82521915435791,
           -7.167623043060303,
           "Cluster 4"
          ],
          [
           -6.768652439117432,
           -6.124019622802734,
           "Cluster 4"
          ],
          [
           -5.94716739654541,
           -5.625424385070801,
           "Cluster 4"
          ],
          [
           -3.832631826400757,
           -7.269498825073242,
           "Cluster 4"
          ],
          [
           -6.850909233093262,
           -5.833812713623047,
           "Cluster 4"
          ],
          [
           -7.94224214553833,
           -7.30820369720459,
           "Cluster 4"
          ],
          [
           -8.347075462341309,
           -6.236506462097168,
           "Cluster 4"
          ],
          [
           -6.870859622955322,
           -5.28305196762085,
           "Cluster 4"
          ],
          [
           -8.030436515808105,
           -5.221704006195068,
           "Cluster 4"
          ],
          [
           -5.626994609832764,
           -6.248371601104736,
           "Cluster 4"
          ],
          [
           -7.810030460357666,
           -5.952340602874756,
           "Cluster 4"
          ],
          [
           -6.88848352432251,
           -5.959353446960449,
           "Cluster 4"
          ],
          [
           -6.992372512817383,
           -6.159825325012207,
           "Cluster 4"
          ],
          [
           -8.339853286743164,
           -5.620892524719238,
           "Cluster 4"
          ],
          [
           -7.604312419891357,
           -6.5147705078125,
           "Cluster 4"
          ],
          [
           -5.77183198928833,
           -4.832183837890625,
           "Cluster 4"
          ],
          [
           -6.72582483291626,
           -7.44895076751709,
           "Cluster 4"
          ],
          [
           -8.236141204833984,
           -5.956136703491211,
           "Cluster 4"
          ],
          [
           -6.370243549346924,
           -5.751466751098633,
           "Cluster 4"
          ],
          [
           -6.600871562957764,
           -6.668692588806152,
           "Cluster 4"
          ],
          [
           -5.998225688934326,
           -8.025506019592285,
           "Cluster 4"
          ],
          [
           -6.23407506942749,
           -3.5988030433654785,
           "Cluster 4"
          ],
          [
           -6.817994117736816,
           -5.833172798156738,
           "Cluster 4"
          ],
          [
           -6.704593181610107,
           -8.523954391479492,
           "Cluster 4"
          ],
          [
           -6.608081340789795,
           -5.863227844238281,
           "Cluster 4"
          ],
          [
           -6.602482795715332,
           -7.850833892822266,
           "Cluster 4"
          ]
         ],
         "hovertemplate": "Cluster=%{customdata[2]}<br>feature_1=%{x}<br>feature_2=%{customdata[0]}<br>feature_3=%{customdata[1]}<extra></extra>",
         "legendgroup": "Cluster 4",
         "marker": {
          "color": "#FFA15A"
         },
         "name": "Cluster 4",
         "notched": true,
         "offsetgroup": "Cluster 4",
         "showlegend": false,
         "type": "box",
         "x": [
          1.7261297,
          0.5900912,
          3.6439605,
          0.946055,
          3.021477,
          0.81755096,
          1.5625997,
          3.532446,
          0.87554055,
          1.0109763,
          1.8084435,
          2.085688,
          1.0470328,
          2.8253007,
          1.430215,
          3.6098335,
          2.2818186,
          1.5072525,
          2.7520738,
          3.6979973,
          3.2526078,
          2.6405158,
          0.5934186,
          2.3809547,
          4.524561,
          2.1829693,
          3.059316,
          1.3810507,
          3.7007563,
          1.0717543,
          3.495237,
          3.1590128,
          3.5632966,
          3.424428,
          3.2420778,
          0.9320004,
          3.4336545,
          4.0886946
         ],
         "xaxis": "x2",
         "yaxis": "y2"
        }
       ],
       "layout": {
        "barmode": "relative",
        "height": 600,
        "legend": {
         "title": {
          "text": "Cluster"
         },
         "tracegroupgap": 0
        },
        "margin": {
         "t": 60
        },
        "template": {
         "data": {
          "bar": [
           {
            "error_x": {
             "color": "#2a3f5f"
            },
            "error_y": {
             "color": "#2a3f5f"
            },
            "marker": {
             "line": {
              "color": "#E5ECF6",
              "width": 0.5
             },
             "pattern": {
              "fillmode": "overlay",
              "size": 10,
              "solidity": 0.2
             }
            },
            "type": "bar"
           }
          ],
          "barpolar": [
           {
            "marker": {
             "line": {
              "color": "#E5ECF6",
              "width": 0.5
             },
             "pattern": {
              "fillmode": "overlay",
              "size": 10,
              "solidity": 0.2
             }
            },
            "type": "barpolar"
           }
          ],
          "carpet": [
           {
            "aaxis": {
             "endlinecolor": "#2a3f5f",
             "gridcolor": "white",
             "linecolor": "white",
             "minorgridcolor": "white",
             "startlinecolor": "#2a3f5f"
            },
            "baxis": {
             "endlinecolor": "#2a3f5f",
             "gridcolor": "white",
             "linecolor": "white",
             "minorgridcolor": "white",
             "startlinecolor": "#2a3f5f"
            },
            "type": "carpet"
           }
          ],
          "choropleth": [
           {
            "colorbar": {
             "outlinewidth": 0,
             "ticks": ""
            },
            "type": "choropleth"
           }
          ],
          "contour": [
           {
            "colorbar": {
             "outlinewidth": 0,
             "ticks": ""
            },
            "colorscale": [
             [
              0,
              "#0d0887"
             ],
             [
              0.1111111111111111,
              "#46039f"
             ],
             [
              0.2222222222222222,
              "#7201a8"
             ],
             [
              0.3333333333333333,
              "#9c179e"
             ],
             [
              0.4444444444444444,
              "#bd3786"
             ],
             [
              0.5555555555555556,
              "#d8576b"
             ],
             [
              0.6666666666666666,
              "#ed7953"
             ],
             [
              0.7777777777777778,
              "#fb9f3a"
             ],
             [
              0.8888888888888888,
              "#fdca26"
             ],
             [
              1,
              "#f0f921"
             ]
            ],
            "type": "contour"
           }
          ],
          "contourcarpet": [
           {
            "colorbar": {
             "outlinewidth": 0,
             "ticks": ""
            },
            "type": "contourcarpet"
           }
          ],
          "heatmap": [
           {
            "colorbar": {
             "outlinewidth": 0,
             "ticks": ""
            },
            "colorscale": [
             [
              0,
              "#0d0887"
             ],
             [
              0.1111111111111111,
              "#46039f"
             ],
             [
              0.2222222222222222,
              "#7201a8"
             ],
             [
              0.3333333333333333,
              "#9c179e"
             ],
             [
              0.4444444444444444,
              "#bd3786"
             ],
             [
              0.5555555555555556,
              "#d8576b"
             ],
             [
              0.6666666666666666,
              "#ed7953"
             ],
             [
              0.7777777777777778,
              "#fb9f3a"
             ],
             [
              0.8888888888888888,
              "#fdca26"
             ],
             [
              1,
              "#f0f921"
             ]
            ],
            "type": "heatmap"
           }
          ],
          "heatmapgl": [
           {
            "colorbar": {
             "outlinewidth": 0,
             "ticks": ""
            },
            "colorscale": [
             [
              0,
              "#0d0887"
             ],
             [
              0.1111111111111111,
              "#46039f"
             ],
             [
              0.2222222222222222,
              "#7201a8"
             ],
             [
              0.3333333333333333,
              "#9c179e"
             ],
             [
              0.4444444444444444,
              "#bd3786"
             ],
             [
              0.5555555555555556,
              "#d8576b"
             ],
             [
              0.6666666666666666,
              "#ed7953"
             ],
             [
              0.7777777777777778,
              "#fb9f3a"
             ],
             [
              0.8888888888888888,
              "#fdca26"
             ],
             [
              1,
              "#f0f921"
             ]
            ],
            "type": "heatmapgl"
           }
          ],
          "histogram": [
           {
            "marker": {
             "pattern": {
              "fillmode": "overlay",
              "size": 10,
              "solidity": 0.2
             }
            },
            "type": "histogram"
           }
          ],
          "histogram2d": [
           {
            "colorbar": {
             "outlinewidth": 0,
             "ticks": ""
            },
            "colorscale": [
             [
              0,
              "#0d0887"
             ],
             [
              0.1111111111111111,
              "#46039f"
             ],
             [
              0.2222222222222222,
              "#7201a8"
             ],
             [
              0.3333333333333333,
              "#9c179e"
             ],
             [
              0.4444444444444444,
              "#bd3786"
             ],
             [
              0.5555555555555556,
              "#d8576b"
             ],
             [
              0.6666666666666666,
              "#ed7953"
             ],
             [
              0.7777777777777778,
              "#fb9f3a"
             ],
             [
              0.8888888888888888,
              "#fdca26"
             ],
             [
              1,
              "#f0f921"
             ]
            ],
            "type": "histogram2d"
           }
          ],
          "histogram2dcontour": [
           {
            "colorbar": {
             "outlinewidth": 0,
             "ticks": ""
            },
            "colorscale": [
             [
              0,
              "#0d0887"
             ],
             [
              0.1111111111111111,
              "#46039f"
             ],
             [
              0.2222222222222222,
              "#7201a8"
             ],
             [
              0.3333333333333333,
              "#9c179e"
             ],
             [
              0.4444444444444444,
              "#bd3786"
             ],
             [
              0.5555555555555556,
              "#d8576b"
             ],
             [
              0.6666666666666666,
              "#ed7953"
             ],
             [
              0.7777777777777778,
              "#fb9f3a"
             ],
             [
              0.8888888888888888,
              "#fdca26"
             ],
             [
              1,
              "#f0f921"
             ]
            ],
            "type": "histogram2dcontour"
           }
          ],
          "mesh3d": [
           {
            "colorbar": {
             "outlinewidth": 0,
             "ticks": ""
            },
            "type": "mesh3d"
           }
          ],
          "parcoords": [
           {
            "line": {
             "colorbar": {
              "outlinewidth": 0,
              "ticks": ""
             }
            },
            "type": "parcoords"
           }
          ],
          "pie": [
           {
            "automargin": true,
            "type": "pie"
           }
          ],
          "scatter": [
           {
            "fillpattern": {
             "fillmode": "overlay",
             "size": 10,
             "solidity": 0.2
            },
            "type": "scatter"
           }
          ],
          "scatter3d": [
           {
            "line": {
             "colorbar": {
              "outlinewidth": 0,
              "ticks": ""
             }
            },
            "marker": {
             "colorbar": {
              "outlinewidth": 0,
              "ticks": ""
             }
            },
            "type": "scatter3d"
           }
          ],
          "scattercarpet": [
           {
            "marker": {
             "colorbar": {
              "outlinewidth": 0,
              "ticks": ""
             }
            },
            "type": "scattercarpet"
           }
          ],
          "scattergeo": [
           {
            "marker": {
             "colorbar": {
              "outlinewidth": 0,
              "ticks": ""
             }
            },
            "type": "scattergeo"
           }
          ],
          "scattergl": [
           {
            "marker": {
             "colorbar": {
              "outlinewidth": 0,
              "ticks": ""
             }
            },
            "type": "scattergl"
           }
          ],
          "scattermapbox": [
           {
            "marker": {
             "colorbar": {
              "outlinewidth": 0,
              "ticks": ""
             }
            },
            "type": "scattermapbox"
           }
          ],
          "scatterpolar": [
           {
            "marker": {
             "colorbar": {
              "outlinewidth": 0,
              "ticks": ""
             }
            },
            "type": "scatterpolar"
           }
          ],
          "scatterpolargl": [
           {
            "marker": {
             "colorbar": {
              "outlinewidth": 0,
              "ticks": ""
             }
            },
            "type": "scatterpolargl"
           }
          ],
          "scatterternary": [
           {
            "marker": {
             "colorbar": {
              "outlinewidth": 0,
              "ticks": ""
             }
            },
            "type": "scatterternary"
           }
          ],
          "surface": [
           {
            "colorbar": {
             "outlinewidth": 0,
             "ticks": ""
            },
            "colorscale": [
             [
              0,
              "#0d0887"
             ],
             [
              0.1111111111111111,
              "#46039f"
             ],
             [
              0.2222222222222222,
              "#7201a8"
             ],
             [
              0.3333333333333333,
              "#9c179e"
             ],
             [
              0.4444444444444444,
              "#bd3786"
             ],
             [
              0.5555555555555556,
              "#d8576b"
             ],
             [
              0.6666666666666666,
              "#ed7953"
             ],
             [
              0.7777777777777778,
              "#fb9f3a"
             ],
             [
              0.8888888888888888,
              "#fdca26"
             ],
             [
              1,
              "#f0f921"
             ]
            ],
            "type": "surface"
           }
          ],
          "table": [
           {
            "cells": {
             "fill": {
              "color": "#EBF0F8"
             },
             "line": {
              "color": "white"
             }
            },
            "header": {
             "fill": {
              "color": "#C8D4E3"
             },
             "line": {
              "color": "white"
             }
            },
            "type": "table"
           }
          ]
         },
         "layout": {
          "annotationdefaults": {
           "arrowcolor": "#2a3f5f",
           "arrowhead": 0,
           "arrowwidth": 1
          },
          "autotypenumbers": "strict",
          "coloraxis": {
           "colorbar": {
            "outlinewidth": 0,
            "ticks": ""
           }
          },
          "colorscale": {
           "diverging": [
            [
             0,
             "#8e0152"
            ],
            [
             0.1,
             "#c51b7d"
            ],
            [
             0.2,
             "#de77ae"
            ],
            [
             0.3,
             "#f1b6da"
            ],
            [
             0.4,
             "#fde0ef"
            ],
            [
             0.5,
             "#f7f7f7"
            ],
            [
             0.6,
             "#e6f5d0"
            ],
            [
             0.7,
             "#b8e186"
            ],
            [
             0.8,
             "#7fbc41"
            ],
            [
             0.9,
             "#4d9221"
            ],
            [
             1,
             "#276419"
            ]
           ],
           "sequential": [
            [
             0,
             "#0d0887"
            ],
            [
             0.1111111111111111,
             "#46039f"
            ],
            [
             0.2222222222222222,
             "#7201a8"
            ],
            [
             0.3333333333333333,
             "#9c179e"
            ],
            [
             0.4444444444444444,
             "#bd3786"
            ],
            [
             0.5555555555555556,
             "#d8576b"
            ],
            [
             0.6666666666666666,
             "#ed7953"
            ],
            [
             0.7777777777777778,
             "#fb9f3a"
            ],
            [
             0.8888888888888888,
             "#fdca26"
            ],
            [
             1,
             "#f0f921"
            ]
           ],
           "sequentialminus": [
            [
             0,
             "#0d0887"
            ],
            [
             0.1111111111111111,
             "#46039f"
            ],
            [
             0.2222222222222222,
             "#7201a8"
            ],
            [
             0.3333333333333333,
             "#9c179e"
            ],
            [
             0.4444444444444444,
             "#bd3786"
            ],
            [
             0.5555555555555556,
             "#d8576b"
            ],
            [
             0.6666666666666666,
             "#ed7953"
            ],
            [
             0.7777777777777778,
             "#fb9f3a"
            ],
            [
             0.8888888888888888,
             "#fdca26"
            ],
            [
             1,
             "#f0f921"
            ]
           ]
          },
          "colorway": [
           "#636efa",
           "#EF553B",
           "#00cc96",
           "#ab63fa",
           "#FFA15A",
           "#19d3f3",
           "#FF6692",
           "#B6E880",
           "#FF97FF",
           "#FECB52"
          ],
          "font": {
           "color": "#2a3f5f"
          },
          "geo": {
           "bgcolor": "white",
           "lakecolor": "white",
           "landcolor": "#E5ECF6",
           "showlakes": true,
           "showland": true,
           "subunitcolor": "white"
          },
          "hoverlabel": {
           "align": "left"
          },
          "hovermode": "closest",
          "mapbox": {
           "style": "light"
          },
          "paper_bgcolor": "white",
          "plot_bgcolor": "#E5ECF6",
          "polar": {
           "angularaxis": {
            "gridcolor": "white",
            "linecolor": "white",
            "ticks": ""
           },
           "bgcolor": "#E5ECF6",
           "radialaxis": {
            "gridcolor": "white",
            "linecolor": "white",
            "ticks": ""
           }
          },
          "scene": {
           "xaxis": {
            "backgroundcolor": "#E5ECF6",
            "gridcolor": "white",
            "gridwidth": 2,
            "linecolor": "white",
            "showbackground": true,
            "ticks": "",
            "zerolinecolor": "white"
           },
           "yaxis": {
            "backgroundcolor": "#E5ECF6",
            "gridcolor": "white",
            "gridwidth": 2,
            "linecolor": "white",
            "showbackground": true,
            "ticks": "",
            "zerolinecolor": "white"
           },
           "zaxis": {
            "backgroundcolor": "#E5ECF6",
            "gridcolor": "white",
            "gridwidth": 2,
            "linecolor": "white",
            "showbackground": true,
            "ticks": "",
            "zerolinecolor": "white"
           }
          },
          "shapedefaults": {
           "line": {
            "color": "#2a3f5f"
           }
          },
          "ternary": {
           "aaxis": {
            "gridcolor": "white",
            "linecolor": "white",
            "ticks": ""
           },
           "baxis": {
            "gridcolor": "white",
            "linecolor": "white",
            "ticks": ""
           },
           "bgcolor": "#E5ECF6",
           "caxis": {
            "gridcolor": "white",
            "linecolor": "white",
            "ticks": ""
           }
          },
          "title": {
           "x": 0.05
          },
          "xaxis": {
           "automargin": true,
           "gridcolor": "white",
           "linecolor": "white",
           "ticks": "",
           "title": {
            "standoff": 15
           },
           "zerolinecolor": "white",
           "zerolinewidth": 2
          },
          "yaxis": {
           "automargin": true,
           "gridcolor": "white",
           "linecolor": "white",
           "ticks": "",
           "title": {
            "standoff": 15
           },
           "zerolinecolor": "white",
           "zerolinewidth": 2
          }
         }
        },
        "xaxis": {
         "anchor": "y",
         "domain": [
          0,
          1
         ],
         "title": {
          "text": "feature_1"
         }
        },
        "xaxis2": {
         "anchor": "y2",
         "domain": [
          0,
          1
         ],
         "matches": "x",
         "showgrid": true,
         "showticklabels": false
        },
        "yaxis": {
         "anchor": "x",
         "domain": [
          0,
          0.7326
         ],
         "title": {
          "text": "count"
         }
        },
        "yaxis2": {
         "anchor": "x2",
         "domain": [
          0.7426,
          1
         ],
         "matches": "y2",
         "showgrid": false,
         "showline": false,
         "showticklabels": false,
         "ticks": ""
        }
       }
      },
      "text/html": [
       "<div>                            <div id=\"a0c076e7-492f-46d7-96f5-902027a4e0be\" class=\"plotly-graph-div\" style=\"height:600px; width:100%;\"></div>            <script type=\"text/javascript\">                require([\"plotly\"], function(Plotly) {                    window.PLOTLYENV=window.PLOTLYENV || {};                                    if (document.getElementById(\"a0c076e7-492f-46d7-96f5-902027a4e0be\")) {                    Plotly.newPlot(                        \"a0c076e7-492f-46d7-96f5-902027a4e0be\",                        [{\"alignmentgroup\":\"True\",\"bingroup\":\"x\",\"hovertemplate\":\"Cluster=Cluster 0<br>feature_1=%{x}<br>count=%{y}<extra></extra>\",\"legendgroup\":\"Cluster 0\",\"marker\":{\"color\":\"#636efa\",\"opacity\":0.7,\"pattern\":{\"shape\":\"\"}},\"name\":\"Cluster 0\",\"offsetgroup\":\"Cluster 0\",\"orientation\":\"v\",\"showlegend\":true,\"x\":[5.6702538,5.765158,6.7561255,5.175188,5.897661,9.100838,6.2656207,5.46333,6.280793,8.547298,6.91072,7.778394,6.4245667,9.498048,7.4332137,8.323731,5.8970237,5.863605,6.9845614,6.933642,5.6545525,5.734771,5.4821305,5.281883,5.9264903,6.4190135,6.5265136,6.0097566,8.094415,7.5748186,6.2151456,4.7156463,7.470423,7.5456944],\"xaxis\":\"x\",\"yaxis\":\"y\",\"type\":\"histogram\"},{\"alignmentgroup\":\"True\",\"customdata\":[[-6.42404842376709,-8.084406852722168,\"Cluster 0\"],[-5.057812690734863,-7.020236492156982,\"Cluster 0\"],[-5.167564868927002,-4.467339515686035,\"Cluster 0\"],[-2.904247760772705,-6.736369609832764,\"Cluster 0\"],[-6.211510181427002,-6.859642028808594,\"Cluster 0\"],[-3.809683084487915,-5.2438859939575195,\"Cluster 0\"],[-6.289237976074219,-6.9343061447143555,\"Cluster 0\"],[-5.718873023986816,-5.201152801513672,\"Cluster 0\"],[-7.582366466522217,-5.406217098236084,\"Cluster 0\"],[-6.218900680541992,-7.16558313369751,\"Cluster 0\"],[-4.66054105758667,-5.097103595733643,\"Cluster 0\"],[-5.719988822937012,-6.210661888122559,\"Cluster 0\"],[-5.8105669021606445,-7.6370158195495605,\"Cluster 0\"],[-4.535778522491455,-6.892106056213379,\"Cluster 0\"],[-6.8019866943359375,-6.367455959320068,\"Cluster 0\"],[-7.3247971534729,-8.6600341796875,\"Cluster 0\"],[-8.383773803710938,-5.341818332672119,\"Cluster 0\"],[-6.681087970733643,-6.78444766998291,\"Cluster 0\"],[-9.042363166809082,-6.913843631744385,\"Cluster 0\"],[-5.424924850463867,-7.232302665710449,\"Cluster 0\"],[-6.407420635223389,-9.366811752319336,\"Cluster 0\"],[-6.430685997009277,-7.5659565925598145,\"Cluster 0\"],[-5.657838821411133,-4.534955978393555,\"Cluster 0\"],[-5.431926727294922,-3.02296781539917,\"Cluster 0\"],[-4.840916633605957,-5.035905838012695,\"Cluster 0\"],[-5.684248924255371,-9.102863311767578,\"Cluster 0\"],[-5.7026567459106445,-5.7459940910339355,\"Cluster 0\"],[-5.119237899780273,-6.11449670791626,\"Cluster 0\"],[-4.731592655181885,-7.107937335968018,\"Cluster 0\"],[-6.621224880218506,-3.442883014678955,\"Cluster 0\"],[-6.039409637451172,-6.913232326507568,\"Cluster 0\"],[-5.931479454040527,-6.852452754974365,\"Cluster 0\"],[-5.284914016723633,-6.465391159057617,\"Cluster 0\"],[-6.102048397064209,-3.8973894119262695,\"Cluster 0\"]],\"hovertemplate\":\"Cluster=%{customdata[2]}<br>feature_1=%{x}<br>feature_2=%{customdata[0]}<br>feature_3=%{customdata[1]}<extra></extra>\",\"legendgroup\":\"Cluster 0\",\"marker\":{\"color\":\"#636efa\"},\"name\":\"Cluster 0\",\"notched\":true,\"offsetgroup\":\"Cluster 0\",\"showlegend\":false,\"x\":[5.6702538,5.765158,6.7561255,5.175188,5.897661,9.100838,6.2656207,5.46333,6.280793,8.547298,6.91072,7.778394,6.4245667,9.498048,7.4332137,8.323731,5.8970237,5.863605,6.9845614,6.933642,5.6545525,5.734771,5.4821305,5.281883,5.9264903,6.4190135,6.5265136,6.0097566,8.094415,7.5748186,6.2151456,4.7156463,7.470423,7.5456944],\"xaxis\":\"x2\",\"yaxis\":\"y2\",\"type\":\"box\"},{\"alignmentgroup\":\"True\",\"bingroup\":\"x\",\"hovertemplate\":\"Cluster=Cluster 1<br>feature_1=%{x}<br>count=%{y}<extra></extra>\",\"legendgroup\":\"Cluster 1\",\"marker\":{\"color\":\"#EF553B\",\"opacity\":0.7,\"pattern\":{\"shape\":\"\"}},\"name\":\"Cluster 1\",\"offsetgroup\":\"Cluster 1\",\"orientation\":\"v\",\"showlegend\":true,\"x\":[-11.11518,-9.593968,-10.984524,-9.641371,-8.765252,-6.3047466,-8.823752,-8.861658,-8.311135,-8.96447,-8.037861,-8.742089,-9.585012,-10.363374,-9.365749,-9.163576,-7.3186398,-6.965872,-8.457007,-6.8447657,-7.3924203,-6.9866467,-7.202205,-9.690481,-7.0952673,-10.430526,-7.873752,-9.371726,-8.58921,-10.374231,-8.307839,-9.397125,-11.346349,-7.5600553,-8.352357,-7.699356],\"xaxis\":\"x\",\"yaxis\":\"y\",\"type\":\"histogram\"},{\"alignmentgroup\":\"True\",\"customdata\":[[8.860172271728516,1.28413987159729,\"Cluster 1\"],[8.375628471374512,2.68438458442688,\"Cluster 1\"],[7.752288341522217,1.5248620510101318,\"Cluster 1\"],[8.71784782409668,3.8857319355010986,\"Cluster 1\"],[8.100117683410645,2.173614025115967,\"Cluster 1\"],[8.147741317749023,2.1074671745300293,\"Cluster 1\"],[8.440644264221191,1.3944745063781738,\"Cluster 1\"],[6.204412937164307,0.4683692753314972,\"Cluster 1\"],[7.193325519561768,1.438580870628357,\"Cluster 1\"],[4.929569244384766,0.4620688259601593,\"Cluster 1\"],[6.484547138214111,2.0117197036743164,\"Cluster 1\"],[6.251778602600098,1.6205195188522339,\"Cluster 1\"],[6.896936416625977,3.1647136211395264,\"Cluster 1\"],[10.1903657913208,4.234396934509277,\"Cluster 1\"],[6.834024429321289,2.3362479209899902,\"Cluster 1\"],[6.587809085845947,4.317081451416016,\"Cluster 1\"],[7.776278495788574,4.0039215087890625,\"Cluster 1\"],[7.477784156799316,2.6817917823791504,\"Cluster 1\"],[5.388850212097168,3.1567583084106445,\"Cluster 1\"],[6.922426223754883,1.6408839225769043,\"Cluster 1\"],[5.887530326843262,2.9471142292022705,\"Cluster 1\"],[8.911439895629883,1.8682056665420532,\"Cluster 1\"],[8.318041801452637,2.0404722690582275,\"Cluster 1\"],[5.178317070007324,0.557616114616394,\"Cluster 1\"],[7.75793981552124,2.719877243041992,\"Cluster 1\"],[9.535982131958008,1.1454105377197266,\"Cluster 1\"],[8.06013298034668,3.65175724029541,\"Cluster 1\"],[5.320564270019531,1.096117377281189,\"Cluster 1\"],[8.38551139831543,1.4648644924163818,\"Cluster 1\"],[7.038652420043945,4.268707275390625,\"Cluster 1\"],[8.581146240234375,1.2680165767669678,\"Cluster 1\"],[7.393733501434326,4.8398966789245605,\"Cluster 1\"],[9.448040962219238,1.651389241218567,\"Cluster 1\"],[5.173069000244141,1.486172080039978,\"Cluster 1\"],[8.41520881652832,1.7793512344360352,\"Cluster 1\"],[7.0364532470703125,3.047069787979126,\"Cluster 1\"]],\"hovertemplate\":\"Cluster=%{customdata[2]}<br>feature_1=%{x}<br>feature_2=%{customdata[0]}<br>feature_3=%{customdata[1]}<extra></extra>\",\"legendgroup\":\"Cluster 1\",\"marker\":{\"color\":\"#EF553B\"},\"name\":\"Cluster 1\",\"notched\":true,\"offsetgroup\":\"Cluster 1\",\"showlegend\":false,\"x\":[-11.11518,-9.593968,-10.984524,-9.641371,-8.765252,-6.3047466,-8.823752,-8.861658,-8.311135,-8.96447,-8.037861,-8.742089,-9.585012,-10.363374,-9.365749,-9.163576,-7.3186398,-6.965872,-8.457007,-6.8447657,-7.3924203,-6.9866467,-7.202205,-9.690481,-7.0952673,-10.430526,-7.873752,-9.371726,-8.58921,-10.374231,-8.307839,-9.397125,-11.346349,-7.5600553,-8.352357,-7.699356],\"xaxis\":\"x2\",\"yaxis\":\"y2\",\"type\":\"box\"},{\"alignmentgroup\":\"True\",\"bingroup\":\"x\",\"hovertemplate\":\"Cluster=Cluster 2<br>feature_1=%{x}<br>count=%{y}<extra></extra>\",\"legendgroup\":\"Cluster 2\",\"marker\":{\"color\":\"#00cc96\",\"opacity\":0.7,\"pattern\":{\"shape\":\"\"}},\"name\":\"Cluster 2\",\"offsetgroup\":\"Cluster 2\",\"orientation\":\"v\",\"showlegend\":true,\"x\":[1.9892939,5.894658,6.011097,2.8446364,3.641071,4.7106633,3.079899,5.0864873,2.1638198,4.4016128,4.0710874,4.5364017,4.14379,4.6489234,3.8385382,5.6019454,2.4267197,3.6414874,5.5086646,5.933442,5.7627864,4.7298045,4.4922137,6.022967,4.452252,6.0454903,5.3933473,4.4727187,3.3643787,2.5191433,3.9721828,4.073118,3.3426404,5.2085013,5.3330226,4.847069],\"xaxis\":\"x\",\"yaxis\":\"y\",\"type\":\"histogram\"},{\"alignmentgroup\":\"True\",\"customdata\":[[-11.88355827331543,9.833168983459473,\"Cluster 2\"],[-8.525033950805664,9.23370361328125,\"Cluster 2\"],[-10.581781387329102,9.033559799194336,\"Cluster 2\"],[-9.179203033447266,9.294501304626465,\"Cluster 2\"],[-9.999080657958984,7.3211493492126465,\"Cluster 2\"],[-9.504727363586426,10.578402519226074,\"Cluster 2\"],[-9.718664169311523,9.331615447998047,\"Cluster 2\"],[-8.997086524963379,9.504844665527344,\"Cluster 2\"],[-9.595748901367188,9.881939888000488,\"Cluster 2\"],[-12.19334888458252,8.814139366149902,\"Cluster 2\"],[-10.909811973571777,9.983405113220215,\"Cluster 2\"],[-9.96393871307373,7.479249000549316,\"Cluster 2\"],[-8.632623672485352,9.060534477233887,\"Cluster 2\"],[-10.106640815734863,11.630157470703125,\"Cluster 2\"],[-7.801455974578857,10.451587677001953,\"Cluster 2\"],[-7.4090046882629395,9.2650785446167,\"Cluster 2\"],[-10.601274490356445,8.986355781555176,\"Cluster 2\"],[-9.34372329711914,10.069128036499023,\"Cluster 2\"],[-11.317745208740234,9.250703811645508,\"Cluster 2\"],[-8.748018264770508,9.2394380569458,\"Cluster 2\"],[-8.410452842712402,9.795037269592285,\"Cluster 2\"],[-9.523089408874512,12.129110336303711,\"Cluster 2\"],[-9.2538423538208,6.455479621887207,\"Cluster 2\"],[-9.384342193603516,10.78209114074707,\"Cluster 2\"],[-7.131431579589844,9.536030769348145,\"Cluster 2\"],[-9.951099395751953,9.392721176147461,\"Cluster 2\"],[-9.389004707336426,8.173737525939941,\"Cluster 2\"],[-9.225492477416992,11.217677116394043,\"Cluster 2\"],[-7.956176280975342,6.953705787658691,\"Cluster 2\"],[-8.945719718933105,10.670733451843262,\"Cluster 2\"],[-11.21437931060791,10.637317657470703,\"Cluster 2\"],[-9.92697525024414,9.75277042388916,\"Cluster 2\"],[-9.64614486694336,10.923563003540039,\"Cluster 2\"],[-8.203084945678711,8.825339317321777,\"Cluster 2\"],[-11.331729888916016,10.339004516601562,\"Cluster 2\"],[-8.423681259155273,10.288552284240723,\"Cluster 2\"]],\"hovertemplate\":\"Cluster=%{customdata[2]}<br>feature_1=%{x}<br>feature_2=%{customdata[0]}<br>feature_3=%{customdata[1]}<extra></extra>\",\"legendgroup\":\"Cluster 2\",\"marker\":{\"color\":\"#00cc96\"},\"name\":\"Cluster 2\",\"notched\":true,\"offsetgroup\":\"Cluster 2\",\"showlegend\":false,\"x\":[1.9892939,5.894658,6.011097,2.8446364,3.641071,4.7106633,3.079899,5.0864873,2.1638198,4.4016128,4.0710874,4.5364017,4.14379,4.6489234,3.8385382,5.6019454,2.4267197,3.6414874,5.5086646,5.933442,5.7627864,4.7298045,4.4922137,6.022967,4.452252,6.0454903,5.3933473,4.4727187,3.3643787,2.5191433,3.9721828,4.073118,3.3426404,5.2085013,5.3330226,4.847069],\"xaxis\":\"x2\",\"yaxis\":\"y2\",\"type\":\"box\"},{\"alignmentgroup\":\"True\",\"bingroup\":\"x\",\"hovertemplate\":\"Cluster=Cluster 3<br>feature_1=%{x}<br>count=%{y}<extra></extra>\",\"legendgroup\":\"Cluster 3\",\"marker\":{\"color\":\"#ab63fa\",\"opacity\":0.7,\"pattern\":{\"shape\":\"\"}},\"name\":\"Cluster 3\",\"offsetgroup\":\"Cluster 3\",\"orientation\":\"v\",\"showlegend\":true,\"x\":[-2.2468317,-1.965674,-1.4249586,-4.9359756,-3.3002164,-1.1988069,0.562188,-2.5314586,-2.347883,-2.0945761,-4.1252112,-1.4359988,-3.7545934,-4.4091506,-2.159957,-3.587047,-3.700301,1.5375578,-3.1948538,-2.7224762,-4.303262,-2.5822346,-2.7845383,-3.2573705,-3.022853,-3.1277204,-2.7637913,-1.701447,-0.9807173,-1.1193737,-2.820032,-0.8629631,-1.368754,-1.554483,-5.076742,-2.703304],\"xaxis\":\"x\",\"yaxis\":\"y\",\"type\":\"histogram\"},{\"alignmentgroup\":\"True\",\"customdata\":[[10.072399139404297,3.428976535797119,\"Cluster 3\"],[8.81501293182373,4.897805213928223,\"Cluster 3\"],[9.037086486816406,3.9985790252685547,\"Cluster 3\"],[7.882617950439453,6.324629306793213,\"Cluster 3\"],[9.019010543823242,5.213183879852295,\"Cluster 3\"],[12.348261833190918,6.072246551513672,\"Cluster 3\"],[9.48736572265625,4.786541938781738,\"Cluster 3\"],[7.006080627441406,3.3528406620025635,\"Cluster 3\"],[9.712833404541016,5.705176830291748,\"Cluster 3\"],[8.539666175842285,4.292914390563965,\"Cluster 3\"],[7.957576751708984,3.2832159996032715,\"Cluster 3\"],[9.920283317565918,4.391279697418213,\"Cluster 3\"],[8.923321723937988,5.807435035705566,\"Cluster 3\"],[9.942727088928223,3.9941089153289795,\"Cluster 3\"],[8.251614570617676,3.4140162467956543,\"Cluster 3\"],[10.016040802001953,4.995752334594727,\"Cluster 3\"],[9.137103080749512,4.1207475662231445,\"Cluster 3\"],[7.909817218780518,4.161512851715088,\"Cluster 3\"],[7.905386924743652,1.5048199892044067,\"Cluster 3\"],[8.521825790405273,6.055538654327393,\"Cluster 3\"],[8.06717586517334,5.532332420349121,\"Cluster 3\"],[7.311785697937012,5.890868663787842,\"Cluster 3\"],[9.481504440307617,3.1217358112335205,\"Cluster 3\"],[7.204502105712891,5.9594550132751465,\"Cluster 3\"],[8.123397827148438,3.7958662509918213,\"Cluster 3\"],[8.293981552124023,5.776806831359863,\"Cluster 3\"],[8.502043724060059,5.241616725921631,\"Cluster 3\"],[8.706330299377441,4.198487758636475,\"Cluster 3\"],[8.66394329071045,1.4536675214767456,\"Cluster 3\"],[9.322826385498047,5.017294406890869,\"Cluster 3\"],[8.32463550567627,4.13408088684082,\"Cluster 3\"],[9.224949836730957,4.26873254776001,\"Cluster 3\"],[9.994020462036133,2.811227560043335,\"Cluster 3\"],[10.808807373046875,5.045696258544922,\"Cluster 3\"],[8.258915901184082,5.357143402099609,\"Cluster 3\"],[8.373907089233398,4.633245468139648,\"Cluster 3\"]],\"hovertemplate\":\"Cluster=%{customdata[2]}<br>feature_1=%{x}<br>feature_2=%{customdata[0]}<br>feature_3=%{customdata[1]}<extra></extra>\",\"legendgroup\":\"Cluster 3\",\"marker\":{\"color\":\"#ab63fa\"},\"name\":\"Cluster 3\",\"notched\":true,\"offsetgroup\":\"Cluster 3\",\"showlegend\":false,\"x\":[-2.2468317,-1.965674,-1.4249586,-4.9359756,-3.3002164,-1.1988069,0.562188,-2.5314586,-2.347883,-2.0945761,-4.1252112,-1.4359988,-3.7545934,-4.4091506,-2.159957,-3.587047,-3.700301,1.5375578,-3.1948538,-2.7224762,-4.303262,-2.5822346,-2.7845383,-3.2573705,-3.022853,-3.1277204,-2.7637913,-1.701447,-0.9807173,-1.1193737,-2.820032,-0.8629631,-1.368754,-1.554483,-5.076742,-2.703304],\"xaxis\":\"x2\",\"yaxis\":\"y2\",\"type\":\"box\"},{\"alignmentgroup\":\"True\",\"bingroup\":\"x\",\"hovertemplate\":\"Cluster=Cluster 4<br>feature_1=%{x}<br>count=%{y}<extra></extra>\",\"legendgroup\":\"Cluster 4\",\"marker\":{\"color\":\"#FFA15A\",\"opacity\":0.7,\"pattern\":{\"shape\":\"\"}},\"name\":\"Cluster 4\",\"offsetgroup\":\"Cluster 4\",\"orientation\":\"v\",\"showlegend\":true,\"x\":[1.7261297,0.5900912,3.6439605,0.946055,3.021477,0.81755096,1.5625997,3.532446,0.87554055,1.0109763,1.8084435,2.085688,1.0470328,2.8253007,1.430215,3.6098335,2.2818186,1.5072525,2.7520738,3.6979973,3.2526078,2.6405158,0.5934186,2.3809547,4.524561,2.1829693,3.059316,1.3810507,3.7007563,1.0717543,3.495237,3.1590128,3.5632966,3.424428,3.2420778,0.9320004,3.4336545,4.0886946],\"xaxis\":\"x\",\"yaxis\":\"y\",\"type\":\"histogram\"},{\"alignmentgroup\":\"True\",\"customdata\":[[-8.60767650604248,-5.451236724853516,\"Cluster 4\"],[-8.680549621582031,-6.682082176208496,\"Cluster 4\"],[-7.93639612197876,-6.787835597991943,\"Cluster 4\"],[-6.927190780639648,-7.52170467376709,\"Cluster 4\"],[-6.868653774261475,-7.318756580352783,\"Cluster 4\"],[-5.7070112228393555,-6.829733371734619,\"Cluster 4\"],[-7.9908833503723145,-7.495667934417725,\"Cluster 4\"],[-7.920202732086182,-6.138940811157227,\"Cluster 4\"],[-6.134969234466553,-7.073234558105469,\"Cluster 4\"],[-5.218808174133301,-5.193863391876221,\"Cluster 4\"],[-7.028585910797119,-5.991700649261475,\"Cluster 4\"],[-8.567313194274902,-6.921545028686523,\"Cluster 4\"],[-5.82521915435791,-7.167623043060303,\"Cluster 4\"],[-6.768652439117432,-6.124019622802734,\"Cluster 4\"],[-5.94716739654541,-5.625424385070801,\"Cluster 4\"],[-3.832631826400757,-7.269498825073242,\"Cluster 4\"],[-6.850909233093262,-5.833812713623047,\"Cluster 4\"],[-7.94224214553833,-7.30820369720459,\"Cluster 4\"],[-8.347075462341309,-6.236506462097168,\"Cluster 4\"],[-6.870859622955322,-5.28305196762085,\"Cluster 4\"],[-8.030436515808105,-5.221704006195068,\"Cluster 4\"],[-5.626994609832764,-6.248371601104736,\"Cluster 4\"],[-7.810030460357666,-5.952340602874756,\"Cluster 4\"],[-6.88848352432251,-5.959353446960449,\"Cluster 4\"],[-6.992372512817383,-6.159825325012207,\"Cluster 4\"],[-8.339853286743164,-5.620892524719238,\"Cluster 4\"],[-7.604312419891357,-6.5147705078125,\"Cluster 4\"],[-5.77183198928833,-4.832183837890625,\"Cluster 4\"],[-6.72582483291626,-7.44895076751709,\"Cluster 4\"],[-8.236141204833984,-5.956136703491211,\"Cluster 4\"],[-6.370243549346924,-5.751466751098633,\"Cluster 4\"],[-6.600871562957764,-6.668692588806152,\"Cluster 4\"],[-5.998225688934326,-8.025506019592285,\"Cluster 4\"],[-6.23407506942749,-3.5988030433654785,\"Cluster 4\"],[-6.817994117736816,-5.833172798156738,\"Cluster 4\"],[-6.704593181610107,-8.523954391479492,\"Cluster 4\"],[-6.608081340789795,-5.863227844238281,\"Cluster 4\"],[-6.602482795715332,-7.850833892822266,\"Cluster 4\"]],\"hovertemplate\":\"Cluster=%{customdata[2]}<br>feature_1=%{x}<br>feature_2=%{customdata[0]}<br>feature_3=%{customdata[1]}<extra></extra>\",\"legendgroup\":\"Cluster 4\",\"marker\":{\"color\":\"#FFA15A\"},\"name\":\"Cluster 4\",\"notched\":true,\"offsetgroup\":\"Cluster 4\",\"showlegend\":false,\"x\":[1.7261297,0.5900912,3.6439605,0.946055,3.021477,0.81755096,1.5625997,3.532446,0.87554055,1.0109763,1.8084435,2.085688,1.0470328,2.8253007,1.430215,3.6098335,2.2818186,1.5072525,2.7520738,3.6979973,3.2526078,2.6405158,0.5934186,2.3809547,4.524561,2.1829693,3.059316,1.3810507,3.7007563,1.0717543,3.495237,3.1590128,3.5632966,3.424428,3.2420778,0.9320004,3.4336545,4.0886946],\"xaxis\":\"x2\",\"yaxis\":\"y2\",\"type\":\"box\"}],                        {\"template\":{\"data\":{\"histogram2dcontour\":[{\"type\":\"histogram2dcontour\",\"colorbar\":{\"outlinewidth\":0,\"ticks\":\"\"},\"colorscale\":[[0.0,\"#0d0887\"],[0.1111111111111111,\"#46039f\"],[0.2222222222222222,\"#7201a8\"],[0.3333333333333333,\"#9c179e\"],[0.4444444444444444,\"#bd3786\"],[0.5555555555555556,\"#d8576b\"],[0.6666666666666666,\"#ed7953\"],[0.7777777777777778,\"#fb9f3a\"],[0.8888888888888888,\"#fdca26\"],[1.0,\"#f0f921\"]]}],\"choropleth\":[{\"type\":\"choropleth\",\"colorbar\":{\"outlinewidth\":0,\"ticks\":\"\"}}],\"histogram2d\":[{\"type\":\"histogram2d\",\"colorbar\":{\"outlinewidth\":0,\"ticks\":\"\"},\"colorscale\":[[0.0,\"#0d0887\"],[0.1111111111111111,\"#46039f\"],[0.2222222222222222,\"#7201a8\"],[0.3333333333333333,\"#9c179e\"],[0.4444444444444444,\"#bd3786\"],[0.5555555555555556,\"#d8576b\"],[0.6666666666666666,\"#ed7953\"],[0.7777777777777778,\"#fb9f3a\"],[0.8888888888888888,\"#fdca26\"],[1.0,\"#f0f921\"]]}],\"heatmap\":[{\"type\":\"heatmap\",\"colorbar\":{\"outlinewidth\":0,\"ticks\":\"\"},\"colorscale\":[[0.0,\"#0d0887\"],[0.1111111111111111,\"#46039f\"],[0.2222222222222222,\"#7201a8\"],[0.3333333333333333,\"#9c179e\"],[0.4444444444444444,\"#bd3786\"],[0.5555555555555556,\"#d8576b\"],[0.6666666666666666,\"#ed7953\"],[0.7777777777777778,\"#fb9f3a\"],[0.8888888888888888,\"#fdca26\"],[1.0,\"#f0f921\"]]}],\"heatmapgl\":[{\"type\":\"heatmapgl\",\"colorbar\":{\"outlinewidth\":0,\"ticks\":\"\"},\"colorscale\":[[0.0,\"#0d0887\"],[0.1111111111111111,\"#46039f\"],[0.2222222222222222,\"#7201a8\"],[0.3333333333333333,\"#9c179e\"],[0.4444444444444444,\"#bd3786\"],[0.5555555555555556,\"#d8576b\"],[0.6666666666666666,\"#ed7953\"],[0.7777777777777778,\"#fb9f3a\"],[0.8888888888888888,\"#fdca26\"],[1.0,\"#f0f921\"]]}],\"contourcarpet\":[{\"type\":\"contourcarpet\",\"colorbar\":{\"outlinewidth\":0,\"ticks\":\"\"}}],\"contour\":[{\"type\":\"contour\",\"colorbar\":{\"outlinewidth\":0,\"ticks\":\"\"},\"colorscale\":[[0.0,\"#0d0887\"],[0.1111111111111111,\"#46039f\"],[0.2222222222222222,\"#7201a8\"],[0.3333333333333333,\"#9c179e\"],[0.4444444444444444,\"#bd3786\"],[0.5555555555555556,\"#d8576b\"],[0.6666666666666666,\"#ed7953\"],[0.7777777777777778,\"#fb9f3a\"],[0.8888888888888888,\"#fdca26\"],[1.0,\"#f0f921\"]]}],\"surface\":[{\"type\":\"surface\",\"colorbar\":{\"outlinewidth\":0,\"ticks\":\"\"},\"colorscale\":[[0.0,\"#0d0887\"],[0.1111111111111111,\"#46039f\"],[0.2222222222222222,\"#7201a8\"],[0.3333333333333333,\"#9c179e\"],[0.4444444444444444,\"#bd3786\"],[0.5555555555555556,\"#d8576b\"],[0.6666666666666666,\"#ed7953\"],[0.7777777777777778,\"#fb9f3a\"],[0.8888888888888888,\"#fdca26\"],[1.0,\"#f0f921\"]]}],\"mesh3d\":[{\"type\":\"mesh3d\",\"colorbar\":{\"outlinewidth\":0,\"ticks\":\"\"}}],\"scatter\":[{\"fillpattern\":{\"fillmode\":\"overlay\",\"size\":10,\"solidity\":0.2},\"type\":\"scatter\"}],\"parcoords\":[{\"type\":\"parcoords\",\"line\":{\"colorbar\":{\"outlinewidth\":0,\"ticks\":\"\"}}}],\"scatterpolargl\":[{\"type\":\"scatterpolargl\",\"marker\":{\"colorbar\":{\"outlinewidth\":0,\"ticks\":\"\"}}}],\"bar\":[{\"error_x\":{\"color\":\"#2a3f5f\"},\"error_y\":{\"color\":\"#2a3f5f\"},\"marker\":{\"line\":{\"color\":\"#E5ECF6\",\"width\":0.5},\"pattern\":{\"fillmode\":\"overlay\",\"size\":10,\"solidity\":0.2}},\"type\":\"bar\"}],\"scattergeo\":[{\"type\":\"scattergeo\",\"marker\":{\"colorbar\":{\"outlinewidth\":0,\"ticks\":\"\"}}}],\"scatterpolar\":[{\"type\":\"scatterpolar\",\"marker\":{\"colorbar\":{\"outlinewidth\":0,\"ticks\":\"\"}}}],\"histogram\":[{\"marker\":{\"pattern\":{\"fillmode\":\"overlay\",\"size\":10,\"solidity\":0.2}},\"type\":\"histogram\"}],\"scattergl\":[{\"type\":\"scattergl\",\"marker\":{\"colorbar\":{\"outlinewidth\":0,\"ticks\":\"\"}}}],\"scatter3d\":[{\"type\":\"scatter3d\",\"line\":{\"colorbar\":{\"outlinewidth\":0,\"ticks\":\"\"}},\"marker\":{\"colorbar\":{\"outlinewidth\":0,\"ticks\":\"\"}}}],\"scattermapbox\":[{\"type\":\"scattermapbox\",\"marker\":{\"colorbar\":{\"outlinewidth\":0,\"ticks\":\"\"}}}],\"scatterternary\":[{\"type\":\"scatterternary\",\"marker\":{\"colorbar\":{\"outlinewidth\":0,\"ticks\":\"\"}}}],\"scattercarpet\":[{\"type\":\"scattercarpet\",\"marker\":{\"colorbar\":{\"outlinewidth\":0,\"ticks\":\"\"}}}],\"carpet\":[{\"aaxis\":{\"endlinecolor\":\"#2a3f5f\",\"gridcolor\":\"white\",\"linecolor\":\"white\",\"minorgridcolor\":\"white\",\"startlinecolor\":\"#2a3f5f\"},\"baxis\":{\"endlinecolor\":\"#2a3f5f\",\"gridcolor\":\"white\",\"linecolor\":\"white\",\"minorgridcolor\":\"white\",\"startlinecolor\":\"#2a3f5f\"},\"type\":\"carpet\"}],\"table\":[{\"cells\":{\"fill\":{\"color\":\"#EBF0F8\"},\"line\":{\"color\":\"white\"}},\"header\":{\"fill\":{\"color\":\"#C8D4E3\"},\"line\":{\"color\":\"white\"}},\"type\":\"table\"}],\"barpolar\":[{\"marker\":{\"line\":{\"color\":\"#E5ECF6\",\"width\":0.5},\"pattern\":{\"fillmode\":\"overlay\",\"size\":10,\"solidity\":0.2}},\"type\":\"barpolar\"}],\"pie\":[{\"automargin\":true,\"type\":\"pie\"}]},\"layout\":{\"autotypenumbers\":\"strict\",\"colorway\":[\"#636efa\",\"#EF553B\",\"#00cc96\",\"#ab63fa\",\"#FFA15A\",\"#19d3f3\",\"#FF6692\",\"#B6E880\",\"#FF97FF\",\"#FECB52\"],\"font\":{\"color\":\"#2a3f5f\"},\"hovermode\":\"closest\",\"hoverlabel\":{\"align\":\"left\"},\"paper_bgcolor\":\"white\",\"plot_bgcolor\":\"#E5ECF6\",\"polar\":{\"bgcolor\":\"#E5ECF6\",\"angularaxis\":{\"gridcolor\":\"white\",\"linecolor\":\"white\",\"ticks\":\"\"},\"radialaxis\":{\"gridcolor\":\"white\",\"linecolor\":\"white\",\"ticks\":\"\"}},\"ternary\":{\"bgcolor\":\"#E5ECF6\",\"aaxis\":{\"gridcolor\":\"white\",\"linecolor\":\"white\",\"ticks\":\"\"},\"baxis\":{\"gridcolor\":\"white\",\"linecolor\":\"white\",\"ticks\":\"\"},\"caxis\":{\"gridcolor\":\"white\",\"linecolor\":\"white\",\"ticks\":\"\"}},\"coloraxis\":{\"colorbar\":{\"outlinewidth\":0,\"ticks\":\"\"}},\"colorscale\":{\"sequential\":[[0.0,\"#0d0887\"],[0.1111111111111111,\"#46039f\"],[0.2222222222222222,\"#7201a8\"],[0.3333333333333333,\"#9c179e\"],[0.4444444444444444,\"#bd3786\"],[0.5555555555555556,\"#d8576b\"],[0.6666666666666666,\"#ed7953\"],[0.7777777777777778,\"#fb9f3a\"],[0.8888888888888888,\"#fdca26\"],[1.0,\"#f0f921\"]],\"sequentialminus\":[[0.0,\"#0d0887\"],[0.1111111111111111,\"#46039f\"],[0.2222222222222222,\"#7201a8\"],[0.3333333333333333,\"#9c179e\"],[0.4444444444444444,\"#bd3786\"],[0.5555555555555556,\"#d8576b\"],[0.6666666666666666,\"#ed7953\"],[0.7777777777777778,\"#fb9f3a\"],[0.8888888888888888,\"#fdca26\"],[1.0,\"#f0f921\"]],\"diverging\":[[0,\"#8e0152\"],[0.1,\"#c51b7d\"],[0.2,\"#de77ae\"],[0.3,\"#f1b6da\"],[0.4,\"#fde0ef\"],[0.5,\"#f7f7f7\"],[0.6,\"#e6f5d0\"],[0.7,\"#b8e186\"],[0.8,\"#7fbc41\"],[0.9,\"#4d9221\"],[1,\"#276419\"]]},\"xaxis\":{\"gridcolor\":\"white\",\"linecolor\":\"white\",\"ticks\":\"\",\"title\":{\"standoff\":15},\"zerolinecolor\":\"white\",\"automargin\":true,\"zerolinewidth\":2},\"yaxis\":{\"gridcolor\":\"white\",\"linecolor\":\"white\",\"ticks\":\"\",\"title\":{\"standoff\":15},\"zerolinecolor\":\"white\",\"automargin\":true,\"zerolinewidth\":2},\"scene\":{\"xaxis\":{\"backgroundcolor\":\"#E5ECF6\",\"gridcolor\":\"white\",\"linecolor\":\"white\",\"showbackground\":true,\"ticks\":\"\",\"zerolinecolor\":\"white\",\"gridwidth\":2},\"yaxis\":{\"backgroundcolor\":\"#E5ECF6\",\"gridcolor\":\"white\",\"linecolor\":\"white\",\"showbackground\":true,\"ticks\":\"\",\"zerolinecolor\":\"white\",\"gridwidth\":2},\"zaxis\":{\"backgroundcolor\":\"#E5ECF6\",\"gridcolor\":\"white\",\"linecolor\":\"white\",\"showbackground\":true,\"ticks\":\"\",\"zerolinecolor\":\"white\",\"gridwidth\":2}},\"shapedefaults\":{\"line\":{\"color\":\"#2a3f5f\"}},\"annotationdefaults\":{\"arrowcolor\":\"#2a3f5f\",\"arrowhead\":0,\"arrowwidth\":1},\"geo\":{\"bgcolor\":\"white\",\"landcolor\":\"#E5ECF6\",\"subunitcolor\":\"white\",\"showland\":true,\"showlakes\":true,\"lakecolor\":\"white\"},\"title\":{\"x\":0.05},\"mapbox\":{\"style\":\"light\"}}},\"xaxis\":{\"anchor\":\"y\",\"domain\":[0.0,1.0],\"title\":{\"text\":\"feature_1\"}},\"yaxis\":{\"anchor\":\"x\",\"domain\":[0.0,0.7326],\"title\":{\"text\":\"count\"}},\"xaxis2\":{\"anchor\":\"y2\",\"domain\":[0.0,1.0],\"matches\":\"x\",\"showticklabels\":false,\"showgrid\":true},\"yaxis2\":{\"anchor\":\"x2\",\"domain\":[0.7426,1.0],\"matches\":\"y2\",\"showticklabels\":false,\"showline\":false,\"ticks\":\"\",\"showgrid\":false},\"legend\":{\"title\":{\"text\":\"Cluster\"},\"tracegroupgap\":0},\"margin\":{\"t\":60},\"barmode\":\"relative\",\"height\":600},                        {\"responsive\": true}                    ).then(function(){\n",
       "                            \n",
       "var gd = document.getElementById('a0c076e7-492f-46d7-96f5-902027a4e0be');\n",
       "var x = new MutationObserver(function (mutations, observer) {{\n",
       "        var display = window.getComputedStyle(gd).display;\n",
       "        if (!display || display === 'none') {{\n",
       "            console.log([gd, 'removed!']);\n",
       "            Plotly.purge(gd);\n",
       "            observer.disconnect();\n",
       "        }}\n",
       "}});\n",
       "\n",
       "// Listen for the removal of the full notebook cells\n",
       "var notebookContainer = gd.closest('#notebook-container');\n",
       "if (notebookContainer) {{\n",
       "    x.observe(notebookContainer, {childList: true});\n",
       "}}\n",
       "\n",
       "// Listen for the clearing of the current output cell\n",
       "var outputEl = gd.closest('.output');\n",
       "if (outputEl) {{\n",
       "    x.observe(outputEl, {childList: true});\n",
       "}}\n",
       "\n",
       "                        })                };                });            </script>        </div>"
      ]
     },
     "metadata": {},
     "output_type": "display_data"
    }
   ],
   "source": [
    "plot_model(kmeans, plot = 'distribution', feature='feature_1') "
   ]
  },
  {
   "cell_type": "markdown",
   "id": "7578de1a",
   "metadata": {},
   "source": [
    "## Compare to original clusters"
   ]
  },
  {
   "cell_type": "markdown",
   "id": "78e1ce07",
   "metadata": {},
   "source": [
    "Predicted clusters are saved in the model object:"
   ]
  },
  {
   "cell_type": "code",
   "execution_count": 43,
   "id": "00efe823",
   "metadata": {},
   "outputs": [
    {
     "data": {
      "text/plain": [
       "array([3, 0, 3, 2, 0, 1, 4, 0, 3, 4, 3, 0, 1, 3, 4, 0, 2, 1, 2, 1, 0, 2,\n",
       "       1, 0, 4, 1, 3, 1, 1, 2, 0, 2, 1, 2, 1, 3, 3, 4, 3, 2, 3, 3, 1, 0,\n",
       "       4, 4, 3, 0, 0, 1, 2, 4, 0, 1, 1, 2, 2, 1, 1, 4, 4, 1, 4, 4, 4, 1,\n",
       "       3, 0, 3, 1, 2, 4, 0, 2, 4, 3, 2, 4, 4, 2, 2, 2, 1, 0, 1, 0, 2, 3,\n",
       "       4, 1, 2, 0, 0, 3, 0, 2, 0, 3, 4, 1, 4, 3, 0, 3, 1, 3, 3, 4, 1, 4,\n",
       "       2, 2, 2, 3, 3, 2, 4, 4, 1, 2, 1, 4, 3, 3, 2, 2, 2, 1, 0, 0, 3, 4,\n",
       "       1, 2, 0, 4, 3, 2, 3, 0, 2, 4, 2, 0, 0, 4, 4, 0, 2, 4, 3, 1, 2, 3,\n",
       "       0, 1, 4, 0, 4, 0, 0, 4, 1, 2, 4, 0, 1, 2, 1, 3, 0, 3, 3, 4, 3, 1,\n",
       "       3, 4, 1, 4])"
      ]
     },
     "execution_count": 43,
     "metadata": {},
     "output_type": "execute_result"
    }
   ],
   "source": [
    "pred = kmeans.labels_\n",
    "pred"
   ]
  },
  {
   "cell_type": "code",
   "execution_count": 44,
   "id": "b317f8e2",
   "metadata": {},
   "outputs": [
    {
     "data": {
      "text/plain": [
       "Text(0.5, 1.0, 'KMeans clusters')"
      ]
     },
     "execution_count": 44,
     "metadata": {},
     "output_type": "execute_result"
    },
    {
     "data": {
      "image/png": "[encoded data removed]",
      "text/plain": [
       "<Figure size 1152x360 with 2 Axes>"
      ]
     },
     "metadata": {
      "needs_background": "light"
     },
     "output_type": "display_data"
    }
   ],
   "source": [
    "fig = plt.figure(figsize=(16,5)) # create plot\n",
    "\n",
    "ax = fig.add_subplot(131) # add subplot for original clusters\n",
    "\n",
    "scatter(X, y) # use previously defined function\n",
    "plt.title('Original clusters') # add title\n",
    "\n",
    "ax = fig.add_subplot(132) # subplot for kmeans clusters\n",
    "                     \n",
    "scatter(X, pred)\n",
    "plt.title('KMeans clusters')"
   ]
  }
 ],
 "metadata": {
  "kernelspec": {
   "display_name": "Python 3 (ipykernel)",
   "language": "python",
   "name": "python3"
  },
  "language_info": {
   "codemirror_mode": {
    "name": "ipython",
    "version": 3
   },
   "file_extension": ".py",
   "mimetype": "text/x-python",
   "name": "python",
   "nbconvert_exporter": "python",
   "pygments_lexer": "ipython3",
   "version": "3.10.4"
  },
  "toc": {
   "base_numbering": 1,
   "nav_menu": {},
   "number_sections": false,
   "sideBar": true,
   "skip_h1_title": false,
   "title_cell": "Table of Contents",
   "title_sidebar": "Contents",
   "toc_cell": false,
   "toc_position": {
    "height": "calc(100% - 180px)",
    "left": "10px",
    "top": "150px",
    "width": "376.797px"
   },
   "toc_section_display": true,
   "toc_window_display": true
  }
 },
 "nbformat": 4,
 "nbformat_minor": 5
}
