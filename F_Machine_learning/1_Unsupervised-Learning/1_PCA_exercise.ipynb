{
 "cells": [
  {
   "cell_type": "markdown",
   "metadata": {
    "collapsed": true
   },
   "source": [
    "# Pricipal component analysis"
   ]
  },
  {
   "cell_type": "markdown",
   "metadata": {},
   "source": [
    "In this exercise, we are performing dimensionality reduction using principal component analysis (PCA) for circadian gene expression data set from the study “Circadian Enhancers Coordinate Multiple Phases of Rhythmic Gene Transcription In Vivo” by Fang et al (https://doi.org/10.1016/j.cell.2014.10.022). "
   ]
  },
  {
   "cell_type": "markdown",
   "metadata": {},
   "source": [
    "## Importing libraries "
   ]
  },
  {
   "cell_type": "markdown",
   "metadata": {},
   "source": [
    "The first step is to import the required Python libraries."
   ]
  },
  {
   "cell_type": "code",
   "execution_count": 2,
   "metadata": {},
   "outputs": [
    {
     "ename": "ModuleNotFoundError",
     "evalue": "No module named 'plotly'",
     "output_type": "error",
     "traceback": [
      "\u001b[1;31m---------------------------------------------------------------------------\u001b[0m",
      "\u001b[1;31mModuleNotFoundError\u001b[0m                       Traceback (most recent call last)",
      "Input \u001b[1;32mIn [2]\u001b[0m, in \u001b[0;36m<cell line: 15>\u001b[1;34m()\u001b[0m\n\u001b[0;32m     13\u001b[0m \u001b[38;5;66;03m# For visualization:\u001b[39;00m\n\u001b[0;32m     14\u001b[0m \u001b[38;5;28;01mimport\u001b[39;00m \u001b[38;5;21;01mmatplotlib\u001b[39;00m\u001b[38;5;21;01m.\u001b[39;00m\u001b[38;5;21;01mpyplot\u001b[39;00m \u001b[38;5;28;01mas\u001b[39;00m \u001b[38;5;21;01mplt\u001b[39;00m\n\u001b[1;32m---> 15\u001b[0m \u001b[38;5;28;01mimport\u001b[39;00m \u001b[38;5;21;01mplotly\u001b[39;00m\u001b[38;5;21;01m.\u001b[39;00m\u001b[38;5;21;01mgraph_objs\u001b[39;00m \u001b[38;5;28;01mas\u001b[39;00m \u001b[38;5;21;01mgo\u001b[39;00m\n\u001b[0;32m     16\u001b[0m \u001b[38;5;28;01mfrom\u001b[39;00m \u001b[38;5;21;01mmpl_toolkits\u001b[39;00m\u001b[38;5;21;01m.\u001b[39;00m\u001b[38;5;21;01mmplot3d\u001b[39;00m \u001b[38;5;28;01mimport\u001b[39;00m Axes3D\n\u001b[0;32m     17\u001b[0m \u001b[38;5;28;01mimport\u001b[39;00m \u001b[38;5;21;01mplotly\u001b[39;00m\u001b[38;5;21;01m.\u001b[39;00m\u001b[38;5;21;01moffline\u001b[39;00m \u001b[38;5;28;01mas\u001b[39;00m \u001b[38;5;21;01moffline\u001b[39;00m\n",
      "\u001b[1;31mModuleNotFoundError\u001b[0m: No module named 'plotly'"
     ]
    }
   ],
   "source": [
    "# Import libraries:\n",
    "\n",
    "# To read, write and process tabular data:\n",
    "import pandas as pd \n",
    "\n",
    "# For efficient manipulation of matrices (and more):\n",
    "import numpy as np \n",
    "\n",
    "# For machine learning:\n",
    "from sklearn import preprocessing\n",
    "from sklearn.decomposition import PCA\n",
    "\n",
    "# For visualization:\n",
    "import matplotlib.pyplot as plt\n",
    "import plotly.graph_objs as go\n",
    "from mpl_toolkits.mplot3d import Axes3D\n",
    "import plotly.offline as offline\n",
    "offline.init_notebook_mode()"
   ]
  },
  {
   "cell_type": "markdown",
   "metadata": {},
   "source": [
    "## Loading data"
   ]
  },
  {
   "cell_type": "markdown",
   "metadata": {},
   "source": [
    "The data is available in NCBI GEO database (https://www.ncbi.nlm.nih.gov/geo/query/acc.cgi?acc=GSE59486, accession id GSE59486)."
   ]
  },
  {
   "cell_type": "code",
   "execution_count": null,
   "metadata": {},
   "outputs": [],
   "source": [
    "# The expression data extracted from GEO is saved to https://github.com/oercompbiomed/Module-1/expression_oscillating_genes.csv\n",
    "# Copy the data to your own folder\n",
    "\n",
    "# Check your current working folder if necessary:\n",
    "import os\n",
    "os.getcwd()\n"
   ]
  },
  {
   "cell_type": "code",
   "execution_count": null,
   "metadata": {},
   "outputs": [],
   "source": [
    "# Type the correct file path and remove # sign to read in the expression data file\n",
    "df= pd.read_csv('data/expression_oscillating_genes.csv')\n",
    "\n",
    "# Check that the file looks ok\n",
    "df.head()"
   ]
  },
  {
   "cell_type": "code",
   "execution_count": null,
   "metadata": {},
   "outputs": [],
   "source": [
    "# We want to plot the time points rather than the genes - check whether the transpose of the matrix suits better for this\n",
    "df.T.head()"
   ]
  },
  {
   "cell_type": "code",
   "execution_count": null,
   "metadata": {},
   "outputs": [],
   "source": [
    "# Remove the row of gene names\n",
    "df = df.T\n",
    "df = df.drop(['Gene Name'])\n",
    "\n",
    "df.head()"
   ]
  },
  {
   "cell_type": "code",
   "execution_count": null,
   "metadata": {},
   "outputs": [],
   "source": [
    "# Save the time point names for plotting graph later\n",
    "\n",
    "#To save column names type\n",
    "#a=list(df)\n",
    "#To save row names type\n",
    "a=df.index.values\n",
    "\n",
    "# Which ones do you choose? Remove # sign and run"
   ]
  },
  {
   "cell_type": "code",
   "execution_count": null,
   "metadata": {},
   "outputs": [],
   "source": [
    "# The results of PCA depend on the scaling of the variables, so it is important to standardize the data. Here we use\n",
    "# preprocessing.scale from sklearn package to transform the data to mean=0, Variance=1.\n",
    "\n",
    "scaled = preprocessing.scale(df)\n",
    "# If you want to see the scaled values, type\n",
    "# print(scaled)"
   ]
  },
  {
   "cell_type": "markdown",
   "metadata": {
    "tags": [
     "style-student"
    ]
   },
   "source": [
    "#### Exercise 1. We just scaled each row to zero mean and unit variance. Verify that your data is normalized."
   ]
  },
  {
   "cell_type": "code",
   "execution_count": null,
   "metadata": {},
   "outputs": [],
   "source": [
    "# %load solutions/ex1_1.py\n",
    "\n",
    "means = scaled.mean(axis=0) # axis 0 means rows\n",
    "stds = scaled.std(axis=0)\n",
    "\n",
    "print(np.allclose(means, 0))  # checks if all are 0 within an error threshold (floating point errors will always occur)\n",
    "print(np.allclose(stds, 1)) # checks if all stds or equivalently variances are 1"
   ]
  },
  {
   "cell_type": "markdown",
   "metadata": {},
   "source": [
    "More on feature scaling in [this sklearn tutorial](https://scikit-learn.org/stable/auto_examples/preprocessing/plot_scaling_importance.html#sphx-glr-auto-examples-preprocessing-plot-scaling-importance-py)"
   ]
  },
  {
   "cell_type": "markdown",
   "metadata": {},
   "source": [
    "## What are principal components?\n",
    "\n",
    "The idea behind PCA is fairly intuitive: identify the direction of maximal variation in your data. Set this \"arrow\" as a new axis. Repeat this procedure $d$ times, with the restriction that each new axis must be [orthogonal](https://en.wikipedia.org/wiki/Orthogonality) to the others. The coordinates of the points in this new projection space is the transformed, decomposed data. We will recreate the figure below.\n",
    "\n",
    "<img src=\"assets/PCA_illustration.png\">"
   ]
  },
  {
   "cell_type": "markdown",
   "metadata": {},
   "source": [
    "First make some synthetic data\n"
   ]
  },
  {
   "cell_type": "code",
   "execution_count": null,
   "metadata": {
    "scrolled": true
   },
   "outputs": [],
   "source": [
    "from sklearn.datasets import make_blobs\n",
    "# make synthetic data\n",
    "X,y = make_blobs(centers=1, random_state=1)\n",
    "trns = [[.1,.3],[0,.15]]\n",
    "X=X@trns\n",
    "X_sc = preprocessing.scale(X)\n",
    "\n",
    "def scatter(X, y=None):\n",
    "    fig=plt.scatter(X[:,0], X[:,1], c=y, cmap='rainbow_r')\n",
    "    return fig\n",
    "\n",
    "scatter(X_sc)"
   ]
  },
  {
   "cell_type": "markdown",
   "metadata": {},
   "source": [
    "## Computing Principal Components"
   ]
  },
  {
   "cell_type": "markdown",
   "metadata": {},
   "source": [
    "To know more about the available parameters in sklearn.decomposition package for PCA see https://scikit-learn.org/stable/modules/generated/sklearn.decomposition.PCA.html.\n",
    "Here we first call the PCA() function from sklearn.decomposition library. This object is then used to fit the PCA model to the data and finally the dimensionality reduction is applied to the data to project the data on the principal components.\n",
    "\n",
    "Again, remember the sklearn workflow : instantiate -> fit -> apply (transform or predict)"
   ]
  },
  {
   "cell_type": "code",
   "execution_count": null,
   "metadata": {},
   "outputs": [],
   "source": [
    "pca = PCA(2) # instantiate a PCA object / model\n",
    "pca.fit(X_sc) # fit PCA model on the scaled data\n",
    "X_tr = pca.transform(X_sc) # apply the dimensionality reduction on the data"
   ]
  },
  {
   "cell_type": "code",
   "execution_count": null,
   "metadata": {},
   "outputs": [],
   "source": [
    "# don't worry too much about the code, just know the principal components are encoded in \n",
    "# pca.components_ and pca.explained_variance_ (for magnitude)\n",
    "\n",
    "plt.figure(figsize=(7,6))\n",
    "scatter(X_sc)\n",
    "plt.arrow(0, 0, *pca.components_[0]*pca.explained_variance_[0], color='r', lw=3)\n",
    "plt.arrow(0, 0, *pca.components_[1]*pca.explained_variance_[1], color='r', lw=3)\n",
    "plt.xlim(-2,2)\n",
    "plt.ylim(-2,2)\n",
    "plt.title('Principal components')\n",
    "plt.show()\n",
    "\n",
    "scatter(X_tr)\n",
    "plt.xlim(-3,3)\n",
    "plt.ylim(-3,3)\n",
    "plt.title('Transformed')"
   ]
  },
  {
   "cell_type": "markdown",
   "metadata": {
    "tags": [
     "style-student"
    ]
   },
   "source": [
    "#### Exercise 2. Verify that the eigenvectors (principal components) are orthogonal."
   ]
  },
  {
   "cell_type": "markdown",
   "metadata": {},
   "source": [
    "If you don't know how to do that, just google it."
   ]
  },
  {
   "cell_type": "code",
   "execution_count": null,
   "metadata": {},
   "outputs": [],
   "source": [
    "# %load solutions/ex1_2.py\n",
    "\n",
    "# according to wikipedia: \n",
    "# Two vectors, x and y, in an inner product space, V, \n",
    "# are orthogonal if their inner product ⟨ x , y ⟩ is zero\n",
    "\n",
    "fst = pca.components_[0]\n",
    "snd = pca.components_[1]\n",
    "\n",
    "print(fst, snd)\n",
    "np.inner(fst, snd)\n",
    "\n",
    "# fst@snd also works\n",
    "# as well does pca.components_ @ pca.components_, yielding the identity matrix"
   ]
  },
  {
   "cell_type": "markdown",
   "metadata": {},
   "source": [
    "Now we return to the real world data example."
   ]
  },
  {
   "cell_type": "code",
   "execution_count": null,
   "metadata": {},
   "outputs": [],
   "source": [
    "pca = PCA(8)\n",
    "pca.fit(scaled)\n",
    "pca_data = pca.transform(scaled)"
   ]
  },
  {
   "cell_type": "markdown",
   "metadata": {},
   "source": [
    "## Drawing scree Plots"
   ]
  },
  {
   "cell_type": "markdown",
   "metadata": {},
   "source": [
    "Scree plots show the number of principal components on the x axis and their corresponding eigen values or percentage of explained variance on the y-axis. It is a decreasing curve as the first principal components account for most of the variance."
   ]
  },
  {
   "cell_type": "code",
   "execution_count": null,
   "metadata": {
    "scrolled": true
   },
   "outputs": [],
   "source": [
    "# Draw a scree plot of the explained variance by PCs\n",
    " \n",
    "per_var = np.round(pca.explained_variance_ratio_* 100, decimals=1) # Computing the magnitude of each bar(PCA component) on scree plot\n",
    "labels = ['PC' + str(x) for x in range(1, len(per_var)+1)] # Creating labels for x axis\n",
    " \n",
    "plt.bar(x=range(1,len(per_var)+1), height=per_var, tick_label=labels)\n",
    "plt.ylabel('Percentage of Explained Variance')\n",
    "plt.xlabel('Principal Component')\n",
    "plt.title('Scree Plot')\n",
    "\n",
    "# To plot the explained variance:\n",
    "plt.show()"
   ]
  },
  {
   "cell_type": "markdown",
   "metadata": {},
   "source": [
    "In the following graph we will decompose the data into 8 principal components and show what percentage of variance is explained by the 8 principal components and their corresponding cumulative variance. Hover over each bar to get the actual magnitude of explained and cumulative variance explained."
   ]
  },
  {
   "cell_type": "code",
   "execution_count": null,
   "metadata": {},
   "outputs": [],
   "source": [
    "# Perform dimensionality reduction into 8 components and draw an interactive scree plot\n",
    "\n",
    "# PCA analysis\n",
    "components = 8\n",
    "pca = PCA(n_components=components) # Creating the PCA object\n",
    "Y = pca.fit(scaled)\n",
    "var_exp = Y.explained_variance_ratio_ # This is the ratio of the variance explained by each principal component\n",
    "cum_var_exp = np.cumsum(var_exp)\n",
    "\n",
    "# Plot the explained variance:\n",
    "\n",
    "#trace 1 is the data for explained variance of each component\n",
    "x = [\"PC%s\" %i for i in range(1,components)]\n",
    "trace1 = go.Bar(\n",
    "    x=x,\n",
    "    y=list(var_exp),\n",
    "    name=\"Explained Variance\")\n",
    "\n",
    "#trace 2 is data for cumulative variance\n",
    "trace2 = go.Scatter(\n",
    "    x=x,\n",
    "    y=cum_var_exp,\n",
    "    name=\"Cumulative Variance\")\n",
    "\n",
    "#Set title and xaxis labels\n",
    "layout = go.Layout(\n",
    "    title='Explained variance',\n",
    "    xaxis=dict(title='Principal Components', tickmode='linear'))\n",
    "\n",
    "# Plot the figure\n",
    "data = [trace1, trace2]\n",
    "fig = go.Figure(data=data, layout=layout)\n",
    "offline.iplot(fig)"
   ]
  },
  {
   "cell_type": "markdown",
   "metadata": {},
   "source": [
    "As you can see, the first component accounts for maximum variance and the corresponding ones have decreasing values.\n"
   ]
  },
  {
   "cell_type": "markdown",
   "metadata": {},
   "source": [
    "## Creating PCA scatter plots"
   ]
  },
  {
   "cell_type": "markdown",
   "metadata": {},
   "source": [
    "Matplotlib was initially designed with only two-dimensional plotting. 3D plots are enabled by importing the **mplot3d to** toolkit, after which a three-dimensional axes can be created by passing the keyword **projection='3d'** to any of the normal axes creation routines."
   ]
  },
  {
   "cell_type": "markdown",
   "metadata": {},
   "source": [
    "### Creating a 3D PCA plot "
   ]
  },
  {
   "cell_type": "markdown",
   "metadata": {},
   "source": [
    "In this case, the first 3 principal components explain 83 percent of the variance. Let's plot the projection to a 3D graph to see how it looks like."
   ]
  },
  {
   "cell_type": "code",
   "execution_count": 20,
   "metadata": {},
   "outputs": [
    {
     "data": {
      "image/png": "[encoded data removed]",
      "text/plain": [
       "<Figure size 432x288 with 1 Axes>"
      ]
     },
     "metadata": {
      "needs_background": "light"
     },
     "output_type": "display_data"
    }
   ],
   "source": [
    "# Create a 3D plot of data points projected on three PCs\n",
    "\n",
    "#We saved a list of data point names - use that as index and remove # sign\n",
    "pca_df = pd.DataFrame(pca_data, index=a, columns=labels)\n",
    "\n",
    "fig = plt.figure()\n",
    "ax = fig.add_subplot(111, projection='3d')\n",
    "\n",
    "\n",
    "xs = pca_df.PC1\n",
    "#How would you define the y and x axis based on the line above? Remove # sign and run\n",
    "ys = pca_df.PC2\n",
    "zs = pca_df.PC3\n",
    "ax.scatter(xs, ys, zs, c='b', marker='o')\n",
    " \n",
    "    \n",
    "ax.set_xlabel('PC1 - {0}%'.format(per_var[0]))\n",
    "ax.set_ylabel('PC2 - {0}%'.format(per_var[1]))\n",
    "ax.set_zlabel('PC3 - {0}%'.format(per_var[2]))\n",
    "\n",
    "for sample in pca_df.index:\n",
    "    ax.text(pca_df.PC1.loc[sample], pca_df.PC2.loc[sample], pca_df.PC3.loc[sample], sample)\n",
    "    #plt.annotate(sample, (pca_df.PC1.loc[sample], pca_df.PC2.loc[sample], pca_df.PC3.loc[sample]))\n",
    "\n",
    "\n",
    "# Plot the figure\n",
    "plt.show()"
   ]
  },
  {
   "cell_type": "markdown",
   "metadata": {},
   "source": [
    "\n",
    "In this case it's not so easy to see the behaviour of the data from the 3D plot, so let's still simplify our visualization by using only the first 2 PCs."
   ]
  },
  {
   "cell_type": "code",
   "execution_count": 21,
   "metadata": {},
   "outputs": [
    {
     "data": {
      "image/png": "[encoded data removed]",
      "text/plain": [
       "<Figure size 432x288 with 1 Axes>"
      ]
     },
     "metadata": {
      "needs_background": "light"
     },
     "output_type": "display_data"
    }
   ],
   "source": [
    "# Drawing a 2D plot is much more simple than the code above using plt.scatter, which creates a 2D scatter plot of y vs x\n",
    "# Draw a 2D plot of the data points projected on the first 2 principal components\n",
    "\n",
    "#Remind yourself first what we have in the object pca_df\n",
    " \n",
    "# Define the 1st and 2nd principal components to the following code based on the previous graph, remove # sign and run\n",
    "plt.scatter(pca_df.PC1, pca_df.PC2)\n",
    "plt.title('This The 2D Transformation of the above graph')\n",
    "plt.xlabel('PC1 - {0}%'.format(per_var[0]))\n",
    "plt.ylabel('PC2 - {0}%'.format(per_var[1]))\n",
    " \n",
    "for sample in pca_df.index:\n",
    "    plt.annotate(sample, (pca_df.PC1.loc[sample], pca_df.PC2.loc[sample]))\n",
    "\n",
    "# To show the PCA 2D plot\n",
    "plt.show()"
   ]
  },
  {
   "cell_type": "markdown",
   "metadata": {},
   "source": [
    "Do you see now the circadian gene expression?"
   ]
  }
 ],
 "metadata": {
  "kernelspec": {
   "display_name": "Python 3 (ipykernel)",
   "language": "python",
   "name": "python3"
  },
  "language_info": {
   "codemirror_mode": {
    "name": "ipython",
    "version": 3
   },
   "file_extension": ".py",
   "mimetype": "text/x-python",
   "name": "python",
   "nbconvert_exporter": "python",
   "pygments_lexer": "ipython3",
   "version": "3.10.4"
  }
 },
 "nbformat": 4,
 "nbformat_minor": 2
}
