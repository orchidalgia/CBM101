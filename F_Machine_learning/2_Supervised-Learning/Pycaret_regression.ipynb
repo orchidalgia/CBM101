{
 "cells": [
  {
   "cell_type": "markdown",
   "metadata": {
    "colab_type": "text",
    "id": "SAd865lNzZpT"
   },
   "source": [
    "#  <span style=\"color:orange\">Regression Tutorial</span>"
   ]
  },
  {
   "cell_type": "markdown",
   "metadata": {
    "colab_type": "text",
    "id": "yXN8UznszZpc"
   },
   "source": [
    "# 1.0  Tutorial Objective\n",
    "Welcome to Regression Tutorial. This tutorial assumes that you are new to PyCaret and looking to get started with Regression using the `pycaret.regression` Module.\n",
    "\n",
    "In this tutorial we will learn:\n",
    "\n",
    "\n",
    "* **Getting Data:**  How to import data from PyCaret repository\n",
    "* **Setting up Environment:**  How to setup an experiment in PyCaret and get started with building regression models\n",
    "* **Create Model:**  How to create a model, perform cross validation and evaluate regression metrics\n",
    "* **Tune Model:**  How to automatically tune the hyperparameters of a regression model\n",
    "* **Plot Model:**  How to analyze model performance using various plots\n",
    "* **Finalize Model:** How to finalize the best model at the end of the experiment\n",
    "* **Predict Model:**  How to make prediction on new / unseen data\n",
    "* **Save / Load Model:**  How to save / load a model for future use\n",
    "\n",
    "Read Time : Approx. 30 Minutes\n"
   ]
  },
  {
   "cell_type": "markdown",
   "metadata": {
    "colab_type": "text",
    "id": "HuEUiXXhzZpi"
   },
   "source": [
    "# 2.0 What is Regression?\n",
    "\n",
    "Regression analysis is a set of statistical processes for estimating the relationships between a dependent variable (often called the 'outcome variable', or 'target') and one or more independent variables (often called 'features', 'predictors', or 'covariates'). The objective of regression in machine learning is to predict continuous values such as sales amount, quantity, temperature etc.\n",
    "\n",
    "__[Learn More about Regression](https://hbr.org/2015/11/a-refresher-on-regression-analysis)__"
   ]
  },
  {
   "cell_type": "markdown",
   "metadata": {
    "colab_type": "text",
    "id": "uN95Uqo6zZpq"
   },
   "source": [
    "# Import libraries"
   ]
  },
  {
   "cell_type": "code",
   "execution_count": 54,
   "metadata": {},
   "outputs": [],
   "source": [
    "from pycaret.regression import *\n",
    "from pycaret.datasets import get_data\n",
    "import seaborn as sns\n",
    "import pandas as pd\n",
    "\n",
    "from sklearn.datasets import make_regression"
   ]
  },
  {
   "cell_type": "markdown",
   "metadata": {
    "colab_type": "text",
    "id": "wwUzzm1YzZpz"
   },
   "source": [
    "# 5.0 Getting the Data"
   ]
  },
  {
   "cell_type": "code",
   "execution_count": 53,
   "metadata": {},
   "outputs": [
    {
     "ename": "ValueError",
     "evalue": "not enough values to unpack (expected 3, got 2)",
     "output_type": "error",
     "traceback": [
      "\u001b[1;31m---------------------------------------------------------------------------\u001b[0m",
      "\u001b[1;31mValueError\u001b[0m                                Traceback (most recent call last)",
      "Input \u001b[1;32mIn [53]\u001b[0m, in \u001b[0;36m<cell line: 1>\u001b[1;34m()\u001b[0m\n\u001b[1;32m----> 1\u001b[0m X, y, coef \u001b[38;5;241m=\u001b[39m make_regression(n_samples\u001b[38;5;241m=\u001b[39m\u001b[38;5;241m100\u001b[39m, n_features\u001b[38;5;241m=\u001b[39m\u001b[38;5;241m1\u001b[39m, \n\u001b[0;32m      2\u001b[0m                              noise\u001b[38;5;241m=\u001b[39m\u001b[38;5;241m5\u001b[39m, \n\u001b[0;32m      3\u001b[0m                              random_state\u001b[38;5;241m=\u001b[39m\u001b[38;5;241m0\u001b[39m)\n",
      "\u001b[1;31mValueError\u001b[0m: not enough values to unpack (expected 3, got 2)"
     ]
    }
   ],
   "source": [
    "X, y = make_regression(n_samples=100, n_features=1, \n",
    "                             n_informative=1, noise=5, random_state=0)"
   ]
  },
  {
   "cell_type": "code",
   "execution_count": 79,
   "metadata": {},
   "outputs": [
    {
     "ename": "ValueError",
     "evalue": "Per-column arrays must each be 1-dimensional",
     "output_type": "error",
     "traceback": [
      "\u001b[1;31m---------------------------------------------------------------------------\u001b[0m",
      "\u001b[1;31mValueError\u001b[0m                                Traceback (most recent call last)",
      "Input \u001b[1;32mIn [79]\u001b[0m, in \u001b[0;36m<cell line: 1>\u001b[1;34m()\u001b[0m\n\u001b[1;32m----> 1\u001b[0m \u001b[43msns\u001b[49m\u001b[38;5;241;43m.\u001b[39;49m\u001b[43mscatterplot\u001b[49m\u001b[43m(\u001b[49m\u001b[43mX\u001b[49m\u001b[43m,\u001b[49m\u001b[43m \u001b[49m\u001b[43my\u001b[49m\u001b[43m)\u001b[49m\n",
      "File \u001b[1;32m~\\miniconda3\\envs\\cbmpycaret\\lib\\site-packages\\seaborn\\_decorators.py:46\u001b[0m, in \u001b[0;36m_deprecate_positional_args.<locals>.inner_f\u001b[1;34m(*args, **kwargs)\u001b[0m\n\u001b[0;32m     36\u001b[0m     warnings\u001b[38;5;241m.\u001b[39mwarn(\n\u001b[0;32m     37\u001b[0m         \u001b[38;5;124m\"\u001b[39m\u001b[38;5;124mPass the following variable\u001b[39m\u001b[38;5;132;01m{}\u001b[39;00m\u001b[38;5;124m as \u001b[39m\u001b[38;5;132;01m{}\u001b[39;00m\u001b[38;5;124mkeyword arg\u001b[39m\u001b[38;5;132;01m{}\u001b[39;00m\u001b[38;5;124m: \u001b[39m\u001b[38;5;132;01m{}\u001b[39;00m\u001b[38;5;124m. \u001b[39m\u001b[38;5;124m\"\u001b[39m\n\u001b[0;32m     38\u001b[0m         \u001b[38;5;124m\"\u001b[39m\u001b[38;5;124mFrom version 0.12, the only valid positional argument \u001b[39m\u001b[38;5;124m\"\u001b[39m\n\u001b[1;32m   (...)\u001b[0m\n\u001b[0;32m     43\u001b[0m         \u001b[38;5;167;01mFutureWarning\u001b[39;00m\n\u001b[0;32m     44\u001b[0m     )\n\u001b[0;32m     45\u001b[0m kwargs\u001b[38;5;241m.\u001b[39mupdate({k: arg \u001b[38;5;28;01mfor\u001b[39;00m k, arg \u001b[38;5;129;01min\u001b[39;00m \u001b[38;5;28mzip\u001b[39m(sig\u001b[38;5;241m.\u001b[39mparameters, args)})\n\u001b[1;32m---> 46\u001b[0m \u001b[38;5;28;01mreturn\u001b[39;00m \u001b[43mf\u001b[49m\u001b[43m(\u001b[49m\u001b[38;5;241;43m*\u001b[39;49m\u001b[38;5;241;43m*\u001b[39;49m\u001b[43mkwargs\u001b[49m\u001b[43m)\u001b[49m\n",
      "File \u001b[1;32m~\\miniconda3\\envs\\cbmpycaret\\lib\\site-packages\\seaborn\\relational.py:808\u001b[0m, in \u001b[0;36mscatterplot\u001b[1;34m(x, y, hue, style, size, data, palette, hue_order, hue_norm, sizes, size_order, size_norm, markers, style_order, x_bins, y_bins, units, estimator, ci, n_boot, alpha, x_jitter, y_jitter, legend, ax, **kwargs)\u001b[0m\n\u001b[0;32m    793\u001b[0m \u001b[38;5;129m@_deprecate_positional_args\u001b[39m\n\u001b[0;32m    794\u001b[0m \u001b[38;5;28;01mdef\u001b[39;00m \u001b[38;5;21mscatterplot\u001b[39m(\n\u001b[0;32m    795\u001b[0m     \u001b[38;5;241m*\u001b[39m,\n\u001b[1;32m   (...)\u001b[0m\n\u001b[0;32m    804\u001b[0m     legend\u001b[38;5;241m=\u001b[39m\u001b[38;5;124m\"\u001b[39m\u001b[38;5;124mauto\u001b[39m\u001b[38;5;124m\"\u001b[39m, ax\u001b[38;5;241m=\u001b[39m\u001b[38;5;28;01mNone\u001b[39;00m, \u001b[38;5;241m*\u001b[39m\u001b[38;5;241m*\u001b[39mkwargs\n\u001b[0;32m    805\u001b[0m ):\n\u001b[0;32m    807\u001b[0m     variables \u001b[38;5;241m=\u001b[39m _ScatterPlotter\u001b[38;5;241m.\u001b[39mget_semantics(\u001b[38;5;28mlocals\u001b[39m())\n\u001b[1;32m--> 808\u001b[0m     p \u001b[38;5;241m=\u001b[39m \u001b[43m_ScatterPlotter\u001b[49m\u001b[43m(\u001b[49m\n\u001b[0;32m    809\u001b[0m \u001b[43m        \u001b[49m\u001b[43mdata\u001b[49m\u001b[38;5;241;43m=\u001b[39;49m\u001b[43mdata\u001b[49m\u001b[43m,\u001b[49m\u001b[43m \u001b[49m\u001b[43mvariables\u001b[49m\u001b[38;5;241;43m=\u001b[39;49m\u001b[43mvariables\u001b[49m\u001b[43m,\u001b[49m\n\u001b[0;32m    810\u001b[0m \u001b[43m        \u001b[49m\u001b[43mx_bins\u001b[49m\u001b[38;5;241;43m=\u001b[39;49m\u001b[43mx_bins\u001b[49m\u001b[43m,\u001b[49m\u001b[43m \u001b[49m\u001b[43my_bins\u001b[49m\u001b[38;5;241;43m=\u001b[39;49m\u001b[43my_bins\u001b[49m\u001b[43m,\u001b[49m\n\u001b[0;32m    811\u001b[0m \u001b[43m        \u001b[49m\u001b[43mestimator\u001b[49m\u001b[38;5;241;43m=\u001b[39;49m\u001b[43mestimator\u001b[49m\u001b[43m,\u001b[49m\u001b[43m \u001b[49m\u001b[43mci\u001b[49m\u001b[38;5;241;43m=\u001b[39;49m\u001b[43mci\u001b[49m\u001b[43m,\u001b[49m\u001b[43m \u001b[49m\u001b[43mn_boot\u001b[49m\u001b[38;5;241;43m=\u001b[39;49m\u001b[43mn_boot\u001b[49m\u001b[43m,\u001b[49m\n\u001b[0;32m    812\u001b[0m \u001b[43m        \u001b[49m\u001b[43malpha\u001b[49m\u001b[38;5;241;43m=\u001b[39;49m\u001b[43malpha\u001b[49m\u001b[43m,\u001b[49m\u001b[43m \u001b[49m\u001b[43mx_jitter\u001b[49m\u001b[38;5;241;43m=\u001b[39;49m\u001b[43mx_jitter\u001b[49m\u001b[43m,\u001b[49m\u001b[43m \u001b[49m\u001b[43my_jitter\u001b[49m\u001b[38;5;241;43m=\u001b[39;49m\u001b[43my_jitter\u001b[49m\u001b[43m,\u001b[49m\u001b[43m \u001b[49m\u001b[43mlegend\u001b[49m\u001b[38;5;241;43m=\u001b[39;49m\u001b[43mlegend\u001b[49m\u001b[43m,\u001b[49m\n\u001b[0;32m    813\u001b[0m \u001b[43m    \u001b[49m\u001b[43m)\u001b[49m\n\u001b[0;32m    815\u001b[0m     p\u001b[38;5;241m.\u001b[39mmap_hue(palette\u001b[38;5;241m=\u001b[39mpalette, order\u001b[38;5;241m=\u001b[39mhue_order, norm\u001b[38;5;241m=\u001b[39mhue_norm)\n\u001b[0;32m    816\u001b[0m     p\u001b[38;5;241m.\u001b[39mmap_size(sizes\u001b[38;5;241m=\u001b[39msizes, order\u001b[38;5;241m=\u001b[39msize_order, norm\u001b[38;5;241m=\u001b[39msize_norm)\n",
      "File \u001b[1;32m~\\miniconda3\\envs\\cbmpycaret\\lib\\site-packages\\seaborn\\relational.py:587\u001b[0m, in \u001b[0;36m_ScatterPlotter.__init__\u001b[1;34m(self, data, variables, x_bins, y_bins, estimator, ci, n_boot, alpha, x_jitter, y_jitter, legend)\u001b[0m\n\u001b[0;32m    571\u001b[0m \u001b[38;5;28;01mdef\u001b[39;00m \u001b[38;5;21m__init__\u001b[39m(\n\u001b[0;32m    572\u001b[0m     \u001b[38;5;28mself\u001b[39m, \u001b[38;5;241m*\u001b[39m,\n\u001b[0;32m    573\u001b[0m     data\u001b[38;5;241m=\u001b[39m\u001b[38;5;28;01mNone\u001b[39;00m, variables\u001b[38;5;241m=\u001b[39m{},\n\u001b[1;32m   (...)\u001b[0m\n\u001b[0;32m    581\u001b[0m     \u001b[38;5;66;03m# the kind of plot to draw, but for the time being we need to set\u001b[39;00m\n\u001b[0;32m    582\u001b[0m     \u001b[38;5;66;03m# this information so the SizeMapping can use it\u001b[39;00m\n\u001b[0;32m    583\u001b[0m     \u001b[38;5;28mself\u001b[39m\u001b[38;5;241m.\u001b[39m_default_size_range \u001b[38;5;241m=\u001b[39m (\n\u001b[0;32m    584\u001b[0m         np\u001b[38;5;241m.\u001b[39mr_[\u001b[38;5;241m.5\u001b[39m, \u001b[38;5;241m2\u001b[39m] \u001b[38;5;241m*\u001b[39m np\u001b[38;5;241m.\u001b[39msquare(mpl\u001b[38;5;241m.\u001b[39mrcParams[\u001b[38;5;124m\"\u001b[39m\u001b[38;5;124mlines.markersize\u001b[39m\u001b[38;5;124m\"\u001b[39m])\n\u001b[0;32m    585\u001b[0m     )\n\u001b[1;32m--> 587\u001b[0m     \u001b[38;5;28;43msuper\u001b[39;49m\u001b[43m(\u001b[49m\u001b[43m)\u001b[49m\u001b[38;5;241;43m.\u001b[39;49m\u001b[38;5;21;43m__init__\u001b[39;49m\u001b[43m(\u001b[49m\u001b[43mdata\u001b[49m\u001b[38;5;241;43m=\u001b[39;49m\u001b[43mdata\u001b[49m\u001b[43m,\u001b[49m\u001b[43m \u001b[49m\u001b[43mvariables\u001b[49m\u001b[38;5;241;43m=\u001b[39;49m\u001b[43mvariables\u001b[49m\u001b[43m)\u001b[49m\n\u001b[0;32m    589\u001b[0m     \u001b[38;5;28mself\u001b[39m\u001b[38;5;241m.\u001b[39malpha \u001b[38;5;241m=\u001b[39m alpha\n\u001b[0;32m    590\u001b[0m     \u001b[38;5;28mself\u001b[39m\u001b[38;5;241m.\u001b[39mlegend \u001b[38;5;241m=\u001b[39m legend\n",
      "File \u001b[1;32m~\\miniconda3\\envs\\cbmpycaret\\lib\\site-packages\\seaborn\\_core.py:605\u001b[0m, in \u001b[0;36mVectorPlotter.__init__\u001b[1;34m(self, data, variables)\u001b[0m\n\u001b[0;32m    603\u001b[0m \u001b[38;5;28;01mdef\u001b[39;00m \u001b[38;5;21m__init__\u001b[39m(\u001b[38;5;28mself\u001b[39m, data\u001b[38;5;241m=\u001b[39m\u001b[38;5;28;01mNone\u001b[39;00m, variables\u001b[38;5;241m=\u001b[39m{}):\n\u001b[1;32m--> 605\u001b[0m     \u001b[38;5;28;43mself\u001b[39;49m\u001b[38;5;241;43m.\u001b[39;49m\u001b[43massign_variables\u001b[49m\u001b[43m(\u001b[49m\u001b[43mdata\u001b[49m\u001b[43m,\u001b[49m\u001b[43m \u001b[49m\u001b[43mvariables\u001b[49m\u001b[43m)\u001b[49m\n\u001b[0;32m    607\u001b[0m     \u001b[38;5;28;01mfor\u001b[39;00m var, \u001b[38;5;28mcls\u001b[39m \u001b[38;5;129;01min\u001b[39;00m \u001b[38;5;28mself\u001b[39m\u001b[38;5;241m.\u001b[39m_semantic_mappings\u001b[38;5;241m.\u001b[39mitems():\n\u001b[0;32m    608\u001b[0m \n\u001b[0;32m    609\u001b[0m         \u001b[38;5;66;03m# Create the mapping function\u001b[39;00m\n\u001b[0;32m    610\u001b[0m         map_func \u001b[38;5;241m=\u001b[39m partial(\u001b[38;5;28mcls\u001b[39m\u001b[38;5;241m.\u001b[39mmap, plotter\u001b[38;5;241m=\u001b[39m\u001b[38;5;28mself\u001b[39m)\n",
      "File \u001b[1;32m~\\miniconda3\\envs\\cbmpycaret\\lib\\site-packages\\seaborn\\_core.py:668\u001b[0m, in \u001b[0;36mVectorPlotter.assign_variables\u001b[1;34m(self, data, variables)\u001b[0m\n\u001b[0;32m    666\u001b[0m \u001b[38;5;28;01melse\u001b[39;00m:\n\u001b[0;32m    667\u001b[0m     \u001b[38;5;28mself\u001b[39m\u001b[38;5;241m.\u001b[39minput_format \u001b[38;5;241m=\u001b[39m \u001b[38;5;124m\"\u001b[39m\u001b[38;5;124mlong\u001b[39m\u001b[38;5;124m\"\u001b[39m\n\u001b[1;32m--> 668\u001b[0m     plot_data, variables \u001b[38;5;241m=\u001b[39m \u001b[38;5;28;43mself\u001b[39;49m\u001b[38;5;241;43m.\u001b[39;49m\u001b[43m_assign_variables_longform\u001b[49m\u001b[43m(\u001b[49m\n\u001b[0;32m    669\u001b[0m \u001b[43m        \u001b[49m\u001b[43mdata\u001b[49m\u001b[43m,\u001b[49m\u001b[43m \u001b[49m\u001b[38;5;241;43m*\u001b[39;49m\u001b[38;5;241;43m*\u001b[39;49m\u001b[43mvariables\u001b[49m\u001b[43m,\u001b[49m\n\u001b[0;32m    670\u001b[0m \u001b[43m    \u001b[49m\u001b[43m)\u001b[49m\n\u001b[0;32m    672\u001b[0m \u001b[38;5;28mself\u001b[39m\u001b[38;5;241m.\u001b[39mplot_data \u001b[38;5;241m=\u001b[39m plot_data\n\u001b[0;32m    673\u001b[0m \u001b[38;5;28mself\u001b[39m\u001b[38;5;241m.\u001b[39mvariables \u001b[38;5;241m=\u001b[39m variables\n",
      "File \u001b[1;32m~\\miniconda3\\envs\\cbmpycaret\\lib\\site-packages\\seaborn\\_core.py:927\u001b[0m, in \u001b[0;36mVectorPlotter._assign_variables_longform\u001b[1;34m(self, data, **kwargs)\u001b[0m\n\u001b[0;32m    923\u001b[0m         variables[key] \u001b[38;5;241m=\u001b[39m \u001b[38;5;28mgetattr\u001b[39m(val, \u001b[38;5;124m\"\u001b[39m\u001b[38;5;124mname\u001b[39m\u001b[38;5;124m\"\u001b[39m, \u001b[38;5;28;01mNone\u001b[39;00m)\n\u001b[0;32m    925\u001b[0m \u001b[38;5;66;03m# Construct a tidy plot DataFrame. This will convert a number of\u001b[39;00m\n\u001b[0;32m    926\u001b[0m \u001b[38;5;66;03m# types automatically, aligning on index in case of pandas objects\u001b[39;00m\n\u001b[1;32m--> 927\u001b[0m plot_data \u001b[38;5;241m=\u001b[39m \u001b[43mpd\u001b[49m\u001b[38;5;241;43m.\u001b[39;49m\u001b[43mDataFrame\u001b[49m\u001b[43m(\u001b[49m\u001b[43mplot_data\u001b[49m\u001b[43m)\u001b[49m\n\u001b[0;32m    929\u001b[0m \u001b[38;5;66;03m# Reduce the variables dictionary to fields with valid data\u001b[39;00m\n\u001b[0;32m    930\u001b[0m variables \u001b[38;5;241m=\u001b[39m {\n\u001b[0;32m    931\u001b[0m     var: name\n\u001b[0;32m    932\u001b[0m     \u001b[38;5;28;01mfor\u001b[39;00m var, name \u001b[38;5;129;01min\u001b[39;00m variables\u001b[38;5;241m.\u001b[39mitems()\n\u001b[0;32m    933\u001b[0m     \u001b[38;5;28;01mif\u001b[39;00m plot_data[var]\u001b[38;5;241m.\u001b[39mnotnull()\u001b[38;5;241m.\u001b[39many()\n\u001b[0;32m    934\u001b[0m }\n",
      "File \u001b[1;32m~\\miniconda3\\envs\\cbmpycaret\\lib\\site-packages\\pandas\\core\\frame.py:636\u001b[0m, in \u001b[0;36mDataFrame.__init__\u001b[1;34m(self, data, index, columns, dtype, copy)\u001b[0m\n\u001b[0;32m    630\u001b[0m     mgr \u001b[38;5;241m=\u001b[39m \u001b[38;5;28mself\u001b[39m\u001b[38;5;241m.\u001b[39m_init_mgr(\n\u001b[0;32m    631\u001b[0m         data, axes\u001b[38;5;241m=\u001b[39m{\u001b[38;5;124m\"\u001b[39m\u001b[38;5;124mindex\u001b[39m\u001b[38;5;124m\"\u001b[39m: index, \u001b[38;5;124m\"\u001b[39m\u001b[38;5;124mcolumns\u001b[39m\u001b[38;5;124m\"\u001b[39m: columns}, dtype\u001b[38;5;241m=\u001b[39mdtype, copy\u001b[38;5;241m=\u001b[39mcopy\n\u001b[0;32m    632\u001b[0m     )\n\u001b[0;32m    634\u001b[0m \u001b[38;5;28;01melif\u001b[39;00m \u001b[38;5;28misinstance\u001b[39m(data, \u001b[38;5;28mdict\u001b[39m):\n\u001b[0;32m    635\u001b[0m     \u001b[38;5;66;03m# GH#38939 de facto copy defaults to False only in non-dict cases\u001b[39;00m\n\u001b[1;32m--> 636\u001b[0m     mgr \u001b[38;5;241m=\u001b[39m \u001b[43mdict_to_mgr\u001b[49m\u001b[43m(\u001b[49m\u001b[43mdata\u001b[49m\u001b[43m,\u001b[49m\u001b[43m \u001b[49m\u001b[43mindex\u001b[49m\u001b[43m,\u001b[49m\u001b[43m \u001b[49m\u001b[43mcolumns\u001b[49m\u001b[43m,\u001b[49m\u001b[43m \u001b[49m\u001b[43mdtype\u001b[49m\u001b[38;5;241;43m=\u001b[39;49m\u001b[43mdtype\u001b[49m\u001b[43m,\u001b[49m\u001b[43m \u001b[49m\u001b[43mcopy\u001b[49m\u001b[38;5;241;43m=\u001b[39;49m\u001b[43mcopy\u001b[49m\u001b[43m,\u001b[49m\u001b[43m \u001b[49m\u001b[43mtyp\u001b[49m\u001b[38;5;241;43m=\u001b[39;49m\u001b[43mmanager\u001b[49m\u001b[43m)\u001b[49m\n\u001b[0;32m    637\u001b[0m \u001b[38;5;28;01melif\u001b[39;00m \u001b[38;5;28misinstance\u001b[39m(data, ma\u001b[38;5;241m.\u001b[39mMaskedArray):\n\u001b[0;32m    638\u001b[0m     \u001b[38;5;28;01mimport\u001b[39;00m \u001b[38;5;21;01mnumpy\u001b[39;00m\u001b[38;5;21;01m.\u001b[39;00m\u001b[38;5;21;01mma\u001b[39;00m\u001b[38;5;21;01m.\u001b[39;00m\u001b[38;5;21;01mmrecords\u001b[39;00m \u001b[38;5;28;01mas\u001b[39;00m \u001b[38;5;21;01mmrecords\u001b[39;00m\n",
      "File \u001b[1;32m~\\miniconda3\\envs\\cbmpycaret\\lib\\site-packages\\pandas\\core\\internals\\construction.py:502\u001b[0m, in \u001b[0;36mdict_to_mgr\u001b[1;34m(data, index, columns, dtype, typ, copy)\u001b[0m\n\u001b[0;32m    494\u001b[0m     arrays \u001b[38;5;241m=\u001b[39m [\n\u001b[0;32m    495\u001b[0m         x\n\u001b[0;32m    496\u001b[0m         \u001b[38;5;28;01mif\u001b[39;00m \u001b[38;5;129;01mnot\u001b[39;00m \u001b[38;5;28mhasattr\u001b[39m(x, \u001b[38;5;124m\"\u001b[39m\u001b[38;5;124mdtype\u001b[39m\u001b[38;5;124m\"\u001b[39m) \u001b[38;5;129;01mor\u001b[39;00m \u001b[38;5;129;01mnot\u001b[39;00m \u001b[38;5;28misinstance\u001b[39m(x\u001b[38;5;241m.\u001b[39mdtype, ExtensionDtype)\n\u001b[0;32m    497\u001b[0m         \u001b[38;5;28;01melse\u001b[39;00m x\u001b[38;5;241m.\u001b[39mcopy()\n\u001b[0;32m    498\u001b[0m         \u001b[38;5;28;01mfor\u001b[39;00m x \u001b[38;5;129;01min\u001b[39;00m arrays\n\u001b[0;32m    499\u001b[0m     ]\n\u001b[0;32m    500\u001b[0m     \u001b[38;5;66;03m# TODO: can we get rid of the dt64tz special case above?\u001b[39;00m\n\u001b[1;32m--> 502\u001b[0m \u001b[38;5;28;01mreturn\u001b[39;00m \u001b[43marrays_to_mgr\u001b[49m\u001b[43m(\u001b[49m\u001b[43marrays\u001b[49m\u001b[43m,\u001b[49m\u001b[43m \u001b[49m\u001b[43mcolumns\u001b[49m\u001b[43m,\u001b[49m\u001b[43m \u001b[49m\u001b[43mindex\u001b[49m\u001b[43m,\u001b[49m\u001b[43m \u001b[49m\u001b[43mdtype\u001b[49m\u001b[38;5;241;43m=\u001b[39;49m\u001b[43mdtype\u001b[49m\u001b[43m,\u001b[49m\u001b[43m \u001b[49m\u001b[43mtyp\u001b[49m\u001b[38;5;241;43m=\u001b[39;49m\u001b[43mtyp\u001b[49m\u001b[43m,\u001b[49m\u001b[43m \u001b[49m\u001b[43mconsolidate\u001b[49m\u001b[38;5;241;43m=\u001b[39;49m\u001b[43mcopy\u001b[49m\u001b[43m)\u001b[49m\n",
      "File \u001b[1;32m~\\miniconda3\\envs\\cbmpycaret\\lib\\site-packages\\pandas\\core\\internals\\construction.py:120\u001b[0m, in \u001b[0;36marrays_to_mgr\u001b[1;34m(arrays, columns, index, dtype, verify_integrity, typ, consolidate)\u001b[0m\n\u001b[0;32m    117\u001b[0m \u001b[38;5;28;01mif\u001b[39;00m verify_integrity:\n\u001b[0;32m    118\u001b[0m     \u001b[38;5;66;03m# figure out the index, if necessary\u001b[39;00m\n\u001b[0;32m    119\u001b[0m     \u001b[38;5;28;01mif\u001b[39;00m index \u001b[38;5;129;01mis\u001b[39;00m \u001b[38;5;28;01mNone\u001b[39;00m:\n\u001b[1;32m--> 120\u001b[0m         index \u001b[38;5;241m=\u001b[39m \u001b[43m_extract_index\u001b[49m\u001b[43m(\u001b[49m\u001b[43marrays\u001b[49m\u001b[43m)\u001b[49m\n\u001b[0;32m    121\u001b[0m     \u001b[38;5;28;01melse\u001b[39;00m:\n\u001b[0;32m    122\u001b[0m         index \u001b[38;5;241m=\u001b[39m ensure_index(index)\n",
      "File \u001b[1;32m~\\miniconda3\\envs\\cbmpycaret\\lib\\site-packages\\pandas\\core\\internals\\construction.py:661\u001b[0m, in \u001b[0;36m_extract_index\u001b[1;34m(data)\u001b[0m\n\u001b[0;32m    659\u001b[0m         raw_lengths\u001b[38;5;241m.\u001b[39mappend(\u001b[38;5;28mlen\u001b[39m(val))\n\u001b[0;32m    660\u001b[0m     \u001b[38;5;28;01melif\u001b[39;00m \u001b[38;5;28misinstance\u001b[39m(val, np\u001b[38;5;241m.\u001b[39mndarray) \u001b[38;5;129;01mand\u001b[39;00m val\u001b[38;5;241m.\u001b[39mndim \u001b[38;5;241m>\u001b[39m \u001b[38;5;241m1\u001b[39m:\n\u001b[1;32m--> 661\u001b[0m         \u001b[38;5;28;01mraise\u001b[39;00m \u001b[38;5;167;01mValueError\u001b[39;00m(\u001b[38;5;124m\"\u001b[39m\u001b[38;5;124mPer-column arrays must each be 1-dimensional\u001b[39m\u001b[38;5;124m\"\u001b[39m)\n\u001b[0;32m    663\u001b[0m \u001b[38;5;28;01mif\u001b[39;00m \u001b[38;5;129;01mnot\u001b[39;00m indexes \u001b[38;5;129;01mand\u001b[39;00m \u001b[38;5;129;01mnot\u001b[39;00m raw_lengths:\n\u001b[0;32m    664\u001b[0m     \u001b[38;5;28;01mraise\u001b[39;00m \u001b[38;5;167;01mValueError\u001b[39;00m(\u001b[38;5;124m\"\u001b[39m\u001b[38;5;124mIf using all scalar values, you must pass an index\u001b[39m\u001b[38;5;124m\"\u001b[39m)\n",
      "\u001b[1;31mValueError\u001b[0m: Per-column arrays must each be 1-dimensional"
     ]
    }
   ],
   "source": [
    "# X and y are 2-dimensional arrays so we need to use .flatten() to strech it out to 1D\n",
    "sns.scatterplot(X.flatten(), y.flatten())"
   ]
  },
  {
   "cell_type": "code",
   "execution_count": 66,
   "metadata": {},
   "outputs": [
    {
     "data": {
      "text/plain": [
       "<AxesSubplot:xlabel='X', ylabel='y'>"
      ]
     },
     "execution_count": 66,
     "metadata": {},
     "output_type": "execute_result"
    },
    {
     "data": {
      "image/png": "[encoded data removed]",
      "text/plain": [
       "<Figure size 432x288 with 1 Axes>"
      ]
     },
     "metadata": {
      "needs_background": "light"
     },
     "output_type": "display_data"
    }
   ],
   "source": [
    "sns.regplot(X.flatten(), y.flatten())"
   ]
  },
  {
   "cell_type": "markdown",
   "metadata": {},
   "source": [
    "<div class='alert alert-warning'>\n",
    "    <h4>Exercise 1a.</h4>\n",
    "    Make new regression dataset that has 200 samples and noise is 30. Plot the data. Use random_state 42\n",
    "</div>"
   ]
  },
  {
   "cell_type": "code",
   "execution_count": null,
   "metadata": {},
   "outputs": [],
   "source": [
    "# 1a)\n"
   ]
  },
  {
   "cell_type": "code",
   "execution_count": 91,
   "metadata": {},
   "outputs": [
    {
     "name": "stdout",
     "output_type": "stream",
     "text": [
      "Overwriting solutions/pyc_reg_1a.py\n"
     ]
    }
   ],
   "source": [
    "# %load solutions/pyc_reg_1a.py\n",
    "\n",
    "X, y = make_regression(n_samples=200, n_features=1, \n",
    "                             n_informative=1, noise=30, random_state=42)\n",
    "\n",
    "sns.scatterplot(X.flatten(), y.flatten())\n"
   ]
  },
  {
   "cell_type": "markdown",
   "metadata": {},
   "source": [
    "<div class='alert alert-warning'>\n",
    "    <h4>Exercise 1b.</h4>\n",
    "    Make a Pandas DataFrame df out of your data with two columns X and y.\n",
    "</div>\n",
    "\n",
    "**Hint:** Use `flatten()`"
   ]
  },
  {
   "cell_type": "code",
   "execution_count": null,
   "metadata": {},
   "outputs": [],
   "source": [
    "# 1b)\n"
   ]
  },
  {
   "cell_type": "code",
   "execution_count": 84,
   "metadata": {},
   "outputs": [],
   "source": [
    "#%load solutions/pyc_reg_1b.py"
   ]
  },
  {
   "cell_type": "markdown",
   "metadata": {
    "colab_type": "text",
    "id": "7eWmeLvYzZqY"
   },
   "source": [
    "In order to demonstrate the `predict_model()` function on unseen data, a sample of 600 records has been withheld from the original dataset to be used for predictions. **This should not be confused with a train/test split** as this particular split is performed to simulate a real life scenario. Another way to think about this is that these 600 records are not available at the time when the machine learning experiment was performed."
   ]
  },
  {
   "cell_type": "code",
   "execution_count": 14,
   "metadata": {
    "ExecuteTime": {
     "end_time": "2022-07-17T04:26:54.184066Z",
     "start_time": "2022-07-17T04:26:54.160087Z"
    },
    "colab": {
     "base_uri": "https://localhost:8080/",
     "height": 50
    },
    "colab_type": "code",
    "id": "R4K9F7BXzZqc",
    "outputId": "22b1c4e7-a1e1-48d2-8ddc-907e716d5b53"
   },
   "outputs": [
    {
     "name": "stdout",
     "output_type": "stream",
     "text": [
      "Data for Modeling: (5288, 22)\n",
      "Unseen Data For Predictions: (587, 22)\n"
     ]
    }
   ],
   "source": [
    "data = dataset.sample(frac=0.9, random_state=786)\n",
    "data_unseen = dataset.drop(data.index)\n",
    "\n",
    "data.reset_index(drop=True, inplace=True)\n",
    "data_unseen.reset_index(drop=True, inplace=True)\n",
    "\n",
    "print('Data for Modeling: ' + str(data.shape))\n",
    "print('Unseen Data For Predictions: ' + str(data_unseen.shape))"
   ]
  },
  {
   "cell_type": "markdown",
   "metadata": {
    "colab_type": "text",
    "id": "DxnJV14BzZqq"
   },
   "source": [
    "# 6.0 Setting up Environment in PyCaret"
   ]
  },
  {
   "cell_type": "markdown",
   "metadata": {
    "colab_type": "text",
    "id": "15-blMPOzZqw"
   },
   "source": [
    "The `setup()` function initializes the environment in pycaret and creates the transformation pipeline to prepare the data for modeling and deployment. `setup()` must be called before executing any other function in pycaret. It takes two mandatory parameters: a pandas dataframe and the name of the target column. All other parameters are optional and are used to customize the pre-processing pipeline (we will see them in later tutorials).\n",
    "\n",
    "When `setup()` is executed, PyCaret's inference algorithm will automatically infer the data types for all features based on certain properties. The data type should be inferred correctly but this is not always the case. To account for this, PyCaret displays a table containing the features and their inferred data types after `setup()` is executed. If all of the data types are correctly identified `enter` can be pressed to continue or `quit` can be typed to end the expriment. Ensuring that the data types are correct is of fundamental importance in PyCaret as it automatically performs a few pre-processing tasks which are imperative to any machine learning experiment. These tasks are performed differently for each data type which means it is very important for them to be correctly configured.\n",
    "\n",
    "In later tutorials we will learn how to overwrite PyCaret's inferred data type using the `numeric_features` and `categorical_features` parameters in `setup()`."
   ]
  },
  {
   "cell_type": "code",
   "execution_count": 86,
   "metadata": {
    "ExecuteTime": {
     "end_time": "2022-07-17T04:27:09.280979Z",
     "start_time": "2022-07-17T04:26:54.191209Z"
    },
    "colab": {
     "base_uri": "https://localhost:8080/",
     "height": 803
    },
    "colab_type": "code",
    "id": "7V2FN4KQzZrA",
    "outputId": "43d8d23d-ef08-438a-8cc3-ba78e9773aca"
   },
   "outputs": [
    {
     "data": {
      "text/html": [
       "<style type=\"text/css\">\n",
       "#T_d8ee6_row7_col1 {\n",
       "  background-color: lightgreen;\n",
       "}\n",
       "</style>\n",
       "<table id=\"T_d8ee6\">\n",
       "  <thead>\n",
       "    <tr>\n",
       "      <th class=\"blank level0\" >&nbsp;</th>\n",
       "      <th id=\"T_d8ee6_level0_col0\" class=\"col_heading level0 col0\" >Description</th>\n",
       "      <th id=\"T_d8ee6_level0_col1\" class=\"col_heading level0 col1\" >Value</th>\n",
       "    </tr>\n",
       "  </thead>\n",
       "  <tbody>\n",
       "    <tr>\n",
       "      <th id=\"T_d8ee6_level0_row0\" class=\"row_heading level0 row0\" >0</th>\n",
       "      <td id=\"T_d8ee6_row0_col0\" class=\"data row0 col0\" >Session id</td>\n",
       "      <td id=\"T_d8ee6_row0_col1\" class=\"data row0 col1\" >123</td>\n",
       "    </tr>\n",
       "    <tr>\n",
       "      <th id=\"T_d8ee6_level0_row1\" class=\"row_heading level0 row1\" >1</th>\n",
       "      <td id=\"T_d8ee6_row1_col0\" class=\"data row1 col0\" >Target</td>\n",
       "      <td id=\"T_d8ee6_row1_col1\" class=\"data row1 col1\" >y</td>\n",
       "    </tr>\n",
       "    <tr>\n",
       "      <th id=\"T_d8ee6_level0_row2\" class=\"row_heading level0 row2\" >2</th>\n",
       "      <td id=\"T_d8ee6_row2_col0\" class=\"data row2 col0\" >Target type</td>\n",
       "      <td id=\"T_d8ee6_row2_col1\" class=\"data row2 col1\" >Regression</td>\n",
       "    </tr>\n",
       "    <tr>\n",
       "      <th id=\"T_d8ee6_level0_row3\" class=\"row_heading level0 row3\" >3</th>\n",
       "      <td id=\"T_d8ee6_row3_col0\" class=\"data row3 col0\" >Data shape</td>\n",
       "      <td id=\"T_d8ee6_row3_col1\" class=\"data row3 col1\" >(200, 2)</td>\n",
       "    </tr>\n",
       "    <tr>\n",
       "      <th id=\"T_d8ee6_level0_row4\" class=\"row_heading level0 row4\" >4</th>\n",
       "      <td id=\"T_d8ee6_row4_col0\" class=\"data row4 col0\" >Train data shape</td>\n",
       "      <td id=\"T_d8ee6_row4_col1\" class=\"data row4 col1\" >(139, 2)</td>\n",
       "    </tr>\n",
       "    <tr>\n",
       "      <th id=\"T_d8ee6_level0_row5\" class=\"row_heading level0 row5\" >5</th>\n",
       "      <td id=\"T_d8ee6_row5_col0\" class=\"data row5 col0\" >Test data shape</td>\n",
       "      <td id=\"T_d8ee6_row5_col1\" class=\"data row5 col1\" >(61, 2)</td>\n",
       "    </tr>\n",
       "    <tr>\n",
       "      <th id=\"T_d8ee6_level0_row6\" class=\"row_heading level0 row6\" >6</th>\n",
       "      <td id=\"T_d8ee6_row6_col0\" class=\"data row6 col0\" >Numeric features</td>\n",
       "      <td id=\"T_d8ee6_row6_col1\" class=\"data row6 col1\" >1</td>\n",
       "    </tr>\n",
       "    <tr>\n",
       "      <th id=\"T_d8ee6_level0_row7\" class=\"row_heading level0 row7\" >7</th>\n",
       "      <td id=\"T_d8ee6_row7_col0\" class=\"data row7 col0\" >Preprocess</td>\n",
       "      <td id=\"T_d8ee6_row7_col1\" class=\"data row7 col1\" >True</td>\n",
       "    </tr>\n",
       "    <tr>\n",
       "      <th id=\"T_d8ee6_level0_row8\" class=\"row_heading level0 row8\" >8</th>\n",
       "      <td id=\"T_d8ee6_row8_col0\" class=\"data row8 col0\" >Imputation type</td>\n",
       "      <td id=\"T_d8ee6_row8_col1\" class=\"data row8 col1\" >simple</td>\n",
       "    </tr>\n",
       "    <tr>\n",
       "      <th id=\"T_d8ee6_level0_row9\" class=\"row_heading level0 row9\" >9</th>\n",
       "      <td id=\"T_d8ee6_row9_col0\" class=\"data row9 col0\" >Numeric imputation</td>\n",
       "      <td id=\"T_d8ee6_row9_col1\" class=\"data row9 col1\" >mean</td>\n",
       "    </tr>\n",
       "    <tr>\n",
       "      <th id=\"T_d8ee6_level0_row10\" class=\"row_heading level0 row10\" >10</th>\n",
       "      <td id=\"T_d8ee6_row10_col0\" class=\"data row10 col0\" >Categorical imputation</td>\n",
       "      <td id=\"T_d8ee6_row10_col1\" class=\"data row10 col1\" >constant</td>\n",
       "    </tr>\n",
       "    <tr>\n",
       "      <th id=\"T_d8ee6_level0_row11\" class=\"row_heading level0 row11\" >11</th>\n",
       "      <td id=\"T_d8ee6_row11_col0\" class=\"data row11 col0\" >Low variance threshold</td>\n",
       "      <td id=\"T_d8ee6_row11_col1\" class=\"data row11 col1\" >0</td>\n",
       "    </tr>\n",
       "    <tr>\n",
       "      <th id=\"T_d8ee6_level0_row12\" class=\"row_heading level0 row12\" >12</th>\n",
       "      <td id=\"T_d8ee6_row12_col0\" class=\"data row12 col0\" >Fold Generator</td>\n",
       "      <td id=\"T_d8ee6_row12_col1\" class=\"data row12 col1\" >KFold</td>\n",
       "    </tr>\n",
       "    <tr>\n",
       "      <th id=\"T_d8ee6_level0_row13\" class=\"row_heading level0 row13\" >13</th>\n",
       "      <td id=\"T_d8ee6_row13_col0\" class=\"data row13 col0\" >Fold Number</td>\n",
       "      <td id=\"T_d8ee6_row13_col1\" class=\"data row13 col1\" >10</td>\n",
       "    </tr>\n",
       "    <tr>\n",
       "      <th id=\"T_d8ee6_level0_row14\" class=\"row_heading level0 row14\" >14</th>\n",
       "      <td id=\"T_d8ee6_row14_col0\" class=\"data row14 col0\" >CPU Jobs</td>\n",
       "      <td id=\"T_d8ee6_row14_col1\" class=\"data row14 col1\" >-1</td>\n",
       "    </tr>\n",
       "    <tr>\n",
       "      <th id=\"T_d8ee6_level0_row15\" class=\"row_heading level0 row15\" >15</th>\n",
       "      <td id=\"T_d8ee6_row15_col0\" class=\"data row15 col0\" >Use GPU</td>\n",
       "      <td id=\"T_d8ee6_row15_col1\" class=\"data row15 col1\" >False</td>\n",
       "    </tr>\n",
       "    <tr>\n",
       "      <th id=\"T_d8ee6_level0_row16\" class=\"row_heading level0 row16\" >16</th>\n",
       "      <td id=\"T_d8ee6_row16_col0\" class=\"data row16 col0\" >Log Experiment</td>\n",
       "      <td id=\"T_d8ee6_row16_col1\" class=\"data row16 col1\" >False</td>\n",
       "    </tr>\n",
       "    <tr>\n",
       "      <th id=\"T_d8ee6_level0_row17\" class=\"row_heading level0 row17\" >17</th>\n",
       "      <td id=\"T_d8ee6_row17_col0\" class=\"data row17 col0\" >Experiment Name</td>\n",
       "      <td id=\"T_d8ee6_row17_col1\" class=\"data row17 col1\" >reg-default-name</td>\n",
       "    </tr>\n",
       "    <tr>\n",
       "      <th id=\"T_d8ee6_level0_row18\" class=\"row_heading level0 row18\" >18</th>\n",
       "      <td id=\"T_d8ee6_row18_col0\" class=\"data row18 col0\" >USI</td>\n",
       "      <td id=\"T_d8ee6_row18_col1\" class=\"data row18 col1\" >0889</td>\n",
       "    </tr>\n",
       "  </tbody>\n",
       "</table>\n"
      ],
      "text/plain": [
       "<pandas.io.formats.style.Styler at 0x22386616340>"
      ]
     },
     "metadata": {},
     "output_type": "display_data"
    }
   ],
   "source": [
    "exp_reg101 = setup(data = df, target = 'y', session_id=123) "
   ]
  },
  {
   "cell_type": "markdown",
   "metadata": {
    "colab_type": "text",
    "id": "nWBypX32zZrP"
   },
   "source": [
    "Once the setup has been succesfully executed it prints the information grid which contains several important pieces of information. Most of the information is related to the pre-processing pipeline which is constructed when `setup()` is executed. The majority of these features are out of scope for the purposes of this tutorial. However, a few important things to note at this stage include:\n",
    "\n",
    "- **session_id :**  A pseudo-random number distributed as a seed in all functions for later reproducibility. If no `session_id` is passed, a random number is automatically generated that is distributed to all functions. In this experiment, the `session_id` is set as `123` for later reproducibility.<br/>\n",
    "<br/>\n",
    "- **Original Data :**  Displays the original shape of dataset. In this experiment (5400, 8) means 5400 samples and 8 features including the target column. <br/>\n",
    "<br/>\n",
    "- **Missing Values :**  When there are missing values in the original data, this will show as True. For this experiment there are no missing values in the dataset.<br/>\n",
    "<br/>\n",
    "- **Numeric Features :**  Number of features inferred as numeric. In this dataset, 1 out of 8 features are inferred as numeric. <br/>\n",
    "<br/>\n",
    "- **Categorical Features :**  Number of features inferred as categorical. In this dataset, 6 out of 8 features are inferred as categorical. <br/>\n",
    "<br/>\n",
    "- **Transformed Train Set :** Displays the shape of the transformed training set. Notice that the original shape of (5400, 8) is transformed into (3779, 28) for the transformed train set. The number of features has increased from 8 from 28 due to categorical encoding <br/>\n",
    "<br/>\n",
    "- **Transformed Test Set :** Displays the shape of transformed test/hold-out set. There are 1621 samples in test/hold-out set. This split is based on the default value of 70/30 that can be changed using `train_size` parameter in setup. <br/>\n",
    "\n",
    "Notice how a few tasks that are imperative to perform modeling are automatically handled, such as missing value imputation (in this case there are no missing values in training data, but we still need imputers for unseen data), categorical encoding etc. Most of the parameters in `setup()` are optional and used for customizing the pre-processing pipeline. These parameters are out of scope for this tutorial but as you progress to the intermediate and expert levels, we will cover them in much greater detail.\n",
    "\n"
   ]
  },
  {
   "cell_type": "markdown",
   "metadata": {
    "colab_type": "text",
    "id": "xBqHzabEzZrT"
   },
   "source": [
    "# 7.0 Comparing All Models"
   ]
  },
  {
   "cell_type": "markdown",
   "metadata": {
    "colab_type": "text",
    "id": "QHiNl6UmzZrW"
   },
   "source": [
    "Comparing all models to evaluate performance is the recommended starting point for modeling once the setup is completed (unless you exactly know what kind of model you need, which is often not the case). This function trains all models in the model library and scores them using k-fold cross validation for metric evaluation. The output prints a score grid that shows average MAE, MSE, RMSE, R2, RMSLE and MAPE accross the folds (10 by default) along with training time."
   ]
  },
  {
   "cell_type": "code",
   "execution_count": 87,
   "metadata": {
    "ExecuteTime": {
     "end_time": "2022-07-17T04:27:47.787311Z",
     "start_time": "2022-07-17T04:27:09.283976Z"
    },
    "colab": {
     "base_uri": "https://localhost:8080/",
     "height": 421
    },
    "colab_type": "code",
    "id": "atJfMGD6zZrb",
    "outputId": "af936da0-cc93-4429-ef61-20d940e0aa4e"
   },
   "outputs": [
    {
     "data": {
      "text/html": [],
      "text/plain": [
       "<IPython.core.display.HTML object>"
      ]
     },
     "metadata": {},
     "output_type": "display_data"
    },
    {
     "data": {
      "text/html": [
       "<style type=\"text/css\">\n",
       "#T_5b727 th {\n",
       "  text-align: left;\n",
       "}\n",
       "#T_5b727_row0_col0, #T_5b727_row0_col2, #T_5b727_row0_col5, #T_5b727_row0_col6, #T_5b727_row1_col0, #T_5b727_row1_col1, #T_5b727_row1_col3, #T_5b727_row1_col4, #T_5b727_row1_col5, #T_5b727_row1_col6, #T_5b727_row2_col0, #T_5b727_row2_col1, #T_5b727_row2_col2, #T_5b727_row2_col3, #T_5b727_row2_col4, #T_5b727_row2_col5, #T_5b727_row2_col6, #T_5b727_row3_col0, #T_5b727_row3_col1, #T_5b727_row3_col2, #T_5b727_row3_col3, #T_5b727_row3_col4, #T_5b727_row3_col6, #T_5b727_row4_col0, #T_5b727_row4_col1, #T_5b727_row4_col2, #T_5b727_row4_col3, #T_5b727_row4_col4, #T_5b727_row4_col6, #T_5b727_row5_col0, #T_5b727_row5_col1, #T_5b727_row5_col2, #T_5b727_row5_col3, #T_5b727_row5_col4, #T_5b727_row5_col6, #T_5b727_row6_col0, #T_5b727_row6_col1, #T_5b727_row6_col2, #T_5b727_row6_col3, #T_5b727_row6_col4, #T_5b727_row6_col5, #T_5b727_row6_col6, #T_5b727_row7_col0, #T_5b727_row7_col1, #T_5b727_row7_col2, #T_5b727_row7_col3, #T_5b727_row7_col4, #T_5b727_row7_col5, #T_5b727_row7_col6, #T_5b727_row8_col0, #T_5b727_row8_col1, #T_5b727_row8_col2, #T_5b727_row8_col3, #T_5b727_row8_col4, #T_5b727_row8_col5, #T_5b727_row8_col6, #T_5b727_row9_col0, #T_5b727_row9_col1, #T_5b727_row9_col2, #T_5b727_row9_col3, #T_5b727_row9_col4, #T_5b727_row9_col5, #T_5b727_row9_col6, #T_5b727_row10_col0, #T_5b727_row10_col1, #T_5b727_row10_col2, #T_5b727_row10_col3, #T_5b727_row10_col4, #T_5b727_row10_col5, #T_5b727_row10_col6, #T_5b727_row11_col0, #T_5b727_row11_col1, #T_5b727_row11_col2, #T_5b727_row11_col3, #T_5b727_row11_col4, #T_5b727_row11_col5, #T_5b727_row11_col6, #T_5b727_row12_col0, #T_5b727_row12_col1, #T_5b727_row12_col2, #T_5b727_row12_col3, #T_5b727_row12_col4, #T_5b727_row12_col5, #T_5b727_row12_col6, #T_5b727_row13_col0, #T_5b727_row13_col1, #T_5b727_row13_col2, #T_5b727_row13_col3, #T_5b727_row13_col4, #T_5b727_row13_col5, #T_5b727_row13_col6, #T_5b727_row14_col0, #T_5b727_row14_col1, #T_5b727_row14_col2, #T_5b727_row14_col3, #T_5b727_row14_col4, #T_5b727_row14_col5, #T_5b727_row14_col6, #T_5b727_row15_col0, #T_5b727_row15_col1, #T_5b727_row15_col2, #T_5b727_row15_col3, #T_5b727_row15_col4, #T_5b727_row15_col5, #T_5b727_row15_col6, #T_5b727_row16_col0, #T_5b727_row16_col1, #T_5b727_row16_col2, #T_5b727_row16_col3, #T_5b727_row16_col4, #T_5b727_row16_col5, #T_5b727_row16_col6, #T_5b727_row17_col0, #T_5b727_row17_col1, #T_5b727_row17_col2, #T_5b727_row17_col3, #T_5b727_row17_col4, #T_5b727_row17_col5 {\n",
       "  text-align: left;\n",
       "}\n",
       "#T_5b727_row0_col1, #T_5b727_row0_col3, #T_5b727_row0_col4, #T_5b727_row1_col2, #T_5b727_row3_col5, #T_5b727_row4_col5, #T_5b727_row5_col5, #T_5b727_row17_col6 {\n",
       "  text-align: left;\n",
       "  background-color: yellow;\n",
       "}\n",
       "#T_5b727_row0_col7, #T_5b727_row1_col7, #T_5b727_row2_col7, #T_5b727_row3_col7, #T_5b727_row4_col7, #T_5b727_row5_col7, #T_5b727_row6_col7, #T_5b727_row7_col7, #T_5b727_row8_col7, #T_5b727_row9_col7, #T_5b727_row10_col7, #T_5b727_row11_col7, #T_5b727_row12_col7, #T_5b727_row13_col7, #T_5b727_row14_col7, #T_5b727_row15_col7, #T_5b727_row16_col7 {\n",
       "  text-align: left;\n",
       "  background-color: lightgrey;\n",
       "}\n",
       "#T_5b727_row17_col7 {\n",
       "  text-align: left;\n",
       "  background-color: yellow;\n",
       "  background-color: lightgrey;\n",
       "}\n",
       "</style>\n",
       "<table id=\"T_5b727\">\n",
       "  <thead>\n",
       "    <tr>\n",
       "      <th class=\"blank level0\" >&nbsp;</th>\n",
       "      <th id=\"T_5b727_level0_col0\" class=\"col_heading level0 col0\" >Model</th>\n",
       "      <th id=\"T_5b727_level0_col1\" class=\"col_heading level0 col1\" >MAE</th>\n",
       "      <th id=\"T_5b727_level0_col2\" class=\"col_heading level0 col2\" >MSE</th>\n",
       "      <th id=\"T_5b727_level0_col3\" class=\"col_heading level0 col3\" >RMSE</th>\n",
       "      <th id=\"T_5b727_level0_col4\" class=\"col_heading level0 col4\" >R2</th>\n",
       "      <th id=\"T_5b727_level0_col5\" class=\"col_heading level0 col5\" >RMSLE</th>\n",
       "      <th id=\"T_5b727_level0_col6\" class=\"col_heading level0 col6\" >MAPE</th>\n",
       "      <th id=\"T_5b727_level0_col7\" class=\"col_heading level0 col7\" >TT (Sec)</th>\n",
       "    </tr>\n",
       "  </thead>\n",
       "  <tbody>\n",
       "    <tr>\n",
       "      <th id=\"T_5b727_level0_row0\" class=\"row_heading level0 row0\" >lasso</th>\n",
       "      <td id=\"T_5b727_row0_col0\" class=\"data row0 col0\" >Lasso Regression</td>\n",
       "      <td id=\"T_5b727_row0_col1\" class=\"data row0 col1\" >42.2079</td>\n",
       "      <td id=\"T_5b727_row0_col2\" class=\"data row0 col2\" >2738.6565</td>\n",
       "      <td id=\"T_5b727_row0_col3\" class=\"data row0 col3\" >51.7271</td>\n",
       "      <td id=\"T_5b727_row0_col4\" class=\"data row0 col4\" >0.6707</td>\n",
       "      <td id=\"T_5b727_row0_col5\" class=\"data row0 col5\" >0.9582</td>\n",
       "      <td id=\"T_5b727_row0_col6\" class=\"data row0 col6\" >2.6757</td>\n",
       "      <td id=\"T_5b727_row0_col7\" class=\"data row0 col7\" >0.0950</td>\n",
       "    </tr>\n",
       "    <tr>\n",
       "      <th id=\"T_5b727_level0_row1\" class=\"row_heading level0 row1\" >ridge</th>\n",
       "      <td id=\"T_5b727_row1_col0\" class=\"data row1 col0\" >Ridge Regression</td>\n",
       "      <td id=\"T_5b727_row1_col1\" class=\"data row1 col1\" >42.2136</td>\n",
       "      <td id=\"T_5b727_row1_col2\" class=\"data row1 col2\" >2738.4114</td>\n",
       "      <td id=\"T_5b727_row1_col3\" class=\"data row1 col3\" >51.7282</td>\n",
       "      <td id=\"T_5b727_row1_col4\" class=\"data row1 col4\" >0.6706</td>\n",
       "      <td id=\"T_5b727_row1_col5\" class=\"data row1 col5\" >0.9580</td>\n",
       "      <td id=\"T_5b727_row1_col6\" class=\"data row1 col6\" >2.6850</td>\n",
       "      <td id=\"T_5b727_row1_col7\" class=\"data row1 col7\" >0.0310</td>\n",
       "    </tr>\n",
       "    <tr>\n",
       "      <th id=\"T_5b727_level0_row2\" class=\"row_heading level0 row2\" >br</th>\n",
       "      <td id=\"T_5b727_row2_col0\" class=\"data row2 col0\" >Bayesian Ridge</td>\n",
       "      <td id=\"T_5b727_row2_col1\" class=\"data row2 col1\" >42.2245</td>\n",
       "      <td id=\"T_5b727_row2_col2\" class=\"data row2 col2\" >2738.7491</td>\n",
       "      <td id=\"T_5b727_row2_col3\" class=\"data row2 col3\" >51.7369</td>\n",
       "      <td id=\"T_5b727_row2_col4\" class=\"data row2 col4\" >0.6705</td>\n",
       "      <td id=\"T_5b727_row2_col5\" class=\"data row2 col5\" >0.9579</td>\n",
       "      <td id=\"T_5b727_row2_col6\" class=\"data row2 col6\" >2.6993</td>\n",
       "      <td id=\"T_5b727_row2_col7\" class=\"data row2 col7\" >0.0250</td>\n",
       "    </tr>\n",
       "    <tr>\n",
       "      <th id=\"T_5b727_level0_row3\" class=\"row_heading level0 row3\" >lr</th>\n",
       "      <td id=\"T_5b727_row3_col0\" class=\"data row3 col0\" >Linear Regression</td>\n",
       "      <td id=\"T_5b727_row3_col1\" class=\"data row3 col1\" >42.2311</td>\n",
       "      <td id=\"T_5b727_row3_col2\" class=\"data row3 col2\" >2739.1031</td>\n",
       "      <td id=\"T_5b727_row3_col3\" class=\"data row3 col3\" >51.7431</td>\n",
       "      <td id=\"T_5b727_row3_col4\" class=\"data row3 col4\" >0.6704</td>\n",
       "      <td id=\"T_5b727_row3_col5\" class=\"data row3 col5\" >0.9578</td>\n",
       "      <td id=\"T_5b727_row3_col6\" class=\"data row3 col6\" >2.7071</td>\n",
       "      <td id=\"T_5b727_row3_col7\" class=\"data row3 col7\" >1.4620</td>\n",
       "    </tr>\n",
       "    <tr>\n",
       "      <th id=\"T_5b727_level0_row4\" class=\"row_heading level0 row4\" >lar</th>\n",
       "      <td id=\"T_5b727_row4_col0\" class=\"data row4 col0\" >Least Angle Regression</td>\n",
       "      <td id=\"T_5b727_row4_col1\" class=\"data row4 col1\" >42.2311</td>\n",
       "      <td id=\"T_5b727_row4_col2\" class=\"data row4 col2\" >2739.1028</td>\n",
       "      <td id=\"T_5b727_row4_col3\" class=\"data row4 col3\" >51.7431</td>\n",
       "      <td id=\"T_5b727_row4_col4\" class=\"data row4 col4\" >0.6704</td>\n",
       "      <td id=\"T_5b727_row4_col5\" class=\"data row4 col5\" >0.9578</td>\n",
       "      <td id=\"T_5b727_row4_col6\" class=\"data row4 col6\" >2.7071</td>\n",
       "      <td id=\"T_5b727_row4_col7\" class=\"data row4 col7\" >0.0270</td>\n",
       "    </tr>\n",
       "    <tr>\n",
       "      <th id=\"T_5b727_level0_row5\" class=\"row_heading level0 row5\" >omp</th>\n",
       "      <td id=\"T_5b727_row5_col0\" class=\"data row5 col0\" >Orthogonal Matching Pursuit</td>\n",
       "      <td id=\"T_5b727_row5_col1\" class=\"data row5 col1\" >42.2311</td>\n",
       "      <td id=\"T_5b727_row5_col2\" class=\"data row5 col2\" >2739.1028</td>\n",
       "      <td id=\"T_5b727_row5_col3\" class=\"data row5 col3\" >51.7431</td>\n",
       "      <td id=\"T_5b727_row5_col4\" class=\"data row5 col4\" >0.6704</td>\n",
       "      <td id=\"T_5b727_row5_col5\" class=\"data row5 col5\" >0.9578</td>\n",
       "      <td id=\"T_5b727_row5_col6\" class=\"data row5 col6\" >2.7071</td>\n",
       "      <td id=\"T_5b727_row5_col7\" class=\"data row5 col7\" >0.0260</td>\n",
       "    </tr>\n",
       "    <tr>\n",
       "      <th id=\"T_5b727_level0_row6\" class=\"row_heading level0 row6\" >par</th>\n",
       "      <td id=\"T_5b727_row6_col0\" class=\"data row6 col0\" >Passive Aggressive Regressor</td>\n",
       "      <td id=\"T_5b727_row6_col1\" class=\"data row6 col1\" >42.9323</td>\n",
       "      <td id=\"T_5b727_row6_col2\" class=\"data row6 col2\" >2763.4802</td>\n",
       "      <td id=\"T_5b727_row6_col3\" class=\"data row6 col3\" >51.9626</td>\n",
       "      <td id=\"T_5b727_row6_col4\" class=\"data row6 col4\" >0.6698</td>\n",
       "      <td id=\"T_5b727_row6_col5\" class=\"data row6 col5\" >0.9891</td>\n",
       "      <td id=\"T_5b727_row6_col6\" class=\"data row6 col6\" >2.4332</td>\n",
       "      <td id=\"T_5b727_row6_col7\" class=\"data row6 col7\" >0.0280</td>\n",
       "    </tr>\n",
       "    <tr>\n",
       "      <th id=\"T_5b727_level0_row7\" class=\"row_heading level0 row7\" >huber</th>\n",
       "      <td id=\"T_5b727_row7_col0\" class=\"data row7 col0\" >Huber Regressor</td>\n",
       "      <td id=\"T_5b727_row7_col1\" class=\"data row7 col1\" >42.4537</td>\n",
       "      <td id=\"T_5b727_row7_col2\" class=\"data row7 col2\" >2757.7237</td>\n",
       "      <td id=\"T_5b727_row7_col3\" class=\"data row7 col3\" >51.9041</td>\n",
       "      <td id=\"T_5b727_row7_col4\" class=\"data row7 col4\" >0.6692</td>\n",
       "      <td id=\"T_5b727_row7_col5\" class=\"data row7 col5\" >0.9579</td>\n",
       "      <td id=\"T_5b727_row7_col6\" class=\"data row7 col6\" >2.6500</td>\n",
       "      <td id=\"T_5b727_row7_col7\" class=\"data row7 col7\" >0.0330</td>\n",
       "    </tr>\n",
       "    <tr>\n",
       "      <th id=\"T_5b727_level0_row8\" class=\"row_heading level0 row8\" >llar</th>\n",
       "      <td id=\"T_5b727_row8_col0\" class=\"data row8 col0\" >Lasso Least Angle Regression</td>\n",
       "      <td id=\"T_5b727_row8_col1\" class=\"data row8 col1\" >42.8472</td>\n",
       "      <td id=\"T_5b727_row8_col2\" class=\"data row8 col2\" >2855.1289</td>\n",
       "      <td id=\"T_5b727_row8_col3\" class=\"data row8 col3\" >52.7383</td>\n",
       "      <td id=\"T_5b727_row8_col4\" class=\"data row8 col4\" >0.6607</td>\n",
       "      <td id=\"T_5b727_row8_col5\" class=\"data row8 col5\" >0.9878</td>\n",
       "      <td id=\"T_5b727_row8_col6\" class=\"data row8 col6\" >2.3801</td>\n",
       "      <td id=\"T_5b727_row8_col7\" class=\"data row8 col7\" >0.0260</td>\n",
       "    </tr>\n",
       "    <tr>\n",
       "      <th id=\"T_5b727_level0_row9\" class=\"row_heading level0 row9\" >ada</th>\n",
       "      <td id=\"T_5b727_row9_col0\" class=\"data row9 col0\" >AdaBoost Regressor</td>\n",
       "      <td id=\"T_5b727_row9_col1\" class=\"data row9 col1\" >46.2931</td>\n",
       "      <td id=\"T_5b727_row9_col2\" class=\"data row9 col2\" >3207.9420</td>\n",
       "      <td id=\"T_5b727_row9_col3\" class=\"data row9 col3\" >56.4263</td>\n",
       "      <td id=\"T_5b727_row9_col4\" class=\"data row9 col4\" >0.6085</td>\n",
       "      <td id=\"T_5b727_row9_col5\" class=\"data row9 col5\" >1.1670</td>\n",
       "      <td id=\"T_5b727_row9_col6\" class=\"data row9 col6\" >3.1690</td>\n",
       "      <td id=\"T_5b727_row9_col7\" class=\"data row9 col7\" >0.0470</td>\n",
       "    </tr>\n",
       "    <tr>\n",
       "      <th id=\"T_5b727_level0_row10\" class=\"row_heading level0 row10\" >knn</th>\n",
       "      <td id=\"T_5b727_row10_col0\" class=\"data row10 col0\" >K Neighbors Regressor</td>\n",
       "      <td id=\"T_5b727_row10_col1\" class=\"data row10 col1\" >46.3721</td>\n",
       "      <td id=\"T_5b727_row10_col2\" class=\"data row10 col2\" >3308.2230</td>\n",
       "      <td id=\"T_5b727_row10_col3\" class=\"data row10 col3\" >56.9868</td>\n",
       "      <td id=\"T_5b727_row10_col4\" class=\"data row10 col4\" >0.6010</td>\n",
       "      <td id=\"T_5b727_row10_col5\" class=\"data row10 col5\" >1.0251</td>\n",
       "      <td id=\"T_5b727_row10_col6\" class=\"data row10 col6\" >3.6860</td>\n",
       "      <td id=\"T_5b727_row10_col7\" class=\"data row10 col7\" >0.0290</td>\n",
       "    </tr>\n",
       "    <tr>\n",
       "      <th id=\"T_5b727_level0_row11\" class=\"row_heading level0 row11\" >lightgbm</th>\n",
       "      <td id=\"T_5b727_row11_col0\" class=\"data row11 col0\" >Light Gradient Boosting Machine</td>\n",
       "      <td id=\"T_5b727_row11_col1\" class=\"data row11 col1\" >46.7549</td>\n",
       "      <td id=\"T_5b727_row11_col2\" class=\"data row11 col2\" >3426.5862</td>\n",
       "      <td id=\"T_5b727_row11_col3\" class=\"data row11 col3\" >58.0344</td>\n",
       "      <td id=\"T_5b727_row11_col4\" class=\"data row11 col4\" >0.5801</td>\n",
       "      <td id=\"T_5b727_row11_col5\" class=\"data row11 col5\" >1.1013</td>\n",
       "      <td id=\"T_5b727_row11_col6\" class=\"data row11 col6\" >3.7840</td>\n",
       "      <td id=\"T_5b727_row11_col7\" class=\"data row11 col7\" >0.0400</td>\n",
       "    </tr>\n",
       "    <tr>\n",
       "      <th id=\"T_5b727_level0_row12\" class=\"row_heading level0 row12\" >en</th>\n",
       "      <td id=\"T_5b727_row12_col0\" class=\"data row12 col0\" >Elastic Net</td>\n",
       "      <td id=\"T_5b727_row12_col1\" class=\"data row12 col1\" >49.6655</td>\n",
       "      <td id=\"T_5b727_row12_col2\" class=\"data row12 col2\" >3675.4314</td>\n",
       "      <td id=\"T_5b727_row12_col3\" class=\"data row12 col3\" >59.8637</td>\n",
       "      <td id=\"T_5b727_row12_col4\" class=\"data row12 col4\" >0.5792</td>\n",
       "      <td id=\"T_5b727_row12_col5\" class=\"data row12 col5\" >1.1720</td>\n",
       "      <td id=\"T_5b727_row12_col6\" class=\"data row12 col6\" >1.8810</td>\n",
       "      <td id=\"T_5b727_row12_col7\" class=\"data row12 col7\" >0.0300</td>\n",
       "    </tr>\n",
       "    <tr>\n",
       "      <th id=\"T_5b727_level0_row13\" class=\"row_heading level0 row13\" >gbr</th>\n",
       "      <td id=\"T_5b727_row13_col0\" class=\"data row13 col0\" >Gradient Boosting Regressor</td>\n",
       "      <td id=\"T_5b727_row13_col1\" class=\"data row13 col1\" >50.9714</td>\n",
       "      <td id=\"T_5b727_row13_col2\" class=\"data row13 col2\" >3882.0643</td>\n",
       "      <td id=\"T_5b727_row13_col3\" class=\"data row13 col3\" >61.6702</td>\n",
       "      <td id=\"T_5b727_row13_col4\" class=\"data row13 col4\" >0.5122</td>\n",
       "      <td id=\"T_5b727_row13_col5\" class=\"data row13 col5\" >1.0400</td>\n",
       "      <td id=\"T_5b727_row13_col6\" class=\"data row13 col6\" >4.3287</td>\n",
       "      <td id=\"T_5b727_row13_col7\" class=\"data row13 col7\" >0.0410</td>\n",
       "    </tr>\n",
       "    <tr>\n",
       "      <th id=\"T_5b727_level0_row14\" class=\"row_heading level0 row14\" >rf</th>\n",
       "      <td id=\"T_5b727_row14_col0\" class=\"data row14 col0\" >Random Forest Regressor</td>\n",
       "      <td id=\"T_5b727_row14_col1\" class=\"data row14 col1\" >51.9396</td>\n",
       "      <td id=\"T_5b727_row14_col2\" class=\"data row14 col2\" >4166.2423</td>\n",
       "      <td id=\"T_5b727_row14_col3\" class=\"data row14 col3\" >63.8774</td>\n",
       "      <td id=\"T_5b727_row14_col4\" class=\"data row14 col4\" >0.4777</td>\n",
       "      <td id=\"T_5b727_row14_col5\" class=\"data row14 col5\" >1.0386</td>\n",
       "      <td id=\"T_5b727_row14_col6\" class=\"data row14 col6\" >4.4159</td>\n",
       "      <td id=\"T_5b727_row14_col7\" class=\"data row14 col7\" >0.1280</td>\n",
       "    </tr>\n",
       "    <tr>\n",
       "      <th id=\"T_5b727_level0_row15\" class=\"row_heading level0 row15\" >et</th>\n",
       "      <td id=\"T_5b727_row15_col0\" class=\"data row15 col0\" >Extra Trees Regressor</td>\n",
       "      <td id=\"T_5b727_row15_col1\" class=\"data row15 col1\" >54.7972</td>\n",
       "      <td id=\"T_5b727_row15_col2\" class=\"data row15 col2\" >4640.7320</td>\n",
       "      <td id=\"T_5b727_row15_col3\" class=\"data row15 col3\" >67.3960</td>\n",
       "      <td id=\"T_5b727_row15_col4\" class=\"data row15 col4\" >0.4059</td>\n",
       "      <td id=\"T_5b727_row15_col5\" class=\"data row15 col5\" >1.1279</td>\n",
       "      <td id=\"T_5b727_row15_col6\" class=\"data row15 col6\" >4.0257</td>\n",
       "      <td id=\"T_5b727_row15_col7\" class=\"data row15 col7\" >0.1000</td>\n",
       "    </tr>\n",
       "    <tr>\n",
       "      <th id=\"T_5b727_level0_row16\" class=\"row_heading level0 row16\" >dt</th>\n",
       "      <td id=\"T_5b727_row16_col0\" class=\"data row16 col0\" >Decision Tree Regressor</td>\n",
       "      <td id=\"T_5b727_row16_col1\" class=\"data row16 col1\" >61.0306</td>\n",
       "      <td id=\"T_5b727_row16_col2\" class=\"data row16 col2\" >5575.2128</td>\n",
       "      <td id=\"T_5b727_row16_col3\" class=\"data row16 col3\" >73.5200</td>\n",
       "      <td id=\"T_5b727_row16_col4\" class=\"data row16 col4\" >0.2741</td>\n",
       "      <td id=\"T_5b727_row16_col5\" class=\"data row16 col5\" >1.2192</td>\n",
       "      <td id=\"T_5b727_row16_col6\" class=\"data row16 col6\" >5.4490</td>\n",
       "      <td id=\"T_5b727_row16_col7\" class=\"data row16 col7\" >0.0250</td>\n",
       "    </tr>\n",
       "    <tr>\n",
       "      <th id=\"T_5b727_level0_row17\" class=\"row_heading level0 row17\" >dummy</th>\n",
       "      <td id=\"T_5b727_row17_col0\" class=\"data row17 col0\" >Dummy Regressor</td>\n",
       "      <td id=\"T_5b727_row17_col1\" class=\"data row17 col1\" >80.6810</td>\n",
       "      <td id=\"T_5b727_row17_col2\" class=\"data row17 col2\" >9841.3271</td>\n",
       "      <td id=\"T_5b727_row17_col3\" class=\"data row17 col3\" >97.7389</td>\n",
       "      <td id=\"T_5b727_row17_col4\" class=\"data row17 col4\" >-0.0742</td>\n",
       "      <td id=\"T_5b727_row17_col5\" class=\"data row17 col5\" >1.9955</td>\n",
       "      <td id=\"T_5b727_row17_col6\" class=\"data row17 col6\" >1.6315</td>\n",
       "      <td id=\"T_5b727_row17_col7\" class=\"data row17 col7\" >0.0240</td>\n",
       "    </tr>\n",
       "  </tbody>\n",
       "</table>\n"
      ],
      "text/plain": [
       "<pandas.io.formats.style.Styler at 0x223fed4a8e0>"
      ]
     },
     "metadata": {},
     "output_type": "display_data"
    },
    {
     "data": {
      "application/vnd.jupyter.widget-view+json": {
       "model_id": "",
       "version_major": 2,
       "version_minor": 0
      },
      "text/plain": [
       "Processing:   0%|          | 0/73 [00:00<?, ?it/s]"
      ]
     },
     "metadata": {},
     "output_type": "display_data"
    }
   ],
   "source": [
    "best = compare_models(exclude = ['ransac'])"
   ]
  },
  {
   "cell_type": "markdown",
   "metadata": {
    "colab_type": "text",
    "id": "epD0BEVyzZrr"
   },
   "source": [
    "With simple line of code we have trained and evaluated over 20 models using cross validation. The score grid printed above highlights the highest performing metric for comparison purposes only. The grid by default is sorted using `R2` (highest to lowest) which can be changed by passing `sort` parameter. For example `compare_models(sort = 'RMSLE')` will sort the grid by RMSLE (lower to higher since lower is better). If you want to change the fold parameter from the default value of `10` to a different value then you can use the `fold` parameter. For example `compare_models(fold = 5)` will compare all models on 5 fold cross validation. Reducing the number of folds will improve the training time. By default, compare_models return the best performing model based on default sort order but can be used to return a list of top N models by using `n_select` parameter. </br>\n",
    "\n",
    "Notice that how `exclude` parameter is used to block certain models (in this case `RANSAC`)."
   ]
  },
  {
   "cell_type": "markdown",
   "metadata": {
    "colab_type": "text",
    "id": "ZzpBazV1zZrx"
   },
   "source": [
    "# 8.0 Create a Model"
   ]
  },
  {
   "cell_type": "markdown",
   "metadata": {
    "colab_type": "text",
    "id": "IPqPRp5OzZr1"
   },
   "source": [
    "`create_model` is the most granular function in PyCaret and is often the foundation behind most of the PyCaret functionalities. As the name suggests this function trains and evaluates a model using cross validation that can be set with fold parameter. The output prints a score grid that shows MAE, MSE, RMSE, R2, RMSLE and MAPE by fold. \n",
    "\n",
    "For the remaining part of this tutorial, we will work with the below models as our candidate models. The selections are for illustration purposes only and do not necessarily mean they are the top performing or ideal for this type of data.\n",
    "\n",
    "- AdaBoost Regressor ('ada')\n",
    "- Light Gradient Boosting Machine ('lightgbm') \n",
    "- Decision Tree\t ('dt')\n",
    "\n",
    "There are 25 regressors available in the model library of PyCaret. To see list of all regressors either check the docstring or use `models` function to see the library."
   ]
  },
  {
   "cell_type": "code",
   "execution_count": 6,
   "metadata": {
    "ExecuteTime": {
     "end_time": "2022-07-17T04:27:47.993786Z",
     "start_time": "2022-07-17T04:27:47.789347Z"
    }
   },
   "outputs": [
    {
     "data": {
      "text/html": [
       "<div>\n",
       "<style scoped>\n",
       "    .dataframe tbody tr th:only-of-type {\n",
       "        vertical-align: middle;\n",
       "    }\n",
       "\n",
       "    .dataframe tbody tr th {\n",
       "        vertical-align: top;\n",
       "    }\n",
       "\n",
       "    .dataframe thead th {\n",
       "        text-align: right;\n",
       "    }\n",
       "</style>\n",
       "<table border=\"1\" class=\"dataframe\">\n",
       "  <thead>\n",
       "    <tr style=\"text-align: right;\">\n",
       "      <th></th>\n",
       "      <th>Name</th>\n",
       "      <th>Reference</th>\n",
       "      <th>Turbo</th>\n",
       "    </tr>\n",
       "    <tr>\n",
       "      <th>ID</th>\n",
       "      <th></th>\n",
       "      <th></th>\n",
       "      <th></th>\n",
       "    </tr>\n",
       "  </thead>\n",
       "  <tbody>\n",
       "    <tr>\n",
       "      <th>lr</th>\n",
       "      <td>Linear Regression</td>\n",
       "      <td>sklearn.linear_model._base.LinearRegression</td>\n",
       "      <td>True</td>\n",
       "    </tr>\n",
       "    <tr>\n",
       "      <th>lasso</th>\n",
       "      <td>Lasso Regression</td>\n",
       "      <td>sklearn.linear_model._coordinate_descent.Lasso</td>\n",
       "      <td>True</td>\n",
       "    </tr>\n",
       "    <tr>\n",
       "      <th>ridge</th>\n",
       "      <td>Ridge Regression</td>\n",
       "      <td>sklearn.linear_model._ridge.Ridge</td>\n",
       "      <td>True</td>\n",
       "    </tr>\n",
       "    <tr>\n",
       "      <th>en</th>\n",
       "      <td>Elastic Net</td>\n",
       "      <td>sklearn.linear_model._coordinate_descent.Elast...</td>\n",
       "      <td>True</td>\n",
       "    </tr>\n",
       "    <tr>\n",
       "      <th>lar</th>\n",
       "      <td>Least Angle Regression</td>\n",
       "      <td>sklearn.linear_model._least_angle.Lars</td>\n",
       "      <td>True</td>\n",
       "    </tr>\n",
       "    <tr>\n",
       "      <th>llar</th>\n",
       "      <td>Lasso Least Angle Regression</td>\n",
       "      <td>sklearn.linear_model._least_angle.LassoLars</td>\n",
       "      <td>True</td>\n",
       "    </tr>\n",
       "    <tr>\n",
       "      <th>omp</th>\n",
       "      <td>Orthogonal Matching Pursuit</td>\n",
       "      <td>sklearn.linear_model._omp.OrthogonalMatchingPu...</td>\n",
       "      <td>True</td>\n",
       "    </tr>\n",
       "    <tr>\n",
       "      <th>br</th>\n",
       "      <td>Bayesian Ridge</td>\n",
       "      <td>sklearn.linear_model._bayes.BayesianRidge</td>\n",
       "      <td>True</td>\n",
       "    </tr>\n",
       "    <tr>\n",
       "      <th>ard</th>\n",
       "      <td>Automatic Relevance Determination</td>\n",
       "      <td>sklearn.linear_model._bayes.ARDRegression</td>\n",
       "      <td>False</td>\n",
       "    </tr>\n",
       "    <tr>\n",
       "      <th>par</th>\n",
       "      <td>Passive Aggressive Regressor</td>\n",
       "      <td>sklearn.linear_model._passive_aggressive.Passi...</td>\n",
       "      <td>True</td>\n",
       "    </tr>\n",
       "    <tr>\n",
       "      <th>ransac</th>\n",
       "      <td>Random Sample Consensus</td>\n",
       "      <td>sklearn.linear_model._ransac.RANSACRegressor</td>\n",
       "      <td>False</td>\n",
       "    </tr>\n",
       "    <tr>\n",
       "      <th>tr</th>\n",
       "      <td>TheilSen Regressor</td>\n",
       "      <td>sklearn.linear_model._theil_sen.TheilSenRegressor</td>\n",
       "      <td>False</td>\n",
       "    </tr>\n",
       "    <tr>\n",
       "      <th>huber</th>\n",
       "      <td>Huber Regressor</td>\n",
       "      <td>sklearn.linear_model._huber.HuberRegressor</td>\n",
       "      <td>True</td>\n",
       "    </tr>\n",
       "    <tr>\n",
       "      <th>kr</th>\n",
       "      <td>Kernel Ridge</td>\n",
       "      <td>sklearn.kernel_ridge.KernelRidge</td>\n",
       "      <td>False</td>\n",
       "    </tr>\n",
       "    <tr>\n",
       "      <th>svm</th>\n",
       "      <td>Support Vector Regression</td>\n",
       "      <td>sklearn.svm._classes.SVR</td>\n",
       "      <td>False</td>\n",
       "    </tr>\n",
       "    <tr>\n",
       "      <th>knn</th>\n",
       "      <td>K Neighbors Regressor</td>\n",
       "      <td>sklearn.neighbors._regression.KNeighborsRegressor</td>\n",
       "      <td>True</td>\n",
       "    </tr>\n",
       "    <tr>\n",
       "      <th>dt</th>\n",
       "      <td>Decision Tree Regressor</td>\n",
       "      <td>sklearn.tree._classes.DecisionTreeRegressor</td>\n",
       "      <td>True</td>\n",
       "    </tr>\n",
       "    <tr>\n",
       "      <th>rf</th>\n",
       "      <td>Random Forest Regressor</td>\n",
       "      <td>sklearn.ensemble._forest.RandomForestRegressor</td>\n",
       "      <td>True</td>\n",
       "    </tr>\n",
       "    <tr>\n",
       "      <th>et</th>\n",
       "      <td>Extra Trees Regressor</td>\n",
       "      <td>sklearn.ensemble._forest.ExtraTreesRegressor</td>\n",
       "      <td>True</td>\n",
       "    </tr>\n",
       "    <tr>\n",
       "      <th>ada</th>\n",
       "      <td>AdaBoost Regressor</td>\n",
       "      <td>sklearn.ensemble._weight_boosting.AdaBoostRegr...</td>\n",
       "      <td>True</td>\n",
       "    </tr>\n",
       "    <tr>\n",
       "      <th>gbr</th>\n",
       "      <td>Gradient Boosting Regressor</td>\n",
       "      <td>sklearn.ensemble._gb.GradientBoostingRegressor</td>\n",
       "      <td>True</td>\n",
       "    </tr>\n",
       "    <tr>\n",
       "      <th>mlp</th>\n",
       "      <td>MLP Regressor</td>\n",
       "      <td>sklearn.neural_network._multilayer_perceptron....</td>\n",
       "      <td>False</td>\n",
       "    </tr>\n",
       "    <tr>\n",
       "      <th>xgboost</th>\n",
       "      <td>Extreme Gradient Boosting</td>\n",
       "      <td>xgboost.sklearn.XGBRegressor</td>\n",
       "      <td>True</td>\n",
       "    </tr>\n",
       "    <tr>\n",
       "      <th>lightgbm</th>\n",
       "      <td>Light Gradient Boosting Machine</td>\n",
       "      <td>lightgbm.sklearn.LGBMRegressor</td>\n",
       "      <td>True</td>\n",
       "    </tr>\n",
       "    <tr>\n",
       "      <th>catboost</th>\n",
       "      <td>CatBoost Regressor</td>\n",
       "      <td>catboost.core.CatBoostRegressor</td>\n",
       "      <td>True</td>\n",
       "    </tr>\n",
       "    <tr>\n",
       "      <th>dummy</th>\n",
       "      <td>Dummy Regressor</td>\n",
       "      <td>sklearn.dummy.DummyRegressor</td>\n",
       "      <td>True</td>\n",
       "    </tr>\n",
       "  </tbody>\n",
       "</table>\n",
       "</div>"
      ],
      "text/plain": [
       "                                       Name  \\\n",
       "ID                                            \n",
       "lr                        Linear Regression   \n",
       "lasso                      Lasso Regression   \n",
       "ridge                      Ridge Regression   \n",
       "en                              Elastic Net   \n",
       "lar                  Least Angle Regression   \n",
       "llar           Lasso Least Angle Regression   \n",
       "omp             Orthogonal Matching Pursuit   \n",
       "br                           Bayesian Ridge   \n",
       "ard       Automatic Relevance Determination   \n",
       "par            Passive Aggressive Regressor   \n",
       "ransac              Random Sample Consensus   \n",
       "tr                       TheilSen Regressor   \n",
       "huber                       Huber Regressor   \n",
       "kr                             Kernel Ridge   \n",
       "svm               Support Vector Regression   \n",
       "knn                   K Neighbors Regressor   \n",
       "dt                  Decision Tree Regressor   \n",
       "rf                  Random Forest Regressor   \n",
       "et                    Extra Trees Regressor   \n",
       "ada                      AdaBoost Regressor   \n",
       "gbr             Gradient Boosting Regressor   \n",
       "mlp                           MLP Regressor   \n",
       "xgboost           Extreme Gradient Boosting   \n",
       "lightgbm    Light Gradient Boosting Machine   \n",
       "catboost                 CatBoost Regressor   \n",
       "dummy                       Dummy Regressor   \n",
       "\n",
       "                                                  Reference  Turbo  \n",
       "ID                                                                  \n",
       "lr              sklearn.linear_model._base.LinearRegression   True  \n",
       "lasso        sklearn.linear_model._coordinate_descent.Lasso   True  \n",
       "ridge                     sklearn.linear_model._ridge.Ridge   True  \n",
       "en        sklearn.linear_model._coordinate_descent.Elast...   True  \n",
       "lar                  sklearn.linear_model._least_angle.Lars   True  \n",
       "llar            sklearn.linear_model._least_angle.LassoLars   True  \n",
       "omp       sklearn.linear_model._omp.OrthogonalMatchingPu...   True  \n",
       "br                sklearn.linear_model._bayes.BayesianRidge   True  \n",
       "ard               sklearn.linear_model._bayes.ARDRegression  False  \n",
       "par       sklearn.linear_model._passive_aggressive.Passi...   True  \n",
       "ransac         sklearn.linear_model._ransac.RANSACRegressor  False  \n",
       "tr        sklearn.linear_model._theil_sen.TheilSenRegressor  False  \n",
       "huber            sklearn.linear_model._huber.HuberRegressor   True  \n",
       "kr                         sklearn.kernel_ridge.KernelRidge  False  \n",
       "svm                                sklearn.svm._classes.SVR  False  \n",
       "knn       sklearn.neighbors._regression.KNeighborsRegressor   True  \n",
       "dt              sklearn.tree._classes.DecisionTreeRegressor   True  \n",
       "rf           sklearn.ensemble._forest.RandomForestRegressor   True  \n",
       "et             sklearn.ensemble._forest.ExtraTreesRegressor   True  \n",
       "ada       sklearn.ensemble._weight_boosting.AdaBoostRegr...   True  \n",
       "gbr          sklearn.ensemble._gb.GradientBoostingRegressor   True  \n",
       "mlp       sklearn.neural_network._multilayer_perceptron....  False  \n",
       "xgboost                        xgboost.sklearn.XGBRegressor   True  \n",
       "lightgbm                     lightgbm.sklearn.LGBMRegressor   True  \n",
       "catboost                    catboost.core.CatBoostRegressor   True  \n",
       "dummy                          sklearn.dummy.DummyRegressor   True  "
      ]
     },
     "execution_count": 6,
     "metadata": {},
     "output_type": "execute_result"
    }
   ],
   "source": [
    "models()"
   ]
  },
  {
   "cell_type": "markdown",
   "metadata": {
    "colab_type": "text",
    "id": "wxKHHQcbzZr5"
   },
   "source": [
    "### 8.1 Linear regression"
   ]
  },
  {
   "cell_type": "code",
   "execution_count": 88,
   "metadata": {
    "ExecuteTime": {
     "end_time": "2022-07-17T04:27:48.918242Z",
     "start_time": "2022-07-17T04:27:47.996768Z"
    },
    "colab": {
     "base_uri": "https://localhost:8080/",
     "height": 392
    },
    "colab_type": "code",
    "id": "-NVGDCR3zZr8",
    "outputId": "06f5fc68-d2a5-4b59-fea2-3661ea1cb29d"
   },
   "outputs": [
    {
     "data": {
      "text/html": [],
      "text/plain": [
       "<IPython.core.display.HTML object>"
      ]
     },
     "metadata": {},
     "output_type": "display_data"
    },
    {
     "data": {
      "text/html": [
       "<style type=\"text/css\">\n",
       "#T_3fff7_row10_col0, #T_3fff7_row10_col1, #T_3fff7_row10_col2, #T_3fff7_row10_col3, #T_3fff7_row10_col4, #T_3fff7_row10_col5 {\n",
       "  background: yellow;\n",
       "}\n",
       "</style>\n",
       "<table id=\"T_3fff7\">\n",
       "  <thead>\n",
       "    <tr>\n",
       "      <th class=\"blank level0\" >&nbsp;</th>\n",
       "      <th id=\"T_3fff7_level0_col0\" class=\"col_heading level0 col0\" >MAE</th>\n",
       "      <th id=\"T_3fff7_level0_col1\" class=\"col_heading level0 col1\" >MSE</th>\n",
       "      <th id=\"T_3fff7_level0_col2\" class=\"col_heading level0 col2\" >RMSE</th>\n",
       "      <th id=\"T_3fff7_level0_col3\" class=\"col_heading level0 col3\" >R2</th>\n",
       "      <th id=\"T_3fff7_level0_col4\" class=\"col_heading level0 col4\" >RMSLE</th>\n",
       "      <th id=\"T_3fff7_level0_col5\" class=\"col_heading level0 col5\" >MAPE</th>\n",
       "    </tr>\n",
       "    <tr>\n",
       "      <th class=\"index_name level0\" >Fold</th>\n",
       "      <th class=\"blank col0\" >&nbsp;</th>\n",
       "      <th class=\"blank col1\" >&nbsp;</th>\n",
       "      <th class=\"blank col2\" >&nbsp;</th>\n",
       "      <th class=\"blank col3\" >&nbsp;</th>\n",
       "      <th class=\"blank col4\" >&nbsp;</th>\n",
       "      <th class=\"blank col5\" >&nbsp;</th>\n",
       "    </tr>\n",
       "  </thead>\n",
       "  <tbody>\n",
       "    <tr>\n",
       "      <th id=\"T_3fff7_level0_row0\" class=\"row_heading level0 row0\" >0</th>\n",
       "      <td id=\"T_3fff7_row0_col0\" class=\"data row0 col0\" >34.6330</td>\n",
       "      <td id=\"T_3fff7_row0_col1\" class=\"data row0 col1\" >1870.6774</td>\n",
       "      <td id=\"T_3fff7_row0_col2\" class=\"data row0 col2\" >43.2513</td>\n",
       "      <td id=\"T_3fff7_row0_col3\" class=\"data row0 col3\" >0.6163</td>\n",
       "      <td id=\"T_3fff7_row0_col4\" class=\"data row0 col4\" >1.4826</td>\n",
       "      <td id=\"T_3fff7_row0_col5\" class=\"data row0 col5\" >14.1630</td>\n",
       "    </tr>\n",
       "    <tr>\n",
       "      <th id=\"T_3fff7_level0_row1\" class=\"row_heading level0 row1\" >1</th>\n",
       "      <td id=\"T_3fff7_row1_col0\" class=\"data row1 col0\" >35.1946</td>\n",
       "      <td id=\"T_3fff7_row1_col1\" class=\"data row1 col1\" >2020.7194</td>\n",
       "      <td id=\"T_3fff7_row1_col2\" class=\"data row1 col2\" >44.9524</td>\n",
       "      <td id=\"T_3fff7_row1_col3\" class=\"data row1 col3\" >0.8722</td>\n",
       "      <td id=\"T_3fff7_row1_col4\" class=\"data row1 col4\" >0.4491</td>\n",
       "      <td id=\"T_3fff7_row1_col5\" class=\"data row1 col5\" >0.4563</td>\n",
       "    </tr>\n",
       "    <tr>\n",
       "      <th id=\"T_3fff7_level0_row2\" class=\"row_heading level0 row2\" >2</th>\n",
       "      <td id=\"T_3fff7_row2_col0\" class=\"data row2 col0\" >49.1620</td>\n",
       "      <td id=\"T_3fff7_row2_col1\" class=\"data row2 col1\" >3572.2727</td>\n",
       "      <td id=\"T_3fff7_row2_col2\" class=\"data row2 col2\" >59.7685</td>\n",
       "      <td id=\"T_3fff7_row2_col3\" class=\"data row2 col3\" >0.4502</td>\n",
       "      <td id=\"T_3fff7_row2_col4\" class=\"data row2 col4\" >1.3541</td>\n",
       "      <td id=\"T_3fff7_row2_col5\" class=\"data row2 col5\" >0.7866</td>\n",
       "    </tr>\n",
       "    <tr>\n",
       "      <th id=\"T_3fff7_level0_row3\" class=\"row_heading level0 row3\" >3</th>\n",
       "      <td id=\"T_3fff7_row3_col0\" class=\"data row3 col0\" >53.8709</td>\n",
       "      <td id=\"T_3fff7_row3_col1\" class=\"data row3 col1\" >4290.5127</td>\n",
       "      <td id=\"T_3fff7_row3_col2\" class=\"data row3 col2\" >65.5020</td>\n",
       "      <td id=\"T_3fff7_row3_col3\" class=\"data row3 col3\" >0.5784</td>\n",
       "      <td id=\"T_3fff7_row3_col4\" class=\"data row3 col4\" >1.1722</td>\n",
       "      <td id=\"T_3fff7_row3_col5\" class=\"data row3 col5\" >1.4704</td>\n",
       "    </tr>\n",
       "    <tr>\n",
       "      <th id=\"T_3fff7_level0_row4\" class=\"row_heading level0 row4\" >4</th>\n",
       "      <td id=\"T_3fff7_row4_col0\" class=\"data row4 col0\" >37.1918</td>\n",
       "      <td id=\"T_3fff7_row4_col1\" class=\"data row4 col1\" >1952.8922</td>\n",
       "      <td id=\"T_3fff7_row4_col2\" class=\"data row4 col2\" >44.1915</td>\n",
       "      <td id=\"T_3fff7_row4_col3\" class=\"data row4 col3\" >0.4732</td>\n",
       "      <td id=\"T_3fff7_row4_col4\" class=\"data row4 col4\" >0.9843</td>\n",
       "      <td id=\"T_3fff7_row4_col5\" class=\"data row4 col5\" >0.6327</td>\n",
       "    </tr>\n",
       "    <tr>\n",
       "      <th id=\"T_3fff7_level0_row5\" class=\"row_heading level0 row5\" >5</th>\n",
       "      <td id=\"T_3fff7_row5_col0\" class=\"data row5 col0\" >35.4668</td>\n",
       "      <td id=\"T_3fff7_row5_col1\" class=\"data row5 col1\" >1763.3783</td>\n",
       "      <td id=\"T_3fff7_row5_col2\" class=\"data row5 col2\" >41.9926</td>\n",
       "      <td id=\"T_3fff7_row5_col3\" class=\"data row5 col3\" >0.7471</td>\n",
       "      <td id=\"T_3fff7_row5_col4\" class=\"data row5 col4\" >0.7900</td>\n",
       "      <td id=\"T_3fff7_row5_col5\" class=\"data row5 col5\" >0.9497</td>\n",
       "    </tr>\n",
       "    <tr>\n",
       "      <th id=\"T_3fff7_level0_row6\" class=\"row_heading level0 row6\" >6</th>\n",
       "      <td id=\"T_3fff7_row6_col0\" class=\"data row6 col0\" >51.4657</td>\n",
       "      <td id=\"T_3fff7_row6_col1\" class=\"data row6 col1\" >3491.7546</td>\n",
       "      <td id=\"T_3fff7_row6_col2\" class=\"data row6 col2\" >59.0911</td>\n",
       "      <td id=\"T_3fff7_row6_col3\" class=\"data row6 col3\" >0.6811</td>\n",
       "      <td id=\"T_3fff7_row6_col4\" class=\"data row6 col4\" >1.1380</td>\n",
       "      <td id=\"T_3fff7_row6_col5\" class=\"data row6 col5\" >1.6341</td>\n",
       "    </tr>\n",
       "    <tr>\n",
       "      <th id=\"T_3fff7_level0_row7\" class=\"row_heading level0 row7\" >7</th>\n",
       "      <td id=\"T_3fff7_row7_col0\" class=\"data row7 col0\" >43.8811</td>\n",
       "      <td id=\"T_3fff7_row7_col1\" class=\"data row7 col1\" >3257.0325</td>\n",
       "      <td id=\"T_3fff7_row7_col2\" class=\"data row7 col2\" >57.0704</td>\n",
       "      <td id=\"T_3fff7_row7_col3\" class=\"data row7 col3\" >0.7294</td>\n",
       "      <td id=\"T_3fff7_row7_col4\" class=\"data row7 col4\" >1.0491</td>\n",
       "      <td id=\"T_3fff7_row7_col5\" class=\"data row7 col5\" >5.6076</td>\n",
       "    </tr>\n",
       "    <tr>\n",
       "      <th id=\"T_3fff7_level0_row8\" class=\"row_heading level0 row8\" >8</th>\n",
       "      <td id=\"T_3fff7_row8_col0\" class=\"data row8 col0\" >41.6116</td>\n",
       "      <td id=\"T_3fff7_row8_col1\" class=\"data row8 col1\" >2806.3110</td>\n",
       "      <td id=\"T_3fff7_row8_col2\" class=\"data row8 col2\" >52.9746</td>\n",
       "      <td id=\"T_3fff7_row8_col3\" class=\"data row8 col3\" >0.7555</td>\n",
       "      <td id=\"T_3fff7_row8_col4\" class=\"data row8 col4\" >0.5166</td>\n",
       "      <td id=\"T_3fff7_row8_col5\" class=\"data row8 col5\" >0.5738</td>\n",
       "    </tr>\n",
       "    <tr>\n",
       "      <th id=\"T_3fff7_level0_row9\" class=\"row_heading level0 row9\" >9</th>\n",
       "      <td id=\"T_3fff7_row9_col0\" class=\"data row9 col0\" >39.8330</td>\n",
       "      <td id=\"T_3fff7_row9_col1\" class=\"data row9 col1\" >2365.4800</td>\n",
       "      <td id=\"T_3fff7_row9_col2\" class=\"data row9 col2\" >48.6362</td>\n",
       "      <td id=\"T_3fff7_row9_col3\" class=\"data row9 col3\" >0.8003</td>\n",
       "      <td id=\"T_3fff7_row9_col4\" class=\"data row9 col4\" >0.6421</td>\n",
       "      <td id=\"T_3fff7_row9_col5\" class=\"data row9 col5\" >0.7968</td>\n",
       "    </tr>\n",
       "    <tr>\n",
       "      <th id=\"T_3fff7_level0_row10\" class=\"row_heading level0 row10\" >Mean</th>\n",
       "      <td id=\"T_3fff7_row10_col0\" class=\"data row10 col0\" >42.2311</td>\n",
       "      <td id=\"T_3fff7_row10_col1\" class=\"data row10 col1\" >2739.1031</td>\n",
       "      <td id=\"T_3fff7_row10_col2\" class=\"data row10 col2\" >51.7431</td>\n",
       "      <td id=\"T_3fff7_row10_col3\" class=\"data row10 col3\" >0.6704</td>\n",
       "      <td id=\"T_3fff7_row10_col4\" class=\"data row10 col4\" >0.9578</td>\n",
       "      <td id=\"T_3fff7_row10_col5\" class=\"data row10 col5\" >2.7071</td>\n",
       "    </tr>\n",
       "    <tr>\n",
       "      <th id=\"T_3fff7_level0_row11\" class=\"row_heading level0 row11\" >Std</th>\n",
       "      <td id=\"T_3fff7_row11_col0\" class=\"data row11 col0\" >6.7532</td>\n",
       "      <td id=\"T_3fff7_row11_col1\" class=\"data row11 col1\" >831.8831</td>\n",
       "      <td id=\"T_3fff7_row11_col2\" class=\"data row11 col2\" >7.8586</td>\n",
       "      <td id=\"T_3fff7_row11_col3\" class=\"data row11 col3\" >0.1316</td>\n",
       "      <td id=\"T_3fff7_row11_col4\" class=\"data row11 col4\" >0.3318</td>\n",
       "      <td id=\"T_3fff7_row11_col5\" class=\"data row11 col5\" >4.0826</td>\n",
       "    </tr>\n",
       "  </tbody>\n",
       "</table>\n"
      ],
      "text/plain": [
       "<pandas.io.formats.style.Styler at 0x22386495850>"
      ]
     },
     "metadata": {},
     "output_type": "display_data"
    },
    {
     "data": {
      "application/vnd.jupyter.widget-view+json": {
       "model_id": "",
       "version_major": 2,
       "version_minor": 0
      },
      "text/plain": [
       "Processing:   0%|          | 0/4 [00:00<?, ?it/s]"
      ]
     },
     "metadata": {},
     "output_type": "display_data"
    }
   ],
   "source": [
    "lr = create_model('lr')"
   ]
  },
  {
   "cell_type": "markdown",
   "metadata": {
    "colab_type": "text",
    "id": "T-dvDHxCzZsU"
   },
   "source": [
    "### 8.2 Light Gradient Boosting Machine "
   ]
  },
  {
   "cell_type": "code",
   "execution_count": 89,
   "metadata": {
    "ExecuteTime": {
     "end_time": "2022-07-17T04:27:49.657949Z",
     "start_time": "2022-07-17T04:27:48.930215Z"
    },
    "colab": {
     "base_uri": "https://localhost:8080/",
     "height": 392
    },
    "colab_type": "code",
    "id": "NC7OVDVrzZsX",
    "outputId": "a5abc702-d270-4134-892a-e9ecf82bdebb"
   },
   "outputs": [
    {
     "data": {
      "text/html": [],
      "text/plain": [
       "<IPython.core.display.HTML object>"
      ]
     },
     "metadata": {},
     "output_type": "display_data"
    },
    {
     "data": {
      "text/html": [
       "<style type=\"text/css\">\n",
       "#T_07ca8_row10_col0, #T_07ca8_row10_col1, #T_07ca8_row10_col2, #T_07ca8_row10_col3, #T_07ca8_row10_col4, #T_07ca8_row10_col5 {\n",
       "  background: yellow;\n",
       "}\n",
       "</style>\n",
       "<table id=\"T_07ca8\">\n",
       "  <thead>\n",
       "    <tr>\n",
       "      <th class=\"blank level0\" >&nbsp;</th>\n",
       "      <th id=\"T_07ca8_level0_col0\" class=\"col_heading level0 col0\" >MAE</th>\n",
       "      <th id=\"T_07ca8_level0_col1\" class=\"col_heading level0 col1\" >MSE</th>\n",
       "      <th id=\"T_07ca8_level0_col2\" class=\"col_heading level0 col2\" >RMSE</th>\n",
       "      <th id=\"T_07ca8_level0_col3\" class=\"col_heading level0 col3\" >R2</th>\n",
       "      <th id=\"T_07ca8_level0_col4\" class=\"col_heading level0 col4\" >RMSLE</th>\n",
       "      <th id=\"T_07ca8_level0_col5\" class=\"col_heading level0 col5\" >MAPE</th>\n",
       "    </tr>\n",
       "    <tr>\n",
       "      <th class=\"index_name level0\" >Fold</th>\n",
       "      <th class=\"blank col0\" >&nbsp;</th>\n",
       "      <th class=\"blank col1\" >&nbsp;</th>\n",
       "      <th class=\"blank col2\" >&nbsp;</th>\n",
       "      <th class=\"blank col3\" >&nbsp;</th>\n",
       "      <th class=\"blank col4\" >&nbsp;</th>\n",
       "      <th class=\"blank col5\" >&nbsp;</th>\n",
       "    </tr>\n",
       "  </thead>\n",
       "  <tbody>\n",
       "    <tr>\n",
       "      <th id=\"T_07ca8_level0_row0\" class=\"row_heading level0 row0\" >0</th>\n",
       "      <td id=\"T_07ca8_row0_col0\" class=\"data row0 col0\" >41.5631</td>\n",
       "      <td id=\"T_07ca8_row0_col1\" class=\"data row0 col1\" >2839.6410</td>\n",
       "      <td id=\"T_07ca8_row0_col2\" class=\"data row0 col2\" >53.2883</td>\n",
       "      <td id=\"T_07ca8_row0_col3\" class=\"data row0 col3\" >0.4176</td>\n",
       "      <td id=\"T_07ca8_row0_col4\" class=\"data row0 col4\" >1.5914</td>\n",
       "      <td id=\"T_07ca8_row0_col5\" class=\"data row0 col5\" >21.8387</td>\n",
       "    </tr>\n",
       "    <tr>\n",
       "      <th id=\"T_07ca8_level0_row1\" class=\"row_heading level0 row1\" >1</th>\n",
       "      <td id=\"T_07ca8_row1_col0\" class=\"data row1 col0\" >41.5427</td>\n",
       "      <td id=\"T_07ca8_row1_col1\" class=\"data row1 col1\" >3371.2551</td>\n",
       "      <td id=\"T_07ca8_row1_col2\" class=\"data row1 col2\" >58.0625</td>\n",
       "      <td id=\"T_07ca8_row1_col3\" class=\"data row1 col3\" >0.7867</td>\n",
       "      <td id=\"T_07ca8_row1_col4\" class=\"data row1 col4\" >0.9808</td>\n",
       "      <td id=\"T_07ca8_row1_col5\" class=\"data row1 col5\" >0.4341</td>\n",
       "    </tr>\n",
       "    <tr>\n",
       "      <th id=\"T_07ca8_level0_row2\" class=\"row_heading level0 row2\" >2</th>\n",
       "      <td id=\"T_07ca8_row2_col0\" class=\"data row2 col0\" >48.2710</td>\n",
       "      <td id=\"T_07ca8_row2_col1\" class=\"data row2 col1\" >3426.3317</td>\n",
       "      <td id=\"T_07ca8_row2_col2\" class=\"data row2 col2\" >58.5349</td>\n",
       "      <td id=\"T_07ca8_row2_col3\" class=\"data row2 col3\" >0.4726</td>\n",
       "      <td id=\"T_07ca8_row2_col4\" class=\"data row2 col4\" >1.1255</td>\n",
       "      <td id=\"T_07ca8_row2_col5\" class=\"data row2 col5\" >0.7796</td>\n",
       "    </tr>\n",
       "    <tr>\n",
       "      <th id=\"T_07ca8_level0_row3\" class=\"row_heading level0 row3\" >3</th>\n",
       "      <td id=\"T_07ca8_row3_col0\" class=\"data row3 col0\" >59.1647</td>\n",
       "      <td id=\"T_07ca8_row3_col1\" class=\"data row3 col1\" >5198.2077</td>\n",
       "      <td id=\"T_07ca8_row3_col2\" class=\"data row3 col2\" >72.0986</td>\n",
       "      <td id=\"T_07ca8_row3_col3\" class=\"data row3 col3\" >0.4892</td>\n",
       "      <td id=\"T_07ca8_row3_col4\" class=\"data row3 col4\" >1.1672</td>\n",
       "      <td id=\"T_07ca8_row3_col5\" class=\"data row3 col5\" >1.6098</td>\n",
       "    </tr>\n",
       "    <tr>\n",
       "      <th id=\"T_07ca8_level0_row4\" class=\"row_heading level0 row4\" >4</th>\n",
       "      <td id=\"T_07ca8_row4_col0\" class=\"data row4 col0\" >47.6592</td>\n",
       "      <td id=\"T_07ca8_row4_col1\" class=\"data row4 col1\" >2890.6017</td>\n",
       "      <td id=\"T_07ca8_row4_col2\" class=\"data row4 col2\" >53.7643</td>\n",
       "      <td id=\"T_07ca8_row4_col3\" class=\"data row4 col3\" >0.2203</td>\n",
       "      <td id=\"T_07ca8_row4_col4\" class=\"data row4 col4\" >1.1594</td>\n",
       "      <td id=\"T_07ca8_row4_col5\" class=\"data row4 col5\" >0.8178</td>\n",
       "    </tr>\n",
       "    <tr>\n",
       "      <th id=\"T_07ca8_level0_row5\" class=\"row_heading level0 row5\" >5</th>\n",
       "      <td id=\"T_07ca8_row5_col0\" class=\"data row5 col0\" >43.1866</td>\n",
       "      <td id=\"T_07ca8_row5_col1\" class=\"data row5 col1\" >2819.0310</td>\n",
       "      <td id=\"T_07ca8_row5_col2\" class=\"data row5 col2\" >53.0945</td>\n",
       "      <td id=\"T_07ca8_row5_col3\" class=\"data row5 col3\" >0.5958</td>\n",
       "      <td id=\"T_07ca8_row5_col4\" class=\"data row5 col4\" >1.2012</td>\n",
       "      <td id=\"T_07ca8_row5_col5\" class=\"data row5 col5\" >1.2314</td>\n",
       "    </tr>\n",
       "    <tr>\n",
       "      <th id=\"T_07ca8_level0_row6\" class=\"row_heading level0 row6\" >6</th>\n",
       "      <td id=\"T_07ca8_row6_col0\" class=\"data row6 col0\" >47.0131</td>\n",
       "      <td id=\"T_07ca8_row6_col1\" class=\"data row6 col1\" >3038.0673</td>\n",
       "      <td id=\"T_07ca8_row6_col2\" class=\"data row6 col2\" >55.1187</td>\n",
       "      <td id=\"T_07ca8_row6_col3\" class=\"data row6 col3\" >0.7225</td>\n",
       "      <td id=\"T_07ca8_row6_col4\" class=\"data row6 col4\" >1.1841</td>\n",
       "      <td id=\"T_07ca8_row6_col5\" class=\"data row6 col5\" >1.8270</td>\n",
       "    </tr>\n",
       "    <tr>\n",
       "      <th id=\"T_07ca8_level0_row7\" class=\"row_heading level0 row7\" >7</th>\n",
       "      <td id=\"T_07ca8_row7_col0\" class=\"data row7 col0\" >42.2700</td>\n",
       "      <td id=\"T_07ca8_row7_col1\" class=\"data row7 col1\" >2982.6471</td>\n",
       "      <td id=\"T_07ca8_row7_col2\" class=\"data row7 col2\" >54.6136</td>\n",
       "      <td id=\"T_07ca8_row7_col3\" class=\"data row7 col3\" >0.7522</td>\n",
       "      <td id=\"T_07ca8_row7_col4\" class=\"data row7 col4\" >1.2148</td>\n",
       "      <td id=\"T_07ca8_row7_col5\" class=\"data row7 col5\" >7.5070</td>\n",
       "    </tr>\n",
       "    <tr>\n",
       "      <th id=\"T_07ca8_level0_row8\" class=\"row_heading level0 row8\" >8</th>\n",
       "      <td id=\"T_07ca8_row8_col0\" class=\"data row8 col0\" >38.6152</td>\n",
       "      <td id=\"T_07ca8_row8_col1\" class=\"data row8 col1\" >2393.2902</td>\n",
       "      <td id=\"T_07ca8_row8_col2\" class=\"data row8 col2\" >48.9213</td>\n",
       "      <td id=\"T_07ca8_row8_col3\" class=\"data row8 col3\" >0.7915</td>\n",
       "      <td id=\"T_07ca8_row8_col4\" class=\"data row8 col4\" >0.5762</td>\n",
       "      <td id=\"T_07ca8_row8_col5\" class=\"data row8 col5\" >0.6245</td>\n",
       "    </tr>\n",
       "    <tr>\n",
       "      <th id=\"T_07ca8_level0_row9\" class=\"row_heading level0 row9\" >9</th>\n",
       "      <td id=\"T_07ca8_row9_col0\" class=\"data row9 col0\" >58.2634</td>\n",
       "      <td id=\"T_07ca8_row9_col1\" class=\"data row9 col1\" >5306.7891</td>\n",
       "      <td id=\"T_07ca8_row9_col2\" class=\"data row9 col2\" >72.8477</td>\n",
       "      <td id=\"T_07ca8_row9_col3\" class=\"data row9 col3\" >0.5521</td>\n",
       "      <td id=\"T_07ca8_row9_col4\" class=\"data row9 col4\" >0.8125</td>\n",
       "      <td id=\"T_07ca8_row9_col5\" class=\"data row9 col5\" >1.1699</td>\n",
       "    </tr>\n",
       "    <tr>\n",
       "      <th id=\"T_07ca8_level0_row10\" class=\"row_heading level0 row10\" >Mean</th>\n",
       "      <td id=\"T_07ca8_row10_col0\" class=\"data row10 col0\" >46.7549</td>\n",
       "      <td id=\"T_07ca8_row10_col1\" class=\"data row10 col1\" >3426.5862</td>\n",
       "      <td id=\"T_07ca8_row10_col2\" class=\"data row10 col2\" >58.0344</td>\n",
       "      <td id=\"T_07ca8_row10_col3\" class=\"data row10 col3\" >0.5801</td>\n",
       "      <td id=\"T_07ca8_row10_col4\" class=\"data row10 col4\" >1.1013</td>\n",
       "      <td id=\"T_07ca8_row10_col5\" class=\"data row10 col5\" >3.7840</td>\n",
       "    </tr>\n",
       "    <tr>\n",
       "      <th id=\"T_07ca8_level0_row11\" class=\"row_heading level0 row11\" >Std</th>\n",
       "      <td id=\"T_07ca8_row11_col0\" class=\"data row11 col0\" >6.6547</td>\n",
       "      <td id=\"T_07ca8_row11_col1\" class=\"data row11 col1\" >953.5987</td>\n",
       "      <td id=\"T_07ca8_row11_col2\" class=\"data row11 col2\" >7.6544</td>\n",
       "      <td id=\"T_07ca8_row11_col3\" class=\"data row11 col3\" >0.1772</td>\n",
       "      <td id=\"T_07ca8_row11_col4\" class=\"data row11 col4\" >0.2553</td>\n",
       "      <td id=\"T_07ca8_row11_col5\" class=\"data row11 col5\" >6.3306</td>\n",
       "    </tr>\n",
       "  </tbody>\n",
       "</table>\n"
      ],
      "text/plain": [
       "<pandas.io.formats.style.Styler at 0x223864af4c0>"
      ]
     },
     "metadata": {},
     "output_type": "display_data"
    },
    {
     "data": {
      "application/vnd.jupyter.widget-view+json": {
       "model_id": "",
       "version_major": 2,
       "version_minor": 0
      },
      "text/plain": [
       "Processing:   0%|          | 0/4 [00:00<?, ?it/s]"
      ]
     },
     "metadata": {},
     "output_type": "display_data"
    }
   ],
   "source": [
    "lightgbm = create_model('lightgbm')"
   ]
  },
  {
   "cell_type": "markdown",
   "metadata": {
    "colab_type": "text",
    "id": "j8DvIuOrzZsm"
   },
   "source": [
    "### 8.3 Decision Tree"
   ]
  },
  {
   "cell_type": "code",
   "execution_count": 19,
   "metadata": {
    "ExecuteTime": {
     "end_time": "2022-07-17T04:27:50.008518Z",
     "start_time": "2022-07-17T04:27:49.663953Z"
    },
    "colab": {
     "base_uri": "https://localhost:8080/",
     "height": 392
    },
    "colab_type": "code",
    "id": "1Y_Czm6xzZsr",
    "outputId": "df27ebb4-257b-440e-cd9b-de05ba0c0f35"
   },
   "outputs": [
    {
     "data": {
      "text/html": [],
      "text/plain": [
       "<IPython.core.display.HTML object>"
      ]
     },
     "metadata": {},
     "output_type": "display_data"
    },
    {
     "data": {
      "text/html": [
       "<style type=\"text/css\">\n",
       "#T_e59f7_row10_col0, #T_e59f7_row10_col1, #T_e59f7_row10_col2, #T_e59f7_row10_col3, #T_e59f7_row10_col4, #T_e59f7_row10_col5 {\n",
       "  background: yellow;\n",
       "}\n",
       "</style>\n",
       "<table id=\"T_e59f7\">\n",
       "  <thead>\n",
       "    <tr>\n",
       "      <th class=\"blank level0\" >&nbsp;</th>\n",
       "      <th id=\"T_e59f7_level0_col0\" class=\"col_heading level0 col0\" >MAE</th>\n",
       "      <th id=\"T_e59f7_level0_col1\" class=\"col_heading level0 col1\" >MSE</th>\n",
       "      <th id=\"T_e59f7_level0_col2\" class=\"col_heading level0 col2\" >RMSE</th>\n",
       "      <th id=\"T_e59f7_level0_col3\" class=\"col_heading level0 col3\" >R2</th>\n",
       "      <th id=\"T_e59f7_level0_col4\" class=\"col_heading level0 col4\" >RMSLE</th>\n",
       "      <th id=\"T_e59f7_level0_col5\" class=\"col_heading level0 col5\" >MAPE</th>\n",
       "    </tr>\n",
       "    <tr>\n",
       "      <th class=\"index_name level0\" >Fold</th>\n",
       "      <th class=\"blank col0\" >&nbsp;</th>\n",
       "      <th class=\"blank col1\" >&nbsp;</th>\n",
       "      <th class=\"blank col2\" >&nbsp;</th>\n",
       "      <th class=\"blank col3\" >&nbsp;</th>\n",
       "      <th class=\"blank col4\" >&nbsp;</th>\n",
       "      <th class=\"blank col5\" >&nbsp;</th>\n",
       "    </tr>\n",
       "  </thead>\n",
       "  <tbody>\n",
       "    <tr>\n",
       "      <th id=\"T_e59f7_level0_row0\" class=\"row_heading level0 row0\" >0</th>\n",
       "      <td id=\"T_e59f7_row0_col0\" class=\"data row0 col0\" >0.0375</td>\n",
       "      <td id=\"T_e59f7_row0_col1\" class=\"data row0 col1\" >0.0024</td>\n",
       "      <td id=\"T_e59f7_row0_col2\" class=\"data row0 col2\" >0.0495</td>\n",
       "      <td id=\"T_e59f7_row0_col3\" class=\"data row0 col3\" >0.6591</td>\n",
       "      <td id=\"T_e59f7_row0_col4\" class=\"data row0 col4\" >0.0399</td>\n",
       "      <td id=\"T_e59f7_row0_col5\" class=\"data row0 col5\" >0.1933</td>\n",
       "    </tr>\n",
       "    <tr>\n",
       "      <th id=\"T_e59f7_level0_row1\" class=\"row_heading level0 row1\" >1</th>\n",
       "      <td id=\"T_e59f7_row1_col0\" class=\"data row1 col0\" >0.0371</td>\n",
       "      <td id=\"T_e59f7_row1_col1\" class=\"data row1 col1\" >0.0028</td>\n",
       "      <td id=\"T_e59f7_row1_col2\" class=\"data row1 col2\" >0.0526</td>\n",
       "      <td id=\"T_e59f7_row1_col3\" class=\"data row1 col3\" >0.7002</td>\n",
       "      <td id=\"T_e59f7_row1_col4\" class=\"data row1 col4\" >0.0410</td>\n",
       "      <td id=\"T_e59f7_row1_col5\" class=\"data row1 col5\" >0.1905</td>\n",
       "    </tr>\n",
       "    <tr>\n",
       "      <th id=\"T_e59f7_level0_row2\" class=\"row_heading level0 row2\" >2</th>\n",
       "      <td id=\"T_e59f7_row2_col0\" class=\"data row2 col0\" >0.0341</td>\n",
       "      <td id=\"T_e59f7_row2_col1\" class=\"data row2 col1\" >0.0021</td>\n",
       "      <td id=\"T_e59f7_row2_col2\" class=\"data row2 col2\" >0.0458</td>\n",
       "      <td id=\"T_e59f7_row2_col3\" class=\"data row2 col3\" >0.7559</td>\n",
       "      <td id=\"T_e59f7_row2_col4\" class=\"data row2 col4\" >0.0371</td>\n",
       "      <td id=\"T_e59f7_row2_col5\" class=\"data row2 col5\" >0.1776</td>\n",
       "    </tr>\n",
       "    <tr>\n",
       "      <th id=\"T_e59f7_level0_row3\" class=\"row_heading level0 row3\" >3</th>\n",
       "      <td id=\"T_e59f7_row3_col0\" class=\"data row3 col0\" >0.0396</td>\n",
       "      <td id=\"T_e59f7_row3_col1\" class=\"data row3 col1\" >0.0030</td>\n",
       "      <td id=\"T_e59f7_row3_col2\" class=\"data row3 col2\" >0.0547</td>\n",
       "      <td id=\"T_e59f7_row3_col3\" class=\"data row3 col3\" >0.6785</td>\n",
       "      <td id=\"T_e59f7_row3_col4\" class=\"data row3 col4\" >0.0435</td>\n",
       "      <td id=\"T_e59f7_row3_col5\" class=\"data row3 col5\" >0.2050</td>\n",
       "    </tr>\n",
       "    <tr>\n",
       "      <th id=\"T_e59f7_level0_row4\" class=\"row_heading level0 row4\" >4</th>\n",
       "      <td id=\"T_e59f7_row4_col0\" class=\"data row4 col0\" >0.0365</td>\n",
       "      <td id=\"T_e59f7_row4_col1\" class=\"data row4 col1\" >0.0024</td>\n",
       "      <td id=\"T_e59f7_row4_col2\" class=\"data row4 col2\" >0.0493</td>\n",
       "      <td id=\"T_e59f7_row4_col3\" class=\"data row4 col3\" >0.7146</td>\n",
       "      <td id=\"T_e59f7_row4_col4\" class=\"data row4 col4\" >0.0395</td>\n",
       "      <td id=\"T_e59f7_row4_col5\" class=\"data row4 col5\" >0.1819</td>\n",
       "    </tr>\n",
       "    <tr>\n",
       "      <th id=\"T_e59f7_level0_row5\" class=\"row_heading level0 row5\" >5</th>\n",
       "      <td id=\"T_e59f7_row5_col0\" class=\"data row5 col0\" >0.0368</td>\n",
       "      <td id=\"T_e59f7_row5_col1\" class=\"data row5 col1\" >0.0026</td>\n",
       "      <td id=\"T_e59f7_row5_col2\" class=\"data row5 col2\" >0.0512</td>\n",
       "      <td id=\"T_e59f7_row5_col3\" class=\"data row5 col3\" >0.6056</td>\n",
       "      <td id=\"T_e59f7_row5_col4\" class=\"data row5 col4\" >0.0408</td>\n",
       "      <td id=\"T_e59f7_row5_col5\" class=\"data row5 col5\" >0.1914</td>\n",
       "    </tr>\n",
       "    <tr>\n",
       "      <th id=\"T_e59f7_level0_row6\" class=\"row_heading level0 row6\" >6</th>\n",
       "      <td id=\"T_e59f7_row6_col0\" class=\"data row6 col0\" >0.0362</td>\n",
       "      <td id=\"T_e59f7_row6_col1\" class=\"data row6 col1\" >0.0024</td>\n",
       "      <td id=\"T_e59f7_row6_col2\" class=\"data row6 col2\" >0.0494</td>\n",
       "      <td id=\"T_e59f7_row6_col3\" class=\"data row6 col3\" >0.6947</td>\n",
       "      <td id=\"T_e59f7_row6_col4\" class=\"data row6 col4\" >0.0394</td>\n",
       "      <td id=\"T_e59f7_row6_col5\" class=\"data row6 col5\" >0.1785</td>\n",
       "    </tr>\n",
       "    <tr>\n",
       "      <th id=\"T_e59f7_level0_row7\" class=\"row_heading level0 row7\" >7</th>\n",
       "      <td id=\"T_e59f7_row7_col0\" class=\"data row7 col0\" >0.0389</td>\n",
       "      <td id=\"T_e59f7_row7_col1\" class=\"data row7 col1\" >0.0028</td>\n",
       "      <td id=\"T_e59f7_row7_col2\" class=\"data row7 col2\" >0.0526</td>\n",
       "      <td id=\"T_e59f7_row7_col3\" class=\"data row7 col3\" >0.6580</td>\n",
       "      <td id=\"T_e59f7_row7_col4\" class=\"data row7 col4\" >0.0415</td>\n",
       "      <td id=\"T_e59f7_row7_col5\" class=\"data row7 col5\" >0.1852</td>\n",
       "    </tr>\n",
       "    <tr>\n",
       "      <th id=\"T_e59f7_level0_row8\" class=\"row_heading level0 row8\" >8</th>\n",
       "      <td id=\"T_e59f7_row8_col0\" class=\"data row8 col0\" >0.0373</td>\n",
       "      <td id=\"T_e59f7_row8_col1\" class=\"data row8 col1\" >0.0025</td>\n",
       "      <td id=\"T_e59f7_row8_col2\" class=\"data row8 col2\" >0.0505</td>\n",
       "      <td id=\"T_e59f7_row8_col3\" class=\"data row8 col3\" >0.7412</td>\n",
       "      <td id=\"T_e59f7_row8_col4\" class=\"data row8 col4\" >0.0401</td>\n",
       "      <td id=\"T_e59f7_row8_col5\" class=\"data row8 col5\" >0.1794</td>\n",
       "    </tr>\n",
       "    <tr>\n",
       "      <th id=\"T_e59f7_level0_row9\" class=\"row_heading level0 row9\" >9</th>\n",
       "      <td id=\"T_e59f7_row9_col0\" class=\"data row9 col0\" >0.0372</td>\n",
       "      <td id=\"T_e59f7_row9_col1\" class=\"data row9 col1\" >0.0025</td>\n",
       "      <td id=\"T_e59f7_row9_col2\" class=\"data row9 col2\" >0.0499</td>\n",
       "      <td id=\"T_e59f7_row9_col3\" class=\"data row9 col3\" >0.6990</td>\n",
       "      <td id=\"T_e59f7_row9_col4\" class=\"data row9 col4\" >0.0399</td>\n",
       "      <td id=\"T_e59f7_row9_col5\" class=\"data row9 col5\" >0.1877</td>\n",
       "    </tr>\n",
       "    <tr>\n",
       "      <th id=\"T_e59f7_level0_row10\" class=\"row_heading level0 row10\" >Mean</th>\n",
       "      <td id=\"T_e59f7_row10_col0\" class=\"data row10 col0\" >0.0371</td>\n",
       "      <td id=\"T_e59f7_row10_col1\" class=\"data row10 col1\" >0.0026</td>\n",
       "      <td id=\"T_e59f7_row10_col2\" class=\"data row10 col2\" >0.0505</td>\n",
       "      <td id=\"T_e59f7_row10_col3\" class=\"data row10 col3\" >0.6907</td>\n",
       "      <td id=\"T_e59f7_row10_col4\" class=\"data row10 col4\" >0.0403</td>\n",
       "      <td id=\"T_e59f7_row10_col5\" class=\"data row10 col5\" >0.1870</td>\n",
       "    </tr>\n",
       "    <tr>\n",
       "      <th id=\"T_e59f7_level0_row11\" class=\"row_heading level0 row11\" >Std</th>\n",
       "      <td id=\"T_e59f7_row11_col0\" class=\"data row11 col0\" >0.0014</td>\n",
       "      <td id=\"T_e59f7_row11_col1\" class=\"data row11 col1\" >0.0002</td>\n",
       "      <td id=\"T_e59f7_row11_col2\" class=\"data row11 col2\" >0.0023</td>\n",
       "      <td id=\"T_e59f7_row11_col3\" class=\"data row11 col3\" >0.0412</td>\n",
       "      <td id=\"T_e59f7_row11_col4\" class=\"data row11 col4\" >0.0016</td>\n",
       "      <td id=\"T_e59f7_row11_col5\" class=\"data row11 col5\" >0.0080</td>\n",
       "    </tr>\n",
       "  </tbody>\n",
       "</table>\n"
      ],
      "text/plain": [
       "<pandas.io.formats.style.Styler at 0x223f6745460>"
      ]
     },
     "metadata": {},
     "output_type": "display_data"
    },
    {
     "data": {
      "application/vnd.jupyter.widget-view+json": {
       "model_id": "",
       "version_major": 2,
       "version_minor": 0
      },
      "text/plain": [
       "Processing:   0%|          | 0/4 [00:00<?, ?it/s]"
      ]
     },
     "metadata": {},
     "output_type": "display_data"
    }
   ],
   "source": [
    "dt = create_model('dt')"
   ]
  },
  {
   "cell_type": "markdown",
   "metadata": {
    "colab_type": "text",
    "id": "NsOBIl8szZs1"
   },
   "source": [
    "Notice that the Mean score of all models matches with the score printed in `compare_models()`. This is because the metrics printed in the `compare_models()` score grid are the average scores across all CV folds. Similar to `compare_models()`, if you want to change the fold parameter from the default value of 10 to a different value then you can use the `fold` parameter. For Example: `create_model('dt', fold = 5)` to create Decision Tree using 5 fold cross validation."
   ]
  },
  {
   "cell_type": "markdown",
   "metadata": {
    "colab_type": "text",
    "id": "8RZB8YllzZs7"
   },
   "source": [
    "# 9.0 Tune a Model"
   ]
  },
  {
   "cell_type": "markdown",
   "metadata": {
    "colab_type": "text",
    "id": "AYYWC1X5zZs-"
   },
   "source": [
    "When a model is created using the `create_model` function it uses the default hyperparameters to train the model. In order to tune hyperparameters, the `tune_model` function is used. This function automatically tunes the hyperparameters of a model using `Random Grid Search` on a pre-defined search space. The output prints a score grid that shows MAE, MSE, RMSE, R2, RMSLE and MAPE by fold. To use the custom search grid, you can pass `custom_grid` parameter in the `tune_model` function (see 9.2 LightGBM tuning below)."
   ]
  },
  {
   "cell_type": "markdown",
   "metadata": {
    "colab_type": "text",
    "id": "5uUSmZLGzZtB"
   },
   "source": [
    "### 9.1 Linear regression"
   ]
  },
  {
   "cell_type": "code",
   "execution_count": 41,
   "metadata": {
    "ExecuteTime": {
     "end_time": "2022-07-17T04:27:58.019080Z",
     "start_time": "2022-07-17T04:27:50.012518Z"
    },
    "colab": {
     "base_uri": "https://localhost:8080/",
     "height": 392
    },
    "colab_type": "code",
    "id": "XM7qgcGIzZtE",
    "outputId": "e87c7fac-4dfe-4733-ddc5-d44359b0ea0d"
   },
   "outputs": [
    {
     "data": {
      "text/html": [],
      "text/plain": [
       "<IPython.core.display.HTML object>"
      ]
     },
     "metadata": {},
     "output_type": "display_data"
    },
    {
     "data": {
      "text/html": [
       "<style type=\"text/css\">\n",
       "#T_33b04_row10_col0, #T_33b04_row10_col1, #T_33b04_row10_col2, #T_33b04_row10_col3, #T_33b04_row10_col4, #T_33b04_row10_col5 {\n",
       "  background: yellow;\n",
       "}\n",
       "</style>\n",
       "<table id=\"T_33b04\">\n",
       "  <thead>\n",
       "    <tr>\n",
       "      <th class=\"blank level0\" >&nbsp;</th>\n",
       "      <th id=\"T_33b04_level0_col0\" class=\"col_heading level0 col0\" >MAE</th>\n",
       "      <th id=\"T_33b04_level0_col1\" class=\"col_heading level0 col1\" >MSE</th>\n",
       "      <th id=\"T_33b04_level0_col2\" class=\"col_heading level0 col2\" >RMSE</th>\n",
       "      <th id=\"T_33b04_level0_col3\" class=\"col_heading level0 col3\" >R2</th>\n",
       "      <th id=\"T_33b04_level0_col4\" class=\"col_heading level0 col4\" >RMSLE</th>\n",
       "      <th id=\"T_33b04_level0_col5\" class=\"col_heading level0 col5\" >MAPE</th>\n",
       "    </tr>\n",
       "    <tr>\n",
       "      <th class=\"index_name level0\" >Fold</th>\n",
       "      <th class=\"blank col0\" >&nbsp;</th>\n",
       "      <th class=\"blank col1\" >&nbsp;</th>\n",
       "      <th class=\"blank col2\" >&nbsp;</th>\n",
       "      <th class=\"blank col3\" >&nbsp;</th>\n",
       "      <th class=\"blank col4\" >&nbsp;</th>\n",
       "      <th class=\"blank col5\" >&nbsp;</th>\n",
       "    </tr>\n",
       "  </thead>\n",
       "  <tbody>\n",
       "    <tr>\n",
       "      <th id=\"T_33b04_level0_row0\" class=\"row_heading level0 row0\" >0</th>\n",
       "      <td id=\"T_33b04_row0_col0\" class=\"data row0 col0\" >0.0323</td>\n",
       "      <td id=\"T_33b04_row0_col1\" class=\"data row0 col1\" >0.0018</td>\n",
       "      <td id=\"T_33b04_row0_col2\" class=\"data row0 col2\" >0.0421</td>\n",
       "      <td id=\"T_33b04_row0_col3\" class=\"data row0 col3\" >0.7530</td>\n",
       "      <td id=\"T_33b04_row0_col4\" class=\"data row0 col4\" >0.0341</td>\n",
       "      <td id=\"T_33b04_row0_col5\" class=\"data row0 col5\" >0.1774</td>\n",
       "    </tr>\n",
       "    <tr>\n",
       "      <th id=\"T_33b04_level0_row1\" class=\"row_heading level0 row1\" >1</th>\n",
       "      <td id=\"T_33b04_row1_col0\" class=\"data row1 col0\" >0.0325</td>\n",
       "      <td id=\"T_33b04_row1_col1\" class=\"data row1 col1\" >0.0022</td>\n",
       "      <td id=\"T_33b04_row1_col2\" class=\"data row1 col2\" >0.0467</td>\n",
       "      <td id=\"T_33b04_row1_col3\" class=\"data row1 col3\" >0.7635</td>\n",
       "      <td id=\"T_33b04_row1_col4\" class=\"data row1 col4\" >0.0356</td>\n",
       "      <td id=\"T_33b04_row1_col5\" class=\"data row1 col5\" >0.1816</td>\n",
       "    </tr>\n",
       "    <tr>\n",
       "      <th id=\"T_33b04_level0_row2\" class=\"row_heading level0 row2\" >2</th>\n",
       "      <td id=\"T_33b04_row2_col0\" class=\"data row2 col0\" >0.0297</td>\n",
       "      <td id=\"T_33b04_row2_col1\" class=\"data row2 col1\" >0.0016</td>\n",
       "      <td id=\"T_33b04_row2_col2\" class=\"data row2 col2\" >0.0398</td>\n",
       "      <td id=\"T_33b04_row2_col3\" class=\"data row2 col3\" >0.8155</td>\n",
       "      <td id=\"T_33b04_row2_col4\" class=\"data row2 col4\" >0.0311</td>\n",
       "      <td id=\"T_33b04_row2_col5\" class=\"data row2 col5\" >0.1489</td>\n",
       "    </tr>\n",
       "    <tr>\n",
       "      <th id=\"T_33b04_level0_row3\" class=\"row_heading level0 row3\" >3</th>\n",
       "      <td id=\"T_33b04_row3_col0\" class=\"data row3 col0\" >0.0334</td>\n",
       "      <td id=\"T_33b04_row3_col1\" class=\"data row3 col1\" >0.0019</td>\n",
       "      <td id=\"T_33b04_row3_col2\" class=\"data row3 col2\" >0.0435</td>\n",
       "      <td id=\"T_33b04_row3_col3\" class=\"data row3 col3\" >0.7968</td>\n",
       "      <td id=\"T_33b04_row3_col4\" class=\"data row3 col4\" >0.0346</td>\n",
       "      <td id=\"T_33b04_row3_col5\" class=\"data row3 col5\" >0.1777</td>\n",
       "    </tr>\n",
       "    <tr>\n",
       "      <th id=\"T_33b04_level0_row4\" class=\"row_heading level0 row4\" >4</th>\n",
       "      <td id=\"T_33b04_row4_col0\" class=\"data row4 col0\" >0.0332</td>\n",
       "      <td id=\"T_33b04_row4_col1\" class=\"data row4 col1\" >0.0019</td>\n",
       "      <td id=\"T_33b04_row4_col2\" class=\"data row4 col2\" >0.0432</td>\n",
       "      <td id=\"T_33b04_row4_col3\" class=\"data row4 col3\" >0.7806</td>\n",
       "      <td id=\"T_33b04_row4_col4\" class=\"data row4 col4\" >0.0348</td>\n",
       "      <td id=\"T_33b04_row4_col5\" class=\"data row4 col5\" >0.1783</td>\n",
       "    </tr>\n",
       "    <tr>\n",
       "      <th id=\"T_33b04_level0_row5\" class=\"row_heading level0 row5\" >5</th>\n",
       "      <td id=\"T_33b04_row5_col0\" class=\"data row5 col0\" >0.0330</td>\n",
       "      <td id=\"T_33b04_row5_col1\" class=\"data row5 col1\" >0.0020</td>\n",
       "      <td id=\"T_33b04_row5_col2\" class=\"data row5 col2\" >0.0447</td>\n",
       "      <td id=\"T_33b04_row5_col3\" class=\"data row5 col3\" >0.6990</td>\n",
       "      <td id=\"T_33b04_row5_col4\" class=\"data row5 col4\" >0.0356</td>\n",
       "      <td id=\"T_33b04_row5_col5\" class=\"data row5 col5\" >0.1706</td>\n",
       "    </tr>\n",
       "    <tr>\n",
       "      <th id=\"T_33b04_level0_row6\" class=\"row_heading level0 row6\" >6</th>\n",
       "      <td id=\"T_33b04_row6_col0\" class=\"data row6 col0\" >0.0310</td>\n",
       "      <td id=\"T_33b04_row6_col1\" class=\"data row6 col1\" >0.0017</td>\n",
       "      <td id=\"T_33b04_row6_col2\" class=\"data row6 col2\" >0.0416</td>\n",
       "      <td id=\"T_33b04_row6_col3\" class=\"data row6 col3\" >0.7837</td>\n",
       "      <td id=\"T_33b04_row6_col4\" class=\"data row6 col4\" >0.0328</td>\n",
       "      <td id=\"T_33b04_row6_col5\" class=\"data row6 col5\" >0.1548</td>\n",
       "    </tr>\n",
       "    <tr>\n",
       "      <th id=\"T_33b04_level0_row7\" class=\"row_heading level0 row7\" >7</th>\n",
       "      <td id=\"T_33b04_row7_col0\" class=\"data row7 col0\" >0.0337</td>\n",
       "      <td id=\"T_33b04_row7_col1\" class=\"data row7 col1\" >0.0019</td>\n",
       "      <td id=\"T_33b04_row7_col2\" class=\"data row7 col2\" >0.0441</td>\n",
       "      <td id=\"T_33b04_row7_col3\" class=\"data row7 col3\" >0.7597</td>\n",
       "      <td id=\"T_33b04_row7_col4\" class=\"data row7 col4\" >0.0349</td>\n",
       "      <td id=\"T_33b04_row7_col5\" class=\"data row7 col5\" >0.1669</td>\n",
       "    </tr>\n",
       "    <tr>\n",
       "      <th id=\"T_33b04_level0_row8\" class=\"row_heading level0 row8\" >8</th>\n",
       "      <td id=\"T_33b04_row8_col0\" class=\"data row8 col0\" >0.0362</td>\n",
       "      <td id=\"T_33b04_row8_col1\" class=\"data row8 col1\" >0.0023</td>\n",
       "      <td id=\"T_33b04_row8_col2\" class=\"data row8 col2\" >0.0480</td>\n",
       "      <td id=\"T_33b04_row8_col3\" class=\"data row8 col3\" >0.7663</td>\n",
       "      <td id=\"T_33b04_row8_col4\" class=\"data row8 col4\" >0.0378</td>\n",
       "      <td id=\"T_33b04_row8_col5\" class=\"data row8 col5\" >0.1731</td>\n",
       "    </tr>\n",
       "    <tr>\n",
       "      <th id=\"T_33b04_level0_row9\" class=\"row_heading level0 row9\" >9</th>\n",
       "      <td id=\"T_33b04_row9_col0\" class=\"data row9 col0\" >0.0322</td>\n",
       "      <td id=\"T_33b04_row9_col1\" class=\"data row9 col1\" >0.0018</td>\n",
       "      <td id=\"T_33b04_row9_col2\" class=\"data row9 col2\" >0.0423</td>\n",
       "      <td id=\"T_33b04_row9_col3\" class=\"data row9 col3\" >0.7842</td>\n",
       "      <td id=\"T_33b04_row9_col4\" class=\"data row9 col4\" >0.0342</td>\n",
       "      <td id=\"T_33b04_row9_col5\" class=\"data row9 col5\" >0.1721</td>\n",
       "    </tr>\n",
       "    <tr>\n",
       "      <th id=\"T_33b04_level0_row10\" class=\"row_heading level0 row10\" >Mean</th>\n",
       "      <td id=\"T_33b04_row10_col0\" class=\"data row10 col0\" >0.0327</td>\n",
       "      <td id=\"T_33b04_row10_col1\" class=\"data row10 col1\" >0.0019</td>\n",
       "      <td id=\"T_33b04_row10_col2\" class=\"data row10 col2\" >0.0436</td>\n",
       "      <td id=\"T_33b04_row10_col3\" class=\"data row10 col3\" >0.7702</td>\n",
       "      <td id=\"T_33b04_row10_col4\" class=\"data row10 col4\" >0.0346</td>\n",
       "      <td id=\"T_33b04_row10_col5\" class=\"data row10 col5\" >0.1701</td>\n",
       "    </tr>\n",
       "    <tr>\n",
       "      <th id=\"T_33b04_level0_row11\" class=\"row_heading level0 row11\" >Std</th>\n",
       "      <td id=\"T_33b04_row11_col0\" class=\"data row11 col0\" >0.0016</td>\n",
       "      <td id=\"T_33b04_row11_col1\" class=\"data row11 col1\" >0.0002</td>\n",
       "      <td id=\"T_33b04_row11_col2\" class=\"data row11 col2\" >0.0023</td>\n",
       "      <td id=\"T_33b04_row11_col3\" class=\"data row11 col3\" >0.0296</td>\n",
       "      <td id=\"T_33b04_row11_col4\" class=\"data row11 col4\" >0.0017</td>\n",
       "      <td id=\"T_33b04_row11_col5\" class=\"data row11 col5\" >0.0101</td>\n",
       "    </tr>\n",
       "  </tbody>\n",
       "</table>\n"
      ],
      "text/plain": [
       "<pandas.io.formats.style.Styler at 0x223f63e1580>"
      ]
     },
     "metadata": {},
     "output_type": "display_data"
    },
    {
     "data": {
      "application/vnd.jupyter.widget-view+json": {
       "model_id": "",
       "version_major": 2,
       "version_minor": 0
      },
      "text/plain": [
       "Processing:   0%|          | 0/7 [00:00<?, ?it/s]"
      ]
     },
     "metadata": {},
     "output_type": "display_data"
    },
    {
     "name": "stdout",
     "output_type": "stream",
     "text": [
      "Fitting 10 folds for each of 4 candidates, totalling 40 fits\n",
      "Original model was better than the tuned model, hence it will be returned. NOTE: The display metrics are for the tuned model (not the original one).\n"
     ]
    }
   ],
   "source": [
    "tuned_lr = tune_model(lr)"
   ]
  },
  {
   "cell_type": "markdown",
   "metadata": {
    "colab_type": "text",
    "id": "3kvdvfdUzZtj"
   },
   "source": [
    "### 9.2 Light Gradient Boosting Machine"
   ]
  },
  {
   "cell_type": "code",
   "execution_count": 22,
   "metadata": {
    "ExecuteTime": {
     "end_time": "2022-07-17T04:27:58.052049Z",
     "start_time": "2022-07-17T04:27:58.031071Z"
    }
   },
   "outputs": [],
   "source": [
    "import numpy as np\n",
    "lgbm_params = {'num_leaves': np.arange(10,200,10),\n",
    "                'max_depth': [int(x) for x in np.linspace(10, 110, num = 11)],\n",
    "                'learning_rate': np.arange(0.1,1,0.1)\n",
    "                        }"
   ]
  },
  {
   "cell_type": "code",
   "execution_count": 23,
   "metadata": {
    "ExecuteTime": {
     "end_time": "2022-07-17T04:28:01.009800Z",
     "start_time": "2022-07-17T04:27:58.055046Z"
    },
    "colab": {
     "base_uri": "https://localhost:8080/",
     "height": 392
    },
    "colab_type": "code",
    "id": "s1agvmDFzZtm",
    "outputId": "7cfab1a7-e7c2-40df-ad1e-a40067bcc4e0"
   },
   "outputs": [
    {
     "data": {
      "text/html": [],
      "text/plain": [
       "<IPython.core.display.HTML object>"
      ]
     },
     "metadata": {},
     "output_type": "display_data"
    },
    {
     "data": {
      "text/html": [
       "<style type=\"text/css\">\n",
       "#T_eecc3_row10_col0, #T_eecc3_row10_col1, #T_eecc3_row10_col2, #T_eecc3_row10_col3, #T_eecc3_row10_col4, #T_eecc3_row10_col5 {\n",
       "  background: yellow;\n",
       "}\n",
       "</style>\n",
       "<table id=\"T_eecc3\">\n",
       "  <thead>\n",
       "    <tr>\n",
       "      <th class=\"blank level0\" >&nbsp;</th>\n",
       "      <th id=\"T_eecc3_level0_col0\" class=\"col_heading level0 col0\" >MAE</th>\n",
       "      <th id=\"T_eecc3_level0_col1\" class=\"col_heading level0 col1\" >MSE</th>\n",
       "      <th id=\"T_eecc3_level0_col2\" class=\"col_heading level0 col2\" >RMSE</th>\n",
       "      <th id=\"T_eecc3_level0_col3\" class=\"col_heading level0 col3\" >R2</th>\n",
       "      <th id=\"T_eecc3_level0_col4\" class=\"col_heading level0 col4\" >RMSLE</th>\n",
       "      <th id=\"T_eecc3_level0_col5\" class=\"col_heading level0 col5\" >MAPE</th>\n",
       "    </tr>\n",
       "    <tr>\n",
       "      <th class=\"index_name level0\" >Fold</th>\n",
       "      <th class=\"blank col0\" >&nbsp;</th>\n",
       "      <th class=\"blank col1\" >&nbsp;</th>\n",
       "      <th class=\"blank col2\" >&nbsp;</th>\n",
       "      <th class=\"blank col3\" >&nbsp;</th>\n",
       "      <th class=\"blank col4\" >&nbsp;</th>\n",
       "      <th class=\"blank col5\" >&nbsp;</th>\n",
       "    </tr>\n",
       "  </thead>\n",
       "  <tbody>\n",
       "    <tr>\n",
       "      <th id=\"T_eecc3_level0_row0\" class=\"row_heading level0 row0\" >0</th>\n",
       "      <td id=\"T_eecc3_row0_col0\" class=\"data row0 col0\" >0.0262</td>\n",
       "      <td id=\"T_eecc3_row0_col1\" class=\"data row0 col1\" >0.0013</td>\n",
       "      <td id=\"T_eecc3_row0_col2\" class=\"data row0 col2\" >0.0358</td>\n",
       "      <td id=\"T_eecc3_row0_col3\" class=\"data row0 col3\" >0.8216</td>\n",
       "      <td id=\"T_eecc3_row0_col4\" class=\"data row0 col4\" >0.0288</td>\n",
       "      <td id=\"T_eecc3_row0_col5\" class=\"data row0 col5\" >0.1430</td>\n",
       "    </tr>\n",
       "    <tr>\n",
       "      <th id=\"T_eecc3_level0_row1\" class=\"row_heading level0 row1\" >1</th>\n",
       "      <td id=\"T_eecc3_row1_col0\" class=\"data row1 col0\" >0.0274</td>\n",
       "      <td id=\"T_eecc3_row1_col1\" class=\"data row1 col1\" >0.0014</td>\n",
       "      <td id=\"T_eecc3_row1_col2\" class=\"data row1 col2\" >0.0369</td>\n",
       "      <td id=\"T_eecc3_row1_col3\" class=\"data row1 col3\" >0.8524</td>\n",
       "      <td id=\"T_eecc3_row1_col4\" class=\"data row1 col4\" >0.0290</td>\n",
       "      <td id=\"T_eecc3_row1_col5\" class=\"data row1 col5\" >0.1464</td>\n",
       "    </tr>\n",
       "    <tr>\n",
       "      <th id=\"T_eecc3_level0_row2\" class=\"row_heading level0 row2\" >2</th>\n",
       "      <td id=\"T_eecc3_row2_col0\" class=\"data row2 col0\" >0.0228</td>\n",
       "      <td id=\"T_eecc3_row2_col1\" class=\"data row2 col1\" >0.0010</td>\n",
       "      <td id=\"T_eecc3_row2_col2\" class=\"data row2 col2\" >0.0314</td>\n",
       "      <td id=\"T_eecc3_row2_col3\" class=\"data row2 col3\" >0.8851</td>\n",
       "      <td id=\"T_eecc3_row2_col4\" class=\"data row2 col4\" >0.0248</td>\n",
       "      <td id=\"T_eecc3_row2_col5\" class=\"data row2 col5\" >0.1133</td>\n",
       "    </tr>\n",
       "    <tr>\n",
       "      <th id=\"T_eecc3_level0_row3\" class=\"row_heading level0 row3\" >3</th>\n",
       "      <td id=\"T_eecc3_row3_col0\" class=\"data row3 col0\" >0.0273</td>\n",
       "      <td id=\"T_eecc3_row3_col1\" class=\"data row3 col1\" >0.0015</td>\n",
       "      <td id=\"T_eecc3_row3_col2\" class=\"data row3 col2\" >0.0388</td>\n",
       "      <td id=\"T_eecc3_row3_col3\" class=\"data row3 col3\" >0.8378</td>\n",
       "      <td id=\"T_eecc3_row3_col4\" class=\"data row3 col4\" >0.0305</td>\n",
       "      <td id=\"T_eecc3_row3_col5\" class=\"data row3 col5\" >0.1409</td>\n",
       "    </tr>\n",
       "    <tr>\n",
       "      <th id=\"T_eecc3_level0_row4\" class=\"row_heading level0 row4\" >4</th>\n",
       "      <td id=\"T_eecc3_row4_col0\" class=\"data row4 col0\" >0.0251</td>\n",
       "      <td id=\"T_eecc3_row4_col1\" class=\"data row4 col1\" >0.0011</td>\n",
       "      <td id=\"T_eecc3_row4_col2\" class=\"data row4 col2\" >0.0334</td>\n",
       "      <td id=\"T_eecc3_row4_col3\" class=\"data row4 col3\" >0.8691</td>\n",
       "      <td id=\"T_eecc3_row4_col4\" class=\"data row4 col4\" >0.0269</td>\n",
       "      <td id=\"T_eecc3_row4_col5\" class=\"data row4 col5\" >0.1307</td>\n",
       "    </tr>\n",
       "    <tr>\n",
       "      <th id=\"T_eecc3_level0_row5\" class=\"row_heading level0 row5\" >5</th>\n",
       "      <td id=\"T_eecc3_row5_col0\" class=\"data row5 col0\" >0.0256</td>\n",
       "      <td id=\"T_eecc3_row5_col1\" class=\"data row5 col1\" >0.0012</td>\n",
       "      <td id=\"T_eecc3_row5_col2\" class=\"data row5 col2\" >0.0349</td>\n",
       "      <td id=\"T_eecc3_row5_col3\" class=\"data row5 col3\" >0.8167</td>\n",
       "      <td id=\"T_eecc3_row5_col4\" class=\"data row5 col4\" >0.0280</td>\n",
       "      <td id=\"T_eecc3_row5_col5\" class=\"data row5 col5\" >0.1382</td>\n",
       "    </tr>\n",
       "    <tr>\n",
       "      <th id=\"T_eecc3_level0_row6\" class=\"row_heading level0 row6\" >6</th>\n",
       "      <td id=\"T_eecc3_row6_col0\" class=\"data row6 col0\" >0.0249</td>\n",
       "      <td id=\"T_eecc3_row6_col1\" class=\"data row6 col1\" >0.0012</td>\n",
       "      <td id=\"T_eecc3_row6_col2\" class=\"data row6 col2\" >0.0346</td>\n",
       "      <td id=\"T_eecc3_row6_col3\" class=\"data row6 col3\" >0.8500</td>\n",
       "      <td id=\"T_eecc3_row6_col4\" class=\"data row6 col4\" >0.0276</td>\n",
       "      <td id=\"T_eecc3_row6_col5\" class=\"data row6 col5\" >0.1241</td>\n",
       "    </tr>\n",
       "    <tr>\n",
       "      <th id=\"T_eecc3_level0_row7\" class=\"row_heading level0 row7\" >7</th>\n",
       "      <td id=\"T_eecc3_row7_col0\" class=\"data row7 col0\" >0.0269</td>\n",
       "      <td id=\"T_eecc3_row7_col1\" class=\"data row7 col1\" >0.0013</td>\n",
       "      <td id=\"T_eecc3_row7_col2\" class=\"data row7 col2\" >0.0367</td>\n",
       "      <td id=\"T_eecc3_row7_col3\" class=\"data row7 col3\" >0.8335</td>\n",
       "      <td id=\"T_eecc3_row7_col4\" class=\"data row7 col4\" >0.0291</td>\n",
       "      <td id=\"T_eecc3_row7_col5\" class=\"data row7 col5\" >0.1288</td>\n",
       "    </tr>\n",
       "    <tr>\n",
       "      <th id=\"T_eecc3_level0_row8\" class=\"row_heading level0 row8\" >8</th>\n",
       "      <td id=\"T_eecc3_row8_col0\" class=\"data row8 col0\" >0.0294</td>\n",
       "      <td id=\"T_eecc3_row8_col1\" class=\"data row8 col1\" >0.0016</td>\n",
       "      <td id=\"T_eecc3_row8_col2\" class=\"data row8 col2\" >0.0404</td>\n",
       "      <td id=\"T_eecc3_row8_col3\" class=\"data row8 col3\" >0.8342</td>\n",
       "      <td id=\"T_eecc3_row8_col4\" class=\"data row8 col4\" >0.0315</td>\n",
       "      <td id=\"T_eecc3_row8_col5\" class=\"data row8 col5\" >0.1373</td>\n",
       "    </tr>\n",
       "    <tr>\n",
       "      <th id=\"T_eecc3_level0_row9\" class=\"row_heading level0 row9\" >9</th>\n",
       "      <td id=\"T_eecc3_row9_col0\" class=\"data row9 col0\" >0.0259</td>\n",
       "      <td id=\"T_eecc3_row9_col1\" class=\"data row9 col1\" >0.0012</td>\n",
       "      <td id=\"T_eecc3_row9_col2\" class=\"data row9 col2\" >0.0349</td>\n",
       "      <td id=\"T_eecc3_row9_col3\" class=\"data row9 col3\" >0.8530</td>\n",
       "      <td id=\"T_eecc3_row9_col4\" class=\"data row9 col4\" >0.0280</td>\n",
       "      <td id=\"T_eecc3_row9_col5\" class=\"data row9 col5\" >0.1344</td>\n",
       "    </tr>\n",
       "    <tr>\n",
       "      <th id=\"T_eecc3_level0_row10\" class=\"row_heading level0 row10\" >Mean</th>\n",
       "      <td id=\"T_eecc3_row10_col0\" class=\"data row10 col0\" >0.0262</td>\n",
       "      <td id=\"T_eecc3_row10_col1\" class=\"data row10 col1\" >0.0013</td>\n",
       "      <td id=\"T_eecc3_row10_col2\" class=\"data row10 col2\" >0.0358</td>\n",
       "      <td id=\"T_eecc3_row10_col3\" class=\"data row10 col3\" >0.8453</td>\n",
       "      <td id=\"T_eecc3_row10_col4\" class=\"data row10 col4\" >0.0284</td>\n",
       "      <td id=\"T_eecc3_row10_col5\" class=\"data row10 col5\" >0.1337</td>\n",
       "    </tr>\n",
       "    <tr>\n",
       "      <th id=\"T_eecc3_level0_row11\" class=\"row_heading level0 row11\" >Std</th>\n",
       "      <td id=\"T_eecc3_row11_col0\" class=\"data row11 col0\" >0.0017</td>\n",
       "      <td id=\"T_eecc3_row11_col1\" class=\"data row11 col1\" >0.0002</td>\n",
       "      <td id=\"T_eecc3_row11_col2\" class=\"data row11 col2\" >0.0025</td>\n",
       "      <td id=\"T_eecc3_row11_col3\" class=\"data row11 col3\" >0.0200</td>\n",
       "      <td id=\"T_eecc3_row11_col4\" class=\"data row11 col4\" >0.0018</td>\n",
       "      <td id=\"T_eecc3_row11_col5\" class=\"data row11 col5\" >0.0093</td>\n",
       "    </tr>\n",
       "  </tbody>\n",
       "</table>\n"
      ],
      "text/plain": [
       "<pandas.io.formats.style.Styler at 0x223fe8d62b0>"
      ]
     },
     "metadata": {},
     "output_type": "display_data"
    },
    {
     "data": {
      "application/vnd.jupyter.widget-view+json": {
       "model_id": "",
       "version_major": 2,
       "version_minor": 0
      },
      "text/plain": [
       "Processing:   0%|          | 0/7 [00:00<?, ?it/s]"
      ]
     },
     "metadata": {},
     "output_type": "display_data"
    },
    {
     "name": "stdout",
     "output_type": "stream",
     "text": [
      "Fitting 10 folds for each of 10 candidates, totalling 100 fits\n",
      "Original model was better than the tuned model, hence it will be returned. NOTE: The display metrics are for the tuned model (not the original one).\n"
     ]
    }
   ],
   "source": [
    "tuned_lightgbm = tune_model(lightgbm, custom_grid = lgbm_params)"
   ]
  },
  {
   "cell_type": "code",
   "execution_count": 27,
   "metadata": {
    "ExecuteTime": {
     "end_time": "2022-07-17T04:28:01.025788Z",
     "start_time": "2022-07-17T04:28:01.013797Z"
    }
   },
   "outputs": [
    {
     "name": "stdout",
     "output_type": "stream",
     "text": [
      "<bound method LGBMModel.get_params of LGBMRegressor(random_state=123)>\n"
     ]
    }
   ],
   "source": [
    "print(tuned_lightgbm)"
   ]
  },
  {
   "cell_type": "markdown",
   "metadata": {
    "colab_type": "text",
    "id": "Ovz73MkgzZtx"
   },
   "source": [
    "### 9.3 Decision Tree"
   ]
  },
  {
   "cell_type": "code",
   "execution_count": 28,
   "metadata": {
    "ExecuteTime": {
     "end_time": "2022-07-17T04:28:03.120875Z",
     "start_time": "2022-07-17T04:28:01.029781Z"
    },
    "colab": {
     "base_uri": "https://localhost:8080/",
     "height": 392
    },
    "colab_type": "code",
    "id": "kFImcOpXzZt0",
    "outputId": "36165e01-0b2e-4fa4-efcc-5efa70a3236f"
   },
   "outputs": [
    {
     "data": {
      "text/html": [],
      "text/plain": [
       "<IPython.core.display.HTML object>"
      ]
     },
     "metadata": {},
     "output_type": "display_data"
    },
    {
     "data": {
      "text/html": [
       "<style type=\"text/css\">\n",
       "#T_105c1_row10_col0, #T_105c1_row10_col1, #T_105c1_row10_col2, #T_105c1_row10_col3, #T_105c1_row10_col4, #T_105c1_row10_col5 {\n",
       "  background: yellow;\n",
       "}\n",
       "</style>\n",
       "<table id=\"T_105c1\">\n",
       "  <thead>\n",
       "    <tr>\n",
       "      <th class=\"blank level0\" >&nbsp;</th>\n",
       "      <th id=\"T_105c1_level0_col0\" class=\"col_heading level0 col0\" >MAE</th>\n",
       "      <th id=\"T_105c1_level0_col1\" class=\"col_heading level0 col1\" >MSE</th>\n",
       "      <th id=\"T_105c1_level0_col2\" class=\"col_heading level0 col2\" >RMSE</th>\n",
       "      <th id=\"T_105c1_level0_col3\" class=\"col_heading level0 col3\" >R2</th>\n",
       "      <th id=\"T_105c1_level0_col4\" class=\"col_heading level0 col4\" >RMSLE</th>\n",
       "      <th id=\"T_105c1_level0_col5\" class=\"col_heading level0 col5\" >MAPE</th>\n",
       "    </tr>\n",
       "    <tr>\n",
       "      <th class=\"index_name level0\" >Fold</th>\n",
       "      <th class=\"blank col0\" >&nbsp;</th>\n",
       "      <th class=\"blank col1\" >&nbsp;</th>\n",
       "      <th class=\"blank col2\" >&nbsp;</th>\n",
       "      <th class=\"blank col3\" >&nbsp;</th>\n",
       "      <th class=\"blank col4\" >&nbsp;</th>\n",
       "      <th class=\"blank col5\" >&nbsp;</th>\n",
       "    </tr>\n",
       "  </thead>\n",
       "  <tbody>\n",
       "    <tr>\n",
       "      <th id=\"T_105c1_level0_row0\" class=\"row_heading level0 row0\" >0</th>\n",
       "      <td id=\"T_105c1_row0_col0\" class=\"data row0 col0\" >0.0323</td>\n",
       "      <td id=\"T_105c1_row0_col1\" class=\"data row0 col1\" >0.0018</td>\n",
       "      <td id=\"T_105c1_row0_col2\" class=\"data row0 col2\" >0.0426</td>\n",
       "      <td id=\"T_105c1_row0_col3\" class=\"data row0 col3\" >0.7466</td>\n",
       "      <td id=\"T_105c1_row0_col4\" class=\"data row0 col4\" >0.0343</td>\n",
       "      <td id=\"T_105c1_row0_col5\" class=\"data row0 col5\" >0.1740</td>\n",
       "    </tr>\n",
       "    <tr>\n",
       "      <th id=\"T_105c1_level0_row1\" class=\"row_heading level0 row1\" >1</th>\n",
       "      <td id=\"T_105c1_row1_col0\" class=\"data row1 col0\" >0.0340</td>\n",
       "      <td id=\"T_105c1_row1_col1\" class=\"data row1 col1\" >0.0024</td>\n",
       "      <td id=\"T_105c1_row1_col2\" class=\"data row1 col2\" >0.0486</td>\n",
       "      <td id=\"T_105c1_row1_col3\" class=\"data row1 col3\" >0.7442</td>\n",
       "      <td id=\"T_105c1_row1_col4\" class=\"data row1 col4\" >0.0375</td>\n",
       "      <td id=\"T_105c1_row1_col5\" class=\"data row1 col5\" >0.1794</td>\n",
       "    </tr>\n",
       "    <tr>\n",
       "      <th id=\"T_105c1_level0_row2\" class=\"row_heading level0 row2\" >2</th>\n",
       "      <td id=\"T_105c1_row2_col0\" class=\"data row2 col0\" >0.0285</td>\n",
       "      <td id=\"T_105c1_row2_col1\" class=\"data row2 col1\" >0.0015</td>\n",
       "      <td id=\"T_105c1_row2_col2\" class=\"data row2 col2\" >0.0384</td>\n",
       "      <td id=\"T_105c1_row2_col3\" class=\"data row2 col3\" >0.8284</td>\n",
       "      <td id=\"T_105c1_row2_col4\" class=\"data row2 col4\" >0.0308</td>\n",
       "      <td id=\"T_105c1_row2_col5\" class=\"data row2 col5\" >0.1457</td>\n",
       "    </tr>\n",
       "    <tr>\n",
       "      <th id=\"T_105c1_level0_row3\" class=\"row_heading level0 row3\" >3</th>\n",
       "      <td id=\"T_105c1_row3_col0\" class=\"data row3 col0\" >0.0326</td>\n",
       "      <td id=\"T_105c1_row3_col1\" class=\"data row3 col1\" >0.0021</td>\n",
       "      <td id=\"T_105c1_row3_col2\" class=\"data row3 col2\" >0.0460</td>\n",
       "      <td id=\"T_105c1_row3_col3\" class=\"data row3 col3\" >0.7721</td>\n",
       "      <td id=\"T_105c1_row3_col4\" class=\"data row3 col4\" >0.0363</td>\n",
       "      <td id=\"T_105c1_row3_col5\" class=\"data row3 col5\" >0.1702</td>\n",
       "    </tr>\n",
       "    <tr>\n",
       "      <th id=\"T_105c1_level0_row4\" class=\"row_heading level0 row4\" >4</th>\n",
       "      <td id=\"T_105c1_row4_col0\" class=\"data row4 col0\" >0.0307</td>\n",
       "      <td id=\"T_105c1_row4_col1\" class=\"data row4 col1\" >0.0017</td>\n",
       "      <td id=\"T_105c1_row4_col2\" class=\"data row4 col2\" >0.0415</td>\n",
       "      <td id=\"T_105c1_row4_col3\" class=\"data row4 col3\" >0.7974</td>\n",
       "      <td id=\"T_105c1_row4_col4\" class=\"data row4 col4\" >0.0334</td>\n",
       "      <td id=\"T_105c1_row4_col5\" class=\"data row4 col5\" >0.1631</td>\n",
       "    </tr>\n",
       "    <tr>\n",
       "      <th id=\"T_105c1_level0_row5\" class=\"row_heading level0 row5\" >5</th>\n",
       "      <td id=\"T_105c1_row5_col0\" class=\"data row5 col0\" >0.0329</td>\n",
       "      <td id=\"T_105c1_row5_col1\" class=\"data row5 col1\" >0.0020</td>\n",
       "      <td id=\"T_105c1_row5_col2\" class=\"data row5 col2\" >0.0443</td>\n",
       "      <td id=\"T_105c1_row5_col3\" class=\"data row5 col3\" >0.7045</td>\n",
       "      <td id=\"T_105c1_row5_col4\" class=\"data row5 col4\" >0.0354</td>\n",
       "      <td id=\"T_105c1_row5_col5\" class=\"data row5 col5\" >0.1732</td>\n",
       "    </tr>\n",
       "    <tr>\n",
       "      <th id=\"T_105c1_level0_row6\" class=\"row_heading level0 row6\" >6</th>\n",
       "      <td id=\"T_105c1_row6_col0\" class=\"data row6 col0\" >0.0308</td>\n",
       "      <td id=\"T_105c1_row6_col1\" class=\"data row6 col1\" >0.0019</td>\n",
       "      <td id=\"T_105c1_row6_col2\" class=\"data row6 col2\" >0.0436</td>\n",
       "      <td id=\"T_105c1_row6_col3\" class=\"data row6 col3\" >0.7628</td>\n",
       "      <td id=\"T_105c1_row6_col4\" class=\"data row6 col4\" >0.0342</td>\n",
       "      <td id=\"T_105c1_row6_col5\" class=\"data row6 col5\" >0.1515</td>\n",
       "    </tr>\n",
       "    <tr>\n",
       "      <th id=\"T_105c1_level0_row7\" class=\"row_heading level0 row7\" >7</th>\n",
       "      <td id=\"T_105c1_row7_col0\" class=\"data row7 col0\" >0.0329</td>\n",
       "      <td id=\"T_105c1_row7_col1\" class=\"data row7 col1\" >0.0019</td>\n",
       "      <td id=\"T_105c1_row7_col2\" class=\"data row7 col2\" >0.0438</td>\n",
       "      <td id=\"T_105c1_row7_col3\" class=\"data row7 col3\" >0.7623</td>\n",
       "      <td id=\"T_105c1_row7_col4\" class=\"data row7 col4\" >0.0350</td>\n",
       "      <td id=\"T_105c1_row7_col5\" class=\"data row7 col5\" >0.1616</td>\n",
       "    </tr>\n",
       "    <tr>\n",
       "      <th id=\"T_105c1_level0_row8\" class=\"row_heading level0 row8\" >8</th>\n",
       "      <td id=\"T_105c1_row8_col0\" class=\"data row8 col0\" >0.0344</td>\n",
       "      <td id=\"T_105c1_row8_col1\" class=\"data row8 col1\" >0.0022</td>\n",
       "      <td id=\"T_105c1_row8_col2\" class=\"data row8 col2\" >0.0466</td>\n",
       "      <td id=\"T_105c1_row8_col3\" class=\"data row8 col3\" >0.7789</td>\n",
       "      <td id=\"T_105c1_row8_col4\" class=\"data row8 col4\" >0.0367</td>\n",
       "      <td id=\"T_105c1_row8_col5\" class=\"data row8 col5\" >0.1601</td>\n",
       "    </tr>\n",
       "    <tr>\n",
       "      <th id=\"T_105c1_level0_row9\" class=\"row_heading level0 row9\" >9</th>\n",
       "      <td id=\"T_105c1_row9_col0\" class=\"data row9 col0\" >0.0326</td>\n",
       "      <td id=\"T_105c1_row9_col1\" class=\"data row9 col1\" >0.0020</td>\n",
       "      <td id=\"T_105c1_row9_col2\" class=\"data row9 col2\" >0.0443</td>\n",
       "      <td id=\"T_105c1_row9_col3\" class=\"data row9 col3\" >0.7631</td>\n",
       "      <td id=\"T_105c1_row9_col4\" class=\"data row9 col4\" >0.0352</td>\n",
       "      <td id=\"T_105c1_row9_col5\" class=\"data row9 col5\" >0.1637</td>\n",
       "    </tr>\n",
       "    <tr>\n",
       "      <th id=\"T_105c1_level0_row10\" class=\"row_heading level0 row10\" >Mean</th>\n",
       "      <td id=\"T_105c1_row10_col0\" class=\"data row10 col0\" >0.0322</td>\n",
       "      <td id=\"T_105c1_row10_col1\" class=\"data row10 col1\" >0.0019</td>\n",
       "      <td id=\"T_105c1_row10_col2\" class=\"data row10 col2\" >0.0440</td>\n",
       "      <td id=\"T_105c1_row10_col3\" class=\"data row10 col3\" >0.7660</td>\n",
       "      <td id=\"T_105c1_row10_col4\" class=\"data row10 col4\" >0.0349</td>\n",
       "      <td id=\"T_105c1_row10_col5\" class=\"data row10 col5\" >0.1642</td>\n",
       "    </tr>\n",
       "    <tr>\n",
       "      <th id=\"T_105c1_level0_row11\" class=\"row_heading level0 row11\" >Std</th>\n",
       "      <td id=\"T_105c1_row11_col0\" class=\"data row11 col0\" >0.0017</td>\n",
       "      <td id=\"T_105c1_row11_col1\" class=\"data row11 col1\" >0.0002</td>\n",
       "      <td id=\"T_105c1_row11_col2\" class=\"data row11 col2\" >0.0027</td>\n",
       "      <td id=\"T_105c1_row11_col3\" class=\"data row11 col3\" >0.0312</td>\n",
       "      <td id=\"T_105c1_row11_col4\" class=\"data row11 col4\" >0.0018</td>\n",
       "      <td id=\"T_105c1_row11_col5\" class=\"data row11 col5\" >0.0099</td>\n",
       "    </tr>\n",
       "  </tbody>\n",
       "</table>\n"
      ],
      "text/plain": [
       "<pandas.io.formats.style.Styler at 0x223ff032910>"
      ]
     },
     "metadata": {},
     "output_type": "display_data"
    },
    {
     "data": {
      "application/vnd.jupyter.widget-view+json": {
       "model_id": "",
       "version_major": 2,
       "version_minor": 0
      },
      "text/plain": [
       "Processing:   0%|          | 0/7 [00:00<?, ?it/s]"
      ]
     },
     "metadata": {},
     "output_type": "display_data"
    },
    {
     "name": "stdout",
     "output_type": "stream",
     "text": [
      "Fitting 10 folds for each of 10 candidates, totalling 100 fits\n"
     ]
    }
   ],
   "source": [
    "tuned_dt = tune_model(dt)"
   ]
  },
  {
   "cell_type": "markdown",
   "metadata": {
    "colab_type": "text",
    "id": "TcSjA7SUzZt-"
   },
   "source": [
    "By default, `tune_model` optimizes `R2` but this can be changed using optimize parameter. For example: tune_model(dt, optimize = 'MAE') will search for the hyperparameters of a Decision Tree Regressor that results in the lowest `MAE` instead of highest `R2`. For the purposes of this example, we have used the default metric `R2` for the sake of simplicity only. The methodology behind selecting the right metric to evaluate a regressor is beyond the scope of this tutorial but if you would like to learn more about it, you can __[click here](https://www.dataquest.io/blog/understanding-regression-error-metrics/)__ to develop an understanding on regression error metrics.\n",
    "\n",
    "Metrics alone are not the only criteria you should consider when finalizing the best model for production. Other factors to consider include training time, standard deviation of k-folds etc. As you progress through the tutorial series we will discuss those factors in detail at the intermediate and expert levels. For now, let's move forward considering the Tuned Light Gradient Boosting Machine stored in the `tuned_lightgbm` variable as our best model for the remainder of this tutorial."
   ]
  },
  {
   "cell_type": "markdown",
   "metadata": {
    "colab_type": "text",
    "id": "HR-mHgtCzZuE"
   },
   "source": [
    "# 10.0 Plot a Model"
   ]
  },
  {
   "cell_type": "markdown",
   "metadata": {
    "colab_type": "text",
    "id": "N6i7Ggg_zZuH"
   },
   "source": [
    "Before model finalization, the `plot_model()` function can be used to analyze the performance across different aspects such as Residuals Plot, Prediction Error, Feature Importance etc. This function takes a trained model object and returns a plot based on the test / hold-out set. \n",
    "\n",
    "There are over 10 plots available, please see the `plot_model()` docstring for the list of available plots."
   ]
  },
  {
   "cell_type": "markdown",
   "metadata": {
    "colab_type": "text",
    "id": "HJCYRQj9zZuU"
   },
   "source": [
    "### 10.1 Residual Plot"
   ]
  },
  {
   "cell_type": "code",
   "execution_count": 29,
   "metadata": {
    "ExecuteTime": {
     "end_time": "2022-07-17T04:28:04.716751Z",
     "start_time": "2022-07-17T04:28:03.123867Z"
    },
    "colab": {
     "base_uri": "https://localhost:8080/",
     "height": 376
    },
    "colab_type": "code",
    "id": "ml-qe8dTzZuX",
    "outputId": "4c69b0b8-8e82-4003-f0e2-158b19a79f34"
   },
   "outputs": [
    {
     "data": {
      "text/html": [],
      "text/plain": [
       "<IPython.core.display.HTML object>"
      ]
     },
     "metadata": {},
     "output_type": "display_data"
    },
    {
     "data": {
      "image/png": "[encoded data removed]",
      "text/plain": [
       "<Figure size 432x288 with 2 Axes>"
      ]
     },
     "metadata": {
      "needs_background": "light"
     },
     "output_type": "display_data"
    }
   ],
   "source": [
    "plot_model(tuned_lightgbm)"
   ]
  },
  {
   "cell_type": "markdown",
   "metadata": {
    "colab_type": "text",
    "id": "rM9dWgfVzZuh"
   },
   "source": [
    "### 10.2 Prediction Error Plot"
   ]
  },
  {
   "cell_type": "code",
   "execution_count": 30,
   "metadata": {
    "ExecuteTime": {
     "end_time": "2022-07-17T04:28:05.282825Z",
     "start_time": "2022-07-17T04:28:04.719745Z"
    },
    "colab": {},
    "colab_type": "code",
    "id": "GPwWRYehzZuk",
    "outputId": "e3dfe255-fa08-42f7-e556-74c7909f6e6e"
   },
   "outputs": [
    {
     "data": {
      "text/html": [],
      "text/plain": [
       "<IPython.core.display.HTML object>"
      ]
     },
     "metadata": {},
     "output_type": "display_data"
    },
    {
     "data": {
      "image/png": "[encoded data removed]",
      "text/plain": [
       "<Figure size 432x288 with 1 Axes>"
      ]
     },
     "metadata": {
      "needs_background": "light"
     },
     "output_type": "display_data"
    }
   ],
   "source": [
    "plot_model(tuned_lightgbm, plot = 'error')"
   ]
  },
  {
   "cell_type": "markdown",
   "metadata": {
    "colab_type": "text",
    "id": "dWu_EtTGzZuu"
   },
   "source": [
    "### 10.3 Feature Importance Plot"
   ]
  },
  {
   "cell_type": "code",
   "execution_count": 31,
   "metadata": {
    "ExecuteTime": {
     "end_time": "2022-07-17T04:28:05.730926Z",
     "start_time": "2022-07-17T04:28:05.286828Z"
    },
    "colab": {},
    "colab_type": "code",
    "id": "7Yh852PPzZux",
    "outputId": "38295169-5000-4a07-e71d-76de9877ab42"
   },
   "outputs": [
    {
     "data": {
      "text/html": [],
      "text/plain": [
       "<IPython.core.display.HTML object>"
      ]
     },
     "metadata": {},
     "output_type": "display_data"
    },
    {
     "data": {
      "image/png": "[encoded data removed]",
      "text/plain": [
       "<Figure size 800x500 with 1 Axes>"
      ]
     },
     "metadata": {
      "needs_background": "light"
     },
     "output_type": "display_data"
    }
   ],
   "source": [
    "plot_model(tuned_lightgbm, plot='feature')"
   ]
  },
  {
   "cell_type": "markdown",
   "metadata": {
    "colab_type": "text",
    "id": "qI_tk-8RzZu8"
   },
   "source": [
    "*Another* way to analyze the performance of models is to use the `evaluate_model()` function which displays a user interface for all of the available plots for a given model. It internally uses the `plot_model()` function."
   ]
  },
  {
   "cell_type": "code",
   "execution_count": 32,
   "metadata": {
    "ExecuteTime": {
     "end_time": "2022-07-17T04:28:05.968668Z",
     "start_time": "2022-07-17T04:28:05.733913Z"
    },
    "colab": {
     "base_uri": "https://localhost:8080/",
     "height": 398,
     "referenced_widgets": [
      "2f905c9057e849cfb68d8b4a73a9ae2c",
      "4705ae97c5c341db8a7efcc7e4334c79",
      "202f5f0dfbea4f6cb6a75e4aebd370c7",
      "4c0b5f15356140e9bd6ed3a2e0850baa",
      "63e7b6e04e3d43118698abaca0973960",
      "b7731479f5f141289a4939cb73adfb28",
      "5eb7949ac4a140118e9ee6be49921284",
      "19ea86ac89a349e281011fbd327c29c0",
      "c9bbc67e75d1477e8cd7a64502b98704",
      "5334e09f4bed4a0ba45635300e76027e",
      "14244d0fca4f40a8b3552675869748a3",
      "baf068abf86f44a9a9502f79dfe17eb5",
      "3495c4e24f1d4b22af1117ea2403a4fa",
      "83a10da0205742d9a383671a0be02606",
      "4ae774bce02d4c1ab1351cd75b25cf17",
      "ee5416de1bb1462e87b2fa6f9065d646",
      "36a9c708b65e498586a07d526e6a5d06",
      "aeb87dce945f4d588807575e9f6e64c3"
     ]
    },
    "colab_type": "code",
    "id": "J4ryBACHzZu_",
    "outputId": "246ab553-8043-4cbe-fe99-7ea00bb13aed"
   },
   "outputs": [
    {
     "data": {
      "application/vnd.jupyter.widget-view+json": {
       "model_id": "683f4d7ca45144929e0c828a55c7b350",
       "version_major": 2,
       "version_minor": 0
      },
      "text/plain": [
       "interactive(children=(ToggleButtons(description='Plot Type:', icons=('',), options=(('Pipeline Plot', 'pipelin…"
      ]
     },
     "metadata": {},
     "output_type": "display_data"
    }
   ],
   "source": [
    "evaluate_model(tuned_lightgbm)"
   ]
  },
  {
   "cell_type": "markdown",
   "metadata": {
    "colab_type": "text",
    "id": "CxKARgKAzZvJ"
   },
   "source": [
    "# 11.0 Predict on Test / Hold-out Sample"
   ]
  },
  {
   "cell_type": "markdown",
   "metadata": {
    "colab_type": "text",
    "id": "r8k_rmplzZvL"
   },
   "source": [
    "Before finalizing the model, it is advisable to perform one final check by predicting the test/hold-out set and reviewing the evaluation metrics. If you look at the information grid in Section 6 above, you will see that 30% (1621 samples) of the data has been separated out as a test/hold-out sample. All of the evaluation metrics we have seen above are cross-validated results based on training set (70%) only. Now, using our final trained model stored in the `tuned_lightgbm` variable we will predict the hold-out sample and evaluate the metrics to see if they are materially different than the CV results."
   ]
  },
  {
   "cell_type": "code",
   "execution_count": 33,
   "metadata": {
    "ExecuteTime": {
     "end_time": "2022-07-17T04:28:06.159664Z",
     "start_time": "2022-07-17T04:28:05.972669Z"
    },
    "colab": {},
    "colab_type": "code",
    "id": "ozTyeSjCzZvY",
    "outputId": "1cdf25f4-0988-40fa-c8e9-5695fec11f05"
   },
   "outputs": [
    {
     "data": {
      "text/html": [
       "<style type=\"text/css\">\n",
       "</style>\n",
       "<table id=\"T_e8b08\">\n",
       "  <thead>\n",
       "    <tr>\n",
       "      <th class=\"blank level0\" >&nbsp;</th>\n",
       "      <th id=\"T_e8b08_level0_col0\" class=\"col_heading level0 col0\" >Model</th>\n",
       "      <th id=\"T_e8b08_level0_col1\" class=\"col_heading level0 col1\" >MAE</th>\n",
       "      <th id=\"T_e8b08_level0_col2\" class=\"col_heading level0 col2\" >MSE</th>\n",
       "      <th id=\"T_e8b08_level0_col3\" class=\"col_heading level0 col3\" >RMSE</th>\n",
       "      <th id=\"T_e8b08_level0_col4\" class=\"col_heading level0 col4\" >R2</th>\n",
       "      <th id=\"T_e8b08_level0_col5\" class=\"col_heading level0 col5\" >RMSLE</th>\n",
       "      <th id=\"T_e8b08_level0_col6\" class=\"col_heading level0 col6\" >MAPE</th>\n",
       "    </tr>\n",
       "  </thead>\n",
       "  <tbody>\n",
       "    <tr>\n",
       "      <th id=\"T_e8b08_level0_row0\" class=\"row_heading level0 row0\" >0</th>\n",
       "      <td id=\"T_e8b08_row0_col0\" class=\"data row0 col0\" >Light Gradient Boosting Machine</td>\n",
       "      <td id=\"T_e8b08_row0_col1\" class=\"data row0 col1\" >0.0254</td>\n",
       "      <td id=\"T_e8b08_row0_col2\" class=\"data row0 col2\" >0.0012</td>\n",
       "      <td id=\"T_e8b08_row0_col3\" class=\"data row0 col3\" >0.0348</td>\n",
       "      <td id=\"T_e8b08_row0_col4\" class=\"data row0 col4\" >0.8545</td>\n",
       "      <td id=\"T_e8b08_row0_col5\" class=\"data row0 col5\" >0.0276</td>\n",
       "      <td id=\"T_e8b08_row0_col6\" class=\"data row0 col6\" >0.1292</td>\n",
       "    </tr>\n",
       "  </tbody>\n",
       "</table>\n"
      ],
      "text/plain": [
       "<pandas.io.formats.style.Styler at 0x223f67b1b80>"
      ]
     },
     "metadata": {},
     "output_type": "display_data"
    }
   ],
   "source": [
    "predict_model(tuned_lightgbm);"
   ]
  },
  {
   "cell_type": "markdown",
   "metadata": {
    "colab_type": "text",
    "id": "UouOXHaxzZvo"
   },
   "source": [
    "The R2 on the test/hold-out set is **`0.9652`** compared to **`0.9708`** achieved on `tuned_lightgbm` CV results (in section 9.2 above). This is not a significant difference. If there is a large variation between the test/hold-out and CV results, then this would normally indicate over-fitting but could also be due to several other factors and would require further investigation. In this case, we will move forward with finalizing the model and predicting on unseen data (the 10% that we had separated in the beginning and never exposed to PyCaret).\n",
    "\n",
    "(TIP : It's always good to look at the standard deviation of CV results when using `create_model`.)"
   ]
  },
  {
   "cell_type": "markdown",
   "metadata": {
    "colab_type": "text",
    "id": "J0PmhEQFzZvr"
   },
   "source": [
    "# 12.0 Finalize Model for Deployment"
   ]
  },
  {
   "cell_type": "markdown",
   "metadata": {
    "colab_type": "text",
    "id": "Rtaj0uWgzZvx"
   },
   "source": [
    "Model finalization is the last step in the experiment. A normal machine learning workflow in PyCaret starts with `setup()`, followed by comparing all models using `compare_models()` and shortlisting a few candidate models (based on the metric of interest) to perform several modeling techniques such as hyperparameter tuning, ensembling, stacking etc. This workflow will eventually lead you to the best model for use in making predictions on new and unseen data. The `finalize_model()` function fits the model onto the complete dataset including the test/hold-out sample (30% in this case). The purpose of this function is to train the model on the complete dataset before it is deployed in production."
   ]
  },
  {
   "cell_type": "code",
   "execution_count": 34,
   "metadata": {
    "ExecuteTime": {
     "end_time": "2022-07-17T04:28:07.280941Z",
     "start_time": "2022-07-17T04:28:06.162661Z"
    },
    "colab": {},
    "colab_type": "code",
    "id": "UPk310pezZv0"
   },
   "outputs": [],
   "source": [
    "final_lightgbm = finalize_model(tuned_lightgbm)"
   ]
  },
  {
   "cell_type": "code",
   "execution_count": 35,
   "metadata": {
    "ExecuteTime": {
     "end_time": "2022-07-17T04:28:07.292920Z",
     "start_time": "2022-07-17T04:28:07.284942Z"
    },
    "colab": {},
    "colab_type": "code",
    "id": "IGFUGDAPzZwF",
    "outputId": "ddaa33c4-f728-444a-fc33-47da5c37304a"
   },
   "outputs": [
    {
     "name": "stdout",
     "output_type": "stream",
     "text": [
      "Pipeline(memory=Memory(location=C:\\Users\\Aleksi\\AppData\\Local\\Temp\\joblib),\n",
      "         steps=[('numerical_imputer',\n",
      "                 TransformerWrapper(include=['subject#', 'age', 'sex',\n",
      "                                             'test_time', 'motor_UPDRS',\n",
      "                                             'total_UPDRS', 'Jitter(%)',\n",
      "                                             'Jitter(Abs)', 'Jitter_RAP',\n",
      "                                             'Jitter_PPQ5', 'Jitter_DDP',\n",
      "                                             'Shimmer', 'Shimmer(dB)',\n",
      "                                             'Shimmer_APQ3', 'Shimmer_APQ5',\n",
      "                                             'Shimmer_APQ11', 'Shimmer_DDA',\n",
      "                                             'NHR', 'HNR', 'RPDE', 'DFA'],\n",
      "                                    transformer=SimpleImputer())),\n",
      "                ('categorical_imputer',\n",
      "                 TransformerWrapper(include=[],\n",
      "                                    transformer=SimpleImputer(fill_value='constant',\n",
      "                                                              strategy='constant'))),\n",
      "                ('low_variance',\n",
      "                 TransformerWrapper(exclude=[],\n",
      "                                    transformer=VarianceThreshold(threshold=0))),\n",
      "                ('actual_estimator', LGBMRegressor(random_state=123))])\n"
     ]
    }
   ],
   "source": [
    "print(final_lightgbm)"
   ]
  },
  {
   "cell_type": "markdown",
   "metadata": {
    "colab_type": "text",
    "id": "QmJjaIkrzZwQ"
   },
   "source": [
    "**Caution:** One final word of caution. Once the model is finalized using `finalize_model()`, the entire dataset including the test/hold-out set is used for training. As such, if the model is used for predictions on the hold-out set after `finalize_model()` is used, the information grid printed will be misleading as you are trying to predict on the same data that was used for modeling. In order to demonstrate this point only, we will use `final_lightgbm` under `predict_model()` to compare the information grid with the one above in section 11. "
   ]
  },
  {
   "cell_type": "code",
   "execution_count": 36,
   "metadata": {
    "ExecuteTime": {
     "end_time": "2022-07-17T04:28:07.490232Z",
     "start_time": "2022-07-17T04:28:07.296925Z"
    },
    "colab": {},
    "colab_type": "code",
    "id": "bmYJRTAyzZwU",
    "outputId": "58e2f57b-abda-4166-c82b-af52ab6f18b8"
   },
   "outputs": [
    {
     "data": {
      "text/html": [
       "<style type=\"text/css\">\n",
       "</style>\n",
       "<table id=\"T_e495e\">\n",
       "  <thead>\n",
       "    <tr>\n",
       "      <th class=\"blank level0\" >&nbsp;</th>\n",
       "      <th id=\"T_e495e_level0_col0\" class=\"col_heading level0 col0\" >Model</th>\n",
       "      <th id=\"T_e495e_level0_col1\" class=\"col_heading level0 col1\" >MAE</th>\n",
       "      <th id=\"T_e495e_level0_col2\" class=\"col_heading level0 col2\" >MSE</th>\n",
       "      <th id=\"T_e495e_level0_col3\" class=\"col_heading level0 col3\" >RMSE</th>\n",
       "      <th id=\"T_e495e_level0_col4\" class=\"col_heading level0 col4\" >R2</th>\n",
       "      <th id=\"T_e495e_level0_col5\" class=\"col_heading level0 col5\" >RMSLE</th>\n",
       "      <th id=\"T_e495e_level0_col6\" class=\"col_heading level0 col6\" >MAPE</th>\n",
       "    </tr>\n",
       "  </thead>\n",
       "  <tbody>\n",
       "    <tr>\n",
       "      <th id=\"T_e495e_level0_row0\" class=\"row_heading level0 row0\" >0</th>\n",
       "      <td id=\"T_e495e_row0_col0\" class=\"data row0 col0\" >Light Gradient Boosting Machine</td>\n",
       "      <td id=\"T_e495e_row0_col1\" class=\"data row0 col1\" >0.0172</td>\n",
       "      <td id=\"T_e495e_row0_col2\" class=\"data row0 col2\" >0.0005</td>\n",
       "      <td id=\"T_e495e_row0_col3\" class=\"data row0 col3\" >0.0225</td>\n",
       "      <td id=\"T_e495e_row0_col4\" class=\"data row0 col4\" >0.9393</td>\n",
       "      <td id=\"T_e495e_row0_col5\" class=\"data row0 col5\" >0.0182</td>\n",
       "      <td id=\"T_e495e_row0_col6\" class=\"data row0 col6\" >0.0906</td>\n",
       "    </tr>\n",
       "  </tbody>\n",
       "</table>\n"
      ],
      "text/plain": [
       "<pandas.io.formats.style.Styler at 0x223f63e1580>"
      ]
     },
     "metadata": {},
     "output_type": "display_data"
    }
   ],
   "source": [
    "predict_model(final_lightgbm);"
   ]
  },
  {
   "cell_type": "markdown",
   "metadata": {
    "colab_type": "text",
    "id": "5NkpL1ZHzZwr"
   },
   "source": [
    "Notice how the R2 in the `final_lightgbm` has increased to **`0.9891`** from **`0.9652`**, even though the model is same. This is because the `final_lightgbm` variable is trained on the complete dataset including the test/hold-out set."
   ]
  },
  {
   "cell_type": "markdown",
   "metadata": {
    "colab_type": "text",
    "id": "CgKSkSsZzZwv"
   },
   "source": [
    "# 13.0 Predict on Unseen Data"
   ]
  },
  {
   "cell_type": "markdown",
   "metadata": {
    "colab_type": "text",
    "id": "6n7QFM94zZwy"
   },
   "source": [
    "The `predict_model()` function is also used to predict on the unseen dataset. The only difference from section 11 above is that this time we will pass the `data_unseen` parameter. `data_unseen` is the variable created at the beginning of the tutorial and contains 10% (600 samples) of the original dataset which was never exposed to PyCaret. (see section 5 for explanation)"
   ]
  },
  {
   "cell_type": "code",
   "execution_count": 37,
   "metadata": {
    "ExecuteTime": {
     "end_time": "2022-07-17T04:28:07.737013Z",
     "start_time": "2022-07-17T04:28:07.494227Z"
    },
    "colab": {},
    "colab_type": "code",
    "id": "YdlpJUx0zZw4",
    "outputId": "5b45a2b5-c9a1-4d20-80f7-28211f07d586"
   },
   "outputs": [
    {
     "data": {
      "text/html": [
       "<style type=\"text/css\">\n",
       "</style>\n",
       "<table id=\"T_6108e\">\n",
       "  <thead>\n",
       "    <tr>\n",
       "      <th class=\"blank level0\" >&nbsp;</th>\n",
       "      <th id=\"T_6108e_level0_col0\" class=\"col_heading level0 col0\" >Model</th>\n",
       "      <th id=\"T_6108e_level0_col1\" class=\"col_heading level0 col1\" >MAE</th>\n",
       "      <th id=\"T_6108e_level0_col2\" class=\"col_heading level0 col2\" >MSE</th>\n",
       "      <th id=\"T_6108e_level0_col3\" class=\"col_heading level0 col3\" >RMSE</th>\n",
       "      <th id=\"T_6108e_level0_col4\" class=\"col_heading level0 col4\" >R2</th>\n",
       "      <th id=\"T_6108e_level0_col5\" class=\"col_heading level0 col5\" >RMSLE</th>\n",
       "      <th id=\"T_6108e_level0_col6\" class=\"col_heading level0 col6\" >MAPE</th>\n",
       "    </tr>\n",
       "  </thead>\n",
       "  <tbody>\n",
       "    <tr>\n",
       "      <th id=\"T_6108e_level0_row0\" class=\"row_heading level0 row0\" >0</th>\n",
       "      <td id=\"T_6108e_row0_col0\" class=\"data row0 col0\" >Light Gradient Boosting Machine</td>\n",
       "      <td id=\"T_6108e_row0_col1\" class=\"data row0 col1\" >0.0250</td>\n",
       "      <td id=\"T_6108e_row0_col2\" class=\"data row0 col2\" >0.0012</td>\n",
       "      <td id=\"T_6108e_row0_col3\" class=\"data row0 col3\" >0.0344</td>\n",
       "      <td id=\"T_6108e_row0_col4\" class=\"data row0 col4\" >0.8585</td>\n",
       "      <td id=\"T_6108e_row0_col5\" class=\"data row0 col5\" >0.0276</td>\n",
       "      <td id=\"T_6108e_row0_col6\" class=\"data row0 col6\" >0.1316</td>\n",
       "    </tr>\n",
       "  </tbody>\n",
       "</table>\n"
      ],
      "text/plain": [
       "<pandas.io.formats.style.Styler at 0x223ff3ce3d0>"
      ]
     },
     "metadata": {},
     "output_type": "display_data"
    },
    {
     "data": {
      "text/html": [
       "<div>\n",
       "<style scoped>\n",
       "    .dataframe tbody tr th:only-of-type {\n",
       "        vertical-align: middle;\n",
       "    }\n",
       "\n",
       "    .dataframe tbody tr th {\n",
       "        vertical-align: top;\n",
       "    }\n",
       "\n",
       "    .dataframe thead th {\n",
       "        text-align: right;\n",
       "    }\n",
       "</style>\n",
       "<table border=\"1\" class=\"dataframe\">\n",
       "  <thead>\n",
       "    <tr style=\"text-align: right;\">\n",
       "      <th></th>\n",
       "      <th>subject#</th>\n",
       "      <th>age</th>\n",
       "      <th>sex</th>\n",
       "      <th>test_time</th>\n",
       "      <th>motor_UPDRS</th>\n",
       "      <th>total_UPDRS</th>\n",
       "      <th>Jitter(%)</th>\n",
       "      <th>Jitter(Abs)</th>\n",
       "      <th>Jitter_RAP</th>\n",
       "      <th>Jitter_PPQ5</th>\n",
       "      <th>...</th>\n",
       "      <th>Shimmer_APQ3</th>\n",
       "      <th>Shimmer_APQ5</th>\n",
       "      <th>Shimmer_APQ11</th>\n",
       "      <th>Shimmer_DDA</th>\n",
       "      <th>NHR</th>\n",
       "      <th>HNR</th>\n",
       "      <th>RPDE</th>\n",
       "      <th>DFA</th>\n",
       "      <th>PPE</th>\n",
       "      <th>Label</th>\n",
       "    </tr>\n",
       "  </thead>\n",
       "  <tbody>\n",
       "    <tr>\n",
       "      <th>0</th>\n",
       "      <td>1.0</td>\n",
       "      <td>72.0</td>\n",
       "      <td>0.0</td>\n",
       "      <td>40.652000</td>\n",
       "      <td>29.434999</td>\n",
       "      <td>36.869999</td>\n",
       "      <td>0.00353</td>\n",
       "      <td>0.000023</td>\n",
       "      <td>0.00119</td>\n",
       "      <td>0.00159</td>\n",
       "      <td>...</td>\n",
       "      <td>0.01006</td>\n",
       "      <td>0.01337</td>\n",
       "      <td>0.02263</td>\n",
       "      <td>0.03019</td>\n",
       "      <td>0.009438</td>\n",
       "      <td>22.945999</td>\n",
       "      <td>0.53949</td>\n",
       "      <td>0.57243</td>\n",
       "      <td>0.19500</td>\n",
       "      <td>0.176592</td>\n",
       "    </tr>\n",
       "    <tr>\n",
       "      <th>1</th>\n",
       "      <td>1.0</td>\n",
       "      <td>72.0</td>\n",
       "      <td>0.0</td>\n",
       "      <td>54.639999</td>\n",
       "      <td>29.927999</td>\n",
       "      <td>37.856998</td>\n",
       "      <td>0.00476</td>\n",
       "      <td>0.000025</td>\n",
       "      <td>0.00226</td>\n",
       "      <td>0.00259</td>\n",
       "      <td>...</td>\n",
       "      <td>0.00979</td>\n",
       "      <td>0.01462</td>\n",
       "      <td>0.01911</td>\n",
       "      <td>0.02937</td>\n",
       "      <td>0.027969</td>\n",
       "      <td>22.929001</td>\n",
       "      <td>0.47712</td>\n",
       "      <td>0.54234</td>\n",
       "      <td>0.23844</td>\n",
       "      <td>0.245024</td>\n",
       "    </tr>\n",
       "    <tr>\n",
       "      <th>2</th>\n",
       "      <td>1.0</td>\n",
       "      <td>72.0</td>\n",
       "      <td>0.0</td>\n",
       "      <td>82.653000</td>\n",
       "      <td>30.917000</td>\n",
       "      <td>39.834000</td>\n",
       "      <td>0.00537</td>\n",
       "      <td>0.000032</td>\n",
       "      <td>0.00236</td>\n",
       "      <td>0.00278</td>\n",
       "      <td>...</td>\n",
       "      <td>0.01001</td>\n",
       "      <td>0.01375</td>\n",
       "      <td>0.02395</td>\n",
       "      <td>0.03003</td>\n",
       "      <td>0.017115</td>\n",
       "      <td>24.204000</td>\n",
       "      <td>0.46686</td>\n",
       "      <td>0.57984</td>\n",
       "      <td>0.19390</td>\n",
       "      <td>0.237371</td>\n",
       "    </tr>\n",
       "    <tr>\n",
       "      <th>3</th>\n",
       "      <td>1.0</td>\n",
       "      <td>72.0</td>\n",
       "      <td>0.0</td>\n",
       "      <td>96.633003</td>\n",
       "      <td>31.775999</td>\n",
       "      <td>41.034000</td>\n",
       "      <td>0.00354</td>\n",
       "      <td>0.000024</td>\n",
       "      <td>0.00142</td>\n",
       "      <td>0.00150</td>\n",
       "      <td>...</td>\n",
       "      <td>0.00847</td>\n",
       "      <td>0.01040</td>\n",
       "      <td>0.01920</td>\n",
       "      <td>0.02540</td>\n",
       "      <td>0.015008</td>\n",
       "      <td>24.614000</td>\n",
       "      <td>0.61348</td>\n",
       "      <td>0.60661</td>\n",
       "      <td>0.15881</td>\n",
       "      <td>0.167379</td>\n",
       "    </tr>\n",
       "    <tr>\n",
       "      <th>4</th>\n",
       "      <td>1.0</td>\n",
       "      <td>72.0</td>\n",
       "      <td>0.0</td>\n",
       "      <td>131.639999</td>\n",
       "      <td>34.109001</td>\n",
       "      <td>44.146000</td>\n",
       "      <td>0.00571</td>\n",
       "      <td>0.000037</td>\n",
       "      <td>0.00296</td>\n",
       "      <td>0.00293</td>\n",
       "      <td>...</td>\n",
       "      <td>0.01260</td>\n",
       "      <td>0.01466</td>\n",
       "      <td>0.02145</td>\n",
       "      <td>0.03780</td>\n",
       "      <td>0.031546</td>\n",
       "      <td>23.129000</td>\n",
       "      <td>0.52714</td>\n",
       "      <td>0.59220</td>\n",
       "      <td>0.18211</td>\n",
       "      <td>0.232704</td>\n",
       "    </tr>\n",
       "  </tbody>\n",
       "</table>\n",
       "<p>5 rows × 23 columns</p>\n",
       "</div>"
      ],
      "text/plain": [
       "   subject#   age  sex   test_time  motor_UPDRS  total_UPDRS  Jitter(%)  \\\n",
       "0       1.0  72.0  0.0   40.652000    29.434999    36.869999    0.00353   \n",
       "1       1.0  72.0  0.0   54.639999    29.927999    37.856998    0.00476   \n",
       "2       1.0  72.0  0.0   82.653000    30.917000    39.834000    0.00537   \n",
       "3       1.0  72.0  0.0   96.633003    31.775999    41.034000    0.00354   \n",
       "4       1.0  72.0  0.0  131.639999    34.109001    44.146000    0.00571   \n",
       "\n",
       "   Jitter(Abs)  Jitter_RAP  Jitter_PPQ5  ...  Shimmer_APQ3  Shimmer_APQ5  \\\n",
       "0     0.000023     0.00119      0.00159  ...       0.01006       0.01337   \n",
       "1     0.000025     0.00226      0.00259  ...       0.00979       0.01462   \n",
       "2     0.000032     0.00236      0.00278  ...       0.01001       0.01375   \n",
       "3     0.000024     0.00142      0.00150  ...       0.00847       0.01040   \n",
       "4     0.000037     0.00296      0.00293  ...       0.01260       0.01466   \n",
       "\n",
       "   Shimmer_APQ11  Shimmer_DDA       NHR        HNR     RPDE      DFA      PPE  \\\n",
       "0        0.02263      0.03019  0.009438  22.945999  0.53949  0.57243  0.19500   \n",
       "1        0.01911      0.02937  0.027969  22.929001  0.47712  0.54234  0.23844   \n",
       "2        0.02395      0.03003  0.017115  24.204000  0.46686  0.57984  0.19390   \n",
       "3        0.01920      0.02540  0.015008  24.614000  0.61348  0.60661  0.15881   \n",
       "4        0.02145      0.03780  0.031546  23.129000  0.52714  0.59220  0.18211   \n",
       "\n",
       "      Label  \n",
       "0  0.176592  \n",
       "1  0.245024  \n",
       "2  0.237371  \n",
       "3  0.167379  \n",
       "4  0.232704  \n",
       "\n",
       "[5 rows x 23 columns]"
      ]
     },
     "execution_count": 37,
     "metadata": {},
     "output_type": "execute_result"
    }
   ],
   "source": [
    "unseen_predictions = predict_model(final_lightgbm, data=data_unseen)\n",
    "unseen_predictions.head()"
   ]
  },
  {
   "cell_type": "markdown",
   "metadata": {
    "colab_type": "text",
    "id": "wZnpuHoDzZxG"
   },
   "source": [
    "The `Label` column is added onto the `data_unseen` set. Label is the predicted value using the `final_lightgbm` model. If you want predictions to be rounded, you can use `round` parameter inside `predict_model()`. You can also check the metrics on this since you have actual target column `Price` available. To do that we will use pycaret.utils module. See example below:"
   ]
  },
  {
   "cell_type": "code",
   "execution_count": 39,
   "metadata": {
    "ExecuteTime": {
     "end_time": "2022-07-17T04:28:07.749001Z",
     "start_time": "2022-07-17T04:28:07.739977Z"
    }
   },
   "outputs": [
    {
     "data": {
      "text/plain": [
       "0.8585"
      ]
     },
     "execution_count": 39,
     "metadata": {},
     "output_type": "execute_result"
    }
   ],
   "source": [
    "from pycaret.utils import check_metric\n",
    "check_metric(unseen_predictions.PPE, unseen_predictions.Label, 'R2')"
   ]
  },
  {
   "cell_type": "markdown",
   "metadata": {
    "colab_type": "text",
    "id": "os2dbiIrzZxJ"
   },
   "source": [
    "# 14.0 Saving the Model"
   ]
  },
  {
   "cell_type": "markdown",
   "metadata": {
    "colab_type": "text",
    "id": "46CV19RlzZxL"
   },
   "source": [
    "We have now finished the experiment by finalizing the `tuned_lightgbm` model which is now stored in `final_lightgbm` variable. We have also used the model stored in `final_lightgbm` to predict `data_unseen`. This brings us to the end of our experiment, but one question is still to be asked: What happens when you have more new data to predict? Do you have to go through the entire experiment again? The answer is no, PyCaret's inbuilt function `save_model()` allows you to save the model along with entire transformation pipeline for later use."
   ]
  },
  {
   "cell_type": "code",
   "execution_count": 27,
   "metadata": {
    "ExecuteTime": {
     "end_time": "2022-07-17T04:28:07.971771Z",
     "start_time": "2022-07-17T04:28:07.750968Z"
    },
    "colab": {},
    "colab_type": "code",
    "id": "tXl6hkG9zZxN",
    "outputId": "4af19b19-6c0c-4b1e-a4f7-249e729091bd"
   },
   "outputs": [
    {
     "name": "stdout",
     "output_type": "stream",
     "text": [
      "Transformation Pipeline and Model Successfully Saved\n"
     ]
    },
    {
     "data": {
      "text/plain": [
       "(Pipeline(memory=None,\n",
       "          steps=[('dtypes',\n",
       "                  DataTypes_Auto_infer(categorical_features=[],\n",
       "                                       display_types=True, features_todrop=[],\n",
       "                                       id_columns=[], ml_usecase='regression',\n",
       "                                       numerical_features=[], target='Price',\n",
       "                                       time_features=[])),\n",
       "                 ('imputer',\n",
       "                  Simple_Imputer(categorical_strategy='not_available',\n",
       "                                 fill_value_categorical=None,\n",
       "                                 fill_value_numerical=None,\n",
       "                                 numeric_strategy='...\n",
       "                  LGBMRegressor(boosting_type='gbdt', class_weight=None,\n",
       "                                colsample_bytree=1.0, importance_type='split',\n",
       "                                learning_rate=0.1, max_depth=60,\n",
       "                                min_child_samples=20, min_child_weight=0.001,\n",
       "                                min_split_gain=0.0, n_estimators=100, n_jobs=-1,\n",
       "                                num_leaves=120, objective=None, random_state=123,\n",
       "                                reg_alpha=0.0, reg_lambda=0.0, silent='warn',\n",
       "                                subsample=1.0, subsample_for_bin=200000,\n",
       "                                subsample_freq=0)]],\n",
       "          verbose=False),\n",
       " 'Final LightGBM Model 25Nov2020.pkl')"
      ]
     },
     "execution_count": 27,
     "metadata": {},
     "output_type": "execute_result"
    }
   ],
   "source": [
    "save_model(final_lightgbm,'Final_LightGBM_Model_14092022')"
   ]
  },
  {
   "cell_type": "markdown",
   "metadata": {
    "colab_type": "text",
    "id": "q2wgdZ5ozZxX"
   },
   "source": [
    "(TIP : It's always good to use date in the filename when saving models, it's good for version control.)"
   ]
  },
  {
   "cell_type": "markdown",
   "metadata": {
    "colab_type": "text",
    "id": "9LsyznpCzZxb"
   },
   "source": [
    "# 15.0 Loading the Saved Model"
   ]
  },
  {
   "cell_type": "markdown",
   "metadata": {
    "colab_type": "text",
    "id": "7ZH-4EMLzZxd"
   },
   "source": [
    "To load a saved model at a future date in the same or an alternative environment, we would use PyCaret's `load_model()` function and then easily apply the saved model on new unseen data for prediction."
   ]
  },
  {
   "cell_type": "code",
   "execution_count": 28,
   "metadata": {
    "ExecuteTime": {
     "end_time": "2022-07-17T04:28:08.010701Z",
     "start_time": "2022-07-17T04:28:07.979769Z"
    },
    "colab": {},
    "colab_type": "code",
    "id": "2hsqdgn3zZxg",
    "outputId": "9db6b97b-ea93-452b-e4b4-121bea203bd3"
   },
   "outputs": [
    {
     "name": "stdout",
     "output_type": "stream",
     "text": [
      "Transformation Pipeline and Model Successfully Loaded\n"
     ]
    }
   ],
   "source": [
    "saved_final_lightgbm = load_model('Final_LightGBM_Model_14092022')"
   ]
  },
  {
   "cell_type": "markdown",
   "metadata": {
    "colab_type": "text",
    "id": "NBAXt62nzZx5"
   },
   "source": [
    "Once the model is loaded in the environment, you can simply use it to predict on any new data using the same `predict_model()` function. Below we have applied the loaded model to predict the same `data_unseen` that we used in section 13 above."
   ]
  },
  {
   "cell_type": "code",
   "execution_count": 29,
   "metadata": {
    "ExecuteTime": {
     "end_time": "2022-07-17T04:28:08.287977Z",
     "start_time": "2022-07-17T04:28:08.015695Z"
    },
    "colab": {},
    "colab_type": "code",
    "id": "y7debJpCzZx8"
   },
   "outputs": [
    {
     "data": {
      "text/html": [
       "<style type=\"text/css\">\n",
       "</style>\n",
       "<table id=\"T_39e35\">\n",
       "  <thead>\n",
       "    <tr>\n",
       "      <th class=\"blank level0\" >&nbsp;</th>\n",
       "      <th id=\"T_39e35_level0_col0\" class=\"col_heading level0 col0\" >Model</th>\n",
       "      <th id=\"T_39e35_level0_col1\" class=\"col_heading level0 col1\" >MAE</th>\n",
       "      <th id=\"T_39e35_level0_col2\" class=\"col_heading level0 col2\" >MSE</th>\n",
       "      <th id=\"T_39e35_level0_col3\" class=\"col_heading level0 col3\" >RMSE</th>\n",
       "      <th id=\"T_39e35_level0_col4\" class=\"col_heading level0 col4\" >R2</th>\n",
       "      <th id=\"T_39e35_level0_col5\" class=\"col_heading level0 col5\" >RMSLE</th>\n",
       "      <th id=\"T_39e35_level0_col6\" class=\"col_heading level0 col6\" >MAPE</th>\n",
       "    </tr>\n",
       "  </thead>\n",
       "  <tbody>\n",
       "    <tr>\n",
       "      <th id=\"T_39e35_level0_row0\" class=\"row_heading level0 row0\" >0</th>\n",
       "      <td id=\"T_39e35_row0_col0\" class=\"data row0 col0\" >Light Gradient Boosting Machine</td>\n",
       "      <td id=\"T_39e35_row0_col1\" class=\"data row0 col1\" >707.9033</td>\n",
       "      <td id=\"T_39e35_row0_col2\" class=\"data row0 col2\" >2268889.5439</td>\n",
       "      <td id=\"T_39e35_row0_col3\" class=\"data row0 col3\" >1506.2834</td>\n",
       "      <td id=\"T_39e35_row0_col4\" class=\"data row0 col4\" >0.9779</td>\n",
       "      <td id=\"T_39e35_row0_col5\" class=\"data row0 col5\" >0.0696</td>\n",
       "      <td id=\"T_39e35_row0_col6\" class=\"data row0 col6\" >0.0513</td>\n",
       "    </tr>\n",
       "  </tbody>\n",
       "</table>\n"
      ],
      "text/plain": [
       "<pandas.io.formats.style.Styler at 0x1fa128a6ee0>"
      ]
     },
     "metadata": {},
     "output_type": "display_data"
    }
   ],
   "source": [
    "new_prediction = predict_model(saved_final_lightgbm, data=data_unseen)"
   ]
  },
  {
   "cell_type": "code",
   "execution_count": 30,
   "metadata": {
    "ExecuteTime": {
     "end_time": "2022-07-17T04:28:08.305928Z",
     "start_time": "2022-07-17T04:28:08.289942Z"
    },
    "colab": {},
    "colab_type": "code",
    "id": "8hT1v3N0zZyD",
    "outputId": "c5f9994b-1859-49d0-9bb0-4d7f6c506b98"
   },
   "outputs": [
    {
     "data": {
      "text/html": [
       "<div>\n",
       "<style scoped>\n",
       "    .dataframe tbody tr th:only-of-type {\n",
       "        vertical-align: middle;\n",
       "    }\n",
       "\n",
       "    .dataframe tbody tr th {\n",
       "        vertical-align: top;\n",
       "    }\n",
       "\n",
       "    .dataframe thead th {\n",
       "        text-align: right;\n",
       "    }\n",
       "</style>\n",
       "<table border=\"1\" class=\"dataframe\">\n",
       "  <thead>\n",
       "    <tr style=\"text-align: right;\">\n",
       "      <th></th>\n",
       "      <th>Carat Weight</th>\n",
       "      <th>Cut</th>\n",
       "      <th>Color</th>\n",
       "      <th>Clarity</th>\n",
       "      <th>Polish</th>\n",
       "      <th>Symmetry</th>\n",
       "      <th>Report</th>\n",
       "      <th>Price</th>\n",
       "      <th>Label</th>\n",
       "    </tr>\n",
       "  </thead>\n",
       "  <tbody>\n",
       "    <tr>\n",
       "      <th>0</th>\n",
       "      <td>1.53</td>\n",
       "      <td>Ideal</td>\n",
       "      <td>E</td>\n",
       "      <td>SI1</td>\n",
       "      <td>ID</td>\n",
       "      <td>ID</td>\n",
       "      <td>AGSL</td>\n",
       "      <td>12791</td>\n",
       "      <td>12262.949782</td>\n",
       "    </tr>\n",
       "    <tr>\n",
       "      <th>1</th>\n",
       "      <td>1.50</td>\n",
       "      <td>Fair</td>\n",
       "      <td>F</td>\n",
       "      <td>SI1</td>\n",
       "      <td>VG</td>\n",
       "      <td>VG</td>\n",
       "      <td>GIA</td>\n",
       "      <td>10450</td>\n",
       "      <td>10122.442382</td>\n",
       "    </tr>\n",
       "    <tr>\n",
       "      <th>2</th>\n",
       "      <td>1.01</td>\n",
       "      <td>Good</td>\n",
       "      <td>E</td>\n",
       "      <td>SI1</td>\n",
       "      <td>G</td>\n",
       "      <td>G</td>\n",
       "      <td>GIA</td>\n",
       "      <td>5161</td>\n",
       "      <td>5032.520456</td>\n",
       "    </tr>\n",
       "    <tr>\n",
       "      <th>3</th>\n",
       "      <td>2.51</td>\n",
       "      <td>Very Good</td>\n",
       "      <td>G</td>\n",
       "      <td>VS2</td>\n",
       "      <td>VG</td>\n",
       "      <td>VG</td>\n",
       "      <td>GIA</td>\n",
       "      <td>34361</td>\n",
       "      <td>34840.379469</td>\n",
       "    </tr>\n",
       "    <tr>\n",
       "      <th>4</th>\n",
       "      <td>1.01</td>\n",
       "      <td>Good</td>\n",
       "      <td>I</td>\n",
       "      <td>SI1</td>\n",
       "      <td>VG</td>\n",
       "      <td>VG</td>\n",
       "      <td>GIA</td>\n",
       "      <td>4238</td>\n",
       "      <td>4142.695964</td>\n",
       "    </tr>\n",
       "  </tbody>\n",
       "</table>\n",
       "</div>"
      ],
      "text/plain": [
       "   Carat Weight        Cut Color Clarity Polish Symmetry Report  Price  \\\n",
       "0          1.53      Ideal     E     SI1     ID       ID   AGSL  12791   \n",
       "1          1.50       Fair     F     SI1     VG       VG    GIA  10450   \n",
       "2          1.01       Good     E     SI1      G        G    GIA   5161   \n",
       "3          2.51  Very Good     G     VS2     VG       VG    GIA  34361   \n",
       "4          1.01       Good     I     SI1     VG       VG    GIA   4238   \n",
       "\n",
       "          Label  \n",
       "0  12262.949782  \n",
       "1  10122.442382  \n",
       "2   5032.520456  \n",
       "3  34840.379469  \n",
       "4   4142.695964  "
      ]
     },
     "execution_count": 30,
     "metadata": {},
     "output_type": "execute_result"
    }
   ],
   "source": [
    "new_prediction.head()"
   ]
  },
  {
   "cell_type": "markdown",
   "metadata": {
    "colab_type": "text",
    "id": "cuVEPftKzZyK"
   },
   "source": [
    "Notice that the results of `unseen_predictions` and `new_prediction` are identical."
   ]
  },
  {
   "cell_type": "code",
   "execution_count": 31,
   "metadata": {
    "ExecuteTime": {
     "end_time": "2022-07-17T04:28:08.322913Z",
     "start_time": "2022-07-17T04:28:08.310954Z"
    }
   },
   "outputs": [
    {
     "data": {
      "text/plain": [
       "0.9779"
      ]
     },
     "execution_count": 31,
     "metadata": {},
     "output_type": "execute_result"
    }
   ],
   "source": [
    "from pycaret.utils import check_metric\n",
    "check_metric(new_prediction.Price, new_prediction.Label, 'R2')"
   ]
  }
 ],
 "metadata": {
  "colab": {
   "collapsed_sections": [
    "wwUzzm1YzZpz",
    "DxnJV14BzZqq",
    "xBqHzabEzZrT",
    "ZzpBazV1zZrx",
    "wxKHHQcbzZr5",
    "T-dvDHxCzZsU",
    "j8DvIuOrzZsm",
    "8RZB8YllzZs7",
    "5uUSmZLGzZtB",
    "3kvdvfdUzZtj",
    "Ovz73MkgzZtx",
    "HR-mHgtCzZuE",
    "HJCYRQj9zZuU",
    "rM9dWgfVzZuh",
    "dWu_EtTGzZuu",
    "CxKARgKAzZvJ",
    "J0PmhEQFzZvr",
    "CgKSkSsZzZwv",
    "os2dbiIrzZxJ",
    "9LsyznpCzZxb",
    "uE3tuIUHzZyL"
   ],
   "name": "Regression Tutorial (REG101) - Level Beginner (ACN_EDITS).ipynb",
   "provenance": []
  },
  "kernelspec": {
   "display_name": "Python 3 (ipykernel)",
   "language": "python",
   "name": "python3"
  },
  "language_info": {
   "codemirror_mode": {
    "name": "ipython",
    "version": 3
   },
   "file_extension": ".py",
   "mimetype": "text/x-python",
   "name": "python",
   "nbconvert_exporter": "python",
   "pygments_lexer": "ipython3",
   "version": "3.8.13"
  },
  "toc": {
   "base_numbering": 1,
   "nav_menu": {},
   "number_sections": false,
   "sideBar": true,
   "skip_h1_title": false,
   "title_cell": "Table of Contents",
   "title_sidebar": "Contents",
   "toc_cell": false,
   "toc_position": {},
   "toc_section_display": true,
   "toc_window_display": true
  },
  "varInspector": {
   "cols": {
    "lenName": 16,
    "lenType": 16,
    "lenVar": 40
   },
   "kernels_config": {
    "python": {
     "delete_cmd_postfix": "",
     "delete_cmd_prefix": "del ",
     "library": "var_list.py",
     "varRefreshCmd": "print(var_dic_list())"
    },
    "r": {
     "delete_cmd_postfix": ") ",
     "delete_cmd_prefix": "rm(",
     "library": "var_list.r",
     "varRefreshCmd": "cat(var_dic_list()) "
    }
   },
   "types_to_exclude": [
    "module",
    "function",
    "builtin_function_or_method",
    "instance",
    "_Feature"
   ],
   "window_display": false
  },
  "widgets": {
   "application/vnd.jupyter.widget-state+json": {
    "14244d0fca4f40a8b3552675869748a3": {
     "model_module": "@jupyter-widgets/controls",
     "model_name": "ProgressStyleModel",
     "state": {
      "_model_module": "@jupyter-widgets/controls",
      "_model_module_version": "1.5.0",
      "_model_name": "ProgressStyleModel",
      "_view_count": null,
      "_view_module": "@jupyter-widgets/base",
      "_view_module_version": "1.2.0",
      "_view_name": "StyleView",
      "bar_color": null,
      "description_width": ""
     }
    },
    "19ea86ac89a349e281011fbd327c29c0": {
     "model_module": "@jupyter-widgets/controls",
     "model_name": "ProgressStyleModel",
     "state": {
      "_model_module": "@jupyter-widgets/controls",
      "_model_module_version": "1.5.0",
      "_model_name": "ProgressStyleModel",
      "_view_count": null,
      "_view_module": "@jupyter-widgets/base",
      "_view_module_version": "1.2.0",
      "_view_name": "StyleView",
      "bar_color": null,
      "description_width": ""
     }
    },
    "202f5f0dfbea4f6cb6a75e4aebd370c7": {
     "model_module": "@jupyter-widgets/controls",
     "model_name": "ToggleButtonsModel",
     "state": {
      "_dom_classes": [],
      "_model_module": "@jupyter-widgets/controls",
      "_model_module_version": "1.5.0",
      "_model_name": "ToggleButtonsModel",
      "_options_labels": [
       "Hyperparameters",
       "Residuals Plot",
       "Prediction Error Plot",
       "Cooks Distance Plot",
       "Recursive Feature Selection",
       "Learning Curve",
       "Validation Curve",
       "Manifold Learning",
       "Feature Importance"
      ],
      "_view_count": null,
      "_view_module": "@jupyter-widgets/controls",
      "_view_module_version": "1.5.0",
      "_view_name": "ToggleButtonsView",
      "button_style": "",
      "description": "Plot Type:",
      "description_tooltip": null,
      "disabled": false,
      "icons": [
       ""
      ],
      "index": 7,
      "layout": "IPY_MODEL_b7731479f5f141289a4939cb73adfb28",
      "style": "IPY_MODEL_63e7b6e04e3d43118698abaca0973960",
      "tooltips": []
     }
    },
    "2f905c9057e849cfb68d8b4a73a9ae2c": {
     "model_module": "@jupyter-widgets/controls",
     "model_name": "VBoxModel",
     "state": {
      "_dom_classes": [
       "widget-interact"
      ],
      "_model_module": "@jupyter-widgets/controls",
      "_model_module_version": "1.5.0",
      "_model_name": "VBoxModel",
      "_view_count": null,
      "_view_module": "@jupyter-widgets/controls",
      "_view_module_version": "1.5.0",
      "_view_name": "VBoxView",
      "box_style": "",
      "children": [
       "IPY_MODEL_202f5f0dfbea4f6cb6a75e4aebd370c7",
       "IPY_MODEL_4c0b5f15356140e9bd6ed3a2e0850baa"
      ],
      "layout": "IPY_MODEL_4705ae97c5c341db8a7efcc7e4334c79"
     }
    },
    "3495c4e24f1d4b22af1117ea2403a4fa": {
     "model_module": "@jupyter-widgets/controls",
     "model_name": "IntProgressModel",
     "state": {
      "_dom_classes": [],
      "_model_module": "@jupyter-widgets/controls",
      "_model_module_version": "1.5.0",
      "_model_name": "IntProgressModel",
      "_view_count": null,
      "_view_module": "@jupyter-widgets/controls",
      "_view_module_version": "1.5.0",
      "_view_name": "ProgressView",
      "bar_style": "",
      "description": "Processing: ",
      "description_tooltip": null,
      "layout": "IPY_MODEL_4ae774bce02d4c1ab1351cd75b25cf17",
      "max": 5,
      "min": 0,
      "orientation": "horizontal",
      "style": "IPY_MODEL_83a10da0205742d9a383671a0be02606",
      "value": 4
     }
    },
    "36a9c708b65e498586a07d526e6a5d06": {
     "model_module": "@jupyter-widgets/controls",
     "model_name": "ProgressStyleModel",
     "state": {
      "_model_module": "@jupyter-widgets/controls",
      "_model_module_version": "1.5.0",
      "_model_name": "ProgressStyleModel",
      "_view_count": null,
      "_view_module": "@jupyter-widgets/base",
      "_view_module_version": "1.2.0",
      "_view_name": "StyleView",
      "bar_color": null,
      "description_width": ""
     }
    },
    "4705ae97c5c341db8a7efcc7e4334c79": {
     "model_module": "@jupyter-widgets/base",
     "model_name": "LayoutModel",
     "state": {
      "_model_module": "@jupyter-widgets/base",
      "_model_module_version": "1.2.0",
      "_model_name": "LayoutModel",
      "_view_count": null,
      "_view_module": "@jupyter-widgets/base",
      "_view_module_version": "1.2.0",
      "_view_name": "LayoutView",
      "align_content": null,
      "align_items": null,
      "align_self": null,
      "border": null,
      "bottom": null,
      "display": null,
      "flex": null,
      "flex_flow": null,
      "grid_area": null,
      "grid_auto_columns": null,
      "grid_auto_flow": null,
      "grid_auto_rows": null,
      "grid_column": null,
      "grid_gap": null,
      "grid_row": null,
      "grid_template_areas": null,
      "grid_template_columns": null,
      "grid_template_rows": null,
      "height": null,
      "justify_content": null,
      "justify_items": null,
      "left": null,
      "margin": null,
      "max_height": null,
      "max_width": null,
      "min_height": null,
      "min_width": null,
      "object_fit": null,
      "object_position": null,
      "order": null,
      "overflow": null,
      "overflow_x": null,
      "overflow_y": null,
      "padding": null,
      "right": null,
      "top": null,
      "visibility": null,
      "width": null
     }
    },
    "4ae774bce02d4c1ab1351cd75b25cf17": {
     "model_module": "@jupyter-widgets/base",
     "model_name": "LayoutModel",
     "state": {
      "_model_module": "@jupyter-widgets/base",
      "_model_module_version": "1.2.0",
      "_model_name": "LayoutModel",
      "_view_count": null,
      "_view_module": "@jupyter-widgets/base",
      "_view_module_version": "1.2.0",
      "_view_name": "LayoutView",
      "align_content": null,
      "align_items": null,
      "align_self": null,
      "border": null,
      "bottom": null,
      "display": null,
      "flex": null,
      "flex_flow": null,
      "grid_area": null,
      "grid_auto_columns": null,
      "grid_auto_flow": null,
      "grid_auto_rows": null,
      "grid_column": null,
      "grid_gap": null,
      "grid_row": null,
      "grid_template_areas": null,
      "grid_template_columns": null,
      "grid_template_rows": null,
      "height": null,
      "justify_content": null,
      "justify_items": null,
      "left": null,
      "margin": null,
      "max_height": null,
      "max_width": null,
      "min_height": null,
      "min_width": null,
      "object_fit": null,
      "object_position": null,
      "order": null,
      "overflow": null,
      "overflow_x": null,
      "overflow_y": null,
      "padding": null,
      "right": null,
      "top": null,
      "visibility": null,
      "width": null
     }
    },
    "4c0b5f15356140e9bd6ed3a2e0850baa": {
     "model_module": "@jupyter-widgets/output",
     "model_name": "OutputModel",
     "state": {
      "_dom_classes": [],
      "_model_module": "@jupyter-widgets/output",
      "_model_module_version": "1.0.0",
      "_model_name": "OutputModel",
      "_view_count": null,
      "_view_module": "@jupyter-widgets/output",
      "_view_module_version": "1.0.0",
      "_view_name": "OutputView",
      "layout": "IPY_MODEL_39f32240322f4053bd57278e81edf9c1",
      "msg_id": "",
      "outputs": [
       {
        "image/png": "iVBORw0KGgoAAAANSUhEUgAAAfUAAAFdCAYAAAAaB/SSAAAABHNCSVQICAgIfAhkiAAAAAlwSFlz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\n0Wg0Gk0v4f8BqXD2ckymA3kAAAAASUVORK5CYII=\n",
        "metadata": {
         "tags": []
        },
        "output_type": "display_data",
        "text/plain": "<Figure size 576x396 with 2 Axes>"
       }
      ]
     }
    },
    "5334e09f4bed4a0ba45635300e76027e": {
     "model_module": "@jupyter-widgets/controls",
     "model_name": "IntProgressModel",
     "state": {
      "_dom_classes": [],
      "_model_module": "@jupyter-widgets/controls",
      "_model_module_version": "1.5.0",
      "_model_name": "IntProgressModel",
      "_view_count": null,
      "_view_module": "@jupyter-widgets/controls",
      "_view_module_version": "1.5.0",
      "_view_name": "ProgressView",
      "bar_style": "",
      "description": "Processing: ",
      "description_tooltip": null,
      "layout": "IPY_MODEL_baf068abf86f44a9a9502f79dfe17eb5",
      "max": 5,
      "min": 0,
      "orientation": "horizontal",
      "style": "IPY_MODEL_14244d0fca4f40a8b3552675869748a3",
      "value": 4
     }
    },
    "5eb7949ac4a140118e9ee6be49921284": {
     "model_module": "@jupyter-widgets/controls",
     "model_name": "IntProgressModel",
     "state": {
      "_dom_classes": [],
      "_model_module": "@jupyter-widgets/controls",
      "_model_module_version": "1.5.0",
      "_model_name": "IntProgressModel",
      "_view_count": null,
      "_view_module": "@jupyter-widgets/controls",
      "_view_module_version": "1.5.0",
      "_view_name": "ProgressView",
      "bar_style": "",
      "description": "Processing: ",
      "description_tooltip": null,
      "layout": "IPY_MODEL_c9bbc67e75d1477e8cd7a64502b98704",
      "max": 5,
      "min": 0,
      "orientation": "horizontal",
      "style": "IPY_MODEL_19ea86ac89a349e281011fbd327c29c0",
      "value": 1
     }
    },
    "63e7b6e04e3d43118698abaca0973960": {
     "model_module": "@jupyter-widgets/controls",
     "model_name": "ToggleButtonsStyleModel",
     "state": {
      "_model_module": "@jupyter-widgets/controls",
      "_model_module_version": "1.5.0",
      "_model_name": "ToggleButtonsStyleModel",
      "_view_count": null,
      "_view_module": "@jupyter-widgets/base",
      "_view_module_version": "1.2.0",
      "_view_name": "StyleView",
      "button_width": "",
      "description_width": "",
      "font_weight": ""
     }
    },
    "83a10da0205742d9a383671a0be02606": {
     "model_module": "@jupyter-widgets/controls",
     "model_name": "ProgressStyleModel",
     "state": {
      "_model_module": "@jupyter-widgets/controls",
      "_model_module_version": "1.5.0",
      "_model_name": "ProgressStyleModel",
      "_view_count": null,
      "_view_module": "@jupyter-widgets/base",
      "_view_module_version": "1.2.0",
      "_view_name": "StyleView",
      "bar_color": null,
      "description_width": ""
     }
    },
    "aeb87dce945f4d588807575e9f6e64c3": {
     "model_module": "@jupyter-widgets/base",
     "model_name": "LayoutModel",
     "state": {
      "_model_module": "@jupyter-widgets/base",
      "_model_module_version": "1.2.0",
      "_model_name": "LayoutModel",
      "_view_count": null,
      "_view_module": "@jupyter-widgets/base",
      "_view_module_version": "1.2.0",
      "_view_name": "LayoutView",
      "align_content": null,
      "align_items": null,
      "align_self": null,
      "border": null,
      "bottom": null,
      "display": null,
      "flex": null,
      "flex_flow": null,
      "grid_area": null,
      "grid_auto_columns": null,
      "grid_auto_flow": null,
      "grid_auto_rows": null,
      "grid_column": null,
      "grid_gap": null,
      "grid_row": null,
      "grid_template_areas": null,
      "grid_template_columns": null,
      "grid_template_rows": null,
      "height": null,
      "justify_content": null,
      "justify_items": null,
      "left": null,
      "margin": null,
      "max_height": null,
      "max_width": null,
      "min_height": null,
      "min_width": null,
      "object_fit": null,
      "object_position": null,
      "order": null,
      "overflow": null,
      "overflow_x": null,
      "overflow_y": null,
      "padding": null,
      "right": null,
      "top": null,
      "visibility": null,
      "width": null
     }
    },
    "b7731479f5f141289a4939cb73adfb28": {
     "model_module": "@jupyter-widgets/base",
     "model_name": "LayoutModel",
     "state": {
      "_model_module": "@jupyter-widgets/base",
      "_model_module_version": "1.2.0",
      "_model_name": "LayoutModel",
      "_view_count": null,
      "_view_module": "@jupyter-widgets/base",
      "_view_module_version": "1.2.0",
      "_view_name": "LayoutView",
      "align_content": null,
      "align_items": null,
      "align_self": null,
      "border": null,
      "bottom": null,
      "display": null,
      "flex": null,
      "flex_flow": null,
      "grid_area": null,
      "grid_auto_columns": null,
      "grid_auto_flow": null,
      "grid_auto_rows": null,
      "grid_column": null,
      "grid_gap": null,
      "grid_row": null,
      "grid_template_areas": null,
      "grid_template_columns": null,
      "grid_template_rows": null,
      "height": null,
      "justify_content": null,
      "justify_items": null,
      "left": null,
      "margin": null,
      "max_height": null,
      "max_width": null,
      "min_height": null,
      "min_width": null,
      "object_fit": null,
      "object_position": null,
      "order": null,
      "overflow": null,
      "overflow_x": null,
      "overflow_y": null,
      "padding": null,
      "right": null,
      "top": null,
      "visibility": null,
      "width": null
     }
    },
    "baf068abf86f44a9a9502f79dfe17eb5": {
     "model_module": "@jupyter-widgets/base",
     "model_name": "LayoutModel",
     "state": {
      "_model_module": "@jupyter-widgets/base",
      "_model_module_version": "1.2.0",
      "_model_name": "LayoutModel",
      "_view_count": null,
      "_view_module": "@jupyter-widgets/base",
      "_view_module_version": "1.2.0",
      "_view_name": "LayoutView",
      "align_content": null,
      "align_items": null,
      "align_self": null,
      "border": null,
      "bottom": null,
      "display": null,
      "flex": null,
      "flex_flow": null,
      "grid_area": null,
      "grid_auto_columns": null,
      "grid_auto_flow": null,
      "grid_auto_rows": null,
      "grid_column": null,
      "grid_gap": null,
      "grid_row": null,
      "grid_template_areas": null,
      "grid_template_columns": null,
      "grid_template_rows": null,
      "height": null,
      "justify_content": null,
      "justify_items": null,
      "left": null,
      "margin": null,
      "max_height": null,
      "max_width": null,
      "min_height": null,
      "min_width": null,
      "object_fit": null,
      "object_position": null,
      "order": null,
      "overflow": null,
      "overflow_x": null,
      "overflow_y": null,
      "padding": null,
      "right": null,
      "top": null,
      "visibility": null,
      "width": null
     }
    },
    "c9bbc67e75d1477e8cd7a64502b98704": {
     "model_module": "@jupyter-widgets/base",
     "model_name": "LayoutModel",
     "state": {
      "_model_module": "@jupyter-widgets/base",
      "_model_module_version": "1.2.0",
      "_model_name": "LayoutModel",
      "_view_count": null,
      "_view_module": "@jupyter-widgets/base",
      "_view_module_version": "1.2.0",
      "_view_name": "LayoutView",
      "align_content": null,
      "align_items": null,
      "align_self": null,
      "border": null,
      "bottom": null,
      "display": null,
      "flex": null,
      "flex_flow": null,
      "grid_area": null,
      "grid_auto_columns": null,
      "grid_auto_flow": null,
      "grid_auto_rows": null,
      "grid_column": null,
      "grid_gap": null,
      "grid_row": null,
      "grid_template_areas": null,
      "grid_template_columns": null,
      "grid_template_rows": null,
      "height": null,
      "justify_content": null,
      "justify_items": null,
      "left": null,
      "margin": null,
      "max_height": null,
      "max_width": null,
      "min_height": null,
      "min_width": null,
      "object_fit": null,
      "object_position": null,
      "order": null,
      "overflow": null,
      "overflow_x": null,
      "overflow_y": null,
      "padding": null,
      "right": null,
      "top": null,
      "visibility": null,
      "width": null
     }
    },
    "ee5416de1bb1462e87b2fa6f9065d646": {
     "model_module": "@jupyter-widgets/controls",
     "model_name": "IntProgressModel",
     "state": {
      "_dom_classes": [],
      "_model_module": "@jupyter-widgets/controls",
      "_model_module_version": "1.5.0",
      "_model_name": "IntProgressModel",
      "_view_count": null,
      "_view_module": "@jupyter-widgets/controls",
      "_view_module_version": "1.5.0",
      "_view_name": "ProgressView",
      "bar_style": "",
      "description": "Processing: ",
      "description_tooltip": null,
      "layout": "IPY_MODEL_aeb87dce945f4d588807575e9f6e64c3",
      "max": 5,
      "min": 0,
      "orientation": "horizontal",
      "style": "IPY_MODEL_36a9c708b65e498586a07d526e6a5d06",
      "value": 4
     }
    }
   }
  }
 },
 "nbformat": 4,
 "nbformat_minor": 4
}
