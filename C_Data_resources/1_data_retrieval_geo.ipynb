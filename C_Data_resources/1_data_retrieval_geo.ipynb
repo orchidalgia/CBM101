{
 "cells": [
  {
   "cell_type": "markdown",
   "metadata": {
    "toc": true
   },
   "source": [
    "<h1>Table of Contents<span class=\"tocSkip\"></span></h1>\n",
    "<div class=\"toc\"><ul class=\"toc-item\"><li><span><a href=\"#Data-retrieval-from-GEO\" data-toc-modified-id=\"Data-retrieval-from-GEO-1\">Data retrieval from GEO</a></span><ul class=\"toc-item\"><li><span><a href=\"#Installation-of-libraries\" data-toc-modified-id=\"Installation-of-libraries-1.1\">Installation of libraries</a></span></li><li><span><a href=\"#Exercise-1\" data-toc-modified-id=\"Exercise-1-1.2\">Exercise 1</a></span><ul class=\"toc-item\"><li><ul class=\"toc-item\"><li><span><a href=\"#Exercise-1.-Inspect-your-downloaded-data.-a)-what-data-type-is-it?\" data-toc-modified-id=\"Exercise-1.-Inspect-your-downloaded-data.-a)-what-data-type-is-it?-1.2.0.1\">Exercise 1. Inspect your downloaded data. a) what data type is it?</a></span></li><li><span><a href=\"#b)-what-does-it-contain?-Try-to-play-around-to-access-these-different-contents.\" data-toc-modified-id=\"b)-what-does-it-contain?-Try-to-play-around-to-access-these-different-contents.-1.2.0.2\">b) what does it contain? Try to play around to access these different contents.</a></span></li><li><span><a href=\"#c)-look-into-the-GSMs-of-kidney_data.\" data-toc-modified-id=\"c)-look-into-the-GSMs-of-kidney_data.-1.2.0.3\">c) look into the GSMs of <code>kidney_data</code>.</a></span></li></ul></li><li><span><a href=\"#Printing-a-summary\" data-toc-modified-id=\"Printing-a-summary-1.2.1\">Printing a summary</a></span><ul class=\"toc-item\"><li><span><a href=\"#Exercise-2.a.\" data-toc-modified-id=\"Exercise-2.a.-1.2.1.1\">Exercise 2.a.</a></span></li><li><span><a href=\"#b)-use-the-GSM-example-and-GPL-example-codes-above-to-print-information-of-the-data\" data-toc-modified-id=\"b)-use-the-GSM-example-and-GPL-example-codes-above-to-print-information-of-the-data-1.2.1.2\">b) use the GSM example and GPL example codes above to print information of the data</a></span></li></ul></li></ul></li></ul></li></ul></div>"
   ]
  },
  {
   "cell_type": "markdown",
   "metadata": {
    "collapsed": true
   },
   "source": [
    "# Data retrieval from GEO"
   ]
  },
  {
   "cell_type": "markdown",
   "metadata": {},
   "source": [
    "In this exercise, we are downloading data from the NCBI GEO database via programmatic access. This exercise is based on the example from https://geoparse.readthedocs.io/en/latest/usage.html#examples."
   ]
  },
  {
   "cell_type": "markdown",
   "metadata": {},
   "source": [
    "GEOparse is a Python library to access Gene Expression Omnibus Database (GEO). GEOparse.get_GEO() will check the GEO database for a specified accession ID and download it to specified directory. The result will be loaded into GEOparse.GSE file. See the documentation in https://geoparse.readthedocs.io/en/latest/introduction.html#features.\n",
    "\n",
    "\n",
    "We will get familiar with exploring unfamiliar data."
   ]
  },
  {
   "cell_type": "markdown",
   "metadata": {},
   "source": [
    "## Installation of libraries"
   ]
  },
  {
   "cell_type": "markdown",
   "metadata": {},
   "source": [
    "The first step is to import the required Python libraries. \n"
   ]
  },
  {
   "cell_type": "code",
   "execution_count": 1,
   "metadata": {},
   "outputs": [],
   "source": [
    "#pip is the package installer for Python, see https://pypi.org/project/pip/ for details\n",
    "#\n",
    "#import sys\n",
    "#!{sys.executable} -m pip install GEOparse"
   ]
  },
  {
   "cell_type": "code",
   "execution_count": 2,
   "metadata": {},
   "outputs": [],
   "source": [
    "import GEOparse\n",
    "# To read, write and process tabular data:\n",
    "import pandas as pd"
   ]
  },
  {
   "cell_type": "markdown",
   "metadata": {},
   "source": [
    "## Exercise 1"
   ]
  },
  {
   "cell_type": "markdown",
   "metadata": {},
   "source": [
    "Let's download an example data set from the study \"Kidney Transplant Rejection and Tissue Injury by Gene Profiling of Biopsies and Peripheral Blood Lymphocytes\" by Flechner et al, 2007 (https://www.ncbi.nlm.nih.gov/pmc/articles/PMC2041877/)."
   ]
  },
  {
   "cell_type": "code",
   "execution_count": 3,
   "metadata": {},
   "outputs": [
    {
     "data": {
      "text/plain": [
       "'F:\\\\CBM101\\\\C_Data_resources'"
      ]
     },
     "execution_count": 3,
     "metadata": {},
     "output_type": "execute_result"
    }
   ],
   "source": [
    "# Check your current working folder if necessary:\n",
    "import os\n",
    "os.getcwd()"
   ]
  },
  {
   "cell_type": "code",
   "execution_count": 5,
   "metadata": {
    "scrolled": true
   },
   "outputs": [
    {
     "name": "stderr",
     "output_type": "stream",
     "text": [
      "16-Jun-2022 11:28:15 DEBUG utils - Directory ./ already exists. Skipping.\n",
      "16-Jun-2022 11:28:15 INFO GEOparse - Downloading ftp://ftp.ncbi.nlm.nih.gov/geo/series/GSE1nnn/GSE1563/soft/GSE1563_family.soft.gz to ./GSE1563_family.soft.gz\n",
      "18.9MB [00:41, 478kB/s]                                                                                                \n"
     ]
    },
    {
     "ename": "OSError",
     "evalue": "Download failed due to 'Downloaded size do not match the expected size for ftp://ftp.ncbi.nlm.nih.gov/geo/series/GSE1nnn/GSE1563/soft/GSE1563_family.soft.gz'. ID could be incorrect or the data might not be public yet.",
     "output_type": "error",
     "traceback": [
      "\u001b[1;31m---------------------------------------------------------------------------\u001b[0m",
      "\u001b[1;31mValueError\u001b[0m                                Traceback (most recent call last)",
      "File \u001b[1;32mF:\\miniconda\\envs\\cbmTest\\lib\\site-packages\\GEOparse\\utils.py:80\u001b[0m, in \u001b[0;36mdownload_from_url\u001b[1;34m(url, destination_path, force, aspera, silent)\u001b[0m\n\u001b[0;32m     79\u001b[0m     \u001b[38;5;28;01melse\u001b[39;00m:\n\u001b[1;32m---> 80\u001b[0m         \u001b[43mfn\u001b[49m\u001b[38;5;241;43m.\u001b[39;49m\u001b[43mdownload\u001b[49m\u001b[43m(\u001b[49m\u001b[43msilent\u001b[49m\u001b[38;5;241;43m=\u001b[39;49m\u001b[43msilent\u001b[49m\u001b[43m,\u001b[49m\u001b[43m \u001b[49m\u001b[43mforce\u001b[49m\u001b[38;5;241;43m=\u001b[39;49m\u001b[43mforce\u001b[49m\u001b[43m)\u001b[49m\n\u001b[0;32m     81\u001b[0m \u001b[38;5;28;01mexcept\u001b[39;00m \u001b[38;5;167;01mException\u001b[39;00m \u001b[38;5;28;01mas\u001b[39;00m err:\n",
      "File \u001b[1;32mF:\\miniconda\\envs\\cbmTest\\lib\\site-packages\\GEOparse\\downloader.py:82\u001b[0m, in \u001b[0;36mDownloader.download\u001b[1;34m(self, force, silent)\u001b[0m\n\u001b[0;32m     81\u001b[0m     \u001b[38;5;28;01melse\u001b[39;00m:\n\u001b[1;32m---> 82\u001b[0m         \u001b[43m_download\u001b[49m\u001b[43m(\u001b[49m\u001b[43m)\u001b[49m\n\u001b[0;32m     83\u001b[0m \u001b[38;5;28;01mfinally\u001b[39;00m:\n",
      "File \u001b[1;32mF:\\miniconda\\envs\\cbmTest\\lib\\site-packages\\GEOparse\\downloader.py:53\u001b[0m, in \u001b[0;36mDownloader.download.<locals>._download\u001b[1;34m()\u001b[0m\n\u001b[0;32m     52\u001b[0m \u001b[38;5;28;01melif\u001b[39;00m \u001b[38;5;28mself\u001b[39m\u001b[38;5;241m.\u001b[39murl\u001b[38;5;241m.\u001b[39mstartswith(\u001b[38;5;124m\"\u001b[39m\u001b[38;5;124mftp\u001b[39m\u001b[38;5;124m\"\u001b[39m):\n\u001b[1;32m---> 53\u001b[0m     \u001b[38;5;28;43mself\u001b[39;49m\u001b[38;5;241;43m.\u001b[39;49m\u001b[43m_download_ftp\u001b[49m\u001b[43m(\u001b[49m\u001b[43msilent\u001b[49m\u001b[38;5;241;43m=\u001b[39;49m\u001b[43msilent\u001b[49m\u001b[43m)\u001b[49m\n\u001b[0;32m     54\u001b[0m \u001b[38;5;28;01melse\u001b[39;00m:\n",
      "File \u001b[1;32mF:\\miniconda\\envs\\cbmTest\\lib\\site-packages\\GEOparse\\downloader.py:189\u001b[0m, in \u001b[0;36mDownloader._download_ftp\u001b[1;34m(self, silent)\u001b[0m\n\u001b[0;32m    188\u001b[0m \u001b[38;5;28;01mif\u001b[39;00m \u001b[38;5;28msum\u001b[39m(wrote) \u001b[38;5;241m!=\u001b[39m total_size:\n\u001b[1;32m--> 189\u001b[0m     \u001b[38;5;28;01mraise\u001b[39;00m \u001b[38;5;167;01mValueError\u001b[39;00m(\n\u001b[0;32m    190\u001b[0m         \u001b[38;5;124m\"\u001b[39m\u001b[38;5;124mDownloaded size do not match the expected size for \u001b[39m\u001b[38;5;132;01m%s\u001b[39;00m\u001b[38;5;124m\"\u001b[39m \u001b[38;5;241m%\u001b[39m (\u001b[38;5;28mself\u001b[39m\u001b[38;5;241m.\u001b[39murl)\n\u001b[0;32m    191\u001b[0m     )\n\u001b[0;32m    192\u001b[0m \u001b[38;5;28;01melse\u001b[39;00m:\n",
      "\u001b[1;31mValueError\u001b[0m: Downloaded size do not match the expected size for ftp://ftp.ncbi.nlm.nih.gov/geo/series/GSE1nnn/GSE1563/soft/GSE1563_family.soft.gz",
      "\nDuring handling of the above exception, another exception occurred:\n",
      "\u001b[1;31mOSError\u001b[0m                                   Traceback (most recent call last)",
      "Input \u001b[1;32mIn [5]\u001b[0m, in \u001b[0;36m<cell line: 3>\u001b[1;34m()\u001b[0m\n\u001b[0;32m      1\u001b[0m \u001b[38;5;66;03m# download the data set using GEOparse(the data is available in GEO database with the accession ID GSE1563)\u001b[39;00m\n\u001b[1;32m----> 3\u001b[0m kidney_data \u001b[38;5;241m=\u001b[39m \u001b[43mGEOparse\u001b[49m\u001b[38;5;241;43m.\u001b[39;49m\u001b[43mget_GEO\u001b[49m\u001b[43m(\u001b[49m\u001b[43mgeo\u001b[49m\u001b[38;5;241;43m=\u001b[39;49m\u001b[38;5;124;43m\"\u001b[39;49m\u001b[38;5;124;43mGSE1563\u001b[39;49m\u001b[38;5;124;43m\"\u001b[39;49m\u001b[43m,\u001b[49m\u001b[43m \u001b[49m\u001b[43mdestdir\u001b[49m\u001b[38;5;241;43m=\u001b[39;49m\u001b[38;5;124;43m\"\u001b[39;49m\u001b[38;5;124;43m./\u001b[39;49m\u001b[38;5;124;43m\"\u001b[39;49m\u001b[43m)\u001b[49m\n",
      "File \u001b[1;32mF:\\miniconda\\envs\\cbmTest\\lib\\site-packages\\GEOparse\\GEOparse.py:96\u001b[0m, in \u001b[0;36mget_GEO\u001b[1;34m(geo, filepath, destdir, how, annotate_gpl, geotype, include_data, silent, aspera, partial, open_kwargs)\u001b[0m\n\u001b[0;32m     93\u001b[0m     logger\u001b[38;5;241m.\u001b[39msetLevel(\u001b[38;5;241m100\u001b[39m)  \u001b[38;5;66;03m# More than critical\u001b[39;00m\n\u001b[0;32m     95\u001b[0m \u001b[38;5;28;01mif\u001b[39;00m filepath \u001b[38;5;129;01mis\u001b[39;00m \u001b[38;5;28;01mNone\u001b[39;00m:\n\u001b[1;32m---> 96\u001b[0m     filepath, geotype \u001b[38;5;241m=\u001b[39m \u001b[43mget_GEO_file\u001b[49m\u001b[43m(\u001b[49m\n\u001b[0;32m     97\u001b[0m \u001b[43m        \u001b[49m\u001b[43mgeo\u001b[49m\u001b[43m,\u001b[49m\n\u001b[0;32m     98\u001b[0m \u001b[43m        \u001b[49m\u001b[43mdestdir\u001b[49m\u001b[38;5;241;43m=\u001b[39;49m\u001b[43mdestdir\u001b[49m\u001b[43m,\u001b[49m\n\u001b[0;32m     99\u001b[0m \u001b[43m        \u001b[49m\u001b[43mhow\u001b[49m\u001b[38;5;241;43m=\u001b[39;49m\u001b[43mhow\u001b[49m\u001b[43m,\u001b[49m\n\u001b[0;32m    100\u001b[0m \u001b[43m        \u001b[49m\u001b[43mannotate_gpl\u001b[49m\u001b[38;5;241;43m=\u001b[39;49m\u001b[43mannotate_gpl\u001b[49m\u001b[43m,\u001b[49m\n\u001b[0;32m    101\u001b[0m \u001b[43m        \u001b[49m\u001b[43minclude_data\u001b[49m\u001b[38;5;241;43m=\u001b[39;49m\u001b[43minclude_data\u001b[49m\u001b[43m,\u001b[49m\n\u001b[0;32m    102\u001b[0m \u001b[43m        \u001b[49m\u001b[43msilent\u001b[49m\u001b[38;5;241;43m=\u001b[39;49m\u001b[43msilent\u001b[49m\u001b[43m,\u001b[49m\n\u001b[0;32m    103\u001b[0m \u001b[43m        \u001b[49m\u001b[43maspera\u001b[49m\u001b[38;5;241;43m=\u001b[39;49m\u001b[43maspera\u001b[49m\u001b[43m,\u001b[49m\n\u001b[0;32m    104\u001b[0m \u001b[43m    \u001b[49m\u001b[43m)\u001b[49m\n\u001b[0;32m    105\u001b[0m \u001b[38;5;28;01melse\u001b[39;00m:\n\u001b[0;32m    106\u001b[0m     \u001b[38;5;28;01mif\u001b[39;00m geotype \u001b[38;5;129;01mis\u001b[39;00m \u001b[38;5;28;01mNone\u001b[39;00m:\n",
      "File \u001b[1;32mF:\\miniconda\\envs\\cbmTest\\lib\\site-packages\\GEOparse\\GEOparse.py:263\u001b[0m, in \u001b[0;36mget_GEO_file\u001b[1;34m(geo, destdir, annotate_gpl, how, include_data, silent, aspera)\u001b[0m\n\u001b[0;32m    261\u001b[0m \u001b[38;5;28;01mif\u001b[39;00m \u001b[38;5;129;01mnot\u001b[39;00m path\u001b[38;5;241m.\u001b[39misfile(filepath):\n\u001b[0;32m    262\u001b[0m     logger\u001b[38;5;241m.\u001b[39minfo(\u001b[38;5;124m\"\u001b[39m\u001b[38;5;124mDownloading \u001b[39m\u001b[38;5;132;01m%s\u001b[39;00m\u001b[38;5;124m to \u001b[39m\u001b[38;5;132;01m%s\u001b[39;00m\u001b[38;5;124m\"\u001b[39m \u001b[38;5;241m%\u001b[39m (url, filepath))\n\u001b[1;32m--> 263\u001b[0m     \u001b[43mutils\u001b[49m\u001b[38;5;241;43m.\u001b[39;49m\u001b[43mdownload_from_url\u001b[49m\u001b[43m(\u001b[49m\u001b[43murl\u001b[49m\u001b[43m,\u001b[49m\u001b[43m \u001b[49m\u001b[43mfilepath\u001b[49m\u001b[43m,\u001b[49m\u001b[43m \u001b[49m\u001b[43msilent\u001b[49m\u001b[38;5;241;43m=\u001b[39;49m\u001b[43msilent\u001b[49m\u001b[43m,\u001b[49m\u001b[43m \u001b[49m\u001b[43maspera\u001b[49m\u001b[38;5;241;43m=\u001b[39;49m\u001b[43maspera\u001b[49m\u001b[43m)\u001b[49m\n\u001b[0;32m    264\u001b[0m \u001b[38;5;28;01melse\u001b[39;00m:\n\u001b[0;32m    265\u001b[0m     logger\u001b[38;5;241m.\u001b[39minfo(\u001b[38;5;124m\"\u001b[39m\u001b[38;5;124mFile already exist: using local version.\u001b[39m\u001b[38;5;124m\"\u001b[39m)\n",
      "File \u001b[1;32mF:\\miniconda\\envs\\cbmTest\\lib\\site-packages\\GEOparse\\utils.py:82\u001b[0m, in \u001b[0;36mdownload_from_url\u001b[1;34m(url, destination_path, force, aspera, silent)\u001b[0m\n\u001b[0;32m     80\u001b[0m         fn\u001b[38;5;241m.\u001b[39mdownload(silent\u001b[38;5;241m=\u001b[39msilent, force\u001b[38;5;241m=\u001b[39mforce)\n\u001b[0;32m     81\u001b[0m \u001b[38;5;28;01mexcept\u001b[39;00m \u001b[38;5;167;01mException\u001b[39;00m \u001b[38;5;28;01mas\u001b[39;00m err:\n\u001b[1;32m---> 82\u001b[0m     \u001b[38;5;28;01mraise\u001b[39;00m \u001b[38;5;167;01mIOError\u001b[39;00m(\n\u001b[0;32m     83\u001b[0m         \u001b[38;5;124m\"\u001b[39m\u001b[38;5;124mDownload failed due to \u001b[39m\u001b[38;5;124m'\u001b[39m\u001b[38;5;132;01m%s\u001b[39;00m\u001b[38;5;124m'\u001b[39m\u001b[38;5;124m. ID could be incorrect or the \u001b[39m\u001b[38;5;124m\"\u001b[39m \u001b[38;5;241m%\u001b[39m err\n\u001b[0;32m     84\u001b[0m         \u001b[38;5;241m+\u001b[39m \u001b[38;5;124m\"\u001b[39m\u001b[38;5;124mdata might not be public yet.\u001b[39m\u001b[38;5;124m\"\u001b[39m\n\u001b[0;32m     85\u001b[0m     )\n",
      "\u001b[1;31mOSError\u001b[0m: Download failed due to 'Downloaded size do not match the expected size for ftp://ftp.ncbi.nlm.nih.gov/geo/series/GSE1nnn/GSE1563/soft/GSE1563_family.soft.gz'. ID could be incorrect or the data might not be public yet."
     ]
    }
   ],
   "source": [
    "# download the data set using GEOparse(the data is available in GEO database with the accession ID GSE1563)\n",
    "\n",
    "kidney_data = GEOparse.get_GEO(geo=\"GSE1563\", destdir=\"./\")\n",
    "\n"
   ]
  },
  {
   "cell_type": "markdown",
   "metadata": {},
   "source": [
    "#### Exercise 1. Inspect your downloaded data. a) what data type is it?"
   ]
  },
  {
   "cell_type": "code",
   "execution_count": null,
   "metadata": {},
   "outputs": [],
   "source": [
    "# %load solutions/ex1_1a.py\n",
    "print(kidney_data)\n",
    "type(kidney_data)"
   ]
  },
  {
   "cell_type": "markdown",
   "metadata": {},
   "source": [
    "#### b) what does it contain? Try to play around to access these different contents.\n",
    "Hint: use `dir` or write `kidney_data.` and press Tab"
   ]
  },
  {
   "cell_type": "code",
   "execution_count": null,
   "metadata": {},
   "outputs": [],
   "source": [
    "# %load solutions/ex1_1b.py\n",
    "dir(kidney_data)\n",
    "\n",
    "# for example: \n",
    "print(kidney_data.name, '\\n')\n",
    "print(kidney_data.get_type(), '\\n')\n",
    "print(kidney_data.show_metadata())"
   ]
  },
  {
   "cell_type": "markdown",
   "metadata": {},
   "source": [
    "#### c) look into the GSMs of `kidney_data`. \n",
    "Hint: you can also use the Tab trick multiple times to go deeper e.g. `kidney_data.gsms.` and press Tab"
   ]
  },
  {
   "cell_type": "code",
   "execution_count": null,
   "metadata": {},
   "outputs": [],
   "source": [
    "kidney_data.gsms"
   ]
  },
  {
   "cell_type": "code",
   "execution_count": null,
   "metadata": {},
   "outputs": [],
   "source": [
    "# %load solutions/ex1_1c.py\n",
    "\n",
    "# by usingt he above trick we see that kidney_data.gsms is a dictionary (you can validate this)\n",
    "\n",
    "type(kidney_data.gsms)\n",
    "\n",
    "# a dict is a container of key,value pairs. The values in this case are of the class GEOparse.GEOTypes.GSM \n",
    "# e.g.\n",
    "print(type(list(kidney_data.gsms.values())[0]))\n",
    "\n",
    "## to get the available methods:\n",
    "fst = list(kidney_data.gsms.values())[0]\n",
    "dir(fst)\n",
    "\n",
    "# for instance look at metadata:\n",
    "\n",
    "fst.metadata"
   ]
  },
  {
   "cell_type": "markdown",
   "metadata": {},
   "source": [
    "### Printing a summary\n",
    "We could then do something like this:"
   ]
  },
  {
   "cell_type": "code",
   "execution_count": null,
   "metadata": {
    "scrolled": true
   },
   "outputs": [],
   "source": [
    "# A GSM (or a Sample) contains information the conditions and preparation of the sample\n",
    "\n",
    "print(\"GSM example:\\n-------------\")\n",
    "for gsm_name, gsm in kidney_data.gsms.items():\n",
    "    print(\"Name: \", gsm_name)\n",
    "    print(\"Metadata:\",)\n",
    "    for key, value in gsm.metadata.items():\n",
    "        print(\" - %s : %s\" % (key, \", \".join(value)))\n",
    "    print (\"Table data:\",)\n",
    "    print()\n",
    "    print (gsm.table.head())\n",
    "    break # so we stop after the first\n",
    "    "
   ]
  },
  {
   "cell_type": "markdown",
   "metadata": {},
   "source": [
    "or this:"
   ]
  },
  {
   "cell_type": "code",
   "execution_count": null,
   "metadata": {},
   "outputs": [],
   "source": [
    "# A GPL (or a Platform) contains a tab-delimited table containing the array definition eg. mappings from probe IDs to RefSeq IDs\n",
    "\n",
    "print()\n",
    "print(\"GPL example:\\n-------------\")\n",
    "for gpl_name, gpl in kidney_data.gpls.items():\n",
    "    print(\"Name: \", gpl_name)\n",
    "    print(\"Metadata:\",)\n",
    "    for key, value in gpl.metadata.items():\n",
    "        print(\" - %s : %s\" % (key, \", \".join(value)))\n",
    "    print(\"Table data:\",)\n",
    "    print(gpl.table.head())\n",
    "    break"
   ]
  },
  {
   "cell_type": "markdown",
   "metadata": {},
   "source": [
    "#### Exercise 2.a.\n",
    "Now your task is to load the data set from the study \"A circadian gene expression atlas in mammals assayed by microarray\" by Zhang et al (http://www.pnas.org/content/111/45/16219.long). The data is available in the GEO database (https://www.ncbi.nlm.nih.gov/geo/query/acc.cgi?acc=GSE54650, accession ID 54650)."
   ]
  },
  {
   "cell_type": "code",
   "execution_count": null,
   "metadata": {},
   "outputs": [],
   "source": [
    "# %load solutions/ex1_2a.py\n",
    "# download the data set using GEOparse:\n",
    "circadian_expression = GEOparse.get_GEO(geo=\"GSE54650\", destdir=\"./\")\n"
   ]
  },
  {
   "cell_type": "markdown",
   "metadata": {},
   "source": [
    "#### b) use the GSM example and GPL example codes above to print information of the data"
   ]
  },
  {
   "cell_type": "code",
   "execution_count": null,
   "metadata": {},
   "outputs": [],
   "source": [
    "# %load solutions/ex1_2b.py\n",
    "\n",
    "# we only have to change the name of the data variable\n",
    "\n",
    "print()\n",
    "print(\"GSM example:\\n-------------\")\n",
    "for gsm_name, gsm in circadian_expression.gsms.items():\n",
    "    print(\"Name: \", gsm_name)\n",
    "    print(\"Metadata:\",)\n",
    "    for key, value in gsm.metadata.items():\n",
    "        print(\" - %s : %s\" % (key, \", \".join(value)))\n",
    "    print (\"Table data:\",)\n",
    "    print (gsm.table.head())\n",
    "    break\n",
    "\n",
    "    \n",
    "print('\\n@@@@@@@@@@@@@@@@@@@@@@@@@@@@@@@@@@@@@@@@@@@@@@@@@@@@@@@@@@@@@@@@@@')\n",
    "    \n",
    "    \n",
    "# GLP example:\n",
    "print()\n",
    "print(\"GPL example:\\n-------------\")\n",
    "for gpl_name, gpl in circadian_expression.gpls.items():\n",
    "    print(\"Name: \", gpl_name)\n",
    "    print(\"Metadata:\",)\n",
    "    for key, value in gpl.metadata.items():\n",
    "        print(\" - %s : %s\" % (key, \", \".join(value)))\n",
    "    print(\"Table data:\",)\n",
    "    print(gpl.table.head())\n",
    "    break"
   ]
  },
  {
   "cell_type": "code",
   "execution_count": null,
   "metadata": {},
   "outputs": [],
   "source": []
  }
 ],
 "metadata": {
  "kernelspec": {
   "display_name": "Python 3 (ipykernel)",
   "language": "python",
   "name": "python3"
  },
  "language_info": {
   "codemirror_mode": {
    "name": "ipython",
    "version": 3
   },
   "file_extension": ".py",
   "mimetype": "text/x-python",
   "name": "python",
   "nbconvert_exporter": "python",
   "pygments_lexer": "ipython3",
   "version": "3.9.12"
  },
  "toc": {
   "base_numbering": 1,
   "nav_menu": {},
   "number_sections": false,
   "sideBar": true,
   "skip_h1_title": false,
   "title_cell": "Table of Contents",
   "title_sidebar": "Contents",
   "toc_cell": true,
   "toc_position": {},
   "toc_section_display": true,
   "toc_window_display": false
  }
 },
 "nbformat": 4,
 "nbformat_minor": 2
}
