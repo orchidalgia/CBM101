{
 "cells": [
  {
   "cell_type": "markdown",
   "id": "f242334a",
   "metadata": {},
   "source": [
    "# Exercise"
   ]
  },
  {
   "cell_type": "markdown",
   "id": "391aca86",
   "metadata": {},
   "source": [
    "<div class='alert alert-warning'>\n",
    "Go to [OpenML](https://openml.org) and use the search function (or just look around) to find any dataset that interest you. Load the data (using examples from <a href='./2_Open_datasets.ipynb'> Previous notebook</a>.\n",
    "</div>"
   ]
  },
  {
   "cell_type": "code",
   "execution_count": null,
   "id": "c9fdf04e",
   "metadata": {},
   "outputs": [],
   "source": []
  },
  {
   "cell_type": "markdown",
   "id": "cdb932e6",
   "metadata": {},
   "source": [
    "<div class='alert alert-warning'>\n",
    "Try to do anything you can to understand the datatype, visualize it etc.\n",
    "  </div>  "
   ]
  },
  {
   "cell_type": "code",
   "execution_count": null,
   "id": "890a6dad",
   "metadata": {},
   "outputs": [],
   "source": []
  }
 ],
 "metadata": {
  "kernelspec": {
   "display_name": "Python 3 (ipykernel)",
   "language": "python",
   "name": "python3"
  },
  "language_info": {
   "codemirror_mode": {
    "name": "ipython",
    "version": 3
   },
   "file_extension": ".py",
   "mimetype": "text/x-python",
   "name": "python",
   "nbconvert_exporter": "python",
   "pygments_lexer": "ipython3",
   "version": "3.10.4"
  },
  "toc": {
   "base_numbering": 1,
   "nav_menu": {},
   "number_sections": false,
   "sideBar": true,
   "skip_h1_title": false,
   "title_cell": "Table of Contents",
   "title_sidebar": "Contents",
   "toc_cell": false,
   "toc_position": {},
   "toc_section_display": true,
   "toc_window_display": false
  }
 },
 "nbformat": 4,
 "nbformat_minor": 5
}
