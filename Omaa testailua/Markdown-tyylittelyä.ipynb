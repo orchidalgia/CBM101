{
 "cells": [
  {
   "cell_type": "markdown",
   "id": "07e67260",
   "metadata": {},
   "source": [
    "# Markdown-solujen värjäily"
   ]
  },
  {
   "cell_type": "markdown",
   "id": "0d3856f0",
   "metadata": {},
   "source": [
    "Empinken-paketilla, joka antaa neljä värivaihtoehtoa (jotenkin myös muokattavissa):"
   ]
  },
  {
   "cell_type": "markdown",
   "id": "fd99f52c",
   "metadata": {
    "tags": [
     "style-commentate"
    ]
   },
   "source": [
    "Kommentti"
   ]
  },
  {
   "cell_type": "markdown",
   "id": "4f20d87c",
   "metadata": {
    "tags": [
     "style-activity"
    ]
   },
   "source": [
    "Aktiviteetti"
   ]
  },
  {
   "cell_type": "markdown",
   "id": "e268914f",
   "metadata": {
    "tags": [
     "style-student"
    ]
   },
   "source": [
    "Tehtävä"
   ]
  },
  {
   "cell_type": "markdown",
   "id": "57fae26f",
   "metadata": {
    "tags": [
     "style-solution"
    ]
   },
   "source": [
    "Ratkaisu"
   ]
  },
  {
   "cell_type": "markdown",
   "id": "262dfa3e",
   "metadata": {},
   "source": [
    "<h2 style=\"background-color:skyblue; color:white\">HTML:llä juuri sellaiseksi kuin haluaa</h2>"
   ]
  },
  {
   "cell_type": "code",
   "execution_count": null,
   "id": "5444f4d8",
   "metadata": {},
   "outputs": [],
   "source": []
  }
 ],
 "metadata": {
  "kernelspec": {
   "display_name": "Python 3 (ipykernel)",
   "language": "python",
   "name": "python3"
  },
  "language_info": {
   "codemirror_mode": {
    "name": "ipython",
    "version": 3
   },
   "file_extension": ".py",
   "mimetype": "text/x-python",
   "name": "python",
   "nbconvert_exporter": "python",
   "pygments_lexer": "ipython3",
   "version": "3.10.4"
  }
 },
 "nbformat": 4,
 "nbformat_minor": 5
}
