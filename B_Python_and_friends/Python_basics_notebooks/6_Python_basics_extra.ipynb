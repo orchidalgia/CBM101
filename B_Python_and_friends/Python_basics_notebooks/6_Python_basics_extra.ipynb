{
 "cells": [
  {
   "cell_type": "markdown",
   "metadata": {},
   "source": [
    "# Python basics EXTRA\n",
    "\n",
    "## Comprehensions and generators"
   ]
  },
  {
   "cell_type": "markdown",
   "metadata": {},
   "source": [
    "We have already had a sneak peak of comprehensions, but here we explain it more in detail.\n",
    "\n",
    "*Comprehensions* are very useful to make code cleaner and easier to read. Let us say we have a function that determines whether a number is a prime number. (This function is very inefficient, so don't \"do this at home.\") If there's anything in this function that is unclear, don't worry. We'll get to it."
   ]
  },
  {
   "cell_type": "code",
   "execution_count": 164,
   "metadata": {},
   "outputs": [],
   "source": [
    "import math\n",
    "\n",
    "def is_prime(number):\n",
    "    return number > 1 and all(number % divisor != 0 for divisor in range(2, int(math.sqrt(number) + 1)))"
   ]
  },
  {
   "cell_type": "markdown",
   "metadata": {},
   "source": [
    "Let us say we want to create a list of all primes up to 20. We might be tempted to write code like this. Note the use of the `range` function to loop over integers up to a maximum (like a traditional for-loop) and the `.append()` method for lists."
   ]
  },
  {
   "cell_type": "code",
   "execution_count": 165,
   "metadata": {},
   "outputs": [
    {
     "data": {
      "text/plain": [
       "[2, 3, 5, 7, 11, 13, 17, 19]"
      ]
     },
     "execution_count": 165,
     "metadata": {},
     "output_type": "execute_result"
    }
   ],
   "source": [
    "primes = []                         # Create an empty list of prime numbers\n",
    "for num in range(20):               # range(20) is the collection 0, 1, 2, ..., 19\n",
    "    if is_prime(num):               # Check whether it is a prime number\n",
    "        primes.append(num)          # If so, add it to the list\n",
    "primes"
   ]
  },
  {
   "cell_type": "markdown",
   "metadata": {},
   "source": [
    "While this works, a much more elegant solution is the following."
   ]
  },
  {
   "cell_type": "code",
   "execution_count": 125,
   "metadata": {},
   "outputs": [
    {
     "data": {
      "text/plain": [
       "[2, 3, 5, 7, 11, 13, 17, 19]"
      ]
     },
     "execution_count": 125,
     "metadata": {},
     "output_type": "execute_result"
    }
   ],
   "source": [
    "[num for num in range(20) if is_prime(num)]"
   ]
  },
  {
   "cell_type": "markdown",
   "metadata": {},
   "source": [
    "This is called a *list comprehension*, and it's a thing of beauty. (Take a moment to reflect if you like.) The basic syntax looks like this:\n",
    "\n",
    "`[<something> for <something> in <collection>]`\n",
    "\n",
    "or like this:\n",
    "\n",
    "`[<something> for <something> in <collection> if <condition>]`"
   ]
  },
  {
   "cell_type": "markdown",
   "metadata": {},
   "source": [
    "Note that the condition is optional, therefore we can create a list of the numbers from 0 to 19 like this."
   ]
  },
  {
   "cell_type": "code",
   "execution_count": 126,
   "metadata": {},
   "outputs": [
    {
     "data": {
      "text/plain": [
       "[0, 1, 2, 3, 4, 5, 6, 7, 8, 9, 10, 11, 12, 13, 14, 15, 16, 17, 18, 19]"
      ]
     },
     "execution_count": 126,
     "metadata": {},
     "output_type": "execute_result"
    }
   ],
   "source": [
    "[num for num in range(20)]"
   ]
  },
  {
   "cell_type": "markdown",
   "metadata": {},
   "source": [
    "Or, we could create a list of the *squares* of prime numbers like this:"
   ]
  },
  {
   "cell_type": "code",
   "execution_count": 127,
   "metadata": {},
   "outputs": [
    {
     "data": {
      "text/plain": [
       "[4, 9, 25, 49, 121, 169, 289, 361]"
      ]
     },
     "execution_count": 127,
     "metadata": {},
     "output_type": "execute_result"
    }
   ],
   "source": [
    "[num**2 for num in range(20) if is_prime(num)]"
   ]
  },
  {
   "cell_type": "markdown",
   "metadata": {},
   "source": [
    "You can use comprehensions to create sets too."
   ]
  },
  {
   "cell_type": "code",
   "execution_count": 128,
   "metadata": {},
   "outputs": [
    {
     "data": {
      "text/plain": [
       "{2, 3, 5, 7, 11, 13, 17, 19}"
      ]
     },
     "execution_count": 128,
     "metadata": {},
     "output_type": "execute_result"
    }
   ],
   "source": [
    "{num for num in range(20) if is_prime(num)}"
   ]
  },
  {
   "cell_type": "markdown",
   "metadata": {},
   "source": [
    "Or even dictionaries. What do you think this does?"
   ]
  },
  {
   "cell_type": "code",
   "execution_count": 129,
   "metadata": {},
   "outputs": [],
   "source": [
    "mydict = {num: is_prime(num) for num in range(20)}"
   ]
  },
  {
   "cell_type": "markdown",
   "metadata": {},
   "source": [
    "You might think, then, that this creates a tuple:"
   ]
  },
  {
   "cell_type": "code",
   "execution_count": 130,
   "metadata": {},
   "outputs": [],
   "source": [
    "something = (num for num in range(20) if is_prime(num))"
   ]
  },
  {
   "cell_type": "markdown",
   "metadata": {},
   "source": [
    "However, this is a *generator*. A generator is a collection-like object that only creates output when requested. Therefore no primes have been computed yet. However when we loop over `something` (for example), primes appear."
   ]
  },
  {
   "cell_type": "code",
   "execution_count": 131,
   "metadata": {},
   "outputs": [
    {
     "name": "stdout",
     "output_type": "stream",
     "text": [
      "2\n",
      "3\n",
      "5\n",
      "7\n",
      "11\n",
      "13\n",
      "17\n",
      "19\n"
     ]
    }
   ],
   "source": [
    "for prime in something:\n",
    "    print(prime)"
   ]
  },
  {
   "cell_type": "markdown",
   "metadata": {},
   "source": [
    "If you try to loop over the same generator again, it won't work. They are one-use only."
   ]
  },
  {
   "cell_type": "code",
   "execution_count": 132,
   "metadata": {},
   "outputs": [],
   "source": [
    "for prime in something:\n",
    "    print(prime)           # No output, `something` is empty"
   ]
  },
  {
   "cell_type": "markdown",
   "metadata": {},
   "source": [
    "Looking back at the `is_prime` function again, we find this code:\n",
    "    \n",
    "    (number % divisor != 0 for divisor in range(2, int(math.sqrt(number) + 1)))\n",
    "    \n",
    "This is a generator that runs over all possible divisors to `number`. (The maximal possible divisor is the square root of `number`. We add one because the upper end of a `range` is exclusive, and we convert to an `int` because `range` doesn't work on floating point numbers.)\n",
    "\n",
    "It then checks whether `number` leaves a remainder of zero when divided by `divisor`, i.e. whether `divisor` is an *actual* divisor to `number`. It then produces `False` if is is the case, or `True` if not.\n",
    "\n",
    "A prime number is a number with no proper divisors. Therefore `number` is prime if *all* output of this generator are `True`. The function `all` checks this.\n",
    "\n",
    "    all(number % divisor != 0 for divisor in range(2, int(math.sqrt(number) + 1))))\n",
    "    \n",
    "Python allows you to drop one layer of parentheses if a generator is the only argument to a function, which lets us write\n",
    "\n",
    "    all(x for x in ...)\n",
    "    \n",
    "instead of\n",
    "\n",
    "    all((x for x in ...))"
   ]
  },
  {
   "cell_type": "markdown",
   "metadata": {},
   "source": [
    "## Iterables and itertools"
   ]
  },
  {
   "cell_type": "markdown",
   "metadata": {},
   "source": [
    "In Python, an *iterable* is anything that can be iterated over, in other words anything that fits in a `for`-loop. Lists, tuples, dictionaries, sets and strings are all iterables, but we have seen others too: the return value of the `range` function is iterable, as are generators.\n",
    "\n",
    "The Python ecosystem revolves heavily around iterables, and Python itself has a large amount of tools to work with them, often leading to very elegant code. I will present some of these tools here."
   ]
  },
  {
   "cell_type": "markdown",
   "metadata": {},
   "source": [
    "**WARNING:** With very few exceptions, all functions that return iterables return *generators*. In other words, they don't produce elements unless those elements are consumed by something, such as a `for`-loop. The exceptions are the functions `list`, `tuple`, `dict`, and `set`, which accept an iterable as an argument and then consumes it, returning the elements as a list, tuple, dictionary or set. Therefore, in the following, we will use `list(...)` to show the result of a piece of code. In regular code this would usually not be necessary."
   ]
  },
  {
   "cell_type": "markdown",
   "metadata": {},
   "source": [
    "The `map` function applies a function to each element of an iterable."
   ]
  },
  {
   "cell_type": "code",
   "execution_count": 133,
   "metadata": {},
   "outputs": [
    {
     "data": {
      "text/plain": [
       "[1, 2, 3]"
      ]
     },
     "execution_count": 133,
     "metadata": {},
     "output_type": "execute_result"
    }
   ],
   "source": [
    "list(map(int, ['1', 2.0, 3.1]))"
   ]
  },
  {
   "cell_type": "markdown",
   "metadata": {},
   "source": [
    "The `filter` function filters out the items of an iterable which fail a predicate test."
   ]
  },
  {
   "cell_type": "code",
   "execution_count": 134,
   "metadata": {},
   "outputs": [
    {
     "data": {
      "text/plain": [
       "['de', 'fg']"
      ]
     },
     "execution_count": 134,
     "metadata": {},
     "output_type": "execute_result"
    }
   ],
   "source": [
    "def has_length_two(s):\n",
    "    return len(s) == 2\n",
    "\n",
    "list(filter(has_length_two, ['a', 'abc', 'de', 'fg', 'hij']))"
   ]
  },
  {
   "cell_type": "markdown",
   "metadata": {},
   "source": [
    "Note that both `map` and `filter` can be expressed with comprehension syntax, and that this sort of syntax is usually considered preferable among Pythonistas."
   ]
  },
  {
   "cell_type": "markdown",
   "metadata": {},
   "source": [
    "The `enumerate` function allows you to iterate over both the elements of a collection *and* their indices at the same time."
   ]
  },
  {
   "cell_type": "code",
   "execution_count": 135,
   "metadata": {},
   "outputs": [
    {
     "name": "stdout",
     "output_type": "stream",
     "text": [
      "0 => a\n",
      "1 => b\n",
      "2 => c\n",
      "3 => d\n"
     ]
    }
   ],
   "source": [
    "for index, value in enumerate('abcd'):\n",
    "    print(index, '=>', value)"
   ]
  },
  {
   "cell_type": "markdown",
   "metadata": {},
   "source": [
    "This is much more elegant than code such as this:"
   ]
  },
  {
   "cell_type": "code",
   "execution_count": 136,
   "metadata": {},
   "outputs": [
    {
     "name": "stdout",
     "output_type": "stream",
     "text": [
      "0 => a\n",
      "1 => b\n",
      "2 => c\n",
      "3 => d\n"
     ]
    }
   ],
   "source": [
    "s = 'abcd'\n",
    "for index in range(len(s)):\n",
    "    print(index, '=>', s[index])"
   ]
  },
  {
   "cell_type": "markdown",
   "metadata": {},
   "source": [
    "The `zip` function lets you iterate over multiple iterables simultaneously, like a zipper."
   ]
  },
  {
   "cell_type": "code",
   "execution_count": 137,
   "metadata": {},
   "outputs": [
    {
     "data": {
      "text/plain": [
       "[('a', 'z'), ('b', 'y'), ('c', 'x'), ('d', 'w')]"
      ]
     },
     "execution_count": 137,
     "metadata": {},
     "output_type": "execute_result"
    }
   ],
   "source": [
    "list(zip('abcd', 'zyxw'))"
   ]
  },
  {
   "cell_type": "markdown",
   "metadata": {},
   "source": [
    "`zip` accepts an arbitrary number of iterables. They can even be of different length, and the total length of the iterable will be that of the shortest argument."
   ]
  },
  {
   "cell_type": "code",
   "execution_count": 138,
   "metadata": {},
   "outputs": [
    {
     "data": {
      "text/plain": [
       "[('a', 'z', 'a'), ('b', 'y', 'b'), ('c', 'x', 'c')]"
      ]
     },
     "execution_count": 138,
     "metadata": {},
     "output_type": "execute_result"
    }
   ],
   "source": [
    "list(zip('abcd', 'zyx', 'abcdefghijkl'))"
   ]
  },
  {
   "cell_type": "markdown",
   "metadata": {},
   "source": [
    "The `itertools` module contains much more goodies. Let's try some of them by importing it."
   ]
  },
  {
   "cell_type": "code",
   "execution_count": 139,
   "metadata": {},
   "outputs": [],
   "source": [
    "import itertools as it"
   ]
  },
  {
   "cell_type": "markdown",
   "metadata": {},
   "source": [
    "The `product` function creates a Cartesian product of several iterables."
   ]
  },
  {
   "cell_type": "code",
   "execution_count": 140,
   "metadata": {},
   "outputs": [
    {
     "data": {
      "text/plain": [
       "[(0, 'a'), (0, 'b'), (1, 'a'), (1, 'b')]"
      ]
     },
     "execution_count": 140,
     "metadata": {},
     "output_type": "execute_result"
    }
   ],
   "source": [
    "list(it.product([0, 1], 'ab'))"
   ]
  },
  {
   "cell_type": "markdown",
   "metadata": {},
   "source": [
    "The `combinations` function returns subsets of a collection."
   ]
  },
  {
   "cell_type": "code",
   "execution_count": 141,
   "metadata": {},
   "outputs": [
    {
     "data": {
      "text/plain": [
       "[('a', 'b'), ('a', 'c'), ('a', 'd'), ('b', 'c'), ('b', 'd'), ('c', 'd')]"
      ]
     },
     "execution_count": 141,
     "metadata": {},
     "output_type": "execute_result"
    }
   ],
   "source": [
    "list(it.combinations('abcd', 2))"
   ]
  },
  {
   "cell_type": "markdown",
   "metadata": {},
   "source": [
    "The `chain` function concatenates several iterables together."
   ]
  },
  {
   "cell_type": "code",
   "execution_count": 142,
   "metadata": {},
   "outputs": [
    {
     "data": {
      "text/plain": [
       "['a', 'b', 'c', 0, 1, 2]"
      ]
     },
     "execution_count": 142,
     "metadata": {},
     "output_type": "execute_result"
    }
   ],
   "source": [
    "list(it.chain('abc', range(3)))"
   ]
  },
  {
   "cell_type": "markdown",
   "metadata": {},
   "source": [
    "The `repeat` function creates an infinite iterable that just outputs a single thing. (Don't try to do `list(repeat(...))` however.)"
   ]
  },
  {
   "cell_type": "code",
   "execution_count": 143,
   "metadata": {},
   "outputs": [
    {
     "data": {
      "text/plain": [
       "repeat(3)"
      ]
     },
     "execution_count": 143,
     "metadata": {},
     "output_type": "execute_result"
    }
   ],
   "source": [
    "it.repeat(3)   # => 3, 3, 3, ..."
   ]
  },
  {
   "cell_type": "markdown",
   "metadata": {},
   "source": [
    "The `cycle` function creates an iterable that cycles through another iterable endlessly."
   ]
  },
  {
   "cell_type": "code",
   "execution_count": 144,
   "metadata": {},
   "outputs": [
    {
     "data": {
      "text/plain": [
       "<itertools.cycle at 0x7f027c867910>"
      ]
     },
     "execution_count": 144,
     "metadata": {},
     "output_type": "execute_result"
    }
   ],
   "source": [
    "it.cycle('abc')    # => 'a', 'b', 'c', 'a', 'b', 'c', 'a', 'b', 'c', ..."
   ]
  },
  {
   "cell_type": "markdown",
   "metadata": {},
   "source": [
    "The `count` function creates an iterable that counts up from a given number."
   ]
  },
  {
   "cell_type": "code",
   "execution_count": 145,
   "metadata": {},
   "outputs": [
    {
     "data": {
      "text/plain": [
       "count(0)"
      ]
     },
     "execution_count": 145,
     "metadata": {},
     "output_type": "execute_result"
    }
   ],
   "source": [
    "it.count(0)     # => 0, 1, 2, 3, ..."
   ]
  },
  {
   "cell_type": "markdown",
   "metadata": {},
   "source": [
    "# Classes"
   ]
  },
  {
   "cell_type": "markdown",
   "metadata": {},
   "source": [
    "[Classes](https://docs.python.org/3/tutorial/classes.html) provide a means of bundling data and functionality together. Creating a new class creates a new type of object, allowing new instances of that type to be made. Each class instance can have attributes attached to it for maintaining its state. Class instances can also have methods (defined by its class) for modifying its state.\n",
    "The syntax for defining classes in Python is straightforward:"
   ]
  },
  {
   "cell_type": "code",
   "execution_count": 167,
   "metadata": {},
   "outputs": [
    {
     "name": "stdout",
     "output_type": "stream",
     "text": [
      "Hello, Fred\n",
      "HELLO, FRED!\n"
     ]
    }
   ],
   "source": [
    "class Greeter(object):\n",
    "\n",
    "    # Constructor\n",
    "    def __init__(self, name):\n",
    "        self.name = name  # Create an instance variable\n",
    "\n",
    "    # Instance method\n",
    "    def greet(self, loud=False):\n",
    "        if loud:\n",
    "            print('HELLO, %s!' % self.name.upper())\n",
    "        else:\n",
    "            print('Hello, %s' % self.name)\n",
    "\n",
    "g = Greeter('Fred')  # Construct an instance of the Greeter class\n",
    "g.greet()            # Call an instance method; prints \"Hello, Fred\"\n",
    "g.greet(loud=True)   # Call an instance method; prints \"HELLO, FRED!\""
   ]
  },
  {
   "cell_type": "code",
   "execution_count": 168,
   "metadata": {},
   "outputs": [
    {
     "name": "stdout",
     "output_type": "stream",
     "text": [
      "8 10\n",
      "Lisa\n"
     ]
    }
   ],
   "source": [
    "class Person():         # Next indented block is in the class definition\n",
    "\n",
    "    def __init__(self, name, age):  # Values specified when object is made\n",
    "        self.name = name              # Link input values to the object\n",
    "        self.age = age\n",
    "  \n",
    "    def get_first_name(self):       # A second, custom function\n",
    "        names = self.name.split()     # self refers to the run-time object\n",
    "        return names[0]               # Give back first word\n",
    "\n",
    "p1 = Person('Lisa Simpson', 8)    # Make object of Person class\n",
    "p2 = Person('Bart Simpson', 10)   # Make another\n",
    "print(p1.age, p2.age)             # Values linked to objects - 8, 10 \n",
    "print(p1.get_first_name())        # Run a linked function - gives 'Lisa'"
   ]
  },
  {
   "cell_type": "code",
   "execution_count": 201,
   "metadata": {},
   "outputs": [],
   "source": []
  }
 ],
 "metadata": {
  "kernelspec": {
   "display_name": "Python 3 (ipykernel)",
   "language": "python",
   "name": "python3"
  },
  "language_info": {
   "codemirror_mode": {
    "name": "ipython",
    "version": 3
   },
   "file_extension": ".py",
   "mimetype": "text/x-python",
   "name": "python",
   "nbconvert_exporter": "python",
   "pygments_lexer": "ipython3",
   "version": "3.10.4"
  },
  "toc": {
   "base_numbering": 1,
   "nav_menu": {},
   "number_sections": true,
   "sideBar": true,
   "skip_h1_title": false,
   "title_cell": "Table of Contents",
   "title_sidebar": "Contents",
   "toc_cell": false,
   "toc_position": {
    "height": "calc(100% - 180px)",
    "left": "10px",
    "top": "150px",
    "width": "384px"
   },
   "toc_section_display": "block",
   "toc_window_display": true
  }
 },
 "nbformat": 4,
 "nbformat_minor": 2
}
