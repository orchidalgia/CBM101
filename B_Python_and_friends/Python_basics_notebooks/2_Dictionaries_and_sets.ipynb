{
 "cells": [
  {
   "cell_type": "markdown",
   "metadata": {
    "tags": [
     "style-activity"
    ]
   },
   "source": [
    "# Dictionaries"
   ]
  },
  {
   "cell_type": "markdown",
   "metadata": {},
   "source": [
    "The third major type of collection we will look at is the *dictionary*. Dictionaries are key-value maps where the keys can be (almost) any type of object. The values in a dictionary are accessed by key, not by index, and each key is used only once."
   ]
  },
  {
   "cell_type": "code",
   "execution_count": null,
   "metadata": {},
   "outputs": [],
   "source": [
    "# Create a dictionary\n",
    "mydict = {'a': 1, 'b': 2, 'c': 3}  \n",
    "print(mydict['a'])                   # Get an entry from a dictionary"
   ]
  },
  {
   "cell_type": "code",
   "execution_count": null,
   "metadata": {},
   "outputs": [],
   "source": [
    "# Another example\n",
    "d = {'cat': 'cute', 'dog': 'furry'} \n",
    "print(d['cat'])       # prints \"cute\"\n",
    "print('cat' in d)     # Check if a dictionary has a given key; prints \"True\""
   ]
  },
  {
   "cell_type": "code",
   "execution_count": null,
   "metadata": {},
   "outputs": [],
   "source": [
    "# Set a new entry\n",
    "d['fish'] = 'wet'     \n",
    "print(d['fish'])      # Prints \"wet\""
   ]
  },
  {
   "cell_type": "code",
   "execution_count": null,
   "metadata": {},
   "outputs": [],
   "source": [
    "# print(d['monkey'])  # KeyError: 'monkey' not a key of d\n",
    "print(d.get('monkey', 'N/A'))  # Get an element with a default; prints \"N/A\"\n",
    "print(d.get('fish', 'N/A'))    # Get an element with a default; prints \"wet\""
   ]
  },
  {
   "cell_type": "code",
   "execution_count": 59,
   "metadata": {},
   "outputs": [
    {
     "name": "stdout",
     "output_type": "stream",
     "text": [
      "1\n",
      "cute\n",
      "True\n",
      "wet\n",
      "N/A\n",
      "wet\n",
      "N/A\n"
     ]
    }
   ],
   "source": [
    "# remove elements\n",
    "del d['fish']         \n",
    "print(d.get('fish', 'N/A')) # \"fish\" is no longer a key; prints \"N/A\""
   ]
  },
  {
   "cell_type": "markdown",
   "metadata": {},
   "source": [
    "The following example is a dictionary where the keys are strings (DNA base codes) and the values are numbers (nucleotide masses)."
   ]
  },
  {
   "cell_type": "code",
   "execution_count": 60,
   "metadata": {},
   "outputs": [
    {
     "name": "stdout",
     "output_type": "stream",
     "text": [
      "313.21\n",
      "4\n",
      "dict_keys(['G', 'C', 'A', 'T'])\n",
      "dict_values([329.21, 289.18, 313.21, 314.19])\n"
     ]
    }
   ],
   "source": [
    "d = {\"G\":329.21, \"C\":289.18, \"A\":313.21, \"T\":314.19}\n",
    "\n",
    "print(d['A'])      # value associated with 'A'\n",
    "print(len(d))      # number of key:value pairs\n",
    "print(d.keys())    # Just keys\n",
    "print(d.values())  # Just values"
   ]
  },
  {
   "cell_type": "markdown",
   "metadata": {},
   "source": [
    "If a key is already present in the dictionary, then a simple assignment of the form `dict[key]=value` is used to change the value associated with that key. If the key was not already present, this kind of assignment will add a new `key:value` pair. Existing keys can not be changed directly, but it is possible to remove a `key:value` pair using `del` and add the same value back again with a different key."
   ]
  },
  {
   "cell_type": "code",
   "execution_count": 61,
   "metadata": {},
   "outputs": [
    {
     "name": "stdout",
     "output_type": "stream",
     "text": [
      "5\n"
     ]
    },
    {
     "data": {
      "text/plain": [
       "{'G': 329.21, 'C': 289.18, 'A': 313.21, 'T': 304.19}"
      ]
     },
     "execution_count": 61,
     "metadata": {},
     "output_type": "execute_result"
    }
   ],
   "source": [
    "d = {\"G\":329.21, \"C\":289.18, \"A\":313.21, \"T\":314.19}\n",
    "\n",
    "d['T'] = 304.19   # Dictionaries like lists are mutable so you can change the value of an existing item\n",
    "d['U'] = 291.08   # Adding a new key:value pair is done the same way\n",
    "print(len(d))     # 5 - dict is larger  \n",
    "del d['U']        # Delete a key and its value from the dictionary\n",
    "d"
   ]
  },
  {
   "cell_type": "markdown",
   "metadata": {
    "tags": [
     "style-activity"
    ]
   },
   "source": [
    "# Sets"
   ]
  },
  {
   "cell_type": "markdown",
   "metadata": {},
   "source": [
    "The final collection that you might find useful is the *set*. A set is an **undordered collection** of distinct elements, i.e. objects that ensures **no duplicates** are possible. As a simple example, consider the following:"
   ]
  },
  {
   "cell_type": "code",
   "execution_count": null,
   "metadata": {},
   "outputs": [],
   "source": [
    "myset = {1, 2, 3, 2, 3}   # Duplicates are eliminated\n",
    "print(myset)"
   ]
  },
  {
   "cell_type": "code",
   "execution_count": null,
   "metadata": {},
   "outputs": [],
   "source": [
    "animals = {'cat', 'dog'}\n",
    "print('cat' in animals)   # Check if an element is in a set; prints \"True\"\n",
    "print('fish' in animals)  # prints \"False\""
   ]
  },
  {
   "cell_type": "code",
   "execution_count": null,
   "metadata": {},
   "outputs": [],
   "source": [
    "animals.add('fish')       # Add an element to a set\n",
    "print('fish' in animals)  # Prints \"True\"\n",
    "print(len(animals))       # Number of elements in a set; prints \"3\""
   ]
  },
  {
   "cell_type": "code",
   "execution_count": null,
   "metadata": {},
   "outputs": [],
   "source": [
    "animals.add('cat')        # Adding an element that is already in the set does nothing\n",
    "print(len(animals))       # Prints \"3\""
   ]
  },
  {
   "cell_type": "code",
   "execution_count": 66,
   "metadata": {},
   "outputs": [
    {
     "name": "stdout",
     "output_type": "stream",
     "text": [
      "{1, 2, 3}\n",
      "True\n",
      "False\n",
      "True\n",
      "3\n",
      "3\n",
      "2\n"
     ]
    }
   ],
   "source": [
    "animals.remove('cat')     # Remove an element from a set\n",
    "print(len(animals))       # Prints \"2\""
   ]
  },
  {
   "cell_type": "markdown",
   "metadata": {},
   "source": [
    "\n",
    "<div class='alert alert-info'>\n",
    "    <h3> Loops</h3>\n",
    "    \n",
    "Iterating over a dictionary or a set: <a href='./4_For-loops.ipynb'>4_For-loops.ipynb</a>\n",
    "    </div>"
   ]
  },
  {
   "cell_type": "markdown",
   "metadata": {},
   "source": [
    "## Working with collections"
   ]
  },
  {
   "cell_type": "markdown",
   "metadata": {},
   "source": [
    "To check whether an object is in a collection, you can use the `in` operator. This is much faster on sets and dictionaries than on lists and tuples."
   ]
  },
  {
   "cell_type": "code",
   "execution_count": 70,
   "metadata": {},
   "outputs": [
    {
     "data": {
      "text/plain": [
       "True"
      ]
     },
     "execution_count": 70,
     "metadata": {},
     "output_type": "execute_result"
    }
   ],
   "source": [
    "1 in [1, 2, 3]"
   ]
  },
  {
   "cell_type": "code",
   "execution_count": 71,
   "metadata": {},
   "outputs": [
    {
     "data": {
      "text/plain": [
       "False"
      ]
     },
     "execution_count": 71,
     "metadata": {},
     "output_type": "execute_result"
    }
   ],
   "source": [
    "4 in (1, 2, 3)"
   ]
  },
  {
   "cell_type": "markdown",
   "metadata": {},
   "source": [
    "If your collection is very long (hundreds or thousands of elements), like the Merriam Webster English dictionary, the `in` operator is extremely handy."
   ]
  },
  {
   "cell_type": "markdown",
   "metadata": {},
   "source": [
    "On dictionaries, the `in` operator checks whether the object is a *key*, not whether it is a value."
   ]
  },
  {
   "cell_type": "code",
   "execution_count": 72,
   "metadata": {},
   "outputs": [
    {
     "data": {
      "text/plain": [
       "True"
      ]
     },
     "execution_count": 72,
     "metadata": {},
     "output_type": "execute_result"
    }
   ],
   "source": [
    "'a' in {'a': 1}"
   ]
  },
  {
   "cell_type": "code",
   "execution_count": 73,
   "metadata": {},
   "outputs": [
    {
     "data": {
      "text/plain": [
       "False"
      ]
     },
     "execution_count": 73,
     "metadata": {},
     "output_type": "execute_result"
    }
   ],
   "source": [
    "1 in {'a': 1}"
   ]
  },
  {
   "cell_type": "markdown",
   "metadata": {},
   "source": [
    "Instead of writing `not (x in y)` you can write `x not in y`. Thus,"
   ]
  },
  {
   "cell_type": "code",
   "execution_count": 74,
   "metadata": {},
   "outputs": [
    {
     "data": {
      "text/plain": [
       "False"
      ]
     },
     "execution_count": 74,
     "metadata": {},
     "output_type": "execute_result"
    }
   ],
   "source": [
    "'a' not in {'a': 1}"
   ]
  },
  {
   "cell_type": "code",
   "execution_count": 75,
   "metadata": {},
   "outputs": [
    {
     "data": {
      "text/plain": [
       "True"
      ]
     },
     "execution_count": 75,
     "metadata": {},
     "output_type": "execute_result"
    }
   ],
   "source": [
    "1 not in {'a': 1}"
   ]
  },
  {
   "cell_type": "markdown",
   "metadata": {},
   "source": [
    "You can convert between different types of collections using the `list`, `tuple`, `dict` and `set` functions. As discussed before, this is also useful to make copies of collections in the case you might want to change them."
   ]
  },
  {
   "cell_type": "code",
   "execution_count": 76,
   "metadata": {},
   "outputs": [
    {
     "data": {
      "text/plain": [
       "[1, 2, 3]"
      ]
     },
     "execution_count": 76,
     "metadata": {},
     "output_type": "execute_result"
    }
   ],
   "source": [
    "list((1,2,3))"
   ]
  },
  {
   "cell_type": "code",
   "execution_count": 77,
   "metadata": {},
   "outputs": [
    {
     "data": {
      "text/plain": [
       "(1, 2, 3)"
      ]
     },
     "execution_count": 77,
     "metadata": {},
     "output_type": "execute_result"
    }
   ],
   "source": [
    "tuple({1, 2, 3})"
   ]
  },
  {
   "cell_type": "code",
   "execution_count": 78,
   "metadata": {},
   "outputs": [
    {
     "data": {
      "text/plain": [
       "{'a': 1, 'b': 2}"
      ]
     },
     "execution_count": 78,
     "metadata": {},
     "output_type": "execute_result"
    }
   ],
   "source": [
    "dict([('a',1), ('b',2)])"
   ]
  },
  {
   "cell_type": "code",
   "execution_count": 79,
   "metadata": {},
   "outputs": [
    {
     "data": {
      "text/plain": [
       "{'a', 'b'}"
      ]
     },
     "execution_count": 79,
     "metadata": {},
     "output_type": "execute_result"
    }
   ],
   "source": [
    "set(dict([('a',1), ('b',2)]))"
   ]
  },
  {
   "cell_type": "markdown",
   "metadata": {},
   "source": [
    "It is often easier to extract elements from a tuple or a list by *unpacking* it, rather than indexing. This is an elegant mechanism that allows for very nice code. Some examples:"
   ]
  },
  {
   "cell_type": "code",
   "execution_count": 80,
   "metadata": {},
   "outputs": [
    {
     "name": "stdout",
     "output_type": "stream",
     "text": [
      "1 2\n"
     ]
    }
   ],
   "source": [
    "a, b = (1, 2)\n",
    "print(a, b)"
   ]
  },
  {
   "cell_type": "code",
   "execution_count": 81,
   "metadata": {},
   "outputs": [
    {
     "name": "stdout",
     "output_type": "stream",
     "text": [
      "1 2 [3, 4, 5]\n"
     ]
    }
   ],
   "source": [
    "a, b, *rest = (1, 2, 3, 4, 5)\n",
    "print(a, b, rest)"
   ]
  },
  {
   "cell_type": "code",
   "execution_count": 82,
   "metadata": {},
   "outputs": [
    {
     "name": "stdout",
     "output_type": "stream",
     "text": [
      "1 2 []\n"
     ]
    }
   ],
   "source": [
    "a, b, *rest = (1, 2)\n",
    "print(a, b, rest)"
   ]
  },
  {
   "cell_type": "markdown",
   "metadata": {},
   "source": [
    "The collection types have a number of **inbuilt functions** (methods) that are accessed with the **dot syntax**. The functions avaialable to a given collection are restricted to the characteriostics of its type (e.g. sets di not have functions that refer to positional indices). Some examples are:"
   ]
  },
  {
   "cell_type": "code",
   "execution_count": null,
   "metadata": {},
   "outputs": [],
   "source": [
    "x = ['Mon', 'Tue', 'Wed'] # A list of strings\n",
    "y = ['Fri', 'Sat', 'Sun'] # And another\n",
    "print('x:', x)\n",
    "print('y:', y)"
   ]
  },
  {
   "cell_type": "code",
   "execution_count": null,
   "metadata": {},
   "outputs": [],
   "source": [
    "x.append('Thu')  # Add a single new item to end\n",
    "print('x.append(''Thu''):\\t', x)"
   ]
  },
  {
   "cell_type": "code",
   "execution_count": null,
   "metadata": {},
   "outputs": [],
   "source": [
    "x.extend(y)\t   # Extend with items from another collection \n",
    "print('x.extend(y):\\t', x) "
   ]
  },
  {
   "cell_type": "code",
   "execution_count": null,
   "metadata": {},
   "outputs": [],
   "source": [
    "x.sort()         # Sort contents alphabetically\n",
    "print('x.sort():\\t', x)"
   ]
  },
  {
   "cell_type": "code",
   "execution_count": null,
   "metadata": {},
   "outputs": [],
   "source": [
    "x.remove('Sun')  # Remove an item\n",
    "print('x.remove(''Sun''):\\t', x)"
   ]
  },
  {
   "cell_type": "code",
   "execution_count": null,
   "metadata": {},
   "outputs": [],
   "source": [
    "x.index('Sat')   # Positional index of an item\n",
    "print('x.index(''Sat''):\\t', x)"
   ]
  },
  {
   "cell_type": "code",
   "execution_count": null,
   "metadata": {},
   "outputs": [],
   "source": [
    "s = {'G', 'C', 'A', 'T'}   # A set with 4 strings\n",
    "t = {'N', 'R', 'Y'}\n",
    "print('s:', s)\n",
    "print('t:', t)"
   ]
  },
  {
   "cell_type": "code",
   "execution_count": null,
   "metadata": {},
   "outputs": [],
   "source": [
    "s.add('U')       # Add a single item (if not present) \n",
    "print('s.add(''U''):\\t', s)"
   ]
  },
  {
   "cell_type": "code",
   "execution_count": 83,
   "metadata": {},
   "outputs": [
    {
     "name": "stdout",
     "output_type": "stream",
     "text": [
      "x: ['Mon', 'Tue', 'Wed']\n",
      "y: ['Fri', 'Sat', 'Sun']\n",
      "x.append(Thu):\t ['Mon', 'Tue', 'Wed', 'Thu']\n",
      "x.extend(y):\t ['Mon', 'Tue', 'Wed', 'Thu', 'Fri', 'Sat', 'Sun']\n",
      "x.sort():\t ['Fri', 'Mon', 'Sat', 'Sun', 'Thu', 'Tue', 'Wed']\n",
      "x.remove(Sun):\t ['Fri', 'Mon', 'Sat', 'Thu', 'Tue', 'Wed']\n",
      "x.index(Sat):\t ['Fri', 'Mon', 'Sat', 'Thu', 'Tue', 'Wed']\n",
      "\n",
      "\n",
      "s: {'G', 'T', 'A', 'C'}\n",
      "t: {'R', 'Y', 'N'}\n",
      "s.add(U):\t {'T', 'A', 'C', 'G', 'U'}\n",
      "s.update(t):\t {'Y', 'R', 'T', 'A', 'C', 'G', 'N', 'U'}\n"
     ]
    }
   ],
   "source": [
    "s.update(t)      # Add any new items from another collection\n",
    "print('s.update(t):\\t', s)"
   ]
  },
  {
   "cell_type": "markdown",
   "metadata": {},
   "source": [
    "## Summarizing questions about collections\n",
    "\n",
    "***Question I:What are the four basic collections you can use in Phyton?***\n",
    "\n",
    "    \n",
    "***Question II:Is the following statement true? The first element in a list will have index 0. As a consequence mylist[2] will give you the third element of the list.***\n",
    "\n",
    "\n",
    "***Question III: Which collection is mutable - a list or a tuple?***\n",
    "\n",
    "***Question IV: you want to make a digital phone book, which python collection is best suited for that task?***"
   ]
  }
 ],
 "metadata": {
  "kernelspec": {
   "display_name": "Python 3 (ipykernel)",
   "language": "python",
   "name": "python3"
  },
  "language_info": {
   "codemirror_mode": {
    "name": "ipython",
    "version": 3
   },
   "file_extension": ".py",
   "mimetype": "text/x-python",
   "name": "python",
   "nbconvert_exporter": "python",
   "pygments_lexer": "ipython3",
   "version": "3.10.4"
  },
  "toc": {
   "base_numbering": 1,
   "nav_menu": {},
   "number_sections": true,
   "sideBar": true,
   "skip_h1_title": false,
   "title_cell": "Table of Contents",
   "title_sidebar": "Contents",
   "toc_cell": false,
   "toc_position": {
    "height": "calc(100% - 180px)",
    "left": "10px",
    "top": "150px",
    "width": "384px"
   },
   "toc_section_display": "block",
   "toc_window_display": true
  }
 },
 "nbformat": 4,
 "nbformat_minor": 2
}
