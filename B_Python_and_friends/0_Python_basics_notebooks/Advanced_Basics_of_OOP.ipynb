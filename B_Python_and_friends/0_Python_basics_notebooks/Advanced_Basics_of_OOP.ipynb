{
 "cells": [
  {
   "cell_type": "markdown",
   "metadata": {},
   "source": [
    "# OOP With Python\n",
    "\n",
    "In this notebook, we go over the basics of **Object-Oriented Programming** (OOP) with python and introduce some basic concepts like classes, objects, methods which you will frequently come across during reviewing Neural Network architectures.\n",
    "OOP is used to structure code to avoid repeatability. It allows to define objects like real life examples and reuse chunks of code from previous snippets without exclusively requiring to write hundreds of code lines."
   ]
  },
  {
   "cell_type": "markdown",
   "metadata": {},
   "source": [
    "## 1. Class\n",
    "Class is like a blueprint to define an object. An instance is an object of that class.For example, cat, dog, sheep can be instances of class _Animal_. \n",
    "> How to define a class: We are going to create a Class _People_ and add the statement _pass_. The _pass_ is a placeholder for code that can be added later, and allows the code to run without interruption. "
   ]
  },
  {
   "cell_type": "code",
   "execution_count": null,
   "metadata": {},
   "outputs": [],
   "source": [
    "class People:\n",
    "    pass\n",
    "#Instantiating class\n",
    "P1=People()\n",
    "print(P1)"
   ]
  },
  {
   "cell_type": "markdown",
   "metadata": {},
   "source": [
    "P1 is an instance of class _People_. By printing, we can see an object P1 is created at the memory location <0x000001E032E9DB00>"
   ]
  },
  {
   "cell_type": "markdown",
   "metadata": {},
   "source": [
    "## 1.1 Initializing a class\n",
    "The\\_\\_init\\_\\_method is used to initialise a class. Classes have attributes for example, a person can have _age_, _gender_ as attributes. All instances of the class will have the same attributes of the class. We donot need to call the \\_\\_init\\_\\_ method separately. Python calls it everytime we create an instance of a class.\n",
    "The \\_\\_init\\_\\_ method always needs the argument variable _self_. This refers to the current instance of the class. _self_ is a conventional name.\n",
    "> - Now we will define the \\_\\_init\\_\\_ method and add three attributes: name, age, gender. We will also assign a default value of the attribute _age_ to 18.\n",
    "> - Then we will create instances of this class. Notice how the arguments for a class are passed in the \\_\\_init\\_\\_ method and hence same number of arguments are to be passed while creating an instance, unless there is a default value assigned to the attribute. A default value can be assigned to an attribute by inserting the attribute_name=value while passing the argument in \\_\\_init\\_\\_ method. While creating the instance, if the argument is present, the default value gets overwritten.\n",
    "> - Then we can access the attributes of each instance"
   ]
  },
  {
   "cell_type": "code",
   "execution_count": null,
   "metadata": {},
   "outputs": [],
   "source": [
    "class People:\n",
    "    #initializing\n",
    "    def __init__(self,name, gender, age=18):\n",
    "        self.name = name\n",
    "        self.age = age\n",
    "        self.gender = gender\n",
    "        \n",
    "Tim = People('Tim','Male')\n",
    "Marie = People('Marie', 'Female', 20)\n",
    "print(Tim.name)\n",
    "print(Tim.age)\n",
    "print(Tim.gender)\n",
    "print(Marie.name)\n",
    "print(Marie.age)\n",
    "print(Marie.gender)"
   ]
  },
  {
   "cell_type": "markdown",
   "metadata": {},
   "source": [
    "## 2. Class Attribute\n",
    "A class attribute belongs to the class itself and is shared by all instances. So the value is same for all instances. It is generally placed outside all attributes and methods. \n",
    "> We will create a class attribute guest_list. Everytime a new instance is created, the guest list will increase by 1. Notice how class attributes are accessed using class name. Later, we will see class attributes can be accessed using instances as well."
   ]
  },
  {
   "cell_type": "code",
   "execution_count": null,
   "metadata": {},
   "outputs": [],
   "source": [
    "class People:\n",
    "    guest_list =0\n",
    "    def __init__(self,name, gender, age=18):\n",
    "        self.name = name\n",
    "        self.age = age\n",
    "        self.gender = gender\n",
    "        People.guest_list+=1\n",
    "\n",
    "print(People.guest_list)\n",
    "Tim = People('Tim','Male')\n",
    "Marie = People('Marie', 'Female', 20)\n",
    "print(People.guest_list)"
   ]
  },
  {
   "cell_type": "markdown",
   "metadata": {},
   "source": [
    "Lets look at another example of how class attributes can be useful. Below we will create a class attribute club_members which contains a list of names of people who are allowed to the party. If the user instantiates a class instance with a name which does not belong to this list, the program will throw an error."
   ]
  },
  {
   "cell_type": "code",
   "execution_count": null,
   "metadata": {},
   "outputs": [],
   "source": [
    "class People:\n",
    "    guest_list =[\"Marie\", \"Liz\", \"John\",\"Ravi\", \"Delilah\",\"Jack\",\"Dave\"]\n",
    "    def __init__(self,name, gender, age=18):\n",
    "        if name not in People.guest_list:\n",
    "            raise ValueError(f\"{name} is not in guest list\")\n",
    "        self.name = name\n",
    "        self.age = age\n",
    "        self.gender = gender\n",
    "\n",
    "Liz = People('Liz','Female')\n",
    "print(Liz.age)\n",
    "Tim = People('Tim','Male') # not in list, throws an error"
   ]
  },
  {
   "cell_type": "markdown",
   "metadata": {},
   "source": [
    "## 3. Methods\n",
    "A method is a function which does something. While attributes are properties of a class, a class may have several methods for carrying out different operations. \n",
    "### 3.1. Instance Methods\n",
    "This method takes _self_ as argument, and can access class instance through self.\n",
    ">We will create two instance methods for a class called Mail. The two methods simulate when you send and receive an email.\n",
    "Notice how we call methods as class_name.method_name(arg), whilst accessing attributes '()' is not required."
   ]
  },
  {
   "cell_type": "code",
   "execution_count": null,
   "metadata": {},
   "outputs": [],
   "source": [
    "class Mail:\n",
    "    def __init__(self):\n",
    "        self.inbox=0\n",
    "        self.sent=0\n",
    "    def send_mail(self, num=1):\n",
    "        self.sent+=num\n",
    "        print(f\"Message sent! You have {self.sent} mails in Sent.\")\n",
    "    def receive_mail(self, num=1):\n",
    "        self.inbox+=num\n",
    "        print(f\"New email! You have {self.inbox} emails.\")\n",
    "email1=Mail()\n",
    "email1.send_mail()\n",
    "email1.receive_mail(2)\n",
    "print(email1.sent)\n",
    "email1.send_mail(3)\n",
    "print(email1.sent)"
   ]
  },
  {
   "cell_type": "markdown",
   "metadata": {},
   "source": [
    "## Exercise 1: Creating class, attributes, methods with Online Shopping Cart\n",
    "Create a class called _Shopping_\n",
    "1. Each _Shopping_ must contain the following attributes:\n",
    "   - __name__ which indicates the name of the user example: Shopping(\"Rita\")\n",
    "   - __cart__ which indicates the list of goods selected..\n",
    "   - __balance__ which indicates the total cost of the goods selected. Default value is 0.0.\n",
    "   - __price\\_list__ which indicates the list of the prices of the items selected in the same order of item selection\n",
    "   <br>\n",
    "2. Each _Shopping_ must contain the following methods:\n",
    "   - __select__ which takes in the arguments: _item_ indicating item (default value None) selected and _price_ (default value None) indicating price of the good selected. Also, put the option to select items in a list with their prices like a dictionary. Put in an error check such that price is always positive and your code throws an error if user calls the method with a negative price. It should add the price to the price_list and add the price value to __balance__ attribute and the item name to the list attribute __cart__ . Finally it should return the new __cart__ attribute. \n",
    "   - __check_balance__ which returns a print statement as follows: \"Your current balance is {self.balance} Eur\"\n",
    "   - __remove_item__ which takes the attributes: _item_ indicating item(default value: None). It should subtract the price of the selected item from the __balance__ attribute and delete the item name from the list attribute __cart__ along with its price from the price list. Again put the option so that user can remove several items in a list. Put in an error check such that the name belongs to the list of items in cart and your code throws an error if user wants to remove an item which does not exist in the cart. Finally it should return the new __cart__ attribute."
   ]
  },
  {
   "cell_type": "code",
   "execution_count": null,
   "metadata": {},
   "outputs": [],
   "source": [
    "# Ex1\n"
   ]
  },
  {
   "cell_type": "code",
   "execution_count": null,
   "metadata": {},
   "outputs": [],
   "source": [
    "# %load solutions/ex4_1.py"
   ]
  },
  {
   "cell_type": "markdown",
   "metadata": {},
   "source": [
    "### 3.2. Class Methods\n",
    "This method takes _cls_ as argument, and can change state of the class as a whole, not separately instance of a class. it uses _@classmethod_ decorator to define as classmethod.\n",
    ">We will create a class method for a class _Intro_. It will take name, age and profession and send a short introduction. \n"
   ]
  },
  {
   "cell_type": "code",
   "execution_count": null,
   "metadata": {},
   "outputs": [],
   "source": [
    "class Intro:\n",
    "    def __init__(self, name, profession, age=18):\n",
    "        self.name = name\n",
    "        self.age = age\n",
    "        self.profession = profession\n",
    "    @classmethod\n",
    "    def bio(cls,name,profession):\n",
    "        print(f\"{name} is {profession} by profession!\")\n",
    "Anita= Intro('Anita', 'Doctor',18)\n",
    "Intro.bio('Mark','Lawyer')\n",
    "Anita.bio('Anita','Doctor')"
   ]
  },
  {
   "cell_type": "markdown",
   "metadata": {},
   "source": [
    "### 3.3 Static Methods\n",
    "These methods donot take in _cls_ or _self_ as arguments and does not alter any state of the instance or the class. It uses _@staticmethod_ as a decorator and you can use it to do any operation independent of the particular class"
   ]
  },
  {
   "cell_type": "code",
   "execution_count": null,
   "metadata": {},
   "outputs": [],
   "source": [
    "class Calculator:\n",
    "    def __init__(self):\n",
    "        pass\n",
    "    @staticmethod\n",
    "    def multiply(x,y):\n",
    "        return(x*y)\n",
    "result= Calculator.multiply(4,5)\n",
    "print(result)"
   ]
  },
  {
   "cell_type": "markdown",
   "metadata": {},
   "source": [
    "## 4. Different underscore representations and their meanings\n",
    "Often with python OOP, you will encounter the following three underscore representations: \n",
    "- \\_\\_method1\\_\\_\n",
    "- \\_method2\n",
    "- \\_\\_method3\n",
    "\n",
    "### 4.1 \\_\\_method1\\_\\_ \n",
    "\\_\\_method1\\_\\_ is called a Dunder method/ Double Underscore/ magic method. They are predefined and although it is possible to create your own Dunder method, it is recommended not to create one. These allow you to implement some neat functionalities to your OOP structure. Some examples are \\_\\_init\\_\\_, \\_\\_del\\_\\_, \\_\\_repr\\_\\_. \n",
    "<br>The complete list of all Dunder methods are available in: __[Dunder_Methods_in_Python](https://docs.python.org/2/reference/datamodel.html#special-method-names)__\n",
    "<br>\n",
    "<br> We have already seen the implementation for this as __init__ method to initialize a class. __del__ is used when you want to delete some instance of a class. \n",
    "<br> Lets look at __repr__ method. This is used to often add an informal string statement to a class object, so instead of getting the following ugly statement '__main__.People at 0x1e032e9d668', we can print something which gives us some information about the class object. \n",
    "\n"
   ]
  },
  {
   "cell_type": "code",
   "execution_count": null,
   "metadata": {},
   "outputs": [],
   "source": [
    "class People:\n",
    "    #initializing\n",
    "    def __init__(self,name):\n",
    "        self.name = name\n",
    "    def __repr__(self):\n",
    "        return ('This class is a database of people')\n",
    "print(People(\"Rick\"))"
   ]
  },
  {
   "cell_type": "markdown",
   "metadata": {},
   "source": [
    "### 4.2.  \\_method2\n",
    " \\_method2 (single underscore name) is a conventional way of indicating that this is a private method. Functionally it is same as normal instance method. It is a way for developers to communicate that this function should not be modified. This can also be applied to attributes to make them private.\n",
    "<br> Lets look at 2 examples which will show that basically private methods are same as normal methods"
   ]
  },
  {
   "cell_type": "code",
   "execution_count": null,
   "metadata": {},
   "outputs": [],
   "source": [
    "class Car:\n",
    "    def __init__(self,name, model):\n",
    "        self.name = name\n",
    "        self.model=model\n",
    "    def car_name(self):\n",
    "        return (f\"This is a {self.name} car.\")\n",
    "    def _model(self):\n",
    "        return (f'The model of this car is {self.model}.')\n",
    "c1= Car('Honda','civic')\n",
    "print(c1.car_name())\n",
    "print(c1._model())"
   ]
  },
  {
   "cell_type": "markdown",
   "metadata": {},
   "source": [
    "### 4.3. \\_\\_method3 \n",
    " \\_\\_method3 (double underscore name) is a method called name mangling. It is particularly useful when we learn about inheritance. Imagine there are two classes with same method/attribute name. It would be confusing for python to know which method/attribute you are referring to. This allows to tie a method/attribute to a particular class. Lets look at an example of how it is implemented.\n"
   ]
  },
  {
   "cell_type": "code",
   "execution_count": null,
   "metadata": {},
   "outputs": [],
   "source": [
    "class OscarParty:\n",
    "    def __init__(self, name, profession):\n",
    "        self.__nam=name\n",
    "        self.profession=profession\n",
    "    def __prof(self):\n",
    "        return (f'{self.__nam}, {self.profession} by profession has just arrived to the Oscar.')\n",
    "   \n",
    "        \n",
    "class GrammyParty:\n",
    "    def __init__(self, name,num_songs):\n",
    "        self.__nam=name        \n",
    "        self.num_songs=num_songs\n",
    "    \n",
    "g1= OscarParty('Lady Gaga', 'singer/actress')\n",
    "g2 = OscarParty('BradleyCooper', 'actor')\n",
    "\n",
    "g3 = GrammyParty('Lady Gaga',65)\n",
    "g4 = GrammyParty('Bob Dylan',85)\n",
    "\n",
    "print(g1._OscarParty__nam)\n",
    "print(g3._GrammyParty__nam)\n",
    "print(g2._OscarParty__prof())"
   ]
  },
  {
   "cell_type": "markdown",
   "metadata": {},
   "source": [
    "## 5. Inheritance\n",
    "One of the most useful features of OOP is inheritance. It allows other classes to inherit attributes, methods from other classes also called base/parent class without explicitly defining them under inheriting class. Lets look at the following example. \n",
    "> We will create a base class Matter, and another class Liquid which inherits from this base class."
   ]
  },
  {
   "cell_type": "code",
   "execution_count": null,
   "metadata": {},
   "outputs": [],
   "source": [
    "class Matter:\n",
    "    def __init__(self,name,atoms_per_mol):\n",
    "        self.name=name\n",
    "        self.atom=atoms_per_mol\n",
    "class Liquid (Matter):\n",
    "    pass\n",
    "H2O=Liquid('water', 3)\n",
    "print(H2O.atom)\n",
    "print(isinstance(H2O,Matter))\n",
    "print(isinstance(H2O,Liquid))"
   ]
  },
  {
   "cell_type": "markdown",
   "metadata": {},
   "source": [
    "The _isinstance_ command allows us to see if an instance belongs to the mentioned class. In this case, it shows that _H2O_ is an instance of both base class _Matter_ and inheriting class _Liquid_"
   ]
  },
  {
   "cell_type": "markdown",
   "metadata": {},
   "source": [
    "# 6. Multiple Inheritance\n",
    "In this section we demonstrate how a child class can inherit from more than one base class. We will also introduce the \\_\\_super\\_\\_ method. In the next example we will create two base classes _Liquid_ and _Movie_ and a child class _Art_ which will inherit all methods of both the classes. \n",
    "<br> Next we will look at the init methods to find out what \\_\\_super\\_\\_ is used for.\n",
    "\n"
   ]
  },
  {
   "cell_type": "code",
   "execution_count": null,
   "metadata": {},
   "outputs": [],
   "source": [
    "class Liquid:\n",
    "    def __init__(self,name):\n",
    "        print (\"LIQUID init'd\")\n",
    "        self.name=name\n",
    "    def boiling(self,temp):\n",
    "        self.temp=temp\n",
    "        print(f'{self.name} is boiling at {self.temp} degree Celsius')\n",
    "        \n",
    "    \n",
    "class Solid:\n",
    "    def __init__(self,name):\n",
    "        print (\"SOLID init'd\")\n",
    "        self.name=name\n",
    "    def melting(self,temp):\n",
    "        self.temp=temp\n",
    "        print(f'{self.name} is melting at {self.temp} degree Celsius')\n",
    "    \n",
    "class Water(Liquid, Solid):\n",
    "    def __init__(self,name):\n",
    "        print (\"WATER init'd\")\n",
    "        super().__init__(name=name)\n",
    "        \n",
    "coke = Liquid('lemonade')\n",
    "calcium = Solid ('calcium')\n"
   ]
  },
  {
   "cell_type": "markdown",
   "metadata": {},
   "source": [
    "Lets now create an instance of Water and see which init gets called."
   ]
  },
  {
   "cell_type": "code",
   "execution_count": null,
   "metadata": {},
   "outputs": [],
   "source": [
    "ice_water = Water('ice water')\n"
   ]
  },
  {
   "cell_type": "markdown",
   "metadata": {},
   "source": [
    "In the above example we see when we create an instance of Water with \\_\\_super\\_\\_ method, it inits with the Water class, and Liquid class, but not with solid class. Lets see if it inherits the methods from both classes and if ice_water is an instance of both parent classes"
   ]
  },
  {
   "cell_type": "code",
   "execution_count": null,
   "metadata": {},
   "outputs": [],
   "source": [
    "ice_water.boiling(100)\n",
    "ice_water.melting(0)\n",
    "\n",
    "print(isinstance(ice_water,Water))\n",
    "print(isinstance(ice_water,Solid))\n",
    "print(isinstance(ice_water,Liquid))"
   ]
  },
  {
   "cell_type": "markdown",
   "metadata": {},
   "source": [
    "So we see ice_water is an instance of both the parent classes and the child class Water. Also although ice_water inherits the methods from both the parent classes, it inits only _Liquid_ class. This order of init is explained in the next example where we talk about MRO or Method Resolution Order. \n",
    "<br> Let us run the previous example but with the position of base classes switched and then look at which is init'd"
   ]
  },
  {
   "cell_type": "code",
   "execution_count": null,
   "metadata": {},
   "outputs": [],
   "source": [
    "class Liquid:\n",
    "    def __init__(self,name):\n",
    "        print (\"LIQUID init'd\")\n",
    "        self.name=name\n",
    "    def boiling(self,temp):\n",
    "        self.temp=temp\n",
    "        print(f'{self.name} is boiling at {self.temp} degree Celsius')\n",
    "        \n",
    "    \n",
    "class Solid:\n",
    "    def __init__(self,name):\n",
    "        print (\"SOLID init'd\")\n",
    "        self.name=name\n",
    "    def melting(self,temp):\n",
    "        self.temp=temp\n",
    "        print(f'{self.name} is melting at {self.temp} degree Celsius')\n",
    "    \n",
    "class Water(Solid, Liquid):\n",
    "    def __init__(self,name):\n",
    "        print (\"WATER init'd\")\n",
    "        super().__init__(name=name)\n",
    "        \n",
    "ice_water = Water('ice water')"
   ]
  },
  {
   "cell_type": "markdown",
   "metadata": {},
   "source": [
    "Aha! Now the SOLID is init'd not Liquid! Lets look behind the scenes of python about what is init'd in which order.\n",
    "\n",
    "# 7. MRO \n",
    "Explained simply, MRO is the way in which python determines the order in which the methods are resolved in case of multiple inheritance. Lets say both the parent classes have same method names, and we call the child with this method name. How does python figure out which method to execute? There is a complex algorithm which is used to order this sequence. For us, it is important to know that we can use \\_\\_mro\\_\\_ attribute, mro() method or help(cls) on the class to understand the order in which python will look for the methods of an instance. "
   ]
  },
  {
   "cell_type": "code",
   "execution_count": null,
   "metadata": {},
   "outputs": [],
   "source": [
    "class One:\n",
    "    def __init__(self):\n",
    "        print(\"ONE is init'd\")\n",
    "class Two(One):\n",
    "    def __init__(self):\n",
    "        print(\"TWO is init'd\")\n",
    "class Three( One):\n",
    "    def __init__(self):\n",
    "        print(\"Three is init'd\")\n",
    "class Four(Three,Two):\n",
    "    def __init__(self):\n",
    "        print(\"Four is init'd\")\n",
    "        \n",
    "number=Four()\n",
    "print(Four.__mro__)\n",
    "print(Four.mro())\n",
    "help(Four)"
   ]
  },
  {
   "cell_type": "markdown",
   "metadata": {},
   "source": [
    "So we see the order in which python looks for a method in case of multiple inheritance. Note that the above example is shown with the \\_\\_init\\_\\_ method, but mro is valid for any method. As a rule of thumb, it is important to remember the order is set by the positional order in which we input the parent classes as arguments while creating the child class. \n",
    "# 8. Super()\n",
    "So now that we have an understanding of what MRO is, lets look at how super uses this concept. In essence, super binds a the parent class \\_\\_init\\_\\_ to the child class that follows it in the mro. This is useful for coordinated multiple inheritance such that if we inject new base class later, your child class will inherit in correct manner. This helps subclasses to use new classes.\n",
    "For more information on _super()_, follow this very helpful post:\n",
    "__[Super_Explained_in_Python](https://stackoverflow.com/questions/222877/what-does-super-do-in-python/33469090#33469090)__\n"
   ]
  },
  {
   "cell_type": "code",
   "execution_count": null,
   "metadata": {},
   "outputs": [],
   "source": [
    "class One:\n",
    "    def action(self):\n",
    "        print(\"Calling Action in ONE.\")\n",
    "class Two(One):\n",
    "    def action(self):\n",
    "        print(\"Calling Action in TWO.\")\n",
    "class Three( One):\n",
    "    def action(self):\n",
    "        print(\"Calling Action in THREE.\")\n",
    "class Four(Three,Two):\n",
    "    def action(self):\n",
    "        print(\"Calling Action in FOUR.\")\n",
    "        super().action()\n",
    "        \n",
    "number=Four()\n",
    "number.action()\n",
    "help(Four)"
   ]
  },
  {
   "cell_type": "markdown",
   "metadata": {},
   "source": [
    "When super() is added to class Four, it immediately follows the parent following it in mro. If this parent is bound to another parent by super(), then this can be seen as well and if this parent has another super, so on it follows. Lets demonstrate this. <br> This time we will inject a new base class _zero_ before class _ine_ and link up all the child classes with super, so that when we look at the mro of the last grandchild we will see it also appears in the order of its inheritance"
   ]
  },
  {
   "cell_type": "code",
   "execution_count": null,
   "metadata": {},
   "outputs": [],
   "source": [
    "class Zero:\n",
    "    def action(self):\n",
    "        print(\"Method in Zero called\")\n",
    "        \n",
    "class One(Zero):\n",
    "    def action(self):\n",
    "        print(\"Method in ONE called\")\n",
    "        super().action()\n",
    "        \n",
    "class Two(One):\n",
    "    def action(self):\n",
    "        print(\"Method in TWO called\")\n",
    "        super().action()\n",
    "        \n",
    "class Three( One):\n",
    "    def action(self):\n",
    "        print(\"Method in THREE called\")\n",
    "        super().action()\n",
    "        \n",
    "class Four(Three,Two):\n",
    "    def action(self):\n",
    "        print(\"Method in FOUR called\")\n",
    "        super().action()\n",
    "        \n",
    "number=Four()\n",
    "number.action()\n",
    "help(Four)"
   ]
  },
  {
   "cell_type": "markdown",
   "metadata": {},
   "source": [
    "## Exercise 2: Multiple Inheritance and mro with Mendel's Dominant and Recessive Traits Theory\n",
    "Create two classes __Dominant__ and __Recessive__ having attributes:\n",
    "1. The dominant class has following attributes: __seed_shape__ (default='round'), __pod_color__ (default='green'), __flower_color__(default='purple')\n",
    "2. The recessive class has following attributes: __seed_shape__ (default='wrinkled'), __pod_color__ (default='yellow'), __flower_color__(default='white')\n",
    "3. Create subclass __Pea__ which inherits from the above two classes, having same attributes but donot spcify them. Let Python's mro assign them to the \"dominant\" traits."
   ]
  },
  {
   "cell_type": "code",
   "execution_count": null,
   "metadata": {},
   "outputs": [],
   "source": [
    "# Ex2\n"
   ]
  },
  {
   "cell_type": "code",
   "execution_count": null,
   "metadata": {},
   "outputs": [],
   "source": [
    "# %load solutions/ex4_2.py"
   ]
  },
  {
   "cell_type": "markdown",
   "metadata": {},
   "source": [
    "# 9. \\*args and \\**kwargs\n",
    "You will often come across these two terms when dealing with functions in Python, specially in OOP. These terms are used in place of arguments while writing a function. Example: some_function(\\*args, \\**kwargs)\n",
    "<br> The main use of these two terms is to pass arguments having variable lengths. \n",
    "## 9.1. \\*args\n",
    "This is used to pass a list of arguments which are __not keyworded__ like in a dictionary, having variable length. To elaborate,lets look at an example of a function called guest_list which makes a nice directory of guests arriving at the party. Whilst writing this function you may not be still aware of the number of guests coming to the party. In this case we can pass *arg to specify a list of variables whose length is unknown. "
   ]
  },
  {
   "cell_type": "code",
   "execution_count": null,
   "metadata": {},
   "outputs": [],
   "source": [
    "def guest_list(*args):\n",
    "    for i,guest in enumerate(args):\n",
    "        print (f\"Guest{i+1}: \",guest)\n",
    "args=[\"Tiina\", \"Merja\", \"Krittika\"]\n",
    "guest_list(*args)"
   ]
  },
  {
   "cell_type": "markdown",
   "metadata": {},
   "source": [
    "## 9.2. \\**kwargs\n",
    "This is used to pass a list of __keyworded__ arguments having variable length. Lets run the above example to explain kwargs. But this time, in addition to guest list of names, we will also add their relationship to the party host. "
   ]
  },
  {
   "cell_type": "code",
   "execution_count": null,
   "metadata": {},
   "outputs": [],
   "source": [
    "def guest_list(**kwargs):\n",
    "    for guest, relation in kwargs.items():\n",
    "        print (f\"Guest: {guest}, relation to the host: {relation}\")\n",
    "kwargs={\"Pam\": \"sister\", \"Linda\": \"wife\", \"Tim\": \"brother\"}\n",
    "guest_list(**kwargs)"
   ]
  },
  {
   "cell_type": "markdown",
   "metadata": {},
   "source": [
    "Lets look at another very useful usage of this form of function creating using \\*arg and \\**kwargs"
   ]
  },
  {
   "cell_type": "code",
   "execution_count": null,
   "metadata": {},
   "outputs": [],
   "source": [
    "def kwarg_arg_use(arg1, arg2, arg3):\n",
    "    print(f\"Value of argument1: {arg1}\")\n",
    "    print(f\"Value of argument2: {arg2}\")\n",
    "    print(f\"Value of argument3: {arg3}\")\n",
    "        \n",
    "using_arg=[\"one\", 2, \"11\"]\n",
    "kwarg_arg_use(*using_arg)"
   ]
  },
  {
   "cell_type": "code",
   "execution_count": null,
   "metadata": {},
   "outputs": [],
   "source": [
    "using_kwarg ={\"arg1\":\"three\",\"arg2\": 2, \"arg3\": \"1\"}\n",
    "kwarg_arg_use(**using_kwarg)"
   ]
  },
  {
   "cell_type": "markdown",
   "metadata": {},
   "source": [
    "# 10. @property\n",
    "A common concept in OOP is the __@property__ decorator. This concept is explained in details in __[@property_Explained_in_Python](https://www.machinelearningplus.com/python/python-property/)__\n",
    "<br> Explained simply, the @property decorator allows a method to be called like an attribute without the (). This is useful when you have a case of multiple inheritance or where there are inter-dependencies between attributes. Lets say you have attributes which inherit from a parent attribute. Now when you change the parent attribute outside the class and you want the ones inheriting from the parent to be also inheriting the change automatically, the @property decorator comes in handy. \n",
    "<br> The @property decorator on _method\\_name_ is often followed by @method\\_name.setter decorator. While @property decorator allows you to access a method as an attribute, this setter decorator helps you to achieve exactly what I explained above i.e. making sure that the inheriting attributes also change when source attribute is changed.\n",
    "<br> Lets demonstrate this concept with the following block of code. We will create a class _VideoGame_ which takes attributes: user_name, user_age. We want to create the character name of the user as name_age. However, now if an existing user wants to change his character name, we want that the database also updates the base attributes user_name and user_age accordingly.\n"
   ]
  },
  {
   "cell_type": "code",
   "execution_count": null,
   "metadata": {
    "scrolled": true
   },
   "outputs": [],
   "source": [
    "class VideoGame:\n",
    "    def __init__(self,user_name, user_age):\n",
    "        self.user_name=user_name\n",
    "        self.user_age=user_age\n",
    "    @property\n",
    "    def character_name(self):\n",
    "        return self.user_name + '_'+ self.user_age\n",
    "    \n",
    "    @character_name.setter\n",
    "    def character_name(self, name):\n",
    "        user, age = name.split(\"_\")\n",
    "        self.user_name = user\n",
    "        self.user_age = age\n",
    "        \n",
    "player1=VideoGame('Danny', '21')\n",
    "player1.character_name\n",
    "print(player1.user_age)\n",
    "print(player1.user_name)\n",
    "\n",
    "player1.character_name = 'Daniel_25'\n",
    "print(player1.user_age)\n",
    "print(player1.user_name)"
   ]
  },
  {
   "cell_type": "markdown",
   "metadata": {},
   "source": [
    "## Exercise 3: Inheritance, name wrangling, class methods with Online Video Calling App\n",
    "Create a class __VideoApp__\n",
    "1. The _VideoApp_ must contain the following class attributes:\n",
    "   - __participants_online__ which contains the number of active callers default to 0\n",
    "   - _action_ containing a list of 2 strings: \"speaking\", \"silent\"\n",
    "2. The_VideoApp_ must contain the class method:\n",
    "   - __show_participants_online__ which returns the following message: \"{cls.participants_online} are attending meeting.\"\n",
    "3.  The _VideoApp_ must contain the following attributes:\n",
    "   - __user_name__ which assigns name of the caller\n",
    "   - _company_ which indicates the company represented by the caller \n",
    "   \n",
    "4.  The _VideoApp_ must contain the following methods: \n",
    "   - __go_online__ which increases the attribute _participants_online by 1\n",
    "   - __go_offline__ which subtracts 1 from the attribute _participants_online and returns the new _participants_online\n",
    "   - _status_ which takes argument _action_ and checks if the action argument matches the string in the _action_ class attribute, otherwise throws ValueError: \"The user must either be \"speaking\" or \"silent\"\". It also returns the message: \"{self.user_name} is _action_\"\n"
   ]
  },
  {
   "cell_type": "code",
   "execution_count": null,
   "metadata": {},
   "outputs": [],
   "source": [
    "# Ex3\n"
   ]
  },
  {
   "cell_type": "code",
   "execution_count": null,
   "metadata": {},
   "outputs": [],
   "source": [
    "# %load solutions/ex4_3.py  "
   ]
  },
  {
   "cell_type": "markdown",
   "metadata": {},
   "source": [
    "Create another class __Message__\n",
    "1. It has following attributes: \n",
    "   - __user_name__\n",
    "   - _message_\n",
    "2. It has one method:\n",
    "   - \\_status\\_ which returns: \"{self.user\\_name} sent the message: {self.message}\". Make this method a  \\_\\_method"
   ]
  },
  {
   "cell_type": "code",
   "execution_count": null,
   "metadata": {},
   "outputs": [],
   "source": [
    "class Message:\n",
    "    def __init__(self, user_name, message):\n",
    "        self.user_name=user_name\n",
    "        self.message = message\n",
    "    def __status(self):\n",
    "        return f\"{self.user_name} sent the message: {self.message}\"\n",
    "\n",
    "user2=Message('David', 'Hello! Good day to all.')\n",
    "user2._Message__status()"
   ]
  },
  {
   "cell_type": "markdown",
   "metadata": {},
   "source": [
    "Create another class __ChatApp__ which inherits from both parent classes in the following order: __VideoApp__ and __Message__ \n",
    "1. Each _ChatApp_ takes same attributes as base classes\n",
    "\n",
    "Now create an instance of this class and explicity call the method \\_\\_status\\_\\_ from Message class"
   ]
  },
  {
   "cell_type": "code",
   "execution_count": null,
   "metadata": {},
   "outputs": [],
   "source": [
    "class ChatApp(VideoApp, Message):\n",
    "    def __init__(self, user_name, company, message):\n",
    "        self.user_name=user_name\n",
    "        self.company=company\n",
    "        self.message=message\n",
    "        \n",
    "user3=ChatApp('Kim', 'FinnTech', 'Lets start this meeting')\n",
    "print(user3._Message__status())"
   ]
  },
  {
   "cell_type": "markdown",
   "metadata": {},
   "source": [
    "### Exercise 4.1\n",
    "The following is an excerpt from the __Trainer__ class under inference subfolder. The whole file is available under: __[scVI_trainer.py](https://github.com/YosefLab/scVI/blob/master/scvi/inference/trainer.py)__ :\n",
    "<br> \\[N.B. Do not worry if you still donot understand everything about the code at this point as we will talk about inference and variational autoencoders later on in this course. Also some parts have been omitted for simplicity\\] "
   ]
  },
  {
   "cell_type": "code",
   "execution_count": null,
   "metadata": {},
   "outputs": [],
   "source": [
    "class Trainer:\n",
    "    r\"\"\"The abstract Trainer class for training a PyTorch model and monitoring its statistics. It should be\n",
    "    inherited at least with a .loss() function to be optimized in the training loop.\n",
    "    Args:\n",
    "        :model: A model instance from class ``VAE``, ``VAEC``, ``SCANVI``\n",
    "        :gene_dataset: A gene_dataset instance like ``CortexDataset()``\n",
    "        :use_cuda: Default: ``True``.\n",
    "        :metrics_to_monitor: A list of the metrics to monitor. If not specified, will use the\n",
    "            ``default_metrics_to_monitor`` as specified in each . Default: ``None``.\n",
    "        :benchmark: if True, prevents statistics computation in the training. Default: ``False``.\n",
    "        :verbose: If statistics should be displayed along training. Default: ``None``.\n",
    "        :frequency: The frequency at which to keep track of statistics. Default: ``None``.\n",
    "        :early_stopping_metric: The statistics on which to perform early stopping. Default: ``None``.\n",
    "        :save_best_state_metric:  The statistics on which we keep the network weights achieving the best store, and\n",
    "            restore them at the end of training. Default: ``None``.\n",
    "        :on: The data_loader name reference for the ``early_stopping_metric`` and ``save_best_state_metric``, that\n",
    "            should be specified if any of them is. Default: ``None``.\n",
    "    \"\"\"\n",
    "    default_metrics_to_monitor = []\n",
    "\n",
    "    def __init__(self, model, gene_dataset, use_cuda=True, metrics_to_monitor=None, benchmark=False,\n",
    "                 verbose=False, frequency=None, weight_decay=1e-6, early_stopping_kwargs=dict(),\n",
    "                 data_loader_kwargs=dict()):\n",
    "\n",
    "        self.model = model\n",
    "        self.gene_dataset = gene_dataset\n",
    "\n",
    "        self.data_loader_kwargs = {\n",
    "            \"batch_size\": 128,\n",
    "            \"pin_memory\": use_cuda\n",
    "        }\n",
    "        self.data_loader_kwargs.update(data_loader_kwargs)\n",
    "\n",
    "        self.weight_decay = weight_decay\n",
    "        self.benchmark = benchmark\n",
    "        self.epoch = -1  # epoch = self.epoch + 1 in compute metrics\n",
    "        self.training_time = 0\n",
    "        self.early_stopping = EarlyStopping(**early_stopping_kwargs)\n",
    "    \n",
    "    def __getattr__(self, name):\n",
    "        if '_posteriors' in self.__dict__:\n",
    "            _posteriors = self.__dict__['_posteriors']\n",
    "            if name.strip('_') in _posteriors:\n",
    "                return _posteriors[name.strip('_')]\n",
    "        return object.__getattribute__(self, name)\n",
    "\n",
    "    def __delattr__(self, name):\n",
    "        if name.strip('_') in self._posteriors:\n",
    "            del self._posteriors[name.strip('_')]\n",
    "        else:\n",
    "            object.__delattr__(self, name)\n",
    "            \n",
    "\n",
    "    def register_posterior(self, name, value):\n",
    "        name = name.strip('_')\n",
    "        self._posteriors[name] = value\n",
    "\n",
    "    def corrupt_posteriors(self, rate=0.1, corruption=\"uniform\", update_corruption=True):\n",
    "        if not hasattr(self.gene_dataset, 'corrupted') and update_corruption:\n",
    "            self.gene_dataset.corrupt(rate=rate, corruption=corruption)\n",
    "        for name, posterior in self._posteriors.items():\n",
    "            self.register_posterior(name, posterior.corrupted())\n",
    "            "
   ]
  },
  {
   "cell_type": "markdown",
   "metadata": {},
   "source": [
    "Based on your previous knowledge of OOP and looking at the code above, answer the following questions:\n",
    "1. What are the arguments with default values stated in the __Trainer__ class i.e. name the arguments which are not necessary to include while instantiating the __Trainer__ class?\n",
    "2. Can you name at least 2 model names the user can use as arguments while instantiating the class __Trainer__? e.g: train_object=Trainer(model=?,gene_dataset,...)\n",
    "3. Can you name two arguments where you can use variable length of the arguments while instantiating the __Trainer__ class?\n",
    "4. List all the methods that you can see under __Trainer__ class. Which of these are Dunder methods?\n",
    "5. We want to be able to call the __corrupt\\_posteriors__ method as an attribute of the __Trainer__ class. Modify the above code to enable this."
   ]
  },
  {
   "cell_type": "code",
   "execution_count": null,
   "metadata": {},
   "outputs": [],
   "source": [
    "## Solutions:\n",
    "#1. The arguments with default values are use_cuda (default:True), metrics_to_monitor(default:None), benchmark(default:False),                 verbose(default:False), frequency(default:None), weight_decay(default:1e-6), early_stopping_kwargs(default:dict()),data_loader_kwargs(default:dict())\n",
    "#2. 2 model names which can be used during instatiating class Trainer are: \"VAE\", \"VAEC\". Also \"SCANVI\" can be used.\n",
    "#3. From the definition of \\_\\_init\\_\\_ method, we can see early_stopping_kwargs and data_loader_kwargs are the two arguments which take in a dictionary and hence can be variable length\n",
    "#4. The methods used in Trainer class are: \\_\\_init\\_\\_, \\_\\_getattr\\_\\_, \\_\\_delattr\\_\\_, register\\_posterior, corrupt\\_posteriors. Of these \\_\\_init\\_\\_ , \\_\\_getattr\\_\\_, \\_\\_delattr\\_\\_ are the dunder methods\n",
    "#5. The corrupt_posteriors function definition is modified as shown below:\n"
   ]
  },
  {
   "cell_type": "code",
   "execution_count": null,
   "metadata": {},
   "outputs": [],
   "source": [
    "@property\n",
    "def corrupt_posteriors(self, rate=0.1, corruption=\"uniform\", update_corruption=True):\n",
    "        if not hasattr(self.gene_dataset, 'corrupted') and update_corruption:\n",
    "            self.gene_dataset.corrupt(rate=rate, corruption=corruption)\n",
    "        for name, posterior in self._posteriors.items():\n",
    "            self.register_posterior(name, posterior.corrupted())\n",
    "            \n",
    "            \n",
    "# When the actual code runs, you would be able to call it like this:\n",
    "# trainer1=Trainer(VAE, gene_dataset,**early_stopping_kwargs,**data_loader_kwargs)\n",
    "# trainer1.corrupt_posteriors"
   ]
  },
  {
   "cell_type": "markdown",
   "metadata": {},
   "source": [
    "###  Exercise 4.2\n",
    "The following is an excerpt from the __Inference.py__ file under inference subfolder. The whole file is available under: __[scVI_inference.py](https://github.com/YosefLab/scVI/blob/master/scvi/inference/inference.py)__"
   ]
  },
  {
   "cell_type": "code",
   "execution_count": null,
   "metadata": {},
   "outputs": [],
   "source": [
    "class UnsupervisedTrainer(Trainer):\n",
    "    r\"\"\"The VariationalInference class for the unsupervised training of an autoencoder.\n",
    "    Args:\n",
    "        :model: A model instance from class ``VAE``, ``VAEC``, ``SCANVI``\n",
    "        :gene_dataset: A gene_dataset instance like ``CortexDataset()``\n",
    "        :train_size: The train size, either a float between 0 and 1 or and integer for the number of training samples\n",
    "         to use Default: ``0.8``.\n",
    "        :\\*\\*kwargs: Other keywords arguments from the general Trainer class.\n",
    "    Examples:\n",
    "        >>> gene_dataset = CortexDataset()\n",
    "        >>> vae = VAE(gene_dataset.nb_genes, n_batch=gene_dataset.n_batches * False,\n",
    "        ... n_labels=gene_dataset.n_labels)\n",
    "        >>> infer = VariationalInference(gene_dataset, vae, train_size=0.5)\n",
    "        >>> infer.train(n_epochs=20, lr=1e-3)\n",
    "    \"\"\"\n",
    "    default_metrics_to_monitor = ['ll']\n",
    "\n",
    "    def __init__(self, model, gene_dataset, train_size=0.8, test_size=None, kl=None, **kwargs):\n",
    "        super().__init__(model, gene_dataset, **kwargs)\n",
    "        self.kl = kl\n",
    "        if type(self) is UnsupervisedTrainer:\n",
    "            self.train_set, self.test_set = self.train_test(model, gene_dataset, train_size, test_size)\n",
    "            self.train_set.to_monitor = ['ll']\n",
    "            self.test_set.to_monitor = ['ll']\n",
    "\n",
    "    @property\n",
    "    def posteriors_loop(self):\n",
    "        return ['train_set']\n",
    "\n",
    "\n",
    "class AdapterTrainer(UnsupervisedTrainer):\n",
    "    def __init__(self, model, gene_dataset, posterior_test, frequency=5):\n",
    "        super().__init__(model, gene_dataset, frequency=frequency)\n",
    "        self.test_set = posterior_test\n",
    "        self.test_set.to_monitor = ['ll']\n",
    "        self.params = list(self.model.z_encoder.parameters()) + list(self.model.l_encoder.parameters())\n",
    "\n",
    "    @property\n",
    "    def posteriors_loop(self):\n",
    "        return ['test_set']\n",
    "\n",
    "    def train(self, n_path=10, n_epochs=50, **kwargs):\n",
    "        for i in range(n_path):\n",
    "            # Re-initialize to create new path\n",
    "            self.model.z_encoder.load_state_dict(self.z_encoder_state)\n",
    "            self.model.l_encoder.load_state_dict(self.l_encoder_state)\n",
    "            super().train(n_epochs, params=self.params, **kwargs)\n",
    "\n",
    "        return min(self.history[\"ll_test_set\"])"
   ]
  },
  {
   "cell_type": "markdown",
   "metadata": {},
   "source": [
    "Answer the following questions:\n",
    "1. Which class does __UnsupervisedTrainer__ inherit from?\n",
    "2. If we print the AdapterTrainer.\\_\\_mro\\_\\_, what order of inheritance would you see?\n",
    "3. Look at the __posteriors\\_loop__ method for the class AdapterTrainer. Modify the code such that now we donot want this to be the attribute of the class, but rather as a method which takes in argument _set_ and returns this value and default it to ['test_set']"
   ]
  },
  {
   "cell_type": "markdown",
   "metadata": {},
   "source": [
    "## Solutions\n",
    "1. UnsupervisedTrainer inherits from the Trainer class.\n",
    "2. The AdapterTrainer inherits from UnsupervisedTrainer which inherits from Trainer so the order of mro is:  AdapterTrainer > UnsupervisedTrainer>Trainer"
   ]
  },
  {
   "cell_type": "code",
   "execution_count": null,
   "metadata": {},
   "outputs": [],
   "source": [
    "print(AdapterTrainer.__mro__)"
   ]
  },
  {
   "cell_type": "code",
   "execution_count": null,
   "metadata": {},
   "outputs": [],
   "source": [
    "class AdapterTrainer(UnsupervisedTrainer):\n",
    "    def __init__(self, model, gene_dataset, posterior_test, frequency=5):\n",
    "        super().__init__(model, gene_dataset, frequency=frequency)\n",
    "        self.test_set = posterior_test\n",
    "        self.test_set.to_monitor = ['ll']\n",
    "        self.params = list(self.model.z_encoder.parameters()) + list(self.model.l_encoder.parameters())\n",
    "\n",
    "    def posteriors_loop(self, set=['test_set']):\n",
    "        return set\n",
    "\n",
    "    def train(self, n_path=10, n_epochs=50, **kwargs):\n",
    "        for i in range(n_path):\n",
    "            # Re-initialize to create new path\n",
    "            self.model.z_encoder.load_state_dict(self.z_encoder_state)\n",
    "            self.model.l_encoder.load_state_dict(self.l_encoder_state)\n",
    "            super().train(n_epochs, params=self.params, **kwargs)\n",
    "\n",
    "        return min(self.history[\"ll_test_set\"])"
   ]
  },
  {
   "cell_type": "code",
   "execution_count": null,
   "metadata": {},
   "outputs": [],
   "source": []
  },
  {
   "cell_type": "code",
   "execution_count": null,
   "metadata": {},
   "outputs": [],
   "source": []
  },
  {
   "cell_type": "code",
   "execution_count": null,
   "metadata": {},
   "outputs": [],
   "source": []
  }
 ],
 "metadata": {
  "kernelspec": {
   "display_name": "Python 3 (ipykernel)",
   "language": "python",
   "name": "python3"
  },
  "language_info": {
   "codemirror_mode": {
    "name": "ipython",
    "version": 3
   },
   "file_extension": ".py",
   "mimetype": "text/x-python",
   "name": "python",
   "nbconvert_exporter": "python",
   "pygments_lexer": "ipython3",
   "version": "3.10.4"
  },
  "toc": {
   "base_numbering": 1,
   "nav_menu": {},
   "number_sections": false,
   "sideBar": true,
   "skip_h1_title": false,
   "title_cell": "Table of Contents",
   "title_sidebar": "Contents",
   "toc_cell": false,
   "toc_position": {
    "height": "calc(100% - 180px)",
    "left": "10px",
    "top": "150px",
    "width": "384px"
   },
   "toc_section_display": true,
   "toc_window_display": true
  }
 },
 "nbformat": 4,
 "nbformat_minor": 2
}
