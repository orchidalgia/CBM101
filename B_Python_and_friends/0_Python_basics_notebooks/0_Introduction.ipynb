{
 "cells": [
  {
   "cell_type": "markdown",
   "metadata": {},
   "source": [
    " 1_python_basics Copyright (c) 2019 OERCompBiomed"
   ]
  },
  {
   "cell_type": "markdown",
   "metadata": {
    "tags": [
     "style-commentate"
    ]
   },
   "source": [
    "# Python"
   ]
  },
  {
   "cell_type": "markdown",
   "metadata": {},
   "source": [
    "Python is a dynamic general-purpose programming language, currently on its third major version: Python 3.7. It enjoys widespread adoption in the scientific community, and it is the *de facto* standard computational environment for data science and artificial intelligence, and partly also for computational biomedicine."
   ]
  },
  {
   "cell_type": "markdown",
   "metadata": {},
   "source": [
    "Excerpts from Tim J. Stevens: _The Python Programming Language_ in : A. Hofmann and S. Clokie: [Wilson and Walker's Principles and Techniques of Biochemistry and Molecular Biology](https://www.cambridge.org/core/books/wilson-and-walkers-principles-and-techniques-of-biochemistry-and-molecular-biology/2159004E019DDD87C0A97EE8DB72B79F), 8th edition, Cambridge University Press, 2018.\n",
    "\n",
    "\n",
    "> ... A biologist will often turn to computer programming in situations where the amount or the complexity of data is too much to be senisibly hanled by spreadsheets, and where no other, more specialized, software exists. Often only a relative simple program needs to be written to get something useful from biological data, which would otherwise not be available.\n",
    ">\n",
    "> For biologists, the task of writing a computer program can sometimes seem like a significant barrier, but once the basic programming skills are learned then many possibilities are enabled. [Python](https://www.python.org) is one of the most popular programming languages and is becoming an increasingly attractive options for the biologist. It is a high-level, general-purpose language that is well supported and relatively easy to learn. Also, it has a large number of eternal modules, including many related to mathematics, science and biology. Python is easy to install and runs on almost all kinds of computer system. Presently, Python 3 is the _de facto_ standard.\n",
    ">\n",
    "> Even if you don't intend to use Python in the long-run or for all programming work [in some cases [R](https://www.r-project.org) could be an alternative], it nonetheless serves as a good starting point to learn some of the major principles of many modern computing languages."
   ]
  },
  {
   "cell_type": "markdown",
   "metadata": {
    "tags": [
     "style-activity"
    ]
   },
   "source": [
    "### How to use this notebook:"
   ]
  },
  {
   "cell_type": "markdown",
   "metadata": {},
   "source": [
    "This is a very detailed, and at times advanced introduction to Python, and it is unrealistic to get through it in a single go. Rather, you are encouraged to learn the primary learning outcomes (summary below), and return to it at any point you need to refreshen your skills, for solving tasks later in the course. "
   ]
  },
  {
   "cell_type": "markdown",
   "metadata": {},
   "source": [
    "#### Useful things to keep in mind when using Python:\n",
    "\n",
    "- *Indentations are important: 4 spaces*\n",
    "- *Python counts from 0*\n",
    "- *Google is your friend*\n",
    "- *Play around with complicated code to better understand what it does*\n",
    "- *Make use of the offical docs (using `??` after a function or object)*"
   ]
  },
  {
   "cell_type": "markdown",
   "metadata": {
    "tags": [
     "style-activity"
    ]
   },
   "source": [
    "# Learning outcomes, and summary of syntax <a name=\"outcomes\"></a>"
   ]
  },
  {
   "cell_type": "markdown",
   "metadata": {},
   "source": [
    "**Be able to read and construct code related to the core Python language concepts:**\n",
    "\n",
    "### Primitive datatypes\n",
    "  - **Integers**\n",
    "  - **Floats**\n",
    "  - **Strings**\n",
    "  - **Booleans**\n",
    "  \n",
    "```python\n",
    "# keywords:\n",
    "int\n",
    "float\n",
    "str\n",
    "bool\n",
    "```\n",
    "\n",
    "### Operators\n",
    "  - `+`, `-`, `*`, `/`, `%` (mathematical operators)\n",
    "  - `=` (assigning variables) \n",
    "  - `==`, `!=`, `<`, `>`, `<=`, `>=` (comparing values)\n",
    "  - `&`, `|`, `and`, `or`, `not` (Boolean operators)\n",
    "  \n",
    "### Collections\n",
    "  - **Lists** (adding elements, slicing, list comprehension,  ...)\n",
    "  - **Tuples**\n",
    "  - **Dictionaries** (key-value maps, dictionary comprehension, ... )\n",
    "  - **Sets**\n",
    "  \n",
    "```python\n",
    "# make empty collections:\n",
    "ls = list()\n",
    "tp = tuple()\n",
    "st = set()\n",
    "dc = dict()\n",
    "\n",
    "# \n",
    "ls = [1,2,3]\n",
    "tp = (1,2,3)\n",
    "st = {1,2,3}\n",
    "dc = {'a':1, 'b':2, 'c':3}\n",
    "\n",
    "```  \n",
    "\n",
    "- **indexing**\n",
    "`[]` (square brackets)\n",
    "\n",
    "```python\n",
    "ls = [2,5,10]\n",
    "ls[0] # returns \"0'th\" (1st) element, i.e. 2\n",
    "ls[2] # returns returns 3rd element, i.e. 10\n",
    "\n",
    "```\n",
    "  \n",
    " \n",
    "### Loops\n",
    "  - **for**\n",
    "  - **while**\n",
    "\n",
    "```python\n",
    "sm = 0\n",
    "for i in [1,2,3]:\n",
    "    sm = sm + i\n",
    "\n",
    "while condition==True:\n",
    "    print('this code is repeated until contition is false')\n",
    "    \n",
    "```\n",
    "\n",
    "### Control flow\n",
    "- `if`, `elif`, `else`\n",
    "\n",
    "```python\n",
    "if time < 12:\n",
    "    print('good morning')\n",
    "elif time > 12 and time < 18:\n",
    "    print('good afternoon')\n",
    "else: \n",
    "    print('good evening')\n",
    "    \n",
    "    \n",
    "```\n",
    "\n",
    "### Functions\n",
    "- `def`\n",
    "\n",
    "```python\n",
    "def function_name(input1, input2):\n",
    "    return input2 + input1\n",
    "\n",
    "# function call:\n",
    "function(3, 5)\n",
    "# returns 8\n",
    "          \n",
    "```\n",
    "\n",
    "### Libraries\n",
    "\n",
    "- Specialized collections of functionality\n",
    "- Extends the available functions and classes\n",
    "\n",
    "```python\n",
    "import time # basic syntax\n",
    "import numpy as np # alias\n",
    "from matplotlib import pyplot as plt # import module, not whole library, then alias\n",
    "```"
   ]
  },
  {
   "cell_type": "markdown",
   "metadata": {},
   "source": [
    "These notebooks serve as a whirlwind-type introduction to Python. If you already know some Python, feel free to browse to the first point where you see something unfamiliar or interesting.\n",
    "\n",
    "We are using the `Jupyter Notebook` - for a comprehensive introduction and tutorial see e.g. https://www.datacamp.com/community/tutorials/tutorial-jupyter-notebook and https://www.dataquest.io/blog/jupyter-notebook-tutorial and https://journals.plos.org/ploscompbiol/article?id=10.1371/journal.pcbi.1007007"
   ]
  },
  {
   "cell_type": "markdown",
   "metadata": {},
   "source": [
    "<div class='alert alert-info'>\n",
    "NOTE: The original notebooks on Github might change over the time, and we recommend that you make a copy of our notebooks before you are editing them. In this respect you might adopt the naming convention my_< \n",
    "    <mark>name_of_notebook</mark>\n",
    ">.ipynb, e.g. <mark>my_01-begin-python-programming.ipynb </mark>"
   ]
  },
  {
   "cell_type": "markdown",
   "metadata": {},
   "source": [
    "**You are encouraged to experiment with all the code!**"
   ]
  },
  {
   "cell_type": "markdown",
   "metadata": {},
   "source": [
    "To further practice your skills in Python check and register for https://practice.datacamp.com/p <br>(https://www.datacamp.com/onboarding/learn?technology=python)"
   ]
  }
 ],
 "metadata": {
  "kernelspec": {
   "display_name": "Python 3 (ipykernel)",
   "language": "python",
   "name": "python3"
  },
  "language_info": {
   "codemirror_mode": {
    "name": "ipython",
    "version": 3
   },
   "file_extension": ".py",
   "mimetype": "text/x-python",
   "name": "python",
   "nbconvert_exporter": "python",
   "pygments_lexer": "ipython3",
   "version": "3.10.4"
  },
  "toc": {
   "base_numbering": 1,
   "nav_menu": {},
   "number_sections": true,
   "sideBar": true,
   "skip_h1_title": false,
   "title_cell": "Table of Contents",
   "title_sidebar": "Contents",
   "toc_cell": false,
   "toc_position": {
    "height": "calc(100% - 180px)",
    "left": "10px",
    "top": "150px",
    "width": "384px"
   },
   "toc_section_display": "block",
   "toc_window_display": true
  }
 },
 "nbformat": 4,
 "nbformat_minor": 2
}
